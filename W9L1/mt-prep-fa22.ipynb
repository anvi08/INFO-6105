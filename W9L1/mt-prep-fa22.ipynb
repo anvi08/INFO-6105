{
 "cells": [
  {
   "cell_type": "markdown",
   "metadata": {},
   "source": [
    "<div style=\"text-align: right\">INFO 6105 Data Science Eng Methods and Tools, Lecture 8 Day 1</div>\n",
    "<div style=\"text-align: right\">Dino Konstantopoulos, 1 November 2022</div>"
   ]
  },
  {
   "cell_type": "markdown",
   "metadata": {},
   "source": [
    "# Midterm in-class sampler\n",
    "\n",
    "## 1. General Questions\n",
    "\n",
    "### 1. What is Data Science?"
   ]
  },
  {
   "cell_type": "markdown",
   "metadata": {},
   "source": []
  },
  {
   "cell_type": "markdown",
   "metadata": {},
   "source": [
    "<div style=\"visibility:hidden\">\n",
    "Data Science combines statistics, math, and computer Science to build specialized models from datasets that reproduce the same statistics as the data without requiring an understanding of the mechanism that produced the data. This enables the prediction of dependent variables (distributions) from independent variables.\n",
    "</div>"
   ]
  },
  {
   "cell_type": "markdown",
   "metadata": {},
   "source": [
    "### 2. Differentiate between univariate, bivariate, and multivariate analysis"
   ]
  },
  {
   "cell_type": "markdown",
   "metadata": {},
   "source": []
  },
  {
   "cell_type": "markdown",
   "metadata": {},
   "source": [
    "<div style=\"visibility:hidden\">\n",
    "Univariate data contains only one variable. Bivariate data involves two different variables. Often, the analysis of this type of data deals with causes and relationships and the analysis is done to determine the relationship between the two variables. Multivariate data involves three or more variables. It is similar to a bivariate but contains more than one dependent variable.\n",
    "</div>"
   ]
  },
  {
   "cell_type": "markdown",
   "metadata": {},
   "source": [
    "### 3. How do you identify the dependent and independent distributions in multivariate data?"
   ]
  },
  {
   "cell_type": "markdown",
   "metadata": {},
   "source": []
  },
  {
   "cell_type": "markdown",
   "metadata": {},
   "source": [
    "<div style=\"visibility:hidden\">\n",
    "A pairs plot shows which distributions are correlated and which aren't. Two correlated distributions can be decomposed into one independent distribution and on dependent one. After analyzing the data and trying to understand the domain of the model from a scinetific perspective, the data scientist decides which columns (distributions) he or she should pick as the independent distributions, from which all dependent ones can be modelled and predicted.\n",
    "</div>"
   ]
  },
  {
   "cell_type": "markdown",
   "metadata": {},
   "source": [
    "## 2. Thinking-out-Loud Questions"
   ]
  },
  {
   "cell_type": "markdown",
   "metadata": {},
   "source": [
    "### 1. What is the significance of the p-value in statistical Hypothesis testing?"
   ]
  },
  {
   "cell_type": "markdown",
   "metadata": {},
   "source": []
  },
  {
   "cell_type": "markdown",
   "metadata": {},
   "source": [
    "<div style=\"visibility:hidden\">\n",
    "Typically, the significance level is 5%.\n",
    "\n",
    "- p-value typically ≤ 0.05\n",
    "\n",
    "This indicates strong evidence against the null hypothesis; so you reject the null hypothesis.\n",
    "\n",
    "- p-value typically > 0.05\n",
    "\n",
    "This indicates weak evidence against the null hypothesis, so you accept the null hypothesis. \n",
    "\n",
    "- p-value at cutoff 0.05 \n",
    "\n",
    "This is considered to be marginal, meaning it could go either way\n",
    "</div>"
   ]
  },
  {
   "cell_type": "markdown",
   "metadata": {},
   "source": [
    "### 2. How can time-series data be declared as stationery and what to do if not?"
   ]
  },
  {
   "cell_type": "markdown",
   "metadata": {},
   "source": [
    "We can use the Dicke fuller test to say if data is stationary or not. when it is tiny (say less than 0.01), we can safely say that the time series is stationary. Otherwise, not."
   ]
  },
  {
   "cell_type": "markdown",
   "metadata": {},
   "source": [
    "<div style=\"visibility:hidden\">\n",
    "It is stationary when the variance and mean of the series are constant with time. You can run the KS test, which will yield a -p-value on the amount of autocorrelation in the series. If the autocorrelation is too high, the p-value is high, and the series cannot be considered stationary. To make it stationary, you typically look for the difference beteween values at time $t$ and time $t-1$.\n",
    "</div>"
   ]
  },
  {
   "cell_type": "markdown",
   "metadata": {},
   "source": [
    "### 3. In a time interval of 15-minutes, the probability that you see a shooting star is 20%. What is the probability of  seeing at least one shooting star if you keep watching for an hour?"
   ]
  },
  {
   "cell_type": "markdown",
   "metadata": {},
   "source": []
  },
  {
   "cell_type": "markdown",
   "metadata": {},
   "source": [
    "<div style=\"visibility:hidden\">\n",
    "Let's say that Prob is the probability that we see a minimum of one shooting star in 15 minutes.\n",
    "\n",
    "So, Prob = 0.2\n",
    "\n",
    "Now, the probability that we do not see any shooting star in the time duration of 15 minutes is = 1 - Prob\n",
    "\n",
    "1-0.2 = 0.8\n",
    "\n",
    "The probability that we don't see any shooting star for an hour is: \n",
    "\n",
    "= (1-Prob)(1-Prob)(1-Prob)*(1-Prob)\n",
    "= 0.8 * 0.8 * 0.8 * 0.8 = (0.8)⁴  \n",
    "≈ 0.40\n",
    "\n",
    "So, the probability that we will see one shooting star in the time interval of an hour is = 1-0.4 = 0.6\n",
    "\n",
    "So, there are approximately 60% chances that we may see a shooting star in the time span of an hour.\n",
    "</div>"
   ]
  },
  {
   "cell_type": "markdown",
   "metadata": {},
   "source": [
    "### 4. Let's say the probability of dangerous fires are rare (1%), smoke is fairly common (10%) due to barbecues, and 90% of dangerous fires produce smoke. What's the probability of dangerous Fire when there is Smoke?"
   ]
  },
  {
   "cell_type": "code",
   "execution_count": null,
   "metadata": {},
   "outputs": [],
   "source": []
  },
  {
   "cell_type": "markdown",
   "metadata": {},
   "source": [
    "<div style=\"visibility:hidden\">\n",
    "Using Bayes' Theorem:\n",
    "\n",
    "P(Fire | Smoke) = P(Fire) * P(Smoke | Fire) / P(Smoke)\n",
    "                = 0.01 * 0.9 / 0.1 \n",
    "                = 0.09 (9%)\n",
    "                \n",
    "So probability of dangerous fire when there is a smoke is 9%.\n",
    "</div>"
   ]
  },
  {
   "cell_type": "markdown",
   "metadata": {},
   "source": [
    "## 3. Pseudo-code programming\n",
    "\n",
    "### 1. Write a Python program that checks if a given sequence is a Palindrome (its reverse is identical)"
   ]
  },
  {
   "cell_type": "code",
   "execution_count": null,
   "metadata": {},
   "outputs": [],
   "source": []
  },
  {
   "cell_type": "markdown",
   "metadata": {},
   "source": [
    "<div style=\"visibility:hidden\">\n",
    "#Create string  \n",
    "sequence = 'radar\n",
    "'  \n",
    "#Reverse string  \n",
    "reverse = sequence[::-1]  \n",
    "  \n",
    "#Checking if the string is a palindrome  \n",
    "if reverse == sequence:  \n",
    "    print(\"The sequence is a palindrome\")  \n",
    "else:  \n",
    "    print(\"The sequence is not a palindrome\") "
   ]
  },
  {
   "cell_type": "markdown",
   "metadata": {},
   "source": [
    "### 2. Extract the indices of N maximum values from a NumPy array"
   ]
  },
  {
   "cell_type": "code",
   "execution_count": 7,
   "metadata": {},
   "outputs": [
    {
     "data": {
      "text/plain": [
       "array([4, 0, 2, 1, 3], dtype=int64)"
      ]
     },
     "execution_count": 7,
     "metadata": {},
     "output_type": "execute_result"
    }
   ],
   "source": [
    "import numpy as np\n",
    "array = np.array([4, 8, 4, 9, 2])  \n",
    "array.argsort()\n",
    "#print(array.argsort()[-N:][::-1])"
   ]
  },
  {
   "cell_type": "markdown",
   "metadata": {},
   "source": [
    "<div style=\"visibility:hidden\">\n",
    "import numpy as np\n",
    "array = np.array([4, 8, 4, 9, 2])  \n",
    "print(array.argsort()[-N:][::-1])  "
   ]
  },
  {
   "cell_type": "markdown",
   "metadata": {},
   "source": [
    "### 3, Write a Python program to determine whether a number is binary"
   ]
  },
  {
   "cell_type": "code",
   "execution_count": 5,
   "metadata": {},
   "outputs": [],
   "source": [
    "num=1010\n",
    "numstr=str(num)\n",
    "for c in numstr:\n",
    "    #print(c)\n",
    "    if(c != '0' and c!='1'):\n",
    "        print(\"its not brinary\")\n",
    "        break\n",
    "    "
   ]
  },
  {
   "cell_type": "markdown",
   "metadata": {},
   "source": [
    "<div style=\"visibility:hidden\">\n",
    "num = 1101001  \n",
    "while(num > 0):  \n",
    "    l = num % 10  \n",
    "     \n",
    "    if l!=0 and l!=1:     \n",
    "        print(\"given number is not binary\")  \n",
    "        break  \n",
    "     \n",
    "    num = num // 10  \n",
    "\n",
    "if num == 0:  \n",
    "    print(\"given number is binary\") "
   ]
  },
  {
   "cell_type": "markdown",
   "metadata": {},
   "source": [
    "### 4. You have a binary 3D tensor (made out of entires 0 and 1). Find the longest chain of 1s where chains can only be formed in cardinal directions (North, South, East, West)"
   ]
  },
  {
   "cell_type": "code",
   "execution_count": null,
   "metadata": {},
   "outputs": [],
   "source": []
  },
  {
   "cell_type": "markdown",
   "metadata": {},
   "source": [
    "<div style=\"visibility:hidden\">\n",
    "    Ha! YOU figure it out :-)"
   ]
  }
 ],
 "metadata": {
  "kernelspec": {
   "display_name": "Python 3 (ipykernel)",
   "language": "python",
   "name": "python3"
  },
  "language_info": {
   "codemirror_mode": {
    "name": "ipython",
    "version": 3
   },
   "file_extension": ".py",
   "mimetype": "text/x-python",
   "name": "python",
   "nbconvert_exporter": "python",
   "pygments_lexer": "ipython3",
   "version": "3.9.12"
  }
 },
 "nbformat": 4,
 "nbformat_minor": 1
}
