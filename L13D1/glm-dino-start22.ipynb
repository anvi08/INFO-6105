{
 "cells": [
  {
   "cell_type": "markdown",
   "metadata": {},
   "source": [
    "<div style=\"text-align: right\">INFO 6105 Data Sci Eng Methods and Tools, Lecture 13 Day 1</div>\n",
    "<div style=\"text-align: right\">Dino Konstantopoulos, 27 November 2022, with material from Thomas Wiecki and Robert Kubler</div>\n",
    "\n",
    "# 1. Some model-building roadblocks\n",
    "### Presence of outliers\n",
    "A common situation in which robust estimation is used occurs when the data contain **outliers**. In the presence of outliers that do not come from the same data-generating process as the rest of the data, least squares estimation is ***inefficient*** and can be biased. \n",
    "\n",
    "Because the least squares predictions are dragged towards the outliers, and because the variance of the estimates is artificially inflated, the result is that outliers can be masked. \n",
    "\n",
    "How to deal with outliers so they don't skew our model too much?\n",
    "\n",
    "### Working with non-linear effects\n",
    "One can deal with non-linear effects by squaring or taking powers of the independent variables. For example, if you suspect that $y \\approx \\alpha x + \\beta x^2$, then just rename $x_2 = x^2$ as another variable, and we're back to a linear model (of two variables)!\n",
    "\n",
    "However, it is an ***unrealistically strong assumption*** that every single value of $y$, after transformation using sone kernel function (`log()`, `sqrt()` etc.), will end up having a linear relationship with $X$. So, instead of $y$, we use...\n",
    "\n",
    "\n",
    "# 2. Generalized Linear Models\n",
    "**General Linear Regression models** is how we do data science when we think there is a **linear** relationship between, maybe not a dependent variable directly, but ***one of the statistical moments of*** a dependent variable (e.g. the mean), and other independent variable(s).\n",
    "\n",
    "Here are the basics of linear models:\n",
    "\n",
    "- Additive relationships: Classical Linear models assume that the regression variables should have an additive relationship with each other.\n",
    "\n",
    "- Classical Linear models assume that the data should have *constant variance* i.e. the data should be [homoscedastic](https://en.wikipedia.org/wiki/Homoscedasticity). In real life, data is often *not* homoscedastic. The variance is not constant and sometimes it is a function of the mean. For e.g. the variance increases as the mean increases. This is common in financial datasets, for example. We also know that for some data likelihoods, the variance *should*, in fact, vrey with the mean (e.g. Poisson).\n",
    "\n",
    "- Classical Linear models assume the errors of regression, also known as the residuals (the residual for each observation is the difference between predicted values of the dependent variable and observed values of the dependent variable), are normally distributed with mean zero. This condition is difficult to meet in real life.\n",
    "\n",
    "- Non-correlated variables: Finally, the regression variables are assumed to be non-correlated with each other, and preferably independent of each other.\n",
    "\n",
    "If your dataset is [heteroscedastic](https://en.wikipedia.org/wiki/Heteroscedasticity), if the residuals are not normally distributed, which is often the case in real world data sets, one needs to apply a suitable transformation (a.k.a a kernel method) to both $y$ and $X$ so as to make the relationship **linear** and at the same time stabilize the variance and normalize the errors.\n",
    "\n",
    "<br />\n",
    "<left>\n",
    "<img src=\"ipynb.images/homoscedastic.png\" width=600 />\n",
    "</left>\n",
    "\n",
    "The square root and the logarithm transformations are commonly used for achieving these effects:\n",
    "\n",
    "Here's a non-linear (polynomial, or power) relationship:\n",
    "\n",
    "$$ y = x_1^{\\beta_1} * x_2^{\\beta_2}* \\cdots * x_n^{\\beta_n}$$\n",
    "\n",
    "Then do this:\n",
    "\n",
    "$$ log(y) = \\beta_1 log(x_1) + \\beta_2 log(x_2) + \\cdots + \\beta_n log(x_n)$$\n",
    "\n",
    "Make $log(x_i)$ the independent variable, and, voila, you have a linear relationship!\n",
    "\n",
    "Suppose $y$ is a random variable that follows some kind of a probability distribution. So for any given combination of $X$ values in the data set, the real world is likely to present to you several random values of $y$ and only some of these possible values will appear in your training samples. In the real world, these values of $y$ will be randomly distributed around the conditional mean of $y$ given the specific value of $X$. The conditional mean of $y$ is denoted by $E(y|X)$.\n",
    "\n",
    "<br />\n",
    "<left>\n",
    "<img src=\"ipynb.images/y-versus-x.png\" width=600 />\n",
    "</left>\n",
    "\n",
    "In the variable transformation approach, we make the unrealistically strong assumption that every single value of $y$ i.e. each one of the blue dots in the above plot, after transformation using log(), sqrt() etc., will end up having a linear relationship with $X$. This is obviously too much to expect.\n",
    "\n",
    "### A more realistic model\n",
    "It is an ***unrealistically strong assumption*** that every single value of $y$, after transformation using `log()`, `sqrt()` etc., will end up having a linear relationship with $X$:\n",
    "\n",
    "$$ y = \\beta_1 log(x_1) + \\beta_2 log(x_2) + \\cdots + \\beta_n log(x_n)$$\n",
    "\n",
    "What seems more realistic is that the conditional mean (a.k.a. **expectation**) of $y$, i.e. $E(y|x)$, after a suitable transformation, ought to have a linear relationship with $X$.\n",
    "\n",
    "The **conditional expectations** of $Y$ on $X = x_i$ is denoted by:\n",
    "\n",
    "$$\\pi_i = E(y|X=x_i)$$\n",
    "\n",
    "Instead of transforming every single value of $y$ for each $x$, GLMs transform only the conditional expectation of $y$ for each $x$. So there is no need to assume that every single value of $y$ is expressible as a linear combination of regression variables.\n",
    "\n",
    "$$ log(E(y|X=x_i)) = \\beta_1 log(x_1) + \\beta_2 log(x_2) + \\cdots + \\beta_n log(x_n)$$\n",
    "\n",
    "The transformation function (the kernel method) is called the **link function** of the GLM and is denoted by $g()$. In the above example, the log() is the link function, i.e. $g() = log()$.\n",
    "\n",
    "The link function $g()$ can take many forms and we get a different regression model based on what form $g()$ takes. Here are a few popular forms and the corresponding regression models that they lead to\n",
    "\n",
    "### Some link functions\n",
    "For a **linear** regression model:\n",
    "\n",
    "$$g(\\pi_i) = \\pi_i$$\n",
    "\n",
    "For a **logistic** (and binomial) regression model:\n",
    "\n",
    "$$g(\\pi_i) = \\frac{\\pi_i}{1 - \\pi_i}$$\n",
    "\n",
    "which means:\n",
    "\n",
    "$$\\pi_i = \\frac{e^{\\beta x_i}}{1 - e^{\\beta x_i}}$$\n",
    "\n",
    "For a Poisson model:\n",
    "\n",
    "$$g(\\pi_i) = ln(\\pi_i)$$\n",
    "\n",
    "which means:\n",
    "\n",
    "$$\\pi_i = e^{\\beta x_i}$$\n",
    "\n",
    "There are many other variants of $g()$ such as the Poisson-Gamma mixture leading to the Negative Binomial regression model and the inverse of the Cumulative Distribution Function of the Normal distribution, which leads to the probit model.\n",
    "\n",
    "### Handling  heteroscedasticity\n",
    "When your data data has variance which is is not constant or residual errors are non-normal, what to do?\n",
    "\n",
    "GLMs account for the possibility of a non-constant variance by assuming that the variance is some function $V(µ)$ of the mean $µ$, or more accurately the conditional mean $µ|X=x$.\n",
    "\n",
    "In each of the above mentioned models, we assume a suitable variance function $V(µ|X=x)$.\n",
    "\n",
    ">In Generalized Linear Models, one expresses the variance in the data as a suitable function of the mean value.\n",
    "\n",
    "In the Linear regression model, we assume $V(µ)$ = some constant, i.e. variance is constant. Why? Because Linear models assume that $y$ is Normally distributed and a Normal distribution has a constant variance.\n",
    "\n",
    "In the Logistic and Binomial Regression models, we assume, $V(µ) = µ — µ²/n$ for a data set size of $n$ samples, as required by a Logit-distributed $y$ value.\n",
    "\n",
    "In the Poisson Regression model, we assume $V(µ) = µ$. This is because, the Poisson regression model assumes that $y$ has a Poisson distribution and in a Poisson distribution, variance = mean.\n",
    "\n",
    "In the Negative Binomial regression model, we assume $V(µ) = µ + α*µ²$, where $α$ is a dispersion parameter which allows us to deal with over-dispersed or under-dispersed data.\n",
    "\n",
    "…and so on for other models.\n",
    "\n",
    "In GLMs, it is possible to show that the model is not sensitive to the distributional form of the residual errors. In simple terms, the model doesn’t care whether the model’s errors are normally distributed or distributed any other way, as long as the mean-variance relationship that you assume, is actually satisfied by your data.\n",
    "\n",
    ">Generalized Linear Models do not care if the residual errors are normally distributed or not as long as the specified mean-variance relationship is satisfied by the data.\n",
    "\n",
    "This makes GLMs a practical choice for many real world data sets that are nonlinear and heteroscedastic and in which we cannot assume that the model’s errors will always be normally distributed.\n",
    "\n",
    "Finally, a word of caution: Similar to Classical Linear Regression models, GLMs also assume that the regression variables are uncorrelated with each other. Therefore GLMs cannot be used to model time series data which typically contain a lot of auto-correlated observations.\n",
    "\n",
    ">Generalized Linear Models should not be used for modeling auto-correlated time series data."
   ]
  },
  {
   "cell_type": "markdown",
   "metadata": {},
   "source": [
    "# 3. Simple Linear Regression in an imaginary World\n",
    "Frequentist statistics have different tests for different scenarios (T test, chi-squared, etc.). \n",
    "\n",
    "In Bayesian land you define your model by an equation for the data likelihiid, equate its variables to pdfs, and simulate with an MCMC sampling algorithm like `PyMC3`'s Metroplois.\n",
    "\n",
    "## Frequentist formulation\n",
    "In general, frequentists think about Linear Regression as follows:\n",
    "\n",
    "$$Y=βX+ϵ$$\n",
    "\n",
    "where $Y$ is the output we want to predict (or dependent variable), $X$ is our predictor (or independent variable), and $β$ are the coefficients (or parameters) of the model we want to estimate. $ϵ$ is an error term which is usually assumed to be normally distributed.\n",
    "\n",
    "We can then use Ordinary Least Squares (OLS) or Maximum Likelihood (MLE) to find the best fitting $β$."
   ]
  },
  {
   "cell_type": "markdown",
   "metadata": {},
   "source": [
    "## Bayesian reformulation\n",
    "Bayesians take a probabilistic view of the world and express this model in terms of probability distributions. Our above linear regression can be rewritten:\n",
    "\n",
    "$Y∼N(Xβ,σ^2)$\n",
    "\n",
    "In words, we view $Y$ as a random variable (or random vector) of which each element (data point) is distributed according to a **Normal distribution**. \n",
    "\n",
    "The mean of this normal distribution is provided by our linear predictor, with variance $σ^2$.\n",
    "\n",
    "There are two critical advantages of Bayesian estimation:\n",
    "\n",
    "- **Priors**: We can quantify any prior knowledge we might have by placing priors on the parameters. For example, if we think that $σ$ is likely to be small we would choose a prior with more probability mass on low values.\n",
    "- **Quantifying uncertainty**: We do not get a single estimate of $β$ as above but instead a complete **posterior distribution** about how likely different values of $β$ are. For example, with few data points our uncertainty in $β$ will be very high and we'd be getting very wide posteriors."
   ]
  },
  {
   "cell_type": "code",
   "execution_count": 1,
   "metadata": {},
   "outputs": [
    {
     "name": "stderr",
     "output_type": "stream",
     "text": [
      "WARNING (theano.configdefaults): g++ not available, if using conda: `conda install m2w64-toolchain`\n",
      "WARNING (theano.configdefaults): g++ not detected ! Theano will be unable to execute optimized C-implementations (for both CPU and GPU) and will default to Python implementations. Performance will be severely degraded. To remove this warning, set Theano flags cxx to an empty string.\n",
      "WARNING (theano.tensor.blas): Using NumPy C-API based implementation for BLAS functions.\n"
     ]
    }
   ],
   "source": [
    "%matplotlib inline\n",
    "from pymc3 import  *\n",
    "\n",
    "import numpy as np\n",
    "import matplotlib.pyplot as plt"
   ]
  },
  {
   "cell_type": "markdown",
   "metadata": {},
   "source": [
    "## Generating data\n",
    "Let's create some toy data to play around with and scatter-plot it.\n",
    "\n",
    "We create a regression line defined by intercept and slope, and add data points with noise sampled from a Normal with the mean set to the regression line."
   ]
  },
  {
   "cell_type": "code",
   "execution_count": 2,
   "metadata": {},
   "outputs": [],
   "source": [
    "size = 200\n",
    "true_intercept = 1\n",
    "true_slope = 2\n",
    "\n",
    "x = np.linspace(0, 1, size)\n",
    "# y = a + b*x\n",
    "true_regression_line = true_intercept + true_slope * x\n",
    "\n",
    "# add noise\n",
    "y = true_regression_line + np.random.normal(scale=.5, size=size)\n",
    "\n",
    "data = dict(x=x, y=y)"
   ]
  },
  {
   "cell_type": "code",
   "execution_count": 3,
   "metadata": {},
   "outputs": [
    {
     "data": {
      "image/png": "[encoded data removed]",
      "text/plain": [
       "<Figure size 504x504 with 1 Axes>"
      ]
     },
     "metadata": {
      "needs_background": "light"
     },
     "output_type": "display_data"
    }
   ],
   "source": [
    "fig = plt.figure(figsize=(7, 7))\n",
    "ax = fig.add_subplot(111, xlabel='x', ylabel='y', title='Generated data and underlying model')\n",
    "ax.plot(x, y, 'x', label='sampled data')\n",
    "ax.plot(x, true_regression_line, label='true regression line', lw=2.)\n",
    "plt.legend(loc=0);"
   ]
  },
  {
   "cell_type": "markdown",
   "metadata": {},
   "source": [
    "## Bayesian simulation\n",
    "Lets fit a Bayesian linear regression model to this data.\n",
    "\n",
    "The [Cauchy distribution](https://en.wikipedia.org/wiki/Cauchy_distribution) and [Half-Cauchy distribution](https://distribution-explorer.github.io/continuous/halfcauchy.html) are often used as a prior model for the noise.\n",
    "\n",
    "We haven't used these before, so they're new disributions for us!\n",
    "\n",
    ">I found a really neat [distribution explorer](https://distribution-explorer.github.io) that shows you all the important model-building distributions for dataset histograms.\n",
    "\n",
    "The [Half-Cauchy distribution](https://distribution-explorer.github.io/continuous/halfcauchy.html) is a Cauchy distribution truncated to only have nonzero probability density for values greater than or equal to the location of the peak."
   ]
  },
  {
   "cell_type": "code",
   "execution_count": 7,
   "metadata": {},
   "outputs": [],
   "source": [
    "#Hamiltonian Monte Carlo\n",
    "#weaking the model "
   ]
  },
  {
   "cell_type": "code",
   "execution_count": 4,
   "metadata": {},
   "outputs": [
    {
     "name": "stderr",
     "output_type": "stream",
     "text": [
      "C:\\Users\\HP\\anaconda3\\lib\\site-packages\\deprecat\\classic.py:215: FutureWarning: In v4.0, pm.sample will return an `arviz.InferenceData` object instead of a `MultiTrace` by default. You can pass return_inferencedata=True or return_inferencedata=False to be safe and silence this warning.\n",
      "  return wrapped_(*args_, **kwargs_)\n",
      "Auto-assigning NUTS sampler...\n",
      "Initializing NUTS using jitter+adapt_diag...\n",
      "C:\\Users\\HP\\anaconda3\\lib\\site-packages\\theano\\tensor\\elemwise.py:826: RuntimeWarning: divide by zero encountered in log\n",
      "  variables = ufunc(*ufunc_args, **ufunc_kwargs)\n",
      "C:\\Users\\HP\\anaconda3\\lib\\site-packages\\theano\\tensor\\elemwise.py:826: RuntimeWarning: invalid value encountered in multiply\n",
      "  variables = ufunc(*ufunc_args, **ufunc_kwargs)\n",
      "Multiprocess sampling (2 chains in 2 jobs)\n",
      "NUTS: [x, Intercept, sigma]\n"
     ]
    },
    {
     "data": {
      "text/html": [
       "\n",
       "<style>\n",
       "    /* Turns off some styling */\n",
       "    progress {\n",
       "        /* gets rid of default border in Firefox and Opera. */\n",
       "        border: none;\n",
       "        /* Needs to be in here for Safari polyfill so background images work as expected. */\n",
       "        background-size: auto;\n",
       "    }\n",
       "    progress:not([value]), progress:not([value])::-webkit-progress-bar {\n",
       "        background: repeating-linear-gradient(45deg, #7e7e7e, #7e7e7e 10px, #5c5c5c 10px, #5c5c5c 20px);\n",
       "    }\n",
       "    .progress-bar-interrupted, .progress-bar-interrupted::-webkit-progress-bar {\n",
       "        background: #F44336;\n",
       "    }\n",
       "</style>\n"
      ],
      "text/plain": [
       "<IPython.core.display.HTML object>"
      ]
     },
     "metadata": {},
     "output_type": "display_data"
    },
    {
     "data": {
      "text/html": [
       "\n",
       "    <div>\n",
       "      <progress value='4000' class='' max='4000' style='width:300px; height:20px; vertical-align: middle;'></progress>\n",
       "      100.00% [4000/4000 11:51&lt;00:00 Sampling 2 chains, 0 divergences]\n",
       "    </div>\n",
       "    "
      ],
      "text/plain": [
       "<IPython.core.display.HTML object>"
      ]
     },
     "metadata": {},
     "output_type": "display_data"
    },
    {
     "name": "stderr",
     "output_type": "stream",
     "text": [
      "Sampling 2 chains for 1_000 tune and 1_000 draw iterations (2_000 + 2_000 draws total) took 728 seconds.\n"
     ]
    }
   ],
   "source": [
    "with Model() as model: # model specifications in PyMC3 are wrapped in a with-statement\n",
    "    # Define priors\n",
    "    sigma = HalfCauchy('sigma', beta=10, testval=1.)\n",
    "    intercept = Normal('Intercept', 0, sd=20)\n",
    "    x_coeff = Normal('x', 0, sd=20)\n",
    "    \n",
    "    # Define likelihood\n",
    "    likelihood = Normal('y', mu=intercept + x_coeff * x, \n",
    "                        sd=sigma, observed=y)\n",
    "    \n",
    "    # Inference!\n",
    "    trace = sample(progressbar=True) # draw posterior samples using NUTS sampling"
   ]
  },
  {
   "cell_type": "markdown",
   "metadata": {},
   "source": [
    "However, `PyMC3` has a more Dua Lipa formulation that I introduced you to last week. Here it is:"
   ]
  },
  {
   "cell_type": "code",
   "execution_count": 6,
   "metadata": {},
   "outputs": [
    {
     "name": "stderr",
     "output_type": "stream",
     "text": [
      "The glm module is deprecated and will be removed in version 4.0\n",
      "We recommend to instead use Bambi https://bambinos.github.io/bambi/\n",
      "C:\\Users\\HP\\anaconda3\\lib\\site-packages\\deprecat\\classic.py:215: FutureWarning: In v4.0, pm.sample will return an `arviz.InferenceData` object instead of a `MultiTrace` by default. You can pass return_inferencedata=True or return_inferencedata=False to be safe and silence this warning.\n",
      "  return wrapped_(*args_, **kwargs_)\n",
      "Auto-assigning NUTS sampler...\n",
      "Initializing NUTS using jitter+adapt_diag...\n",
      "C:\\Users\\HP\\anaconda3\\lib\\site-packages\\theano\\tensor\\elemwise.py:826: RuntimeWarning: divide by zero encountered in log\n",
      "  variables = ufunc(*ufunc_args, **ufunc_kwargs)\n",
      "C:\\Users\\HP\\anaconda3\\lib\\site-packages\\theano\\tensor\\elemwise.py:826: RuntimeWarning: invalid value encountered in multiply\n",
      "  variables = ufunc(*ufunc_args, **ufunc_kwargs)\n",
      "Multiprocess sampling (4 chains in 4 jobs)\n",
      "NUTS: [sd, x, Intercept]\n"
     ]
    },
    {
     "data": {
      "text/html": [
       "\n",
       "<style>\n",
       "    /* Turns off some styling */\n",
       "    progress {\n",
       "        /* gets rid of default border in Firefox and Opera. */\n",
       "        border: none;\n",
       "        /* Needs to be in here for Safari polyfill so background images work as expected. */\n",
       "        background-size: auto;\n",
       "    }\n",
       "    progress:not([value]), progress:not([value])::-webkit-progress-bar {\n",
       "        background: repeating-linear-gradient(45deg, #7e7e7e, #7e7e7e 10px, #5c5c5c 10px, #5c5c5c 20px);\n",
       "    }\n",
       "    .progress-bar-interrupted, .progress-bar-interrupted::-webkit-progress-bar {\n",
       "        background: #F44336;\n",
       "    }\n",
       "</style>\n"
      ],
      "text/plain": [
       "<IPython.core.display.HTML object>"
      ]
     },
     "metadata": {},
     "output_type": "display_data"
    },
    {
     "data": {
      "text/html": [
       "\n",
       "    <div>\n",
       "      <progress value='8000' class='' max='8000' style='width:300px; height:20px; vertical-align: middle;'></progress>\n",
       "      100.00% [8000/8000 09:49&lt;00:00 Sampling 4 chains, 0 divergences]\n",
       "    </div>\n",
       "    "
      ],
      "text/plain": [
       "<IPython.core.display.HTML object>"
      ]
     },
     "metadata": {},
     "output_type": "display_data"
    },
    {
     "name": "stderr",
     "output_type": "stream",
     "text": [
      "Sampling 4 chains for 1_000 tune and 1_000 draw iterations (4_000 + 4_000 draws total) took 623 seconds.\n"
     ]
    }
   ],
   "source": [
    "with Model() as model:\n",
    "    # specify glm and pass in data. The resulting linear model, its likelihood and \n",
    "    # and all its parameters are automatically added to our model.\n",
    "    GLM.from_formula('y ~ x', data)\n",
    "    trace = sample(progressbar=True, tune=1000, cores=4) # draw posterior samples using NUTS sampling"
   ]
  },
  {
   "cell_type": "markdown",
   "metadata": {},
   "source": [
    "Much shorter, but this code does the exact same thing as the above model specification (you can change priors and everything else too if you wanted, I show you later how to). \n",
    "\n",
    "`glm()` parses the Patsy model string, adds random variables for each regressor (Intercept and slope x in this case), adds a likelihood (by default, a Normal is chosen), and all other variables (sigma). \n",
    "\n",
    "Finally, `glm()` initializes the parameters to a good starting point by estimating a frequentist linear model using statsmodels.\n",
    "\n",
    "**Patsy syntax**, `y ~ x` specifies that we have an output variable y that we want to estimate as a linear function of x."
   ]
  },
  {
   "cell_type": "markdown",
   "metadata": {},
   "source": [
    "## Model analysis\n",
    "Bayesian inference does not give us only one best fitting line (as maximum likelihood does) but rather a whole posterior distribution of likely parameters. Lets plot the posterior distribution of our parameters and the individual samples we drew."
   ]
  },
  {
   "cell_type": "code",
   "execution_count": null,
   "metadata": {},
   "outputs": [],
   "source": [
    "plt.figure(figsize=(7, 7))\n",
    "traceplot(trace)\n",
    "plt.tight_layout();"
   ]
  },
  {
   "cell_type": "markdown",
   "metadata": {},
   "source": [
    "The left side shows our **marginal posterior** -- for each parameter value on the x-axis we get a probability on the y-axis that tells us how likely that parameter value is.\n",
    "\n",
    "There are a couple of things to see here. The first is that our sampling chains for the individual parameters (left side) seem well converged and stationary (there are no large drifts or other odd patterns). We see 4 lines because we ran 4 chains in parallel (`cores` parameter above). They all seem to provide the same answer which is re-assuring.\n",
    "\n",
    "Secondly, the maximum posterior estimate of each variable (the peak in the left side distributions) is very close to the true parameters used to generate the data (x is the regression coefficient and sigma is the standard deviation of our normal).\n",
    "\n",
    "In the GLM we thus do not only have one best fitting regression line, but many. A posterior predictive plot takes multiple samples from the posterior (intercepts and slopes) and plots a regression line for each of them. Here we are using the `glm.plot_posterior_predictive()` convenience function for this."
   ]
  },
  {
   "cell_type": "code",
   "execution_count": null,
   "metadata": {},
   "outputs": [],
   "source": [
    "plt.plot(x, y, 'x', label='data')\n",
    "plots.plot_posterior_predictive_glm(trace, samples=100, \n",
    "                                    label='posterior predictive regression lines')\n",
    "plt.plot(x, true_regression_line, label='true regression line', lw=3., c='y')\n",
    "\n",
    "plt.title('Posterior predictive regression lines')\n",
    "plt.legend(loc=0)\n",
    "plt.xlabel('x')\n",
    "plt.ylabel('y');"
   ]
  },
  {
   "cell_type": "markdown",
   "metadata": {},
   "source": [
    "As you can see, our estimated regression lines are very similar to the true regression line. But since we only have limited data we have uncertainty in our estimates, here expressed by the variability of the lines."
   ]
  },
  {
   "cell_type": "markdown",
   "metadata": {},
   "source": [
    "# 4. The real World has outliers\n",
    "The problem with simulated data though is that it's ***simulated***. In the real world things tend to get more messy and assumptions like normality are easily violated by a few **outliers**.\n",
    "\n",
    "Lets see what happens if we add some outliers to our simulated data."
   ]
  },
  {
   "cell_type": "code",
   "execution_count": null,
   "metadata": {},
   "outputs": [],
   "source": [
    "size = 200\n",
    "true_intercept = 1\n",
    "true_slope = 2\n",
    "\n",
    "x = np.linspace(0, 1, size)\n",
    "# y = a + b*x\n",
    "true_regression_line = true_intercept + true_slope * x\n",
    "\n",
    "# add noise\n",
    "y = true_regression_line + np.random.normal(scale=.5, size=size)\n",
    "\n",
    "# Add outliers\n",
    "x_out = np.append(x, [.1, .15, .2])\n",
    "y_out = np.append(y, [8, 6, 9])\n",
    "\n",
    "data = dict(x=x_out, y=y_out)"
   ]
  },
  {
   "cell_type": "code",
   "execution_count": null,
   "metadata": {},
   "outputs": [],
   "source": [
    "fig = plt.figure(figsize=(12, 12))\n",
    "ax = fig.add_subplot(111, xlabel='x', ylabel='y', title='Generated data and underlying model')\n",
    "ax.plot(x_out, y_out, 'x', label='sampled data')\n",
    "ax.plot(x, true_regression_line, label='true regression line', lw=2.)\n",
    "plt.legend(loc=0);"
   ]
  },
  {
   "cell_type": "markdown",
   "metadata": {},
   "source": [
    "Lets see what happens if we estimate our Bayesian linear regression model using the `glm()` function as before. This function takes a Patsy string to describe the linear model and adds a Normal likelihood by default."
   ]
  },
  {
   "cell_type": "code",
   "execution_count": null,
   "metadata": {},
   "outputs": [],
   "source": [
    "with Model() as model:\n",
    "    GLM.from_formula('y ~ x', data)\n",
    "    trace = sample(progressbar=True, tune=1000)"
   ]
  },
  {
   "cell_type": "markdown",
   "metadata": {},
   "source": [
    "Let's plot the posterior predictive regression lines by taking regression parameters from the posterior distribution and plotting a regression line for each."
   ]
  },
  {
   "cell_type": "code",
   "execution_count": null,
   "metadata": {},
   "outputs": [],
   "source": [
    "plt.subplot(111, xlabel='x', ylabel='y', \n",
    "            title='Posterior predictive regression lines')\n",
    "plt.plot(x_out, y_out, 'x', label='data')\n",
    "\n",
    "# plots is a PyMC3 package\n",
    "plots.plot_posterior_predictive_glm(trace, samples=100, \n",
    "                                 label='posterior predictive regression lines')\n",
    "plt.plot(x, true_regression_line, \n",
    "         label='true regression line', lw=3., c='y')\n",
    "\n",
    "plt.legend(loc=0);"
   ]
  },
  {
   "cell_type": "markdown",
   "metadata": {},
   "source": [
    "The fit is quite skewed and we have a fair amount of uncertainty in our estimate as indicated by the wide range of different posterior predictive regression lines. \n",
    "\n",
    "Why is this? The reason is that the normal distribution ***does not have a lot of mass in the tails*** and consequently is unfit to model data with a lot (or a few very distant) outliers.\n",
    "\n",
    "Since the problem is the light tails of the Normal distribution, we can instead assume that our data is not normally distributed but instead distributed according to the **Student-T** distribution which has heavier tails.\n",
    "\n",
    "With `theano`:"
   ]
  },
  {
   "cell_type": "code",
   "execution_count": null,
   "metadata": {},
   "outputs": [],
   "source": [
    "from pymc3 import Normal, StudentT\n",
    "normal_dist = Normal.dist(mu=0, sd=1)\n",
    "t_dist = StudentT.dist(mu=0, lam=1, nu=1)\n",
    "\n",
    "import theano\n",
    "x_eval = np.linspace(-8, 8, 300)\n",
    "plt.plot(x_eval, theano.tensor.exp(normal_dist.logp(x_eval)).eval(), label='Normal', lw=2.)\n",
    "plt.plot(x_eval, theano.tensor.exp(t_dist.logp(x_eval)).eval(), label='Student T', lw=2.)\n",
    "plt.xlabel('x')\n",
    "plt.ylabel('Probability density')\n",
    "plt.legend();"
   ]
  },
  {
   "cell_type": "markdown",
   "metadata": {},
   "source": [
    "With `pm.math`:"
   ]
  },
  {
   "cell_type": "code",
   "execution_count": null,
   "metadata": {},
   "outputs": [],
   "source": [
    "from pymc3 import Normal, StudentT\n",
    "normal_dist = Normal.dist(mu=0, sd=1)\n",
    "t_dist = StudentT.dist(mu=0, lam=1, nu=1)\n",
    "\n",
    "x_eval = np.linspace(-8, 8, 300)\n",
    "plt.plot(x_eval, pm.math.exp(normal_dist.logp(x_eval)).eval(), label='Normal', lw=2.)\n",
    "plt.plot(x_eval, pm.math.exp(t_dist.logp(x_eval)).eval(), label='Student T', lw=2.)\n",
    "plt.xlabel('x')\n",
    "plt.ylabel('Probability density')\n",
    "plt.legend();"
   ]
  },
  {
   "cell_type": "markdown",
   "metadata": {},
   "source": [
    "To define the usage of a Student-T distribution in PyMC3 (to specify that our data is Student T-distributed), we do the following.\n",
    "\n",
    "The Student-T distribution has, besides the mean and variance, a third parameter called **degrees of freedom** that describes how much mass should be put into the tails. Here it is set to 1 which gives maximum mass to the tails (setting this to infinity results in a Normal distribution!). One could also place a prior on this rather than fixing it.\n",
    "\n",
    "See `glm.families` for more choices."
   ]
  },
  {
   "cell_type": "code",
   "execution_count": null,
   "metadata": {},
   "outputs": [],
   "source": [
    "with Model() as model_robust:\n",
    "    family = glm.families.StudentT()\n",
    "    GLM.from_formula('y ~ x', data, family=family)\n",
    "    trace_robust = sample(progressbar=True, tune=1000)"
   ]
  },
  {
   "cell_type": "markdown",
   "metadata": {},
   "source": [
    "Let's plot."
   ]
  },
  {
   "cell_type": "code",
   "execution_count": null,
   "metadata": {},
   "outputs": [],
   "source": [
    "plt.figure(figsize=(12, 12))\n",
    "plt.plot(x_out, y_out, 'x')\n",
    "\n",
    "plots.plot_posterior_predictive_glm(trace_robust, label='posterior predictive regression lines')\n",
    "plt.plot(x, true_regression_line, \n",
    "         label='true regression line', lw=3., c='y')\n",
    "plt.legend();"
   ]
  },
  {
   "cell_type": "markdown",
   "metadata": {},
   "source": [
    "And now we see that the outliers are barely influencing our estimation at all because our likelihood function assumes that outliers are much more probable than under the Normal distribution."
   ]
  },
  {
   "cell_type": "markdown",
   "metadata": {},
   "source": [
    "# 5. Hierarchical Linear regression\n",
    "Gelman et al.'s (2007) radon dataset is a classic dataset in data science. \n",
    "\n",
    "In this dataset the amount of the radioactive gas radon has been measured among different households in all county's of several states. Radon gas is known to be the highest cause of lung cancer in non-smokers. It is believed to enter the house through the basement. Moreover, its concentration is thought to differ regionally due to different types of soil.\n",
    "\n",
    "Let's investigate this difference and  make predictions of radon levels in different counties, *and also where in the house radon was measured*. \n",
    "\n",
    "Let's look at the state Minnesota, a state that contains 85 countiess in which different measurements are taken, ranging from 2 till 80 measurements per county."
   ]
  },
  {
   "cell_type": "code",
   "execution_count": 8,
   "metadata": {},
   "outputs": [],
   "source": [
    "import matplotlib.pyplot as plt\n",
    "import numpy as np\n",
    "import pymc3 as pm \n",
    "import pandas as pd\n",
    "\n",
    "data = pd.read_csv('data/radon.csv')\n",
    "\n",
    "county_names = data.county.unique()\n",
    "county_idx = data['county_code'].values"
   ]
  },
  {
   "cell_type": "code",
   "execution_count": 9,
   "metadata": {},
   "outputs": [
    {
     "data": {
      "text/html": [
       "<div>\n",
       "<style scoped>\n",
       "    .dataframe tbody tr th:only-of-type {\n",
       "        vertical-align: middle;\n",
       "    }\n",
       "\n",
       "    .dataframe tbody tr th {\n",
       "        vertical-align: top;\n",
       "    }\n",
       "\n",
       "    .dataframe thead th {\n",
       "        text-align: right;\n",
       "    }\n",
       "</style>\n",
       "<table border=\"1\" class=\"dataframe\">\n",
       "  <thead>\n",
       "    <tr style=\"text-align: right;\">\n",
       "      <th></th>\n",
       "      <th>county</th>\n",
       "      <th>log_radon</th>\n",
       "      <th>floor</th>\n",
       "    </tr>\n",
       "  </thead>\n",
       "  <tbody>\n",
       "    <tr>\n",
       "      <th>0</th>\n",
       "      <td>AITKIN</td>\n",
       "      <td>0.832909</td>\n",
       "      <td>1.0</td>\n",
       "    </tr>\n",
       "    <tr>\n",
       "      <th>1</th>\n",
       "      <td>AITKIN</td>\n",
       "      <td>0.832909</td>\n",
       "      <td>0.0</td>\n",
       "    </tr>\n",
       "    <tr>\n",
       "      <th>2</th>\n",
       "      <td>AITKIN</td>\n",
       "      <td>1.098612</td>\n",
       "      <td>0.0</td>\n",
       "    </tr>\n",
       "    <tr>\n",
       "      <th>3</th>\n",
       "      <td>AITKIN</td>\n",
       "      <td>0.095310</td>\n",
       "      <td>0.0</td>\n",
       "    </tr>\n",
       "    <tr>\n",
       "      <th>4</th>\n",
       "      <td>ANOKA</td>\n",
       "      <td>1.163151</td>\n",
       "      <td>0.0</td>\n",
       "    </tr>\n",
       "    <tr>\n",
       "      <th>5</th>\n",
       "      <td>ANOKA</td>\n",
       "      <td>0.955511</td>\n",
       "      <td>0.0</td>\n",
       "    </tr>\n",
       "    <tr>\n",
       "      <th>6</th>\n",
       "      <td>ANOKA</td>\n",
       "      <td>0.470004</td>\n",
       "      <td>0.0</td>\n",
       "    </tr>\n",
       "    <tr>\n",
       "      <th>7</th>\n",
       "      <td>ANOKA</td>\n",
       "      <td>0.095310</td>\n",
       "      <td>0.0</td>\n",
       "    </tr>\n",
       "    <tr>\n",
       "      <th>8</th>\n",
       "      <td>ANOKA</td>\n",
       "      <td>-0.223144</td>\n",
       "      <td>0.0</td>\n",
       "    </tr>\n",
       "    <tr>\n",
       "      <th>9</th>\n",
       "      <td>ANOKA</td>\n",
       "      <td>0.262364</td>\n",
       "      <td>0.0</td>\n",
       "    </tr>\n",
       "  </tbody>\n",
       "</table>\n",
       "</div>"
      ],
      "text/plain": [
       "   county  log_radon  floor\n",
       "0  AITKIN   0.832909    1.0\n",
       "1  AITKIN   0.832909    0.0\n",
       "2  AITKIN   1.098612    0.0\n",
       "3  AITKIN   0.095310    0.0\n",
       "4   ANOKA   1.163151    0.0\n",
       "5   ANOKA   0.955511    0.0\n",
       "6   ANOKA   0.470004    0.0\n",
       "7   ANOKA   0.095310    0.0\n",
       "8   ANOKA  -0.223144    0.0\n",
       "9   ANOKA   0.262364    0.0"
      ]
     },
     "execution_count": 9,
     "metadata": {},
     "output_type": "execute_result"
    }
   ],
   "source": [
    "data[['county', 'log_radon', 'floor']].head(10)"
   ]
  },
  {
   "cell_type": "code",
   "execution_count": 10,
   "metadata": {},
   "outputs": [
    {
     "data": {
      "text/html": [
       "<div>\n",
       "<style scoped>\n",
       "    .dataframe tbody tr th:only-of-type {\n",
       "        vertical-align: middle;\n",
       "    }\n",
       "\n",
       "    .dataframe tbody tr th {\n",
       "        vertical-align: top;\n",
       "    }\n",
       "\n",
       "    .dataframe thead th {\n",
       "        text-align: right;\n",
       "    }\n",
       "</style>\n",
       "<table border=\"1\" class=\"dataframe\">\n",
       "  <thead>\n",
       "    <tr style=\"text-align: right;\">\n",
       "      <th></th>\n",
       "      <th>county</th>\n",
       "      <th>log_radon</th>\n",
       "      <th>floor</th>\n",
       "    </tr>\n",
       "  </thead>\n",
       "  <tbody>\n",
       "    <tr>\n",
       "      <th>909</th>\n",
       "      <td>WRIGHT</td>\n",
       "      <td>1.648659</td>\n",
       "      <td>0.0</td>\n",
       "    </tr>\n",
       "    <tr>\n",
       "      <th>910</th>\n",
       "      <td>WRIGHT</td>\n",
       "      <td>0.832909</td>\n",
       "      <td>0.0</td>\n",
       "    </tr>\n",
       "    <tr>\n",
       "      <th>911</th>\n",
       "      <td>WRIGHT</td>\n",
       "      <td>0.875469</td>\n",
       "      <td>1.0</td>\n",
       "    </tr>\n",
       "    <tr>\n",
       "      <th>912</th>\n",
       "      <td>WRIGHT</td>\n",
       "      <td>2.772589</td>\n",
       "      <td>0.0</td>\n",
       "    </tr>\n",
       "    <tr>\n",
       "      <th>913</th>\n",
       "      <td>WRIGHT</td>\n",
       "      <td>2.261763</td>\n",
       "      <td>0.0</td>\n",
       "    </tr>\n",
       "    <tr>\n",
       "      <th>914</th>\n",
       "      <td>WRIGHT</td>\n",
       "      <td>1.871802</td>\n",
       "      <td>0.0</td>\n",
       "    </tr>\n",
       "    <tr>\n",
       "      <th>915</th>\n",
       "      <td>WRIGHT</td>\n",
       "      <td>1.526056</td>\n",
       "      <td>0.0</td>\n",
       "    </tr>\n",
       "    <tr>\n",
       "      <th>916</th>\n",
       "      <td>WRIGHT</td>\n",
       "      <td>1.629241</td>\n",
       "      <td>0.0</td>\n",
       "    </tr>\n",
       "    <tr>\n",
       "      <th>917</th>\n",
       "      <td>YELLOW MEDICINE</td>\n",
       "      <td>1.335001</td>\n",
       "      <td>0.0</td>\n",
       "    </tr>\n",
       "    <tr>\n",
       "      <th>918</th>\n",
       "      <td>YELLOW MEDICINE</td>\n",
       "      <td>1.098612</td>\n",
       "      <td>0.0</td>\n",
       "    </tr>\n",
       "  </tbody>\n",
       "</table>\n",
       "</div>"
      ],
      "text/plain": [
       "              county  log_radon  floor\n",
       "909           WRIGHT   1.648659    0.0\n",
       "910           WRIGHT   0.832909    0.0\n",
       "911           WRIGHT   0.875469    1.0\n",
       "912           WRIGHT   2.772589    0.0\n",
       "913           WRIGHT   2.261763    0.0\n",
       "914           WRIGHT   1.871802    0.0\n",
       "915           WRIGHT   1.526056    0.0\n",
       "916           WRIGHT   1.629241    0.0\n",
       "917  YELLOW MEDICINE   1.335001    0.0\n",
       "918  YELLOW MEDICINE   1.098612    0.0"
      ]
     },
     "execution_count": 10,
     "metadata": {},
     "output_type": "execute_result"
    }
   ],
   "source": [
    "data[['county', 'log_radon', 'floor']].tail(10)"
   ]
  },
  {
   "cell_type": "markdown",
   "metadata": {},
   "source": [
    "In a past notebook, we drew the histogram of the data so we could match it to a well-known statistical function.\n",
    "\n",
    "Seaborn's `distplot` computes the histogram *and also fits it to a curve*. See [here](https://seaborn.pydata.org/generated/seaborn.distplot.html) for the API."
   ]
  },
  {
   "cell_type": "code",
   "execution_count": 11,
   "metadata": {},
   "outputs": [
    {
     "name": "stderr",
     "output_type": "stream",
     "text": [
      "C:\\Users\\HP\\anaconda3\\lib\\site-packages\\seaborn\\distributions.py:2619: FutureWarning: `distplot` is a deprecated function and will be removed in a future version. Please adapt your code to use either `displot` (a figure-level function with similar flexibility) or `histplot` (an axes-level function for histograms).\n",
      "  warnings.warn(msg, FutureWarning)\n"
     ]
    },
    {
     "data": {
      "text/plain": [
       "<AxesSubplot:xlabel='log_radon', ylabel='Density'>"
      ]
     },
     "execution_count": 11,
     "metadata": {},
     "output_type": "execute_result"
    },
    {
     "data": {
      "image/png": "[encoded data removed]",
      "text/plain": [
       "<Figure size 432x288 with 1 Axes>"
      ]
     },
     "metadata": {
      "needs_background": "light"
     },
     "output_type": "display_data"
    }
   ],
   "source": [
    "import seaborn as sns\n",
    "sns.set_context('notebook')\n",
    "\n",
    "hennepin_radon = data.query('county==\"HENNEPIN\"').log_radon\n",
    "sns.distplot(hennepin_radon)"
   ]
  },
  {
   "cell_type": "markdown",
   "metadata": {},
   "source": [
    "Recall that we picked a **Normal distribution**, which is described by its two paramaters $\\mu$ (mean) and $\\sigma$ (standard deviation):\n",
    "\n",
    "$$y_i \\sim N(\\mu, \\sigma^2)$$\n",
    "\n",
    "Note that **Normal** and **Gaussian** is the same thing because Gaussian distributions are the most *normal*!\n",
    "\n",
    "This implies that we have 2 unknowns in the model; the **mean** and **standard deviation** of the distribution.\n",
    "\n",
    "While there may likely be prior information about the distribution of radon values, we will assume ***no prior knowledge*** (about the priors), and specify a **diffuse** prior for each parameter.\n",
    "\n",
    "Since the mean can take any real value (since it is on the log scale), we will use ***another normal distribution*** here, and specify a *large* variance to allow the possibility of very large or very small values:\n",
    "\n",
    "$$\\mu \\sim N(0, 10^2)$$\n",
    "\n",
    "For the standard deviation, we know that the true value must be positive (no negative variances!). Let's choose a [**uniform**](http://mathworld.wolfram.com/UniformDistribution.html) pdf prior, bounded from below at zero and from above at a value that is sure to be higher than any plausible value the true standard deviation (on the log scale) could take. That way, we are sure to capture the real value, somewhere in -between.\n",
    "\n",
    "$$\\sigma \\sim U(0, 10)$$\n",
    "\n",
    "We name our model and define our priors as the pdf's we mentionned above."
   ]
  },
  {
   "cell_type": "code",
   "execution_count": 12,
   "metadata": {},
   "outputs": [],
   "source": [
    "from pymc3 import Model, Normal, Uniform\n",
    "\n",
    "with Model() as radon_model:\n",
    "    μ = Normal('μ', mu=0, sd=10)\n",
    "    σ = Uniform('σ', 0, 10)"
   ]
  },
  {
   "cell_type": "markdown",
   "metadata": {},
   "source": [
    "All that remains is to add the **likelihood**, which takes $\\mu$ and $\\sigma$ as parameters, and the log-radon values as the set of observations:"
   ]
  },
  {
   "cell_type": "code",
   "execution_count": 13,
   "metadata": {},
   "outputs": [],
   "source": [
    "with radon_model:    \n",
    "    y = Normal('y', mu=μ, sd=σ, observed=hennepin_radon)"
   ]
  },
  {
   "cell_type": "markdown",
   "metadata": {},
   "source": [
    "Now, we will fit the model using a numerical approach called [**variational inference**](https://www.cs.jhu.edu/~jason/tutorials/variational.html), which is the default algorithm for PyMC3 (it is a more modern version of the Metropolis algorithm)."
   ]
  },
  {
   "cell_type": "code",
   "execution_count": 14,
   "metadata": {},
   "outputs": [
    {
     "data": {
      "text/html": [
       "\n",
       "<style>\n",
       "    /* Turns off some styling */\n",
       "    progress {\n",
       "        /* gets rid of default border in Firefox and Opera. */\n",
       "        border: none;\n",
       "        /* Needs to be in here for Safari polyfill so background images work as expected. */\n",
       "        background-size: auto;\n",
       "    }\n",
       "    progress:not([value]), progress:not([value])::-webkit-progress-bar {\n",
       "        background: repeating-linear-gradient(45deg, #7e7e7e, #7e7e7e 10px, #5c5c5c 10px, #5c5c5c 20px);\n",
       "    }\n",
       "    .progress-bar-interrupted, .progress-bar-interrupted::-webkit-progress-bar {\n",
       "        background: #F44336;\n",
       "    }\n",
       "</style>\n"
      ],
      "text/plain": [
       "<IPython.core.display.HTML object>"
      ]
     },
     "metadata": {},
     "output_type": "display_data"
    },
    {
     "data": {
      "text/html": [
       "\n",
       "    <div>\n",
       "      <progress value='10000' class='' max='10000' style='width:300px; height:20px; vertical-align: middle;'></progress>\n",
       "      100.00% [10000/10000 02:30&lt;00:00 Average Loss = 134.7]\n",
       "    </div>\n",
       "    "
      ],
      "text/plain": [
       "<IPython.core.display.HTML object>"
      ]
     },
     "metadata": {},
     "output_type": "display_data"
    },
    {
     "name": "stderr",
     "output_type": "stream",
     "text": [
      "Finished [100%]: Average Loss = 134.68\n"
     ]
    }
   ],
   "source": [
    "from pymc3 import fit\n",
    "\n",
    "with radon_model:\n",
    "\n",
    "    samples = fit().sample(1000)"
   ]
  },
  {
   "cell_type": "markdown",
   "metadata": {},
   "source": [
    "Now we're ready to plot our posterior, which is the best possible values for $\\mu$ and $\\sigma$ that PyMC3 evaluated for us. In other words, the values of $\\mu$ and $\\sigma$ that result in the best possible $N(\\mu, \\sigma^2)$."
   ]
  },
  {
   "cell_type": "code",
   "execution_count": 17,
   "metadata": {},
   "outputs": [
    {
     "name": "stderr",
     "output_type": "stream",
     "text": [
      "Got error No model on context stack. trying to find log_likelihood in translation.\n",
      "C:\\Users\\HP\\anaconda3\\lib\\site-packages\\arviz\\data\\io_pymc3_3x.py:98: FutureWarning: Using `from_pymc3` without the model will be deprecated in a future release. Not using the model will return less accurate and less useful results. Make sure you use the model argument or call from_pymc3 within a model context.\n",
      "  warnings.warn(\n"
     ]
    },
    {
     "data": {
      "image/png": "[encoded data removed]",
      "text/plain": [
       "<Figure size 432x288 with 1 Axes>"
      ]
     },
     "metadata": {
      "needs_background": "light"
     },
     "output_type": "display_data"
    }
   ],
   "source": [
    "from pymc3 import plot_posterior\n",
    "\n",
    "plot_posterior(samples, var_names=['μ'], ref_val=np.log(4), color='LightSeaGreen');"
   ]
  },
  {
   "cell_type": "markdown",
   "metadata": {},
   "source": [
    "The plot shows the posterior distribution of $\\mu$, along with an estimate of the 95% posterior **credible interval**. "
   ]
  },
  {
   "cell_type": "code",
   "execution_count": 19,
   "metadata": {},
   "outputs": [
    {
     "name": "stderr",
     "output_type": "stream",
     "text": [
      "Got error No model on context stack. trying to find log_likelihood in translation.\n",
      "C:\\Users\\HP\\anaconda3\\lib\\site-packages\\arviz\\data\\io_pymc3_3x.py:98: FutureWarning: Using `from_pymc3` without the model will be deprecated in a future release. Not using the model will return less accurate and less useful results. Make sure you use the model argument or call from_pymc3 within a model context.\n",
      "  warnings.warn(\n"
     ]
    },
    {
     "data": {
      "image/png": "[encoded data removed]",
      "text/plain": [
       "<Figure size 432x288 with 1 Axes>"
      ]
     },
     "metadata": {
      "needs_background": "light"
     },
     "output_type": "display_data"
    }
   ],
   "source": [
    "plot_posterior(samples, var_names=['σ'], ref_val=0.8, color='LightSeaGreen');"
   ]
  },
  {
   "cell_type": "markdown",
   "metadata": {},
   "source": [
    "### Prediction\n",
    "\n",
    "What is the probability that a given household has a log-radon measurement larger than one? To answer this, we make use of the **posterior predictive distribution**, in its continuous formulation:\n",
    "\n",
    "$$p(z \\;| \\; y) = \\int_{\\theta} p(z \\;| \\; \\theta) p(\\theta \\; | \\; y) d\\theta$$\n",
    "\n",
    "where here $z$ is the predicted value and y is the data used to fit the model.\n",
    "\n",
    "The posterior predictive distribution accounts for uncertainty about $\\theta$. We should refrain from plugging in a single best estimate $\\hat{\\theta}$ for $\\theta$, because it ignores uncertainty about $\\theta$, and because a source of uncertainty is ignored, the predicted distribution will be too narrow (extreme values of $\\tilde {x}$ will occur more often than the posterior distribution suggests).\n",
    "\n",
    "The posterior distribution of possible $\\theta$ values depends on $\\mathbf {X}$: $p(\\theta \\; | \\; \\mathbf {X} )$. And the posterior predictive distribution of $\\tilde {x}$ given $\\mathbf {X}$ is calculated by marginalizing the distribution of $\\tilde {x}$ given $\\theta$ over the posterior distribution of $\\theta$ given $ \\mathbf {X}$. That is the integral above. See [here](https://en.wikipedia.org/wiki/Posterior_predictive_distribution) for more explanation.\n",
    "\n",
    "We can estimate the probability that a given household has a log-radon measurement larger than one from the posterior samples of the parameters in the model:"
   ]
  },
  {
   "cell_type": "code",
   "execution_count": 20,
   "metadata": {},
   "outputs": [],
   "source": [
    "mus = samples['μ']\n",
    "sigmas = samples['σ']"
   ]
  },
  {
   "cell_type": "code",
   "execution_count": 21,
   "metadata": {},
   "outputs": [],
   "source": [
    "radon_samples = Normal.dist(mus, sigmas).random()"
   ]
  },
  {
   "cell_type": "code",
   "execution_count": 22,
   "metadata": {},
   "outputs": [
    {
     "data": {
      "text/plain": [
       "0.469"
      ]
     },
     "execution_count": 22,
     "metadata": {},
     "output_type": "execute_result"
    }
   ],
   "source": [
    "(radon_samples > np.log(4)).mean()"
   ]
  },
  {
   "cell_type": "markdown",
   "metadata": {},
   "source": [
    "The posterior probability that a randomly-selected household in Henneprin County contains radon levels in excess of 4 pCi/L is 0.44.\n",
    "\n",
    "So that's good to know. But we did not do any **regressions** in the sense that we did not estimate our dependent variable as a function of an independent variable.\n",
    "\n",
    "So, let's do a regression now."
   ]
  },
  {
   "cell_type": "markdown",
   "metadata": {},
   "source": [
    "### Radon regression\n",
    "\n",
    "We have multiple radon measurements (log-converted to be on the real line) in a county, and also whether the measurement has been taken in the basement (floor == 0) or on the first floor (floor == 1). \n",
    "\n",
    "Let's test the prediction that radon concentrations are higher in the basement by building a **linear model** where the radon concentration is a linear function of the floor of the house.\n",
    "\n",
    "We know that radon, a dangerous poisonous gas, seeps into a house from its foundation, so it makes sense that the basement has higher concentrations than the first floor, but let's *test this hypothesis*."
   ]
  },
  {
   "cell_type": "markdown",
   "metadata": {},
   "source": [
    "## Option A: Pooling all measurements\n",
    "Let's pool all our data and estimate one linear regression to asses the influence of measurement across all counties:\n",
    "\n",
    "$$\\text{radon}_{i,c} = α + β∗\\text{floor}_{i,c} + ϵ$$\n",
    "\n",
    "Where $i$ represents the measurement, $c$ the county and $\\text{floor}$ contains which floor the measurement was made. \n",
    "\n",
    "Critically, we are only estimating ***one*** intercept and ***one*** slope for all measurements over all counties."
   ]
  },
  {
   "cell_type": "markdown",
   "metadata": {},
   "source": [
    "## Option B: Separate statistics per county\n",
    "But what if we are interested whether different counties actually have different relationships (slope) and different base-rates of radon (intercept)? Then we have\n",
    "\n",
    "$$\\text{radon}_{i,c} = α_c + β_c∗\\text{floor}_{i,c} + ϵ_c$$\n",
    "\n",
    "Note that we added the index $c$ on the slopes and intercepts so we are estimating $n$ different $α$s and $β$s, one for each county.\n",
    "\n",
    ">**Note**: We also added a $c$ index on the error, allowing us to handle heteroscedastic data (data in which the variance is not constant across counties), but we could also handle heteroscedasticity within counties by assuming that the\n",
    "error is some function ϵ(µ) of the mean µ, or more accurately the conditional mean µ|X=x.\n",
    "\n",
    "Let's estimate this model. For each county a new estimate of the parameters is initiated. As we have no prior information on what the intercept or regressions could be, we are going to place a Normal distribution centered around 0 with a *wide* standard-deviation. We'll assume the measurements are **normally distributed** with noise $ϵ$ on which we place a Half-Cauchy distribution."
   ]
  },
  {
   "cell_type": "code",
   "execution_count": null,
   "metadata": {},
   "outputs": [],
   "source": [
    "indiv_traces = {}\n",
    "for county_name in county_names:\n",
    "    # Select subset of data belonging to county\n",
    "    c_data = data.loc[data.county == county_name]\n",
    "    c_data = c_data.reset_index(drop=True)\n",
    "    \n",
    "    c_log_radon = c_data.log_radon\n",
    "    c_floor_measure = c_data.floor.values\n",
    "    \n",
    "    with pm.Model() as individual_model:\n",
    "        # Intercept prior\n",
    "        a = pm.Normal('alpha', mu=0, sigma=1)\n",
    "        \n",
    "        # Slope prior\n",
    "        b = pm.Normal('beta', mu=0, sigma=1)\n",
    "    \n",
    "        # Model error prior\n",
    "        eps = pm.HalfCauchy('eps', beta=1)\n",
    "    \n",
    "        # Linear model\n",
    "        radon_est = a + b * c_floor_measure\n",
    "    \n",
    "        # Data likelihood\n",
    "        y_like = pm.Normal('y_like', mu=radon_est, sigma=eps, observed=c_log_radon)\n",
    "\n",
    "        # Inference button (TM)!\n",
    "        trace = pm.sample(progressbar=True, cores=1)\n",
    "        \n",
    "    indiv_traces[county_name] = trace"
   ]
  },
  {
   "cell_type": "markdown",
   "metadata": {},
   "source": [
    "## Hierarchical regression\n",
    "There is a middle ground to both of these extreme views. Specifically, we may assume that while $α$s and $β$s are *different* for each county, the coefficients all come ***from a common group distribution***:\n",
    "\n",
    "$$α_c ∼ N(μ_α, σ^2_α)\\\\\n",
    "β_c ∼ N(μ_β, σ^2_β)$$\n",
    "\n",
    "This makes sense from a physics perspective because after all, all counties are in Minnesota and all radon gas deposits in Minnesota probably follow similar statistics.\n",
    "\n",
    "We thus assume the intercepts $α$ and slopes $β$ to originate from a normal distribution centered around their respective **group mean** $μ$ with a certain standard deviation $σ^2$, the values (or rather posteriors) of which we also estimate. \n",
    "\n",
    "That's why this is called **multilevel** or **hierarchical** modeling."
   ]
  },
  {
   "cell_type": "code",
   "execution_count": null,
   "metadata": {},
   "outputs": [],
   "source": [
    "with pm.Model() as hierarchical_model:\n",
    "    # Hyperpriors\n",
    "    mu_a = pm.Normal('mu_alpha', mu=0., sigma=1)\n",
    "    sigma_a = pm.HalfCauchy('sigma_alpha', beta=1)\n",
    "    mu_b = pm.Normal('mu_beta', mu=0., sigma=1)\n",
    "    sigma_b = pm.HalfCauchy('sigma_beta', beta=1)\n",
    "    \n",
    "    # Intercept for each county, distributed around group mean mu_a\n",
    "    a = pm.Normal('alpha', mu=mu_a, sigma=sigma_a, shape=len(data.county.unique()))\n",
    "    \n",
    "    # Intercept for each county, distributed around group mean mu_a\n",
    "    b = pm.Normal('beta', mu=mu_b, sigma=sigma_b, shape=len(data.county.unique()))\n",
    "    \n",
    "    # Model error\n",
    "    eps = pm.HalfCauchy('eps', beta=1)\n",
    "    \n",
    "    # Expected value\n",
    "    radon_est = a[county_idx] + b[county_idx] * data.floor.values\n",
    "    \n",
    "    # Data likelihood\n",
    "    y_like = pm.Normal('y_like', mu=radon_est, sigma=eps, observed=data.log_radon)"
   ]
  },
  {
   "cell_type": "code",
   "execution_count": null,
   "metadata": {},
   "outputs": [],
   "source": [
    "with hierarchical_model:\n",
    "    hierarchical_trace = pm.sample()"
   ]
  },
  {
   "cell_type": "code",
   "execution_count": null,
   "metadata": {},
   "outputs": [],
   "source": [
    "pm.traceplot(hierarchical_trace);"
   ]
  },
  {
   "cell_type": "markdown",
   "metadata": {},
   "source": [
    "The marginal posteriors in the left column are highly informative. `mu_alpha` tells us the group mean (log) radon levels. `mu_beta` tells us that the slope is significantly negative (no mass above zero), meaning that radon concentrations are higher in the basement than first floor. We can also see by looking at the marginals for `alpha` that there is quite some differences in radon levels between counties. The different widths are related to how much measurements we have per county, the more, the higher our confidence in that parameter estimate.\n",
    "\n",
    "Let's plot some examples of county's showing the true radon values, the hierarchial predictions and the non-hierarchical predictions.\n",
    "\n",
    "The data points will be in black for three selected counties: CASS, CROW WING, and FREEBORN. The thick blue lines represent the mean estimate of the regression line of the individual model and the thick green lines represent the mean estimate of the regression line of the hierarchical model. \n",
    "\n",
    "The thinner lines are regression lines of individual samples from the posterior and give us a sense of how variable the estimates are."
   ]
  },
  {
   "cell_type": "code",
   "execution_count": null,
   "metadata": {},
   "outputs": [],
   "source": [
    "selection = ['CASS', 'CROW WING', 'FREEBORN']\n",
    "fig, axis = plt.subplots(1, 3, figsize=(12, 6), sharey=True, sharex=True)\n",
    "axis = axis.ravel()\n",
    "for i, c in enumerate(selection):\n",
    "    c_data = data.loc[data.county == c]\n",
    "    c_data = c_data.reset_index(drop = True)\n",
    "    z = list(c_data['county_code'])[0]\n",
    "\n",
    "    xvals = np.linspace(-0.2, 1.2)\n",
    "    for a_val, b_val in zip(indiv_traces[c]['alpha'][::10], indiv_traces[c]['beta'][::10]):\n",
    "        axis[i].plot(xvals, a_val + b_val * xvals, 'b', alpha=.05)\n",
    "    axis[i].plot(xvals, indiv_traces[c]['alpha'][::10].mean() + indiv_traces[c]['beta'][::10].mean() * xvals, \n",
    "                 'b', alpha=1, lw=2., label='individual')\n",
    "    for a_val, b_val in zip(hierarchical_trace['alpha'][::10][z], hierarchical_trace['beta'][::10][z]):\n",
    "        axis[i].plot(xvals, a_val + b_val * xvals, 'g', alpha=.05)\n",
    "    axis[i].plot(xvals, hierarchical_trace['alpha'][::10][z].mean() + hierarchical_trace['beta'][::10][z].mean() * xvals, \n",
    "                 'g', alpha=1, lw=2., label='hierarchical')\n",
    "    axis[i].scatter(c_data.floor + np.random.randn(len(c_data))*0.01, c_data.log_radon, \n",
    "                    alpha=1, color='k', marker='.', s=80, label='original data')\n",
    "    axis[i].set_xticks([0,1])\n",
    "    axis[i].set_xticklabels(['basement', 'first floor'])\n",
    "    axis[i].set_ylim(-1, 4)\n",
    "    axis[i].set_title(c)\n",
    "    if not i%3:\n",
    "        axis[i].legend()\n",
    "        axis[i].set_ylabel('log radon level')"
   ]
  },
  {
   "cell_type": "markdown",
   "metadata": {},
   "source": [
    "When looking at the county CASS we see that the non-hierarchical estimation has huge uncertainty about the radon levels of first floor measurements -- that's because we don't have any measurements in this county. The hierarchical model, however, is able to apply what it learned about the relationship between floor and radon-levels from *other counties* to CASS and make sensible predictions even in the absence of measurements.\n",
    "\n",
    "We can also see how the hierarchical model produces more robust estimates in CROW WING and FREEBORN. In this regime of few data points the non-hierarchical model reacts more strongly to individual data points because that's all it has to go on.\n",
    "\n",
    "Having the group-distribution constrain the coefficients we get meaningful estimates in all cases as we apply what we learn from the group to the individuals and vice-versa.\n",
    "\n",
    "## Conclusion\n",
    "A multi-level hierarchical Bayesian model gives the best of both worlds when we have multiple sets of measurements we expect to have similarity. \n",
    "\n",
    "The naive approach either pools all data together and ignores the individual differences, or treats each set as completely separate leading to noisy estimates as shown above. \n",
    "\n",
    "By placing a group distribution on the individual sets we can learn about each set and the group simultaneously. "
   ]
  },
  {
   "cell_type": "markdown",
   "metadata": {},
   "source": [
    "# 6. Verifying the model with out-of-sample predictions\n",
    "Let's see how we can verify a GLM model."
   ]
  },
  {
   "cell_type": "code",
   "execution_count": null,
   "metadata": {},
   "outputs": [],
   "source": [
    "import matplotlib.pyplot as plt\n",
    "import numpy as np\n",
    "import pandas as pd\n",
    "import seaborn as sns\n",
    "\n",
    "sns.set_style(style=\"darkgrid\", rc={\"axes.facecolor\": \".9\", \"grid.color\": \".8\"})\n",
    "sns.set_palette(palette=\"deep\")\n",
    "sns_c = sns.color_palette(palette=\"deep\")\n",
    "\n",
    "import arviz as az\n",
    "import patsy\n",
    "import pymc3 as pm\n",
    "\n",
    "from pymc3 import glm\n",
    "\n",
    "plt.rcParams[\"figure.figsize\"] = [7, 6]\n",
    "plt.rcParams[\"figure.dpi\"] = 100"
   ]
  },
  {
   "cell_type": "markdown",
   "metadata": {},
   "source": [
    "## 6.1 Dataset \\#1\n",
    "Bayesian linear regression is a more informative version of standard linear regression. Linear regression gives you *point values* for model parameters as well as predictions. Bayesian linear regression, in turn, gives you *probability distributions*.\n",
    "\n",
    "<br />\n",
    "<left>\n",
    "<img src=\"ipynb.images/linear-regr-vs-bayesian.webp\" width=600 />\n",
    "</left>\n",
    "\n",
    "Let's generate a dataset:"
   ]
  },
  {
   "cell_type": "code",
   "execution_count": null,
   "metadata": {},
   "outputs": [],
   "source": [
    "x = [\n",
    "   -1.64934805,  0.52925273,  1.10100092,  0.38566793, -1.56768245,\n",
    "    1.26195686,  0.92613986, -0.23942803,  0.33933045,  1.14390657,\n",
    "    0.65466195, -1.36229805, -0.32393554, -0.23258941,  0.17688024,\n",
    "    1.60774334, -0.22801156,  1.53008133, -1.31431042, -0.27699609\n",
    "] # inputs\n",
    "y = [\n",
    "   -3.67385666,  3.37543275,  6.25390538,  1.41569973, -2.08413872,\n",
    "    6.71560158,  6.32344159,  2.40651236,  4.54217349,  6.25778739,\n",
    "    4.98933806, -2.69713137,  1.45705571, -0.49772953,  1.50502898,\n",
    "    7.27228263,  1.6267433 ,  6.43580518, -0.50291509,  0.65674682\n",
    "] # outputs"
   ]
  },
  {
   "cell_type": "code",
   "execution_count": null,
   "metadata": {},
   "outputs": [],
   "source": [
    "plt.scatter(x, y)"
   ]
  },
  {
   "cell_type": "markdown",
   "metadata": {},
   "source": [
    "### Classical statistics\n",
    "To build a regression model with sklearn's `LinearRegression`:"
   ]
  },
  {
   "cell_type": "code",
   "execution_count": null,
   "metadata": {},
   "outputs": [],
   "source": [
    "X = np.array(x).reshape(-1, 1)\n",
    "X.shape"
   ]
  },
  {
   "cell_type": "code",
   "execution_count": null,
   "metadata": {},
   "outputs": [],
   "source": [
    "import numpy as np\n",
    "from sklearn.linear_model import LinearRegression\n",
    "\n",
    "reg = LinearRegression().fit(X, y)\n",
    "print(reg.score(X, y))\n",
    "print(reg.coef_)\n",
    "print(reg.intercept_)"
   ]
  },
  {
   "cell_type": "markdown",
   "metadata": {},
   "source": [
    "Hence the model is $y = 3.2x + 2.19$."
   ]
  },
  {
   "cell_type": "code",
   "execution_count": null,
   "metadata": {},
   "outputs": [],
   "source": [
    "# Create a list of values in the best fit line\n",
    "abline_values = [reg.coef_ * i + reg.intercept_ for i in np.linspace(-1.5, 1.5, 10)]"
   ]
  },
  {
   "cell_type": "code",
   "execution_count": null,
   "metadata": {},
   "outputs": [],
   "source": [
    "fig, ax = plt.subplots()\n",
    "ax.scatter(x, y)\n",
    "#ax.axline((0, reg.intercept_), slope=reg.coef_, color='C0', label='by slope')\n",
    "plt.plot(np.linspace(-1.5, 1.5, 10), abline_values, 'b')"
   ]
  },
  {
   "cell_type": "markdown",
   "metadata": {},
   "source": [
    "We can apply statistical hypothesis testing and check the p-value for the slope and determine if this apparent positive connection between x and y is significant. The t-statistic is around 13.8, the p-value is around 0.0 and a 95% confidence interval is [2.7, 3.7]. In short, this means that x has a significant positive influence on y.\n",
    "\n",
    "The standard linear regression model outputs a single y value for each input x. Do you want to know the prediction for x = 0? Well, it is y = 2.19, take it or leave it.\n",
    "\n",
    "There are ways to address this data insecurity not only for linear regression but for any regression algorithm via bootstrapping. In short: Subsample your data, fit a model on a subsample and use it to make a prediction. Repeat this 1000 times and you obtain 1000 different predictions.\n",
    "\n",
    "You can compute the mean $μ$, the standard deviation $σ$, quantiles, or anything you want of these 1000 samples. If you still want to output a single number, just take the mean. However, now you also have the choice of outputting intervals, such as $[μ-3σ, μ+3σ]$.\n",
    "\n",
    "This approach might work well, but it’s extremely computationally expensive since we have to fit a model 1000 times."
   ]
  },
  {
   "cell_type": "markdown",
   "metadata": {},
   "source": [
    "### Bayesian statistics\n",
    "In Bayesian statistics, we deal with distribution. This makes it necessary to specify linear regression as a distribution as well. One assumption commonly used for the standard linear regression approach is the following: $y$ is normally distributed with mean $ax+b$ (the quantity we always predict) and some standard deviation $σ$:\n",
    "\n",
    "$$y \\approx N(ax+b, \\sigma)$$\n",
    "\n",
    "in other words, our data likelihood is a gaussian distribution with parameters $\\mu$ (or, equivalently, as $a$ and $b$) and $\\sigma$, where $\\mu$ is modelled as an additive linear model.\n",
    "\n",
    "In Bayesian statistics, we don’t treat ($\\mu$, or) $a$ and $b$ as fixed variables, but also as coming from distributions.\n",
    "\n",
    "If we say $a, b \\approx N(0, 16)$, we tell the model that without observingany data, we expect the slope and intercept of the line to be around zero with a standard deviation of four, i.e. we expect a and b to be around -12 and 12. \n",
    "\n",
    "The prior is something we have to play around with if things don’t work out. This means that PyMC3 does not give a proper result, or the prediction performance of the model is bad.\n",
    "\n",
    "How about $\\sigma$? We could give it the same normal distributions as $a$ and $b$. What we do instead is model $σ²$ directly because we never need $σ$ directly, but only $σ²$ for the variance of $y$. Since $σ²$ is a positive number, we choose a prior distribution that yields exclusively positive values as well, such as the Exponential distribution, the Gamma distribution, or the Half-normal distribution.\n",
    "\n",
    "The density of the exponential distribution is always decreasing. Using this distribution as a prior tells the model that we expect a small, but also positive value for $σ²$."
   ]
  },
  {
   "cell_type": "code",
   "execution_count": null,
   "metadata": {},
   "outputs": [],
   "source": [
    "import pymc3 as pm\n",
    "import arviz as az\n",
    "\n",
    "with pm.Model() as model:\n",
    "    # define priors\n",
    "    a = pm.Normal('slope', 0, 16)\n",
    "    b = pm.Normal('intercept', 0, 16)\n",
    "    s = pm.Exponential('error', 1)\n",
    "    \n",
    "    # predictions\n",
    "    obs = pm.Normal('observation', a*x + b, s, observed=y)\n",
    "    \n",
    "    # use MCMC to sample\n",
    "    trace = pm.sample()\n",
    "    \n",
    "az.plot_posterior(trace)"
   ]
  },
  {
   "cell_type": "markdown",
   "metadata": {},
   "source": [
    "We can see that the model comes to the same conclusion as the standard linear regression: A slope of around 3.2 and an intercept of around 2.2. We even see that the standard error is about 1.1. But here, we also get credible intervals for free!\n",
    "\n",
    "Looking at these figures, it seems like the model is *still unsure about the parameters*: Look at the slope, for example. With a probability of 94%, the slope $a$ is between 2.7 and 3.7, which is still a rather wide interval. The same goes for the other parameters we estimated.\n",
    "\n",
    ">The great thing about Bayesian reasoning: All of these distributions narrow down further, i.e. the model gets more certain the more data we provide\n",
    "\n",
    "### Generating predictions\n",
    "What we need to do is to generate a variable that is a container and can be changed:"
   ]
  },
  {
   "cell_type": "code",
   "execution_count": null,
   "metadata": {},
   "outputs": [],
   "source": [
    "with pm.Model() as predictive_model:\n",
    "    a = pm.Normal('slope', 0, 16)\n",
    "    b = pm.Normal('intercept', 0, 16)\n",
    "    s = pm.Exponential('error', 1)\n",
    "    \n",
    "    x_ = pm.Data('features', x) # a data container, can be changed\n",
    "    \n",
    "    obs = pm.Normal('observation', a*x_ + b, s, observed=y)\n",
    "    \n",
    "    trace = pm.sample()"
   ]
  },
  {
   "cell_type": "markdown",
   "metadata": {},
   "source": [
    "We basically told the model to use a placeholder x_ which was initially filled with our training data x. \n",
    "\n",
    "We then train the model, i.e. get posterior distributions for all of the parameters. \n",
    "\n",
    "We can now pass the model new data via:"
   ]
  },
  {
   "cell_type": "code",
   "execution_count": null,
   "metadata": {},
   "outputs": [],
   "source": [
    "x_new = np.linspace(-3, 3, 50) # 50 input values between -3 and 3\n",
    "\n",
    "with predictive_model:\n",
    "    pm.set_data({'features': x_new})\n",
    "    posterior = pm.sample_posterior_predictive(trace)"
   ]
  },
  {
   "cell_type": "markdown",
   "metadata": {},
   "source": [
    "`posterior` is a dictionary that contains the new observations. Let’s grab them and store them as `y_pred`:"
   ]
  },
  {
   "cell_type": "code",
   "execution_count": null,
   "metadata": {},
   "outputs": [],
   "source": [
    "posterior"
   ]
  },
  {
   "cell_type": "code",
   "execution_count": null,
   "metadata": {},
   "outputs": [],
   "source": [
    "y_pred = posterior['observation']\n",
    "y_pred.shape"
   ]
  },
  {
   "cell_type": "markdown",
   "metadata": {},
   "source": [
    "The variable y_pred is a numpy array containing 2000 observations for each of the 50 inputs in x_new , hence its dimensions are 2000 x 50. \n",
    "\n",
    "For example, `y_pred[:, 0]` gives us 50 predictions, one for each entry in `x_new`, while `y_pred[0, :]` gives us 4000 predictions for the first element in `x_new`, namely -3.\n",
    "\n",
    "Using this table, we can get the mean and the standard deviation across the 4000 samples for each of the 50 new inputs and visualize the result."
   ]
  },
  {
   "cell_type": "code",
   "execution_count": null,
   "metadata": {},
   "outputs": [],
   "source": [
    "y_mean = y_pred.mean(axis=0)\n",
    "y_std = y_pred.std(axis=0)\n",
    "\n",
    "plt.figure(figsize=(16, 8))\n",
    "plt.scatter(x, y, c='k', zorder=10, label='Data')\n",
    "plt.plot(x_new, y_mean, label='Prediction Mean')\n",
    "plt.fill_between(x_new, y_mean - 3*y_std, y_mean + 3*y_std, alpha=0.33, label='Uncertainty Interval ($\\mu\\pm3\\sigma$)')\n",
    "plt.xlabel('$x$')\n",
    "plt.ylabel('$y$')\n",
    "plt.ylim(-14, 16)\n",
    "plt.legend(loc='upper left')"
   ]
  },
  {
   "cell_type": "markdown",
   "metadata": {},
   "source": [
    "With the GLM Submodule, we rewrite our first simple model as:"
   ]
  },
  {
   "cell_type": "code",
   "execution_count": null,
   "metadata": {},
   "outputs": [],
   "source": [
    "with pm.Model() as simpler_model:\n",
    "    pm.glm.GLM.from_formula('y ~ x', dict(x=x, y=y))\n",
    "    \n",
    "    trace = pm.sample()"
   ]
  },
  {
   "cell_type": "markdown",
   "metadata": {},
   "source": [
    "And if you want to change the default priors?"
   ]
  },
  {
   "cell_type": "code",
   "execution_count": null,
   "metadata": {},
   "outputs": [],
   "source": [
    "import pandas as pd\n",
    "\n",
    "df = pd.DataFrame({'x': x, 'y': y})\n",
    "\n",
    "my_priors = {\n",
    "    'Intercept': pm.Cauchy.dist(0, 10),\n",
    "    'x': pm.Cauchy.dist(0, 10)\n",
    "}\n",
    "\n",
    "with pm.Model() as model:\n",
    "    pm.glm.GLM.from_formula('y ~ x', df, priors=my_priors)\n",
    "    \n",
    "    trace = pm.sample()"
   ]
  },
  {
   "cell_type": "markdown",
   "metadata": {},
   "source": [
    "You can add as many variables as you wish as long as your machine can handle them:\n",
    "```\n",
    "a = pm.Normal('slopes', 0, 16, shape=3)\n",
    "```\n",
    "\n",
    "You can use different distributions than the normal distribution for y, for example, the Student’s t-distribution or the Cauchy distribution.\n",
    "\n",
    "The tails of these two distributions are wider than the ones of the normal distribution. This has the effect that outliers don’t surprise, and hence influence the model as much as in the case of the normal distribution.\n",
    "\n",
    "If you don’t want to predict continuous values at all but counts instead. In this case, use the Poisson, binomial, or negative binomial distributions:"
   ]
  },
  {
   "cell_type": "code",
   "execution_count": null,
   "metadata": {},
   "outputs": [],
   "source": [
    "with pm.Model() as model:\n",
    "    pm.glm.GLM.from_formula('y~x', df, family=pm.families.Poisson())\n",
    "    \n",
    "    trace = pm.sample()"
   ]
  },
  {
   "cell_type": "markdown",
   "metadata": {},
   "source": [
    "## 6.2 Dataset \\#2\n",
    "For a more complex model, we will fit a **logistic regression model** where there is principally a multiplicative interaction between two numerical features. In fact, this model blows up on my laptop with the classical `Bad Initial Energy` error that underscores a bad fit. But I am curious if it works on yours!\n",
    "\n",
    "We will use GLM's [patsy](https://patsy.readthedocs.io/en/latest/) formulas to make things simpler.\n",
    "\n",
    "First, let's generate our dataset:"
   ]
  },
  {
   "cell_type": "code",
   "execution_count": null,
   "metadata": {},
   "outputs": [],
   "source": [
    "import numpy as np\n",
    "import pandas as pd\n",
    "\n",
    "SEED = 47\n",
    "np.random.seed(SEED)\n",
    "\n",
    "# Number of data points\n",
    "n = 250\n",
    "\n",
    "# Create features\n",
    "x1 = np.random.normal(loc=0.0, scale=2.0, size=n)\n",
    "x2 = np.random.normal(loc=0.0, scale=2.0, size=n)\n",
    "epsilon = np.random.normal(loc=0.0, scale=0.5, size=n)\n",
    "\n",
    "# Define target variable\n",
    "intercept = -0.5\n",
    "beta_x1 = 1\n",
    "beta_x2 = -1\n",
    "beta_interaction = 2\n",
    "z = intercept + beta_x1 * x1 + beta_x2 * x2 + beta_interaction * x1 * x2\n",
    "p = 1 / (1 + np.exp(-z))\n",
    "y = np.random.binomial(n=1, p=p, size=n)\n",
    "\n",
    "# Build our dataframe\n",
    "df = pd.DataFrame(dict(x1=x1, x2=x2, y=y))\n",
    "\n",
    "df.head()"
   ]
  },
  {
   "cell_type": "markdown",
   "metadata": {},
   "source": [
    "Let's explore our dataset:"
   ]
  },
  {
   "cell_type": "code",
   "execution_count": null,
   "metadata": {},
   "outputs": [],
   "source": [
    "import seaborn as sns\n",
    "import matplotlib.pyplot as plt\n",
    "\n",
    "sns.set_style(style=\"darkgrid\", rc={\"axes.facecolor\": \".9\", \"grid.color\": \".8\"})\n",
    "sns.set_palette(palette=\"deep\")\n",
    "sns_c = sns.color_palette(palette=\"deep\")\n",
    "\n",
    "plt.rcParams[\"figure.figsize\"] = [7, 6]\n",
    "plt.rcParams[\"figure.dpi\"] = 100\n",
    "\n",
    "sns.pairplot(\n",
    "    data=df, kind=\"scatter\", height=2, plot_kws={\"color\": sns_c[1]}, diag_kws={\"color\": sns_c[2]}\n",
    ");"
   ]
  },
  {
   "cell_type": "markdown",
   "metadata": {},
   "source": [
    "We conclude that:\n",
    "\n",
    "- $x_1$ and $x_2$ are not correlated.\n",
    "\n",
    "- $x_1$ and $x_2$ do not seem to separate the $y$-classes independently.\n",
    "\n",
    "- The distribution of $y$ is not highly unbalanced."
   ]
  },
  {
   "cell_type": "code",
   "execution_count": null,
   "metadata": {},
   "outputs": [],
   "source": [
    "fig, ax = plt.subplots()\n",
    "sns_c_div = sns.diverging_palette(240, 10, n=2)\n",
    "sns.scatterplot(x=\"x1\", y=\"x2\", data=df, hue=\"y\", palette=[sns_c_div[0], sns_c_div[-1]])\n",
    "ax.legend(title=\"y\", loc=\"center left\", bbox_to_anchor=(1, 0.5))\n",
    "ax.set(title=\"Sample Data\", xlim=(-9, 9), ylim=(-9, 9));"
   ]
  },
  {
   "cell_type": "markdown",
   "metadata": {},
   "source": [
    "Let's create features from a formula using [patsy](https://patsy.readthedocs.io/en/latest/) (also [here](https://learn-scikit.oneoffcoder.com/patsy.html)) directly and then use class `pymc3.glm.linear.GLM`. \n",
    "\n",
    "Let's start with a formula based on just the interaction effect between $x_1$ and $x_2$, since it's the strongest effect in the data we generated."
   ]
  },
  {
   "cell_type": "code",
   "execution_count": null,
   "metadata": {},
   "outputs": [],
   "source": [
    "import patsy\n",
    "\n",
    "# Define model formula\n",
    "formula = \"y ~ x1 * x2\"\n",
    "\n",
    "# Create features\n",
    "y, x = patsy.dmatrices(formula_like=formula, data=df)\n",
    "y = np.asarray(y).flatten()\n",
    "labels = x.design_info.column_names\n",
    "x = np.asarray(x)"
   ]
  },
  {
   "cell_type": "code",
   "execution_count": null,
   "metadata": {},
   "outputs": [],
   "source": [
    "labels"
   ]
  },
  {
   "cell_type": "markdown",
   "metadata": {},
   "source": [
    "Let's do a train-test split in order to safegaurd part of the data for the purpose of testing:"
   ]
  },
  {
   "cell_type": "code",
   "execution_count": null,
   "metadata": {},
   "outputs": [],
   "source": [
    "from sklearn.model_selection import train_test_split\n",
    "\n",
    "x_train, x_test, y_train, y_test = train_test_split(x, y, train_size=0.7, random_state=SEED)"
   ]
  },
  {
   "cell_type": "markdown",
   "metadata": {},
   "source": [
    "Let's define and fit the model and, why not, modify the default priors:"
   ]
  },
  {
   "cell_type": "code",
   "execution_count": null,
   "metadata": {},
   "outputs": [],
   "source": [
    "import arviz as az\n",
    "import pymc3 as pm\n",
    "from pymc3 import glm\n",
    "\n",
    "with pm.Model() as model:\n",
    "    # Set data container\n",
    "    data = pm.Data(\"data\", x_train)\n",
    "    \n",
    "    # Define GLM family\n",
    "    family = pm.glm.families.Binomial()\n",
    "    \n",
    "    # Set user-defined priors\n",
    "    priors = {\n",
    "        \"Intercept\": pm.Normal.dist(mu=0, sd=10),\n",
    "        \"x1\": pm.Normal.dist(mu=0, sd=10),\n",
    "        \"x2\": pm.Normal.dist(mu=0, sd=10),\n",
    "        \"x1:x2\": pm.Normal.dist(mu=0, sd=10),\n",
    "    }\n",
    "    \n",
    "    # Specify model\n",
    "    glm.GLM(y=y_train, x=data, family=family, intercept=False, labels=labels, priors=priors)\n",
    "    \n",
    "    # Configure and run sampler\n",
    "    trace = pm.sample(5000, chains=5, tune=1000, target_accept=0.87, random_seed=SEED)"
   ]
  },
  {
   "cell_type": "code",
   "execution_count": null,
   "metadata": {},
   "outputs": [],
   "source": [
    "# Plot chains\n",
    "az.plot_trace(data=trace)"
   ]
  },
  {
   "cell_type": "code",
   "execution_count": null,
   "metadata": {},
   "outputs": [],
   "source": [
    "az.summary(trace)"
   ]
  },
  {
   "cell_type": "markdown",
   "metadata": {},
   "source": [
    "Now, let's generate predictions (what are called **out-of-sample** predictions or [posterior predictive checks](https://pymc3-testing.readthedocs.io/en/rtd-docs/notebooks/posterior_predictive.html)) in order to verify our model."
   ]
  },
  {
   "cell_type": "code",
   "execution_count": null,
   "metadata": {},
   "outputs": [],
   "source": [
    "# Update data reference\n",
    "pm.set_data({\"data\": x_test}, model=model)\n",
    "\n",
    "# Generate posterior samples\n",
    "ppc_test = pm.sample_posterior_predictive(trace, model=model, samples=1000)"
   ]
  },
  {
   "cell_type": "code",
   "execution_count": null,
   "metadata": {},
   "outputs": [],
   "source": [
    "ppc_test"
   ]
  },
  {
   "cell_type": "markdown",
   "metadata": {},
   "source": [
    "Let's compute the point prediction by taking the mean and defining the category via a threshold:"
   ]
  },
  {
   "cell_type": "code",
   "execution_count": null,
   "metadata": {},
   "outputs": [],
   "source": [
    "p_test_pred = ppc_test[\"y\"].mean(axis=0)\n",
    "y_test_pred = (p_test_pred >= 0.5).astype(\"int\")"
   ]
  },
  {
   "cell_type": "markdown",
   "metadata": {},
   "source": [
    "Let's compute accuracy on the test set since we have the label for it!"
   ]
  },
  {
   "cell_type": "code",
   "execution_count": null,
   "metadata": {},
   "outputs": [],
   "source": [
    "from sklearn.metrics import accuracy_score\n",
    "\n",
    "print(f\"accuracy = {accuracy_score(y_true=y_test, y_pred=y_test_pred): 0.3f}\")"
   ]
  },
  {
   "cell_type": "markdown",
   "metadata": {},
   "source": [
    "85% accuracy. Not bad.\n",
    "\n",
    "We can also plot the [Receiver operating characteristic curve](https://en.wikipedia.org/wiki/Receiver_operating_characteristic) (ROC) and the [Area Under the Curve](https://en.wikipedia.org/wiki/Receiver_operating_characteristic#Area_under_the_curve) (AUC).\n",
    "\n",
    "A ROC curve, first developed by electrical engineers and radar engineers during World War II for detecting enemy objects in battlefields, is a graphical plot that illustrates the diagnostic ability of a binary classifier system as its discrimination threshold is varied. The ROC curve is created by plotting the true positive rate (TPR) against the false positive rate (FPR) at various threshold settings.\n",
    "\n",
    "The **true-positive** (TP) rate is also known as sensitivity, recall or probability of detection.\n",
    "\n",
    "The **false-positive** (FP) rate is also known as probability of false alarm.\n",
    "\n",
    "In statistical hypothesis testing, a [type I error](https://en.wikipedia.org/wiki/Type_I_and_type_II_errors#Type_I_error) is the mistaken rejection of an actually true null hypothesis (also known as a **false positive** finding or conclusion; example: *an innocent person is convicted*), while a [type II error](https://en.wikipedia.org/wiki/Type_I_and_type_II_errors#Type_I_error) is the failure to reject a null hypothesis that is actually false (also known as a **false negative**, or **oopsie** finding or conclusion; example: *a guilty person is not convicted*).\n",
    "\n",
    "In a two-class prediction problem (binary classification), the outcomes are labeled either as positive (p) or negative (n). There are four possible outcomes from a binary classifier: If the outcome from a prediction is p and the actual value is also p, then it is called a **true positive** (TP); however if the actual value is n then it is said to be a **false positive** (FP or *false alarm*). Conversely, a true negative (TN) has occurred when both the prediction outcome and the actual value are n, and false negative (FN or *oopsie*) is when the prediction outcome is n while the actual value is p.\n",
    "\n",
    "To draw a ROC curve, only the true positive rate (TPR) and false positive rate (FPR) are needed (as functions of some classifier parameter). The TPR defines how many correct positive results occur among all positive samples available during the test. FPR, on the other hand, defines how many incorrect positive results occur among all negative samples available during the test.\n",
    "\n",
    "The best possible prediction method would yield a point in the upper left corner or coordinate (0,1) of the ROC space, representing 100% sensitivity (100% true positives or no false negatives) and 100% specificity (0 false positives or 100% true negatives). The (0,1) point is also called a perfect classification. \n",
    "\n",
    "<br />\n",
    "<left>\n",
    "<img src=\"ipynb.images/roc-curve.png\" width=400 />\n",
    "</left>\n",
    "\n",
    "A random guess would give a point along a diagonal line (the so-called line of no-discrimination) from the bottom left to the top right corners (regardless of the positive and negative base rates). An intuitive example of random guessing is a decision by flipping coins. As the size of the sample increases, a random classifier's ROC point tends towards the diagonal line. In the case of a balanced coin, it will tend to the point (0.5, 0.5).\n",
    "\n",
    "The machine learning community most often uses the ROC AUC statistic for model comparison. ROC AUC varies between 0 and 1 — with an uninformative classifier yielding 0.5."
   ]
  },
  {
   "cell_type": "code",
   "execution_count": null,
   "metadata": {},
   "outputs": [],
   "source": [
    "from sklearn.metrics import RocCurveDisplay, auc, roc_curve\n",
    "\n",
    "fpr, tpr, thresholds = roc_curve(\n",
    "    y_true=y_test, y_score=p_test_pred, pos_label=1, drop_intermediate=False\n",
    ")\n",
    "roc_auc = auc(fpr, tpr)\n",
    "\n",
    "fig, ax = plt.subplots()\n",
    "roc_display = RocCurveDisplay(fpr=fpr, tpr=tpr, roc_auc=roc_auc)\n",
    "roc_display = roc_display.plot(ax=ax, marker=\"o\", color=sns_c[4], markersize=4)\n",
    "ax.set(title=\"ROC\");"
   ]
  },
  {
   "cell_type": "markdown",
   "metadata": {},
   "source": [
    "The model is performing as expected (of course know the data generating process, which is almost never the case in practical applications).\n",
    "\n",
    "Finally we describe and plot the model decision boundary, which is the space defined as\n",
    "\n",
    "$$\\mathcal{B} = \\{(x_1, x_2) \\in \\mathbb{R}^2 \\: | \\: p(x_1, x_2) = 0.5\\}$$\n",
    "\n",
    "where $p$ denotes the probability of belonging to the class $y=1$ output by the model. To make this set explicit, we simply write the condition in terms of the model parametrization\n",
    "\n",
    "$$0.5 = \\frac{1}{1 + \\exp(-(\\beta_0 + \\beta_1 x_1 + \\beta_2 x_2 + \\beta_{12} x_1x_2))}$$\n",
    "\n",
    "which implies\n",
    "\n",
    "$$0 = \\beta_0 + \\beta_1 x_1 + \\beta_2 x_2 + \\beta_{12} x_1x_2$$\n",
    "\n",
    "Solving for $x_2$ we get the formula\n",
    "\n",
    "$$x_2 = - \\frac{\\beta_0 + \\beta_1 x_1}{\\beta_2 + \\beta_{12}x_1}$$\n",
    " \n",
    "Observe that this curve is a hyperbola centered at the singularity point $x_1 = - \\beta_2 / \\beta_{12}$.\n",
    "\n",
    "Let's plot the model decision boundary using posterior predictions on a grid:"
   ]
  },
  {
   "cell_type": "code",
   "execution_count": null,
   "metadata": {},
   "outputs": [],
   "source": [
    "# Construct grid.\n",
    "x1_grid = np.linspace(start=-9, stop=9, num=300)\n",
    "x2_grid = x1_grid\n",
    "\n",
    "x1_mesh, x2_mesh = np.meshgrid(x1_grid, x2_grid)\n",
    "\n",
    "x_grid = np.stack(arrays=[x1_mesh.flatten(), x2_mesh.flatten()], axis=1)\n",
    "\n",
    "# Create features on the grid.\n",
    "x_grid_ext = patsy.dmatrix(formula_like=\"x1 * x2\", data=dict(x1=x_grid[:, 0], x2=x_grid[:, 1]))\n",
    "\n",
    "x_grid_ext = np.asarray(x_grid_ext)\n",
    "\n",
    "# Generate model predictions on the grid.\n",
    "pm.set_data({\"data\": x_grid_ext}, model=model)\n",
    "ppc_grid = pm.sample_posterior_predictive(trace, model=model, samples=1000)"
   ]
  },
  {
   "cell_type": "markdown",
   "metadata": {},
   "source": [
    "Compute the model decision boundary on the grid for visualization purposes"
   ]
  },
  {
   "cell_type": "code",
   "execution_count": null,
   "metadata": {},
   "outputs": [],
   "source": [
    "numerator = -(trace[\"Intercept\"].mean(axis=0) + trace[\"x1\"].mean(axis=0) * x1_grid)\n",
    "denominator = trace[\"x2\"].mean(axis=0) + trace[\"x1:x2\"].mean(axis=0) * x1_grid\n",
    "bd_grid = numerator / denominator\n",
    "\n",
    "grid_df = pd.DataFrame(x_grid, columns=[\"x1\", \"x2\"])\n",
    "grid_df[\"p\"] = ppc_grid[\"y\"].mean(axis=0)\n",
    "grid_df.sort_values(\"p\", inplace=True)\n",
    "\n",
    "p_grid = grid_df.pivot(index=\"x2\", columns=\"x1\", values=\"p\").to_numpy()"
   ]
  },
  {
   "cell_type": "markdown",
   "metadata": {},
   "source": [
    "Plot the decision boundary as well as predictions on the test set:"
   ]
  },
  {
   "cell_type": "code",
   "execution_count": null,
   "metadata": {},
   "outputs": [],
   "source": [
    "fig, ax = plt.subplots()\n",
    "cmap = sns.diverging_palette(240, 10, n=50, as_cmap=True)\n",
    "sns.scatterplot(\n",
    "    x=x_test[:, 1].flatten(),\n",
    "    y=x_test[:, 2].flatten(),\n",
    "    hue=y_test,\n",
    "    palette=[sns_c_div[0], sns_c_div[-1]],\n",
    "    ax=ax,\n",
    ")\n",
    "sns.lineplot(x=x1_grid, y=bd_grid, color=\"black\", ax=ax)\n",
    "ax.contourf(x1_grid, x2_grid, p_grid, cmap=cmap, alpha=0.3)\n",
    "ax.legend(title=\"y\", loc=\"center left\", bbox_to_anchor=(1, 0.5))\n",
    "ax.lines[0].set_linestyle(\"dotted\")\n",
    "ax.set(title=\"Model Decision Boundary\", xlim=(-9, 9), ylim=(-9, 9), xlabel=\"x1\", ylabel=\"x2\");"
   ]
  },
  {
   "cell_type": "markdown",
   "metadata": {},
   "source": [
    "Note that we've computed the model decision boundary by using the mean of the posterior samples. \n",
    "\n",
    "However, we can generate a *better* (and more informative) plot if we use the *complete* distribution (similarly for other metrics like accuracy and auc). One way of doing this is by storing and computing it inside the model definition as a pymc3 `Deterministic` variable.\n",
    "\n",
    "### Conclusion\n",
    "We only modelled the multiplicative interaction between independent variables $x_1$ and $x_2$. In other words, we neglected the intercept and the additive $x_1$ and $x_2$ effects. A more correct model would be to use this patsy formula: `y ~ x1 + x2 + x1:x2`.\n",
    "\n",
    "Another way to verify the model (and what we've mostly used in class) is to compute empirical statistical moments and model statistical moments, and see how equal they are.\n",
    "\n",
    "Models are very easy to build when the data was simulated to have exactly the kind of statistical relationship we atttempt to build. This example hides the main difficulty in data science: Identifying the data likelihood function.\n",
    "\n",
    "To underscore this, I run the same Bayesian simulation using my NLP model attempt to link moral words in Mao's paragraphs with the number of friend and enemy keywords. To make the sim exactly the same, I partition paragraphs into ones with a lot of moral words (>7), and with less moral words (<7).\n",
    "\n",
    "We will see how pymc3 fails to build the model with the classic `Bad Initial Energy` error. I still believe that ***if a model is possible***, the negative binomial is the better data likelihood function."
   ]
  },
  {
   "cell_type": "code",
   "execution_count": null,
   "metadata": {},
   "outputs": [],
   "source": [
    "import os\n",
    "for root, dirs, files in os.walk(\"c:/Users/Dino/mao/resolved\"):\n",
    "    for file in files:\n",
    "        if file.endswith(\".txt\"):\n",
    "             print(os.path.join(root, file))"
   ]
  },
  {
   "cell_type": "code",
   "execution_count": null,
   "metadata": {},
   "outputs": [],
   "source": [
    "import os\n",
    "mao_paragraphs = []\n",
    "for root, dirs, files in os.walk(\"c:/Users/Dino/mao/resolved\"):\n",
    "    for file in files:\n",
    "        if file.endswith(\".txt\"):\n",
    "            print(os.path.join(root, file))\n",
    "            with open(os.path.join(root, file), \"r\") as input:\n",
    "                paragraphs = input.read().split(\"\\n\\n\")   #\\n\\n denotes there is a blank line in between paragraphs.\n",
    "            #print(paragraphs[0])\n",
    "            mao_paragraphs.extend(paragraphs)\n",
    "            \n",
    "print(len(mao_paragraphs))\n",
    "print(mao_paragraphs[0])"
   ]
  },
  {
   "cell_type": "code",
   "execution_count": null,
   "metadata": {},
   "outputs": [],
   "source": [
    "from tqdm import tqdm\n",
    "\n",
    "def get_any_words_paragraphs(paragraphs, words):\n",
    "    \n",
    "    word_para = []\n",
    "    for p in tqdm(paragraphs):\n",
    "        total = 0\n",
    "        for w in words:\n",
    "            total += p.count(w)\n",
    "        word_para.append(total)\n",
    "            \n",
    "    return word_para"
   ]
  },
  {
   "cell_type": "code",
   "execution_count": null,
   "metadata": {},
   "outputs": [],
   "source": [
    "moral_words = []\n",
    "with open('D:/user/docs/NU/_Info6105/fp/fa.22/mfd.txt', \"r\") as input:\n",
    "    pair_lines = input.read().split(\"\\n\")\n",
    "for p in pair_lines:\n",
    "    moral_words.append(p.split('\\t')[0])\n",
    "print(moral_words[0:10])"
   ]
  },
  {
   "cell_type": "code",
   "execution_count": null,
   "metadata": {},
   "outputs": [],
   "source": [
    "moral_occurences = get_any_words_paragraphs(mao_paragraphs, moral_words)\n",
    "plt.plot(moral_occurences)"
   ]
  },
  {
   "cell_type": "code",
   "execution_count": null,
   "metadata": {},
   "outputs": [],
   "source": [
    "#enemy_words = ['tyrants', 'evil', 'landlord', 'gentry', 'enemy', 'bourgeoisie']\n",
    "#friend_words = ['peasant', 'red army', 'party', 'people', 'association', 'masses', 'poor', 'committee', 'comrades', 'workers']\n",
    "enemy_words = ['tyrants', 'landlord', 'gentry', 'bourgeoisie']\n",
    "friend_words = ['peasant', 'masses', 'poor', 'workers']"
   ]
  },
  {
   "cell_type": "code",
   "execution_count": null,
   "metadata": {},
   "outputs": [],
   "source": [
    "friend_occurences = get_any_words_paragraphs(mao_paragraphs, friend_words)\n",
    "enemy_occurences = get_any_words_paragraphs(mao_paragraphs, enemy_words)"
   ]
  },
  {
   "cell_type": "code",
   "execution_count": null,
   "metadata": {},
   "outputs": [],
   "source": [
    "plt.plot(friend_occurences)\n",
    "plt.plot(enemy_occurences)"
   ]
  },
  {
   "cell_type": "code",
   "execution_count": null,
   "metadata": {},
   "outputs": [],
   "source": [
    "df_moral = pd.DataFrame(list(zip(moral_occurences, friend_occurences, enemy_occurences)), \n",
    "                        columns =['morals', 'friend', 'enemy'])\n",
    "df_moral"
   ]
  },
  {
   "cell_type": "code",
   "execution_count": null,
   "metadata": {},
   "outputs": [],
   "source": [
    "sns.pairplot(\n",
    "    data=df_moral, kind=\"scatter\", height=2, plot_kws={\"color\": sns_c[1]}, diag_kws={\"color\": sns_c[2]}\n",
    ");"
   ]
  },
  {
   "cell_type": "code",
   "execution_count": null,
   "metadata": {},
   "outputs": [],
   "source": [
    "moral_bernoulli = [1.0 if v > 7 else 0.0 for v in df_moral.morals.values]"
   ]
  },
  {
   "cell_type": "code",
   "execution_count": null,
   "metadata": {},
   "outputs": [],
   "source": [
    "df_moral2 = pd.DataFrame(list(zip(moral_bernoulli, friend_occurences, enemy_occurences)), \n",
    "                        columns =['moral_p', 'friend', 'enemy'])\n",
    "df_moral2"
   ]
  },
  {
   "cell_type": "code",
   "execution_count": null,
   "metadata": {},
   "outputs": [],
   "source": [
    "sns.pairplot(\n",
    "    data=df_moral2, kind=\"scatter\", height=2, plot_kws={\"color\": sns_c[1]}, diag_kws={\"color\": sns_c[2]}\n",
    ");"
   ]
  },
  {
   "cell_type": "markdown",
   "metadata": {},
   "source": [
    "As we expected from our time series plots, enemy and friend words are not that uncorrelated."
   ]
  },
  {
   "cell_type": "code",
   "execution_count": null,
   "metadata": {},
   "outputs": [],
   "source": [
    "fig, ax = plt.subplots()\n",
    "sns_c_div = sns.diverging_palette(240, 10, n=2)\n",
    "sns.scatterplot(x=\"friend\", y=\"enemy\", data=df_moral2, hue=\"moral_p\", palette=[sns_c_div[0], sns_c_div[-1]])\n",
    "ax.legend(title=\"y\", loc=\"center left\", bbox_to_anchor=(1, 0.5))\n",
    "ax.set(title=\"Moral paragraphs as a function of the presence friend and enemy words\");"
   ]
  },
  {
   "cell_type": "code",
   "execution_count": null,
   "metadata": {},
   "outputs": [],
   "source": [
    "import patsy\n",
    "\n",
    "# Define model formula\n",
    "formula = \"moral_p ~ friend + enemy + friend * enemy\"\n",
    "\n",
    "# Create features\n",
    "y, X = patsy.dmatrices(formula_like=formula, data=df_moral2, return_type='dataframe')\n",
    "X"
   ]
  },
  {
   "cell_type": "code",
   "execution_count": null,
   "metadata": {},
   "outputs": [],
   "source": [
    "X2 = np.asarray(X)\n",
    "X2"
   ]
  },
  {
   "cell_type": "code",
   "execution_count": null,
   "metadata": {},
   "outputs": [],
   "source": [
    "y"
   ]
  },
  {
   "cell_type": "code",
   "execution_count": null,
   "metadata": {},
   "outputs": [],
   "source": [
    "y2 = y.moral_p.values\n",
    "print(y2)"
   ]
  },
  {
   "cell_type": "code",
   "execution_count": null,
   "metadata": {},
   "outputs": [],
   "source": [
    "print(f\"labels = {labels}\")"
   ]
  },
  {
   "cell_type": "code",
   "execution_count": null,
   "metadata": {},
   "outputs": [],
   "source": [
    "from sklearn.model_selection import train_test_split\n",
    "x_train, x_test, y_train, y_test = train_test_split(X2, y2, train_size=0.90, random_state=SEED)"
   ]
  },
  {
   "cell_type": "code",
   "execution_count": null,
   "metadata": {},
   "outputs": [],
   "source": [
    "with pm.Model() as model_binom3:\n",
    "    # Set data container\n",
    "    data = pm.Data(\"data\", x_train)\n",
    "    \n",
    "    # Define GLM family\n",
    "    family = pm.glm.families.Binomial()\n",
    "    \n",
    "    # Set priors\n",
    "    priors = {\n",
    "        \"Intercept\": pm.Normal.dist(mu=0, sd=10),\n",
    "        \"x1\": pm.Normal.dist(mu=0, sd=10),\n",
    "        \"x2\": pm.Normal.dist(mu=0, sd=10),\n",
    "        \"x1:x2\": pm.Normal.dist(mu=0, sd=10),\n",
    "    }\n",
    "    \n",
    "    # Specify model\n",
    "    glm.GLM(y=y_train, x=data, family=family, intercept=False, labels=labels, priors=priors)\n",
    "    \n",
    "    # Configure sampler\n",
    "    trace = pm.sample(5000, chains=5, tune=1000, target_accept=0.77, random_seed=SEED)"
   ]
  },
  {
   "cell_type": "markdown",
   "metadata": {},
   "source": [
    "# 7. Conclusion\n",
    "**General Linear Regression models** is how we do data science when we think there is a **linear** relationship between one of the statistical moments of a dependent variable (most frequently the mean of the dependent variable), and independent variables. Adding non-linear effects is also just a matter of adding new (non-linear) variables (even though it may involve a lot of exploration to find the right variable: is it $x^2$, $x^3$, $log(x)$?).\n",
    "\n",
    "Pymc3 provides awesome boilerplate code to simplify the task so we don't have to write a lot of code, in Dua Lipa style!\n",
    "\n",
    "Here is a synopsis of things to remember about GLMs:\n",
    "\n",
    "- GLMs deftly side-step several strong requirements of classical linear models such as additiveness of effects, homoscedasticity of data and normality of residual errors.\n",
    "- GLMs impose a common functional form on all models in the GLM family which consists of a link function g(µ|X=x) that allows you to express the transformed conditional mean of the dependent variable y as a linear combination of the regression variables X.\n",
    "- GLMs require the specification of a suitable variance function V(µ|X=x) for expressing the conditional variance in the data as function of the condition mean. What form V(.) takes depends on the probability distribution that you assume for the dependent variable y in your data set.\n",
    "- GLMs do not care about the distributional form of the error term, thereby making them a practical choice for many real world data sets.\n",
    "- GLMs do assume that regression variables X are uncorrelated, thereby making GLMs unsuitable for modeling auto-correlated time series data.\n",
    "\n",
    "What's the difference between this kind of data science and classic ML like RFs and ANNs? This data science works when datasets are well-behaved, which means their histograms are shaped so that they can be approximated with analytic functions like the gaussian, the gamma, the beta, etc. In other words, when we can assign an analytic data likelihood to our dataset. When that's not possible, that's what we'll study next semester!\n",
    "\n",
    "# References\n",
    "There is a library that I know of but have not yet had the chance to experiment with. It's called [bambi](https://bambinos.github.io/bambi/main/index.html) that works with pymc3 and is designed to make it Dua Lipa easy to fit Bayesian mixed-effects models common in biology, social sciences and other disciplines. [Here's](https://bambinos.github.io/bambi/main/notebooks/negative_binomial.html) their negative binomial exemplar."
   ]
  }
 ],
 "metadata": {
  "kernelspec": {
   "display_name": "Python 3 (ipykernel)",
   "language": "python",
   "name": "python3"
  },
  "language_info": {
   "codemirror_mode": {
    "name": "ipython",
    "version": 3
   },
   "file_extension": ".py",
   "mimetype": "text/x-python",
   "name": "python",
   "nbconvert_exporter": "python",
   "pygments_lexer": "ipython3",
   "version": "3.9.18"
  }
 },
 "nbformat": 4,
 "nbformat_minor": 1
}
