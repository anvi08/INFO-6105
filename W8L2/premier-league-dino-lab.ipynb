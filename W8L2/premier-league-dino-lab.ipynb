{
 "cells": [
  {
   "cell_type": "markdown",
   "metadata": {},
   "source": [
    "<div style=\"text-align: right\">INFO 6105 Data Science Eng Methods and Tools, Lecture 8 Day 2</div>\n",
    "<div style=\"text-align: right\">Dino Konstantopoulos, 27 October 2022</div>"
   ]
  },
  {
   "cell_type": "markdown",
   "metadata": {},
   "source": [
    "# The English Premier League Lab\n",
    "<br />\n",
    "<center>\n",
    "<img src=\"ipynb.images/man-city.jpg\" width=1000 />\n",
    "</center>\n",
    "\n",
    "We study the statistics of the English Premier Leaague.\n",
    "\n",
    "These are our distributions:\n",
    "\n",
    "```\n",
    "Data displays several attributes:\n",
    "\n",
    "    Div = League Division\n",
    "    Date = Match Date (dd/mm/yy)\n",
    "    HomeTeam = Home Team\n",
    "    AwayTeam = Away Team\n",
    "    FTHG = Full Time Home Team Goals\n",
    "    FTAG = Full Time Away Team Goals\n",
    "    FTR and Res = Full Time Result (H=Home Win, D=Draw, A=Away Win)\n",
    "    HTHG = Half Time Home Team Goals\n",
    "    HTAG = Half Time Away Team Goals\n",
    "    HTR = Half Time Result (H=Home Win, D=Draw, A=Away Win)\n",
    "\n",
    "Match Statistics (where available)\n",
    "\n",
    "    HS = Home Team Shots\n",
    "    AS = Away Team Shots\n",
    "    HST = Home Team Shots on Target\n",
    "    AST = Away Team Shots on Target\n",
    "    HC = Home Team Corners\n",
    "    AC = Away Team Corners\n",
    "    HF = Home Team Fouls Committed\n",
    "    AF = Away Team Fouls Committed\n",
    "    HY = Home Team Yellow Cards\n",
    "    AY = Away Team Yellow Cards\n",
    "    HR = Home Team Red Cards\n",
    "    AR = Away Team Red Cards\n",
    "```"
   ]
  },
  {
   "cell_type": "code",
   "execution_count": 1,
   "metadata": {},
   "outputs": [],
   "source": [
    "import pandas as pd\n",
    "import matplotlib.pyplot as plt\n",
    "import numpy as np\n",
    "import seaborn as sns\n",
    "from datetime import datetime as dt\n",
    "import itertools\n",
    "\n",
    "%matplotlib inline"
   ]
  },
  {
   "cell_type": "code",
   "execution_count": 3,
   "metadata": {},
   "outputs": [],
   "source": [
    "season2021 = pd.read_csv('2020-2021.csv')"
   ]
  },
  {
   "cell_type": "code",
   "execution_count": 4,
   "metadata": {},
   "outputs": [
    {
     "data": {
      "text/html": [
       "<div>\n",
       "<style scoped>\n",
       "    .dataframe tbody tr th:only-of-type {\n",
       "        vertical-align: middle;\n",
       "    }\n",
       "\n",
       "    .dataframe tbody tr th {\n",
       "        vertical-align: top;\n",
       "    }\n",
       "\n",
       "    .dataframe thead th {\n",
       "        text-align: right;\n",
       "    }\n",
       "</style>\n",
       "<table border=\"1\" class=\"dataframe\">\n",
       "  <thead>\n",
       "    <tr style=\"text-align: right;\">\n",
       "      <th></th>\n",
       "      <th>Date</th>\n",
       "      <th>HomeTeam</th>\n",
       "      <th>AwayTeam</th>\n",
       "      <th>FTHG</th>\n",
       "      <th>FTAG</th>\n",
       "      <th>FTR</th>\n",
       "    </tr>\n",
       "  </thead>\n",
       "  <tbody>\n",
       "    <tr>\n",
       "      <th>0</th>\n",
       "      <td>12/09/2020</td>\n",
       "      <td>Fulham</td>\n",
       "      <td>Arsenal</td>\n",
       "      <td>0</td>\n",
       "      <td>3</td>\n",
       "      <td>A</td>\n",
       "    </tr>\n",
       "    <tr>\n",
       "      <th>1</th>\n",
       "      <td>12/09/2020</td>\n",
       "      <td>Crystal Palace</td>\n",
       "      <td>Southampton</td>\n",
       "      <td>1</td>\n",
       "      <td>0</td>\n",
       "      <td>H</td>\n",
       "    </tr>\n",
       "    <tr>\n",
       "      <th>2</th>\n",
       "      <td>12/09/2020</td>\n",
       "      <td>Liverpool</td>\n",
       "      <td>Leeds</td>\n",
       "      <td>4</td>\n",
       "      <td>3</td>\n",
       "      <td>H</td>\n",
       "    </tr>\n",
       "    <tr>\n",
       "      <th>3</th>\n",
       "      <td>12/09/2020</td>\n",
       "      <td>West Ham</td>\n",
       "      <td>Newcastle</td>\n",
       "      <td>0</td>\n",
       "      <td>2</td>\n",
       "      <td>A</td>\n",
       "    </tr>\n",
       "    <tr>\n",
       "      <th>4</th>\n",
       "      <td>13/09/2020</td>\n",
       "      <td>West Brom</td>\n",
       "      <td>Leicester</td>\n",
       "      <td>0</td>\n",
       "      <td>3</td>\n",
       "      <td>A</td>\n",
       "    </tr>\n",
       "    <tr>\n",
       "      <th>...</th>\n",
       "      <td>...</td>\n",
       "      <td>...</td>\n",
       "      <td>...</td>\n",
       "      <td>...</td>\n",
       "      <td>...</td>\n",
       "      <td>...</td>\n",
       "    </tr>\n",
       "    <tr>\n",
       "      <th>375</th>\n",
       "      <td>23/05/2021</td>\n",
       "      <td>Liverpool</td>\n",
       "      <td>Crystal Palace</td>\n",
       "      <td>2</td>\n",
       "      <td>0</td>\n",
       "      <td>H</td>\n",
       "    </tr>\n",
       "    <tr>\n",
       "      <th>376</th>\n",
       "      <td>23/05/2021</td>\n",
       "      <td>Man City</td>\n",
       "      <td>Everton</td>\n",
       "      <td>5</td>\n",
       "      <td>0</td>\n",
       "      <td>H</td>\n",
       "    </tr>\n",
       "    <tr>\n",
       "      <th>377</th>\n",
       "      <td>23/05/2021</td>\n",
       "      <td>Sheffield United</td>\n",
       "      <td>Burnley</td>\n",
       "      <td>1</td>\n",
       "      <td>0</td>\n",
       "      <td>H</td>\n",
       "    </tr>\n",
       "    <tr>\n",
       "      <th>378</th>\n",
       "      <td>23/05/2021</td>\n",
       "      <td>West Ham</td>\n",
       "      <td>Southampton</td>\n",
       "      <td>3</td>\n",
       "      <td>0</td>\n",
       "      <td>H</td>\n",
       "    </tr>\n",
       "    <tr>\n",
       "      <th>379</th>\n",
       "      <td>23/05/2021</td>\n",
       "      <td>Wolves</td>\n",
       "      <td>Man United</td>\n",
       "      <td>1</td>\n",
       "      <td>2</td>\n",
       "      <td>A</td>\n",
       "    </tr>\n",
       "  </tbody>\n",
       "</table>\n",
       "<p>380 rows × 6 columns</p>\n",
       "</div>"
      ],
      "text/plain": [
       "           Date          HomeTeam        AwayTeam  FTHG  FTAG FTR\n",
       "0    12/09/2020            Fulham         Arsenal     0     3   A\n",
       "1    12/09/2020    Crystal Palace     Southampton     1     0   H\n",
       "2    12/09/2020         Liverpool           Leeds     4     3   H\n",
       "3    12/09/2020          West Ham       Newcastle     0     2   A\n",
       "4    13/09/2020         West Brom       Leicester     0     3   A\n",
       "..          ...               ...             ...   ...   ...  ..\n",
       "375  23/05/2021         Liverpool  Crystal Palace     2     0   H\n",
       "376  23/05/2021          Man City         Everton     5     0   H\n",
       "377  23/05/2021  Sheffield United         Burnley     1     0   H\n",
       "378  23/05/2021          West Ham     Southampton     3     0   H\n",
       "379  23/05/2021            Wolves      Man United     1     2   A\n",
       "\n",
       "[380 rows x 6 columns]"
      ]
     },
     "execution_count": 4,
     "metadata": {},
     "output_type": "execute_result"
    }
   ],
   "source": [
    "columns_req = ['Date', 'HomeTeam', 'AwayTeam', 'FTHG', 'FTAG', 'FTR']\n",
    "play_stats = season2021[columns_req]  \n",
    "play_stats"
   ]
  },
  {
   "cell_type": "markdown",
   "metadata": {},
   "source": [
    "# Step 1\n",
    "Create two new columns in the dataset: A boolean column called `Home team wins` of 0s and 1 where 1 designates a Home team win and a 0 designates an Away team win or tie, and an integer column called `Differential` that is the difference between home team goals and away team goals."
   ]
  },
  {
   "cell_type": "code",
   "execution_count": null,
   "metadata": {},
   "outputs": [],
   "source": [
    "season2021['Home team wins']=np.where()"
   ]
  },
  {
   "cell_type": "code",
   "execution_count": 5,
   "metadata": {},
   "outputs": [],
   "source": [
    "def determin_winner(fthg, ftag):\n",
    "    if fthg < ftag:\n",
    "        return 1\n",
    "    else:\n",
    "        return 0\n",
    "    \n",
    "def determin_strength(fthg, ftag):\n",
    "    differential=fthg-ftag\n",
    "    return differential\n",
    "\n"
   ]
  },
  {
   "cell_type": "code",
   "execution_count": 10,
   "metadata": {},
   "outputs": [
    {
     "name": "stderr",
     "output_type": "stream",
     "text": [
      "C:\\Users\\HP\\AppData\\Local\\Temp\\ipykernel_12352\\780602634.py:1: SettingWithCopyWarning: \n",
      "A value is trying to be set on a copy of a slice from a DataFrame.\n",
      "Try using .loc[row_indexer,col_indexer] = value instead\n",
      "\n",
      "See the caveats in the documentation: https://pandas.pydata.org/pandas-docs/stable/user_guide/indexing.html#returning-a-view-versus-a-copy\n",
      "  play_stats['Home_team_wins'] = play_stats.apply(\n",
      "C:\\Users\\HP\\AppData\\Local\\Temp\\ipykernel_12352\\780602634.py:6: SettingWithCopyWarning: \n",
      "A value is trying to be set on a copy of a slice from a DataFrame.\n",
      "Try using .loc[row_indexer,col_indexer] = value instead\n",
      "\n",
      "See the caveats in the documentation: https://pandas.pydata.org/pandas-docs/stable/user_guide/indexing.html#returning-a-view-versus-a-copy\n",
      "  play_stats['Differential'] = play_stats.apply(\n"
     ]
    }
   ],
   "source": [
    "play_stats['Home_team_wins'] = play_stats.apply(\n",
    "    lambda row: determin_winner(row['FTHG'], row['FTAG']),\n",
    "    axis=1\n",
    ")\n",
    "\n",
    "play_stats['Differential'] = play_stats.apply(\n",
    "    lambda row: determin_strength(row['FTHG'], row['FTAG']),\n",
    "    axis=1\n",
    ")"
   ]
  },
  {
   "cell_type": "code",
   "execution_count": 11,
   "metadata": {},
   "outputs": [
    {
     "data": {
      "text/html": [
       "<div>\n",
       "<style scoped>\n",
       "    .dataframe tbody tr th:only-of-type {\n",
       "        vertical-align: middle;\n",
       "    }\n",
       "\n",
       "    .dataframe tbody tr th {\n",
       "        vertical-align: top;\n",
       "    }\n",
       "\n",
       "    .dataframe thead th {\n",
       "        text-align: right;\n",
       "    }\n",
       "</style>\n",
       "<table border=\"1\" class=\"dataframe\">\n",
       "  <thead>\n",
       "    <tr style=\"text-align: right;\">\n",
       "      <th></th>\n",
       "      <th>Date</th>\n",
       "      <th>HomeTeam</th>\n",
       "      <th>AwayTeam</th>\n",
       "      <th>FTHG</th>\n",
       "      <th>FTAG</th>\n",
       "      <th>FTR</th>\n",
       "      <th>Home_team_wins</th>\n",
       "      <th>Differential</th>\n",
       "    </tr>\n",
       "  </thead>\n",
       "  <tbody>\n",
       "    <tr>\n",
       "      <th>0</th>\n",
       "      <td>12/09/2020</td>\n",
       "      <td>Fulham</td>\n",
       "      <td>Arsenal</td>\n",
       "      <td>0</td>\n",
       "      <td>3</td>\n",
       "      <td>A</td>\n",
       "      <td>1</td>\n",
       "      <td>-3</td>\n",
       "    </tr>\n",
       "    <tr>\n",
       "      <th>1</th>\n",
       "      <td>12/09/2020</td>\n",
       "      <td>Crystal Palace</td>\n",
       "      <td>Southampton</td>\n",
       "      <td>1</td>\n",
       "      <td>0</td>\n",
       "      <td>H</td>\n",
       "      <td>0</td>\n",
       "      <td>1</td>\n",
       "    </tr>\n",
       "    <tr>\n",
       "      <th>2</th>\n",
       "      <td>12/09/2020</td>\n",
       "      <td>Liverpool</td>\n",
       "      <td>Leeds</td>\n",
       "      <td>4</td>\n",
       "      <td>3</td>\n",
       "      <td>H</td>\n",
       "      <td>0</td>\n",
       "      <td>1</td>\n",
       "    </tr>\n",
       "    <tr>\n",
       "      <th>3</th>\n",
       "      <td>12/09/2020</td>\n",
       "      <td>West Ham</td>\n",
       "      <td>Newcastle</td>\n",
       "      <td>0</td>\n",
       "      <td>2</td>\n",
       "      <td>A</td>\n",
       "      <td>1</td>\n",
       "      <td>-2</td>\n",
       "    </tr>\n",
       "    <tr>\n",
       "      <th>4</th>\n",
       "      <td>13/09/2020</td>\n",
       "      <td>West Brom</td>\n",
       "      <td>Leicester</td>\n",
       "      <td>0</td>\n",
       "      <td>3</td>\n",
       "      <td>A</td>\n",
       "      <td>1</td>\n",
       "      <td>-3</td>\n",
       "    </tr>\n",
       "  </tbody>\n",
       "</table>\n",
       "</div>"
      ],
      "text/plain": [
       "         Date        HomeTeam     AwayTeam  FTHG  FTAG FTR  Home_team_wins  \\\n",
       "0  12/09/2020          Fulham      Arsenal     0     3   A               1   \n",
       "1  12/09/2020  Crystal Palace  Southampton     1     0   H               0   \n",
       "2  12/09/2020       Liverpool        Leeds     4     3   H               0   \n",
       "3  12/09/2020        West Ham    Newcastle     0     2   A               1   \n",
       "4  13/09/2020       West Brom    Leicester     0     3   A               1   \n",
       "\n",
       "   Differential  \n",
       "0            -3  \n",
       "1             1  \n",
       "2             1  \n",
       "3            -2  \n",
       "4            -3  "
      ]
     },
     "execution_count": 11,
     "metadata": {},
     "output_type": "execute_result"
    }
   ],
   "source": [
    "play_stats.head()"
   ]
  },
  {
   "cell_type": "markdown",
   "metadata": {},
   "source": [
    "# Step 2\n",
    "Find all unique teams in the English Premier League and assign them to a python list so that each team can be represented by an index into the list."
   ]
  },
  {
   "cell_type": "code",
   "execution_count": 15,
   "metadata": {},
   "outputs": [],
   "source": [
    "teams = list(play_stats['HomeTeam'].unique())"
   ]
  },
  {
   "cell_type": "code",
   "execution_count": 17,
   "metadata": {},
   "outputs": [
    {
     "data": {
      "text/plain": [
       "20"
      ]
     },
     "execution_count": 17,
     "metadata": {},
     "output_type": "execute_result"
    }
   ],
   "source": [
    "play_stats['HomeTeam'].nunique()"
   ]
  },
  {
   "cell_type": "code",
   "execution_count": 16,
   "metadata": {},
   "outputs": [
    {
     "data": {
      "text/plain": [
       "['Fulham',\n",
       " 'Crystal Palace',\n",
       " 'Liverpool',\n",
       " 'West Ham',\n",
       " 'West Brom',\n",
       " 'Tottenham',\n",
       " 'Brighton',\n",
       " 'Sheffield United',\n",
       " 'Everton',\n",
       " 'Leeds',\n",
       " 'Man United',\n",
       " 'Arsenal',\n",
       " 'Southampton',\n",
       " 'Newcastle',\n",
       " 'Chelsea',\n",
       " 'Leicester',\n",
       " 'Aston Villa',\n",
       " 'Wolves',\n",
       " 'Burnley',\n",
       " 'Man City']"
      ]
     },
     "execution_count": 16,
     "metadata": {},
     "output_type": "execute_result"
    }
   ],
   "source": [
    "teams"
   ]
  },
  {
   "cell_type": "markdown",
   "metadata": {},
   "source": [
    "#  Step 3\n",
    "Create two new columns in the dataset: An integer column called `HomeTeamIndex` that assigns a number to the home team for each row in the dataset (pointing to the index in your teams list), and an integer column called `AwayTeamIndex` that assigns a number to the away team for each row in the dataset."
   ]
  },
  {
   "cell_type": "code",
   "execution_count": null,
   "metadata": {},
   "outputs": [],
   "source": []
  },
  {
   "cell_type": "markdown",
   "metadata": {},
   "source": [
    "# Step 4\n",
    "Build a Byaesian model in PyMC3. Use Gaussian priors for the teams’ strengths. Let the model infer posteriors for all the teams.\n",
    "\n",
    "Another important thing is that I will not use the sigmoid function explicitly. If we pass the difference of the teams’ strengths via the `logit_p` parameter instead of `p`, the `pm.Bernoulli` object will take care of it.\n",
    "\n",
    "The `shape` parameter in pymc3 allows you to create multidimensional priors:\n",
    "```\n",
    "strength = pm.Normal(\"strength\", -5, 5, shape = 20)\n",
    "```\n",
    "\n",
    "Your data likelihood will follow the Bernoulii pdf since we are tracking team wins and losses:\n",
    "```\n",
    "obs = pm.Bernoulli(\"wins\", logit_p = diff, observed = play_stats[\"Home team wins\"]\n",
    "    )\n",
    "```\n",
    "You will use the the `logit_p` form of `pm.Bernoulli`, and you will model the following variable:\n",
    "```\n",
    "diff = strength[play_stats[\"HomeTeamIndex\"]] - strength[play_stats[\"AwayTeamIndex\"]]\n",
    "```"
   ]
  },
  {
   "cell_type": "code",
   "execution_count": null,
   "metadata": {},
   "outputs": [],
   "source": []
  },
  {
   "cell_type": "markdown",
   "metadata": {},
   "source": [
    "# Step 5\n",
    "Draw the simulation traces of all probabilistic variables:\n",
    "```\n",
    "pm.traceplot(trace)\n",
    "```"
   ]
  },
  {
   "cell_type": "code",
   "execution_count": null,
   "metadata": {},
   "outputs": [],
   "source": []
  },
  {
   "cell_type": "markdown",
   "metadata": {},
   "source": [
    "# Step 6\n",
    "Plot all posterior pdfs:\n",
    "```\n",
    "plot_posterior(trace[100:], varnames=[\"strength\"])\n",
    "```"
   ]
  },
  {
   "cell_type": "code",
   "execution_count": null,
   "metadata": {},
   "outputs": [],
   "source": []
  },
  {
   "cell_type": "markdown",
   "metadata": {},
   "source": [
    "# Step 7\n",
    "Compare all posteriors to rank them, using `arviz`:\n",
    "```\n",
    "import arviz as az\n",
    "az.plot_forest(trace[100:], kind='forestplot')\n",
    "```"
   ]
  },
  {
   "cell_type": "code",
   "execution_count": null,
   "metadata": {},
   "outputs": [],
   "source": []
  },
  {
   "cell_type": "markdown",
   "metadata": {},
   "source": [
    "# Step 8\n",
    "Use \n",
    "```\n",
    "az.summary(trace).round(2)\n",
    "```\n",
    "to quickly examine the mean and standard deviations of all probabilistic variables."
   ]
  },
  {
   "cell_type": "code",
   "execution_count": null,
   "metadata": {},
   "outputs": [],
   "source": []
  },
  {
   "cell_type": "markdown",
   "metadata": {},
   "source": [
    "From here, you can also see that the MCMC seems to have converged well since the [Gelman-Rubin diagnostic](https://www.stata.com/features/overview/gelman-rubin-convergence-diagnostic/), r_hat, \n",
    "doesn’t indicate any problem (values are all close or equal to 1).\n",
    "\n",
    "You can also see that some players have a negative strength, but this is totally fine since we only use the difference in strength between 2 players anyway. If you do not like this for some reason, you can either replace the strength priors with a HalfNormal distribution or you just add some constant like 5 to the posteriors, so all means and HDIs are in the positive range."
   ]
  },
  {
   "cell_type": "markdown",
   "metadata": {},
   "source": [
    "# Step 9\n",
    "Use the zipper to list each team and their strength:"
   ]
  },
  {
   "cell_type": "code",
   "execution_count": null,
   "metadata": {},
   "outputs": [],
   "source": []
  },
  {
   "cell_type": "markdown",
   "metadata": {},
   "source": [
    "# Step 10\n",
    "Plot a bar plot of teams' strengths by transforming the dictionary above to a pandas dataframe:"
   ]
  },
  {
   "cell_type": "code",
   "execution_count": null,
   "metadata": {},
   "outputs": [],
   "source": []
  },
  {
   "cell_type": "markdown",
   "metadata": {},
   "source": [
    "The model started off with some prior beliefs about the strength levels of teams, which then got updated via observations. The more games a team plays, the smaller the uncertainty about this team’s strength. In one extreme case, if a team never played a single game, the posterior distribution of their strength equals the prior distribution."
   ]
  }
 ],
 "metadata": {
  "kernelspec": {
   "display_name": "Python 3 (ipykernel)",
   "language": "python",
   "name": "python3"
  },
  "language_info": {
   "codemirror_mode": {
    "name": "ipython",
    "version": 3
   },
   "file_extension": ".py",
   "mimetype": "text/x-python",
   "name": "python",
   "nbconvert_exporter": "python",
   "pygments_lexer": "ipython3",
   "version": "3.9.18"
  }
 },
 "nbformat": 4,
 "nbformat_minor": 2
}
