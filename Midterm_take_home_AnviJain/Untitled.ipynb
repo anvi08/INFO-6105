{
 "cells": [
  {
   "cell_type": "code",
   "execution_count": 2,
   "id": "96a9f2af",
   "metadata": {},
   "outputs": [
    {
     "name": "stdout",
     "output_type": "stream",
     "text": [
      "823543\n"
     ]
    }
   ],
   "source": [
    "import itertools\n",
    "from itertools import product\n",
    " \n",
    "# initialize lists\n",
    "list_1 = [\"D1\",\"D1\",\"D1\",\"D1\",\"D1\",\"D1\",\"D1\"] #sample_space for driver 1\n",
    "list_2 = [1,2,3,4,5,6,7] #list of shows\n",
    " \n",
    "# create empty list to store the combinations\n",
    "unique_combinations_2 = []\n",
    " \n",
    "# Extract Combination Mapping in two lists\n",
    "# using zip() + product()\n",
    "unique_combinations_2 = list(list(zip(list_1, element))\n",
    "                           for element in product(list_2, repeat = len(list_1)))\n",
    " \n",
    "# printing unique_combination list\n",
    "print(len(unique_combinations_2))"
   ]
  },
  {
   "cell_type": "code",
   "execution_count": null,
   "id": "6fc4ae04",
   "metadata": {},
   "outputs": [],
   "source": [
    "list_1 = [\"D1\",\"D1\",\"D1\",\"D1\",\"D1\",\"D1\",\"D1\"] #sample_space for driver 1\n",
    "list_2 = [1,2,3,4,5,6,7] #list of shows\n",
    " \n",
    "# create empty list to store the combinations\n",
    "unique_combinations_2 = []\n",
    " \n",
    "# Extract Combination Mapping in two lists\n",
    "# using zip() + product()\n",
    "unique_combinations_2 = list(list(zip(list_1, element))\n",
    "                           for element in product(list_2, repeat = len(list_1)))\n",
    " \n",
    "# printing unique_combination list\n",
    "print(len(unique_combinations_2))"
   ]
  }
 ],
 "metadata": {
  "kernelspec": {
   "display_name": "Python 3 (ipykernel)",
   "language": "python",
   "name": "python3"
  },
  "language_info": {
   "codemirror_mode": {
    "name": "ipython",
    "version": 3
   },
   "file_extension": ".py",
   "mimetype": "text/x-python",
   "name": "python",
   "nbconvert_exporter": "python",
   "pygments_lexer": "ipython3",
   "version": "3.9.12"
  }
 },
 "nbformat": 4,
 "nbformat_minor": 5
}
