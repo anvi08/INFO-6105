{
 "cells": [
  {
   "cell_type": "markdown",
   "metadata": {},
   "source": [
    "<div style=\"text-align: right\">INFO 6105 Data Science Eng Methods and Tools, Lecture 2 Day 2</div>\n",
    "<div style=\"text-align: right\">Dino Konstantopoulos, 19 September 2022</div>\n",
    "\n",
    "## A brief introduction to the language Python in 10 chapters, Part 2"
   ]
  },
  {
   "cell_type": "markdown",
   "metadata": {},
   "source": [
    "### Changing a tuple: cannot do!"
   ]
  },
  {
   "cell_type": "code",
   "execution_count": 46,
   "metadata": {},
   "outputs": [
    {
     "data": {
      "text/plain": [
       "(1, 2)"
      ]
     },
     "execution_count": 46,
     "metadata": {},
     "output_type": "execute_result"
    }
   ],
   "source": [
    "x = 1\n",
    "y = 2\n",
    "mytuple = (x,y)\n",
    "mytuple"
   ]
  },
  {
   "cell_type": "code",
   "execution_count": 47,
   "metadata": {},
   "outputs": [
    {
     "ename": "TypeError",
     "evalue": "'tuple' object does not support item assignment",
     "output_type": "error",
     "traceback": [
      "\u001b[1;31m---------------------------------------------------------------------------\u001b[0m",
      "\u001b[1;31mTypeError\u001b[0m                                 Traceback (most recent call last)",
      "\u001b[1;32m<ipython-input-47-5b8155753571>\u001b[0m in \u001b[0;36m<module>\u001b[1;34m\u001b[0m\n\u001b[1;32m----> 1\u001b[1;33m \u001b[0mmytuple\u001b[0m\u001b[1;33m[\u001b[0m\u001b[1;36m0\u001b[0m\u001b[1;33m]\u001b[0m \u001b[1;33m=\u001b[0m \u001b[1;36m2\u001b[0m\u001b[1;33m\u001b[0m\u001b[1;33m\u001b[0m\u001b[0m\n\u001b[0m",
      "\u001b[1;31mTypeError\u001b[0m: 'tuple' object does not support item assignment"
     ]
    }
   ],
   "source": [
    "mytuple[0] = 2"
   ]
  },
  {
   "cell_type": "code",
   "execution_count": 48,
   "metadata": {},
   "outputs": [
    {
     "data": {
      "text/plain": [
       "(1, 2)"
      ]
     },
     "execution_count": 48,
     "metadata": {},
     "output_type": "execute_result"
    }
   ],
   "source": [
    "x = 2\n",
    "mytuple"
   ]
  },
  {
   "cell_type": "markdown",
   "metadata": {},
   "source": [
    "### Reassgning a tuple: Can do!"
   ]
  },
  {
   "cell_type": "code",
   "execution_count": 49,
   "metadata": {},
   "outputs": [
    {
     "data": {
      "text/plain": [
       "(2, 2)"
      ]
     },
     "execution_count": 49,
     "metadata": {},
     "output_type": "execute_result"
    }
   ],
   "source": [
    "x = 2\n",
    "mytuple = (x,y) # reassignment, can do!\n",
    "mytuple"
   ]
  },
  {
   "cell_type": "markdown",
   "metadata": {},
   "source": [
    "### List comprehensions\n",
    "\n",
    "List comprehensions are one of the most useful and compact Python expressions. They allow you to loop over container types without writing any ugly loop structures. We'll use this ***a ton*** in class, and the more loops you transform into list comprehensions, the faster your program runs."
   ]
  },
  {
   "cell_type": "code",
   "execution_count": 50,
   "metadata": {},
   "outputs": [],
   "source": [
    "str_list = ['things', 'stuff', 'Jones']"
   ]
  },
  {
   "cell_type": "code",
   "execution_count": 51,
   "metadata": {},
   "outputs": [
    {
     "data": {
      "text/plain": [
       "['things', 'stuff', 'Jones']"
      ]
     },
     "execution_count": 51,
     "metadata": {},
     "output_type": "execute_result"
    }
   ],
   "source": [
    "str_list"
   ]
  },
  {
   "cell_type": "markdown",
   "metadata": {},
   "source": [
    "Pretty:"
   ]
  },
  {
   "cell_type": "code",
   "execution_count": 52,
   "metadata": {},
   "outputs": [
    {
     "data": {
      "text/plain": [
       "['(things)', '(stuff)', '(Jones)']"
      ]
     },
     "execution_count": 52,
     "metadata": {},
     "output_type": "execute_result"
    }
   ],
   "source": [
    "['(' + x + ')' for x in str_list]"
   ]
  },
  {
   "cell_type": "code",
   "execution_count": 54,
   "metadata": {},
   "outputs": [
    {
     "data": {
      "text/plain": [
       "['element (0): things', 'element (1): stuff', 'element (2): Jones']"
      ]
     },
     "execution_count": 54,
     "metadata": {},
     "output_type": "execute_result"
    }
   ],
   "source": [
    "['element (' + str(i) + '): ' + x for i,x in enumerate(str_list)]"
   ]
  },
  {
   "cell_type": "markdown",
   "metadata": {},
   "source": [
    "Ugly:"
   ]
  },
  {
   "cell_type": "code",
   "execution_count": 12,
   "metadata": {},
   "outputs": [
    {
     "data": {
      "text/plain": [
       "['my 0:things', 'my 1:stuff', 'my 2:Jones']"
      ]
     },
     "execution_count": 12,
     "metadata": {},
     "output_type": "execute_result"
    }
   ],
   "source": [
    "mylist = []\n",
    "i = 0\n",
    "for x in str_list:\n",
    "    mylist.append('my ' + str(i) + ':' + x)\n",
    "    i += 1\n",
    "mylist"
   ]
  },
  {
   "cell_type": "code",
   "execution_count": 13,
   "metadata": {},
   "outputs": [
    {
     "data": {
      "text/plain": [
       "['THINGS', 'STUFF', 'JONES']"
      ]
     },
     "execution_count": 13,
     "metadata": {},
     "output_type": "execute_result"
    }
   ],
   "source": [
    "[x.upper() for x in str_list]"
   ]
  },
  {
   "cell_type": "code",
   "execution_count": 55,
   "metadata": {},
   "outputs": [
    {
     "data": {
      "text/plain": [
       "[(0, 5, 10), (1, 6, 11), (2, 7, 12), (3, 8, 13), (4, 9, 14)]"
      ]
     },
     "execution_count": 55,
     "metadata": {},
     "output_type": "execute_result"
    }
   ],
   "source": [
    "a = [0,1,2,3,4]\n",
    "b = [5,6,7,8,9]\n",
    "c = [10,11,12,13,14]\n",
    "list(zip(a,b,c))"
   ]
  },
  {
   "cell_type": "code",
   "execution_count": 59,
   "metadata": {},
   "outputs": [
    {
     "data": {
      "text/plain": [
       "[15, 18, 21, 24, 27]"
      ]
     },
     "execution_count": 59,
     "metadata": {},
     "output_type": "execute_result"
    }
   ],
   "source": [
    "[x+y+z for x,y,z in zip(a,b,c)]"
   ]
  },
  {
   "cell_type": "code",
   "execution_count": 60,
   "metadata": {},
   "outputs": [
    {
     "data": {
      "text/plain": [
       "[10, 11, 12, 13, 14]"
      ]
     },
     "execution_count": 60,
     "metadata": {},
     "output_type": "execute_result"
    }
   ],
   "source": [
    "a = [10,11,12,13,14]\n",
    "a"
   ]
  },
  {
   "cell_type": "code",
   "execution_count": 18,
   "metadata": {},
   "outputs": [
    {
     "data": {
      "text/plain": [
       "[10, 11, 12, 16, 17]"
      ]
     },
     "execution_count": 18,
     "metadata": {},
     "output_type": "execute_result"
    }
   ],
   "source": [
    "[x + 3 if (x > 12) else x for x in a] # dua-lipa"
   ]
  },
  {
   "cell_type": "markdown",
   "metadata": {},
   "source": [
    "And this is how you do the above in the traditional ***ugly*** way of classical computer languages: Using **loops**:"
   ]
  },
  {
   "cell_type": "code",
   "execution_count": 19,
   "metadata": {},
   "outputs": [
    {
     "name": "stdout",
     "output_type": "stream",
     "text": [
      "10\n",
      "11\n",
      "12\n",
      "16\n",
      "17\n"
     ]
    }
   ],
   "source": [
    "for x in a:\n",
    "    if (x > 12):\n",
    "        print (x + 3)\n",
    "    else:\n",
    "        print(x)"
   ]
  },
  {
   "cell_type": "markdown",
   "metadata": {},
   "source": [
    "oopsie.. still not there! Can you modify the code above to print ***exactly*** the same result as in cell ```Out[5]``` above?"
   ]
  },
  {
   "cell_type": "markdown",
   "metadata": {},
   "source": [
    "<div style=\"visibility: hidden\">\n",
    "answer = []\n",
    "for x in a:\n",
    "    if (x < 3):\n",
    "        answer.append(x + 6)\n",
    "    else:\n",
    "        answer.append(x)\n",
    "answer  \n",
    "</div>"
   ]
  },
  {
   "cell_type": "code",
   "execution_count": 20,
   "metadata": {},
   "outputs": [
    {
     "data": {
      "text/plain": [
       "[10, 11, 12, 16, 17]"
      ]
     },
     "execution_count": 20,
     "metadata": {},
     "output_type": "execute_result"
    }
   ],
   "source": [
    "answer = [] # not dua-lipa\n",
    "for x in a:\n",
    "    if (x > 12):\n",
    "        answer.append(x + 3)\n",
    "    else:\n",
    "        answer.append(x)\n",
    "answer"
   ]
  },
  {
   "cell_type": "markdown",
   "metadata": {},
   "source": [
    "### Dictionaries "
   ]
  },
  {
   "cell_type": "markdown",
   "metadata": {},
   "source": [
    "One of the more flexible built-in data structures is the **dictionary**. A dictionary maps a collection of values to a set of associated keys. These mappings are mutable, and unlike lists or tuples, are unordered. Hence, rather than using the sequence index to return elements of the collection, the corresponding key must be used. \n",
    "\n",
    "Dictionaries are specified by a comma-separated sequence of keys and values, which are separated in turn by colons. The dictionary is enclosed by curly braces. Dictionaries are also the general JSON format of the Web. For example:"
   ]
  },
  {
   "cell_type": "code",
   "execution_count": 63,
   "metadata": {},
   "outputs": [
    {
     "data": {
      "text/plain": [
       "{'a': 16,\n",
       " 'b': (4, 5),\n",
       " 'foo': '(noun) a term used as a universal substitute \\n           for something real, especially when discussing technological ideas and \\n           problems'}"
      ]
     },
     "execution_count": 63,
     "metadata": {},
     "output_type": "execute_result"
    }
   ],
   "source": [
    "my_dict = {'a':16, 'b':(4,5), 'foo':'''(noun) a term used as a universal substitute \n",
    "           for something real, especially when discussing technological ideas and \n",
    "           problems'''}\n",
    "my_dict"
   ]
  },
  {
   "cell_type": "code",
   "execution_count": 64,
   "metadata": {},
   "outputs": [
    {
     "name": "stdout",
     "output_type": "stream",
     "text": [
      "no\n"
     ]
    }
   ],
   "source": [
    "if 'k' in my_dict:\n",
    "    print('yes')\n",
    "else:\n",
    "    print('no')"
   ]
  },
  {
   "cell_type": "code",
   "execution_count": 65,
   "metadata": {},
   "outputs": [
    {
     "name": "stdout",
     "output_type": "stream",
     "text": [
      "(4, 5)\n"
     ]
    }
   ],
   "source": [
    "if 'b' in my_dict:\n",
    "    print(my_dict['b'])"
   ]
  },
  {
   "cell_type": "code",
   "execution_count": 66,
   "metadata": {},
   "outputs": [
    {
     "data": {
      "text/plain": [
       "True"
      ]
     },
     "execution_count": 66,
     "metadata": {},
     "output_type": "execute_result"
    }
   ],
   "source": [
    "'a' in my_dict\t# Checks to see if ‘a’ is in my_dict"
   ]
  },
  {
   "cell_type": "code",
   "execution_count": 67,
   "metadata": {},
   "outputs": [
    {
     "data": {
      "text/plain": [
       "dict_items([('a', 16), ('b', (4, 5)), ('foo', '(noun) a term used as a universal substitute \\n           for something real, especially when discussing technological ideas and \\n           problems')])"
      ]
     },
     "execution_count": 67,
     "metadata": {},
     "output_type": "execute_result"
    }
   ],
   "source": [
    "my_dict.items()\t\t# Returns key/value pairs as list of tuples"
   ]
  },
  {
   "cell_type": "code",
   "execution_count": 68,
   "metadata": {},
   "outputs": [
    {
     "data": {
      "text/plain": [
       "dict_keys(['a', 'b', 'foo'])"
      ]
     },
     "execution_count": 68,
     "metadata": {},
     "output_type": "execute_result"
    }
   ],
   "source": [
    "my_dict.keys()\t\t# Returns list of keys"
   ]
  },
  {
   "cell_type": "code",
   "execution_count": 69,
   "metadata": {},
   "outputs": [
    {
     "data": {
      "text/plain": [
       "dict_values([16, (4, 5), '(noun) a term used as a universal substitute \\n           for something real, especially when discussing technological ideas and \\n           problems'])"
      ]
     },
     "execution_count": 69,
     "metadata": {},
     "output_type": "execute_result"
    }
   ],
   "source": [
    "my_dict.values()\t# Returns list of values"
   ]
  },
  {
   "cell_type": "code",
   "execution_count": 71,
   "metadata": {},
   "outputs": [
    {
     "data": {
      "text/plain": [
       "16"
      ]
     },
     "execution_count": 71,
     "metadata": {},
     "output_type": "execute_result"
    }
   ],
   "source": [
    "my_dict['a']"
   ]
  },
  {
   "cell_type": "markdown",
   "metadata": {},
   "source": [
    "If we would rather not get the error, we can use the `get` method, which returns `None` if the value is not present, or a value of your choice"
   ]
  },
  {
   "cell_type": "code",
   "execution_count": 31,
   "metadata": {},
   "outputs": [
    {
     "data": {
      "text/plain": [
       "16"
      ]
     },
     "execution_count": 31,
     "metadata": {},
     "output_type": "execute_result"
    }
   ],
   "source": [
    "my_dict.get('a')"
   ]
  },
  {
   "cell_type": "code",
   "execution_count": 32,
   "metadata": {},
   "outputs": [
    {
     "data": {
      "text/plain": [
       "-1"
      ]
     },
     "execution_count": 32,
     "metadata": {},
     "output_type": "execute_result"
    }
   ],
   "source": [
    "my_dict.get('k', -1)"
   ]
  },
  {
   "cell_type": "code",
   "execution_count": 72,
   "metadata": {},
   "outputs": [
    {
     "name": "stdout",
     "output_type": "stream",
     "text": [
      "a 16\n",
      "b (4, 5)\n",
      "foo (noun) a term used as a universal substitute \n",
      "           for something real, especially when discussing technological ideas and \n",
      "           problems\n"
     ]
    }
   ],
   "source": [
    "for (k,v) in my_dict.items():\n",
    "    print(k,v)"
   ]
  },
  {
   "cell_type": "code",
   "execution_count": 34,
   "metadata": {},
   "outputs": [
    {
     "name": "stdout",
     "output_type": "stream",
     "text": [
      "a 16\n",
      "b (4, 5)\n",
      "foo (noun) a term used as a universal substitute \n",
      "           for something real, especially when discussing technological ideas and \n",
      "           problems\n"
     ]
    }
   ],
   "source": [
    "for k in my_dict.keys():\n",
    "    print(k, my_dict[k])"
   ]
  },
  {
   "cell_type": "code",
   "execution_count": 35,
   "metadata": {},
   "outputs": [
    {
     "name": "stdout",
     "output_type": "stream",
     "text": [
      "16\n",
      "(4, 5)\n",
      "(noun) a term used as a universal substitute \n",
      "           for something real, especially when discussing technological ideas and \n",
      "           problems\n"
     ]
    }
   ],
   "source": [
    "for v in my_dict.values():\n",
    "    print(v)"
   ]
  },
  {
   "cell_type": "markdown",
   "metadata": {},
   "source": [
    "## 7. Logical operators "
   ]
  },
  {
   "cell_type": "markdown",
   "metadata": {},
   "source": [
    "Logical operators will **test** for some condition and return a boolean (True, False)"
   ]
  },
  {
   "cell_type": "markdown",
   "metadata": {},
   "source": [
    "#### Comparison operators\n",
    "\n",
    "+ `>` : Greater than\n",
    "+ `>=` : Greater than or equal to\n",
    "+ `<` : Less than\n",
    "+ `<=` : Less than or equal to\n",
    "+ `==` : Equal to\n",
    "+ `!=` : Not equal to"
   ]
  },
  {
   "cell_type": "markdown",
   "metadata": {},
   "source": [
    "**is / is not**\n",
    "\n",
    "Use **==** (**!=**) when comparing values and **is** (**is not**) when comparing **identities**."
   ]
  },
  {
   "cell_type": "code",
   "execution_count": 36,
   "metadata": {},
   "outputs": [],
   "source": [
    "x = 5."
   ]
  },
  {
   "cell_type": "code",
   "execution_count": 37,
   "metadata": {},
   "outputs": [
    {
     "data": {
      "text/plain": [
       "float"
      ]
     },
     "execution_count": 37,
     "metadata": {},
     "output_type": "execute_result"
    }
   ],
   "source": [
    "type(x)"
   ]
  },
  {
   "cell_type": "code",
   "execution_count": 38,
   "metadata": {},
   "outputs": [],
   "source": [
    "y = 5"
   ]
  },
  {
   "cell_type": "code",
   "execution_count": 39,
   "metadata": {},
   "outputs": [
    {
     "data": {
      "text/plain": [
       "int"
      ]
     },
     "execution_count": 39,
     "metadata": {},
     "output_type": "execute_result"
    }
   ],
   "source": [
    "type(y)"
   ]
  },
  {
   "cell_type": "code",
   "execution_count": 40,
   "metadata": {},
   "outputs": [
    {
     "data": {
      "text/plain": [
       "True"
      ]
     },
     "execution_count": 40,
     "metadata": {},
     "output_type": "execute_result"
    }
   ],
   "source": [
    "x == y"
   ]
  },
  {
   "cell_type": "markdown",
   "metadata": {},
   "source": [
    "x is a float, y is a int, they point to different addresses in memory!"
   ]
  },
  {
   "cell_type": "code",
   "execution_count": 41,
   "metadata": {},
   "outputs": [
    {
     "data": {
      "text/plain": [
       "False"
      ]
     },
     "execution_count": 41,
     "metadata": {},
     "output_type": "execute_result"
    }
   ],
   "source": [
    "x is y"
   ]
  },
  {
   "cell_type": "markdown",
   "metadata": {},
   "source": [
    "#### Some examples of common comparisons"
   ]
  },
  {
   "cell_type": "code",
   "execution_count": null,
   "metadata": {},
   "outputs": [],
   "source": [
    "a = 5\n",
    "b = 6"
   ]
  },
  {
   "cell_type": "code",
   "execution_count": null,
   "metadata": {},
   "outputs": [],
   "source": [
    "a == b"
   ]
  },
  {
   "cell_type": "code",
   "execution_count": null,
   "metadata": {},
   "outputs": [],
   "source": [
    "a != b"
   ]
  },
  {
   "cell_type": "code",
   "execution_count": null,
   "metadata": {},
   "outputs": [],
   "source": [
    "(a > 4) and (b < 7)"
   ]
  },
  {
   "cell_type": "code",
   "execution_count": null,
   "metadata": {},
   "outputs": [],
   "source": [
    "(a > 4) and (b > 7)"
   ]
  },
  {
   "cell_type": "code",
   "execution_count": null,
   "metadata": {},
   "outputs": [],
   "source": [
    "(a > 4) or (b > 7)"
   ]
  },
  {
   "cell_type": "markdown",
   "metadata": {},
   "source": [
    "**All** and **Any** can be used for a *collection* of booleans"
   ]
  },
  {
   "cell_type": "code",
   "execution_count": null,
   "metadata": {},
   "outputs": [],
   "source": [
    "x = [5,6,2,3,3]"
   ]
  },
  {
   "cell_type": "code",
   "execution_count": null,
   "metadata": {},
   "outputs": [],
   "source": [
    "cond = [item > 2 for item in x]"
   ]
  },
  {
   "cell_type": "code",
   "execution_count": null,
   "metadata": {},
   "outputs": [],
   "source": [
    "cond"
   ]
  },
  {
   "cell_type": "code",
   "execution_count": null,
   "metadata": {},
   "outputs": [],
   "source": [
    "all(cond)"
   ]
  },
  {
   "cell_type": "code",
   "execution_count": null,
   "metadata": {},
   "outputs": [],
   "source": [
    "any(cond)"
   ]
  },
  {
   "cell_type": "markdown",
   "metadata": {},
   "source": [
    "## 8. Control flow structures"
   ]
  },
  {
   "cell_type": "markdown",
   "metadata": {},
   "source": [
    "### Indentation is meaningful\n",
    "\n",
    "In Python, there are no annoying curly braces, parenthesis, brackets etc., as in other languages, to delimitate flow control blocks. Instead, **indentation** plays this role."
   ]
  },
  {
   "cell_type": "code",
   "execution_count": 73,
   "metadata": {},
   "outputs": [
    {
     "data": {
      "text/plain": [
       "'bb'"
      ]
     },
     "execution_count": 73,
     "metadata": {},
     "output_type": "execute_result"
    }
   ],
   "source": [
    "'aa' if False else 'bb'"
   ]
  },
  {
   "cell_type": "code",
   "execution_count": 77,
   "metadata": {},
   "outputs": [
    {
     "name": "stdout",
     "output_type": "stream",
     "text": [
      "some_var is smaller than 10.\n"
     ]
    }
   ],
   "source": [
    "# Let's just make a variable\n",
    "some_var = 5\n",
    "\n",
    "# Here is an if statement. Indentation is significant in python!\n",
    "# prints \"some_var is smaller than 10\"\n",
    "if some_var > 10:\n",
    "    print(\"some_var is totally bigger than 10.\")\n",
    "elif some_var < 10:  # This elif clause is optional.\n",
    "    print(\"some_var is smaller than 10.\")\n",
    "else:  # This is optional too.\n",
    "    print(\"some_var is indeed 10.\")"
   ]
  },
  {
   "cell_type": "code",
   "execution_count": 76,
   "metadata": {},
   "outputs": [
    {
     "ename": "IndentationError",
     "evalue": "unindent does not match any outer indentation level (<tokenize>, line 4)",
     "output_type": "error",
     "traceback": [
      "\u001b[1;36m  File \u001b[1;32m\"<tokenize>\"\u001b[1;36m, line \u001b[1;32m4\u001b[0m\n\u001b[1;33m    else:\u001b[0m\n\u001b[1;37m    ^\u001b[0m\n\u001b[1;31mIndentationError\u001b[0m\u001b[1;31m:\u001b[0m unindent does not match any outer indentation level\n"
     ]
    }
   ],
   "source": [
    "for x in range(10): \n",
    "  if x < 5:\n",
    "    print(x**2)\n",
    "  else:\n",
    "    print(x) "
   ]
  },
  {
   "cell_type": "markdown",
   "metadata": {},
   "source": [
    "**Note**: A Jupyter notebook will guess the right indentation :-). When editing a code cell in IPython, the indentation is handled intelligently, try typing in a new blank cell: \n",
    "\n",
    "    for x in xrange(10): \n",
    "        if x < 5:\n",
    "            print x**2\n",
    "        else:\n",
    "            print x \n",
    "            "
   ]
  },
  {
   "cell_type": "code",
   "execution_count": null,
   "metadata": {},
   "outputs": [],
   "source": [
    "for x in xrange(10):\n",
    "    if x < 5: \n",
    "        "
   ]
  },
  {
   "cell_type": "markdown",
   "metadata": {},
   "source": [
    "For other editors, the standard is to use 4 spaces (**NOT** tabs) for the indentation, set your favorite editor accordingly. For example in vi / vim: \n",
    "\n",
    "    set tabstop=4\n",
    "    set expandtab\n",
    "    set shiftwidth=4\n",
    "    set softtabstop=4"
   ]
  },
  {
   "cell_type": "markdown",
   "metadata": {},
   "source": [
    "### if ... elif ... else"
   ]
  },
  {
   "cell_type": "code",
   "execution_count": null,
   "metadata": {},
   "outputs": [],
   "source": [
    "x = 10\n",
    "\n",
    "if x < 10: # not met\n",
    "    x = x + 1\n",
    "elif x > 10: \n",
    "    x = x - 1 # not met either \n",
    "else: \n",
    "    x = x * 2\n",
    "    \n",
    "print(x)"
   ]
  },
  {
   "cell_type": "code",
   "execution_count": null,
   "metadata": {},
   "outputs": [],
   "source": [
    "x = 10\n",
    "\n",
    "if (x > 5 and x < 8): \n",
    "    x = x+1\n",
    "elif (x > 5 and x < 12): \n",
    "    x = x * 3\n",
    "else:\n",
    "    x = x-1\n",
    "    \n",
    "print(x)"
   ]
  },
  {
   "cell_type": "markdown",
   "metadata": {},
   "source": [
    "### The For loop "
   ]
  },
  {
   "cell_type": "markdown",
   "metadata": {},
   "source": [
    "The basic structure of FOR loops is\n",
    "\n",
    "    for item in iterable: \n",
    "        expression(s)\n",
    "        "
   ]
  },
  {
   "cell_type": "code",
   "execution_count": null,
   "metadata": {},
   "outputs": [],
   "source": [
    "count = 0\n",
    "# x = range(1,10) # range creates a list ... \n",
    "# xrange is a convenience function, it creates an iterator rather than a list\n",
    "# which has a smaller memory footprint\n",
    "x = range(1,10) \n",
    "for i in x:\n",
    "    count += i\n",
    "    print(count)"
   ]
  },
  {
   "cell_type": "markdown",
   "metadata": {},
   "source": [
    "### try ... except\n",
    "\n",
    "You can see it as a generalization of the ```if ... else``` construction, allowing more flexibility in handling failures in code"
   ]
  },
  {
   "cell_type": "code",
   "execution_count": null,
   "metadata": {},
   "outputs": [],
   "source": [
    "text = ('a','1','54.1','43.a')\n",
    "for t in text:\n",
    "    try:\n",
    "        temp = float(t)\n",
    "        print(temp)\n",
    "    except ValueError:\n",
    "        print(str(t) + ' is Not convertible to a float')"
   ]
  },
  {
   "cell_type": "markdown",
   "metadata": {},
   "source": [
    "A list of built-in exceptions is available here \n",
    "\n",
    "[http://docs.python.org/3.1/library/exceptions.html](http://docs.python.org/3.1/library/exceptions.html)"
   ]
  },
  {
   "cell_type": "markdown",
   "metadata": {},
   "source": [
    "## 9. Recycling code in Python\n",
    "\n",
    "As with R, it's a good idea to write **functions** for bits of code that you use often. \n",
    "\n",
    "The syntax for defining a function in Python is: \n",
    "\n",
    "    def name_of_function(arguments): \n",
    "        \"Some code here that works on arguments and produces outputs\"\n",
    "        ...\n",
    "        return outputs\n",
    "\n",
    "Note that the execution block **must be indented** ... \n",
    "\n",
    "You can create a file (a **module**: extension **.py** required) which contains **several** functions, and can also define variables, and import some other functions from other modules."
   ]
  },
  {
   "cell_type": "code",
   "execution_count": 79,
   "metadata": {},
   "outputs": [
    {
     "name": "stdout",
     "output_type": "stream",
     "text": [
      "C:\\Users\\Dino\n"
     ]
    }
   ],
   "source": [
    "!pwd"
   ]
  },
  {
   "cell_type": "code",
   "execution_count": 80,
   "metadata": {},
   "outputs": [
    {
     "name": "stdout",
     "output_type": "stream",
     "text": [
      "Writing some_module2.py\n"
     ]
    }
   ],
   "source": [
    "%%file some_module.py \n",
    "\n",
    "PI = 3.14159 # defining a variable\n",
    "\n",
    "from numpy import arccos # importing a function from another module\n",
    "\n",
    "def f(x): \n",
    "    \"\"\"\n",
    "    This is a function which adds 5 to its argument\n",
    "     \n",
    "    \"\"\"\n",
    "    return x + 5\n",
    "\n",
    "def g(x, y): \n",
    "    \"\"\"\n",
    "    This is a function which sums its 2 arguments\n",
    "    \"\"\"\n",
    "    return x + y"
   ]
  },
  {
   "cell_type": "markdown",
   "metadata": {},
   "source": [
    "This is how we import an external module. Can you guess where the files resides?"
   ]
  },
  {
   "cell_type": "code",
   "execution_count": 81,
   "metadata": {},
   "outputs": [],
   "source": [
    "import some_module"
   ]
  },
  {
   "cell_type": "markdown",
   "metadata": {},
   "source": [
    "The magic `%whos` object (all objects preceded by % are called magic) gies us all the valiables we declared in the notebook or imported from external files!"
   ]
  },
  {
   "cell_type": "code",
   "execution_count": 82,
   "metadata": {},
   "outputs": [
    {
     "name": "stdout",
     "output_type": "stream",
     "text": [
      "Variable      Type      Data/Info\n",
      "---------------------------------\n",
      "a             list      n=5\n",
      "answer        list      n=5\n",
      "b             list      n=5\n",
      "c             list      n=5\n",
      "i             int       3\n",
      "k             str       foo\n",
      "my_dict       dict      n=3\n",
      "mylist        list      n=3\n",
      "mytuple       tuple     n=2\n",
      "some_module   module    <module 'some_module' fro<...>s\\\\Dino\\\\some_module.py'>\n",
      "some_var      int       5\n",
      "str_list      list      n=3\n",
      "v             str       (noun) a term used as a u<...>and \\n           problems\n",
      "x             int       9\n",
      "y             int       2\n"
     ]
    }
   ],
   "source": [
    "%whos"
   ]
  },
  {
   "cell_type": "markdown",
   "metadata": {},
   "source": [
    "`dir()` yeilds the functions. Note there are buiilt-in functions, too."
   ]
  },
  {
   "cell_type": "code",
   "execution_count": 41,
   "metadata": {},
   "outputs": [
    {
     "data": {
      "text/plain": [
       "['PI',\n",
       " '__builtins__',\n",
       " '__cached__',\n",
       " '__doc__',\n",
       " '__file__',\n",
       " '__loader__',\n",
       " '__name__',\n",
       " '__package__',\n",
       " '__spec__',\n",
       " 'arccos',\n",
       " 'f',\n",
       " 'g']"
      ]
     },
     "execution_count": 41,
     "metadata": {},
     "output_type": "execute_result"
    }
   ],
   "source": [
    "dir(some_module)"
   ]
  },
  {
   "cell_type": "markdown",
   "metadata": {},
   "source": [
    "And we can get help information from the module, which consits of the triple-quoted comment string for each defined function."
   ]
  },
  {
   "cell_type": "code",
   "execution_count": 42,
   "metadata": {},
   "outputs": [
    {
     "name": "stdout",
     "output_type": "stream",
     "text": [
      "Help on module some_module:\n",
      "\n",
      "NAME\n",
      "    some_module\n",
      "\n",
      "FUNCTIONS\n",
      "    f(x)\n",
      "        This is a function which adds 5 to its argument\n",
      "    \n",
      "    g(x, y)\n",
      "        This is a function which sums its 2 arguments\n",
      "\n",
      "DATA\n",
      "    PI = 3.14159\n",
      "    arccos = <ufunc 'arccos'>\n",
      "\n",
      "FILE\n",
      "    c:\\users\\dino\\some_module.py\n",
      "\n",
      "\n"
     ]
    }
   ],
   "source": [
    "help(some_module)"
   ]
  },
  {
   "cell_type": "markdown",
   "metadata": {},
   "source": [
    "And here's how we use our module, A variable in the module:"
   ]
  },
  {
   "cell_type": "code",
   "execution_count": 43,
   "metadata": {},
   "outputs": [
    {
     "data": {
      "text/plain": [
       "3.14159"
      ]
     },
     "execution_count": 43,
     "metadata": {},
     "output_type": "execute_result"
    }
   ],
   "source": [
    "some_module.PI"
   ]
  },
  {
   "cell_type": "code",
   "execution_count": 44,
   "metadata": {},
   "outputs": [
    {
     "data": {
      "text/plain": [
       "<function some_module.f(x)>"
      ]
     },
     "execution_count": 44,
     "metadata": {},
     "output_type": "execute_result"
    }
   ],
   "source": [
    "some_module.f"
   ]
  },
  {
   "cell_type": "markdown",
   "metadata": {},
   "source": [
    "Notice a cool trick by executing the cell below."
   ]
  },
  {
   "cell_type": "code",
   "execution_count": 83,
   "metadata": {},
   "outputs": [
    {
     "data": {
      "text/plain": [
       "<ufunc 'arccos'>"
      ]
     },
     "execution_count": 83,
     "metadata": {},
     "output_type": "execute_result"
    }
   ],
   "source": [
    "some_module.arccos"
   ]
  },
  {
   "cell_type": "code",
   "execution_count": 84,
   "metadata": {},
   "outputs": [],
   "source": [
    "some_module.arccos?"
   ]
  },
  {
   "cell_type": "markdown",
   "metadata": {},
   "source": [
    "A function in the module. Notice that with a function, we need to give it an input variable, too."
   ]
  },
  {
   "cell_type": "code",
   "execution_count": 85,
   "metadata": {},
   "outputs": [
    {
     "data": {
      "text/plain": [
       "12"
      ]
     },
     "execution_count": 85,
     "metadata": {},
     "output_type": "execute_result"
    }
   ],
   "source": [
    "some_module.f(7)"
   ]
  },
  {
   "cell_type": "code",
   "execution_count": null,
   "metadata": {},
   "outputs": [],
   "source": [
    "help(some_module.f)"
   ]
  },
  {
   "cell_type": "markdown",
   "metadata": {},
   "source": [
    "Here are two ways for creating shortcuts to the module:"
   ]
  },
  {
   "cell_type": "code",
   "execution_count": 86,
   "metadata": {},
   "outputs": [],
   "source": [
    "from some_module import f as my_f"
   ]
  },
  {
   "cell_type": "code",
   "execution_count": 87,
   "metadata": {},
   "outputs": [
    {
     "data": {
      "text/plain": [
       "10"
      ]
     },
     "execution_count": 87,
     "metadata": {},
     "output_type": "execute_result"
    }
   ],
   "source": [
    "my_f(5)"
   ]
  },
  {
   "cell_type": "code",
   "execution_count": 43,
   "metadata": {},
   "outputs": [],
   "source": [
    "import some_module as sm"
   ]
  },
  {
   "cell_type": "code",
   "execution_count": 44,
   "metadata": {},
   "outputs": [
    {
     "data": {
      "text/plain": [
       "15"
      ]
     },
     "execution_count": 44,
     "metadata": {},
     "output_type": "execute_result"
    }
   ],
   "source": [
    "sm.f(10)"
   ]
  },
  {
   "cell_type": "markdown",
   "metadata": {},
   "source": [
    "The Zen of python says: \n",
    "    \n",
    "```Namespaces are one honking great idea -- let's do more of those!```\n",
    "    \n",
    "so **don't** do: \n",
    "\n",
    "    from some_module import *\n",
    "    \n",
    "As to avoid names conflicts ..."
   ]
  },
  {
   "cell_type": "markdown",
   "metadata": {},
   "source": [
    "### A bit more on functions: \n",
    "\n",
    "Functions can have **positional** as well as **keyword** arguments (with defaults, can be `None` if that's allowed / tested)\n",
    "\n",
    "Positional arguments must always come before keyword arguments"
   ]
  },
  {
   "cell_type": "code",
   "execution_count": 100,
   "metadata": {},
   "outputs": [
    {
     "data": {
      "text/plain": [
       "99999999999999991611392"
      ]
     },
     "execution_count": 100,
     "metadata": {},
     "output_type": "execute_result"
    }
   ],
   "source": [
    "int(1e23)"
   ]
  },
  {
   "cell_type": "code",
   "execution_count": 102,
   "metadata": {},
   "outputs": [
    {
     "data": {
      "text/plain": [
       "100000000000000000000000"
      ]
     },
     "execution_count": 102,
     "metadata": {},
     "output_type": "execute_result"
    }
   ],
   "source": [
    "10**23"
   ]
  },
  {
   "cell_type": "code",
   "execution_count": 88,
   "metadata": {},
   "outputs": [
    {
     "data": {
      "text/plain": [
       "float"
      ]
     },
     "execution_count": 88,
     "metadata": {},
     "output_type": "execute_result"
    }
   ],
   "source": [
    "type(1e3)"
   ]
  },
  {
   "cell_type": "code",
   "execution_count": 58,
   "metadata": {},
   "outputs": [
    {
     "data": {
      "text/plain": [
       "int"
      ]
     },
     "execution_count": 58,
     "metadata": {},
     "output_type": "execute_result"
    }
   ],
   "source": [
    "type(10**3)"
   ]
  },
  {
   "cell_type": "code",
   "execution_count": 103,
   "metadata": {},
   "outputs": [],
   "source": [
    "def some_function(a, b, c=5, d=1e3): \n",
    "    res = (a + b) * c * d\n",
    "    return res"
   ]
  },
  {
   "cell_type": "code",
   "execution_count": 104,
   "metadata": {},
   "outputs": [
    {
     "data": {
      "text/plain": [
       "25000.0"
      ]
     },
     "execution_count": 104,
     "metadata": {},
     "output_type": "execute_result"
    }
   ],
   "source": [
    "some_function(2,3)"
   ]
  },
  {
   "cell_type": "code",
   "execution_count": 105,
   "metadata": {},
   "outputs": [
    {
     "data": {
      "text/plain": [
       "0.25"
      ]
     },
     "execution_count": 105,
     "metadata": {},
     "output_type": "execute_result"
    }
   ],
   "source": [
    "some_function(2, 3, c=5, d=0.01)"
   ]
  },
  {
   "cell_type": "markdown",
   "metadata": {},
   "source": [
    "You can return more than one output from a function, and by default it will be a tuple:"
   ]
  },
  {
   "cell_type": "code",
   "execution_count": 106,
   "metadata": {},
   "outputs": [],
   "source": [
    "def some_function(a, b): \n",
    "    return a+1, b+1, a*b"
   ]
  },
  {
   "cell_type": "code",
   "execution_count": 107,
   "metadata": {},
   "outputs": [
    {
     "data": {
      "text/plain": [
       "3"
      ]
     },
     "execution_count": 107,
     "metadata": {},
     "output_type": "execute_result"
    }
   ],
   "source": [
    "a, b, c = some_function(2,3)\n",
    "a"
   ]
  },
  {
   "cell_type": "code",
   "execution_count": null,
   "metadata": {},
   "outputs": [],
   "source": [
    "c"
   ]
  },
  {
   "cell_type": "code",
   "execution_count": null,
   "metadata": {},
   "outputs": [],
   "source": [
    "type(res)"
   ]
  },
  {
   "cell_type": "markdown",
   "metadata": {},
   "source": [
    "## 10. Functions and Anonymous Functions are first class in Python\n",
    "\n",
    "Functions in Python are just like data objects, you can create variables to store them and pass them around, even to other functions!"
   ]
  },
  {
   "cell_type": "code",
   "execution_count": 109,
   "metadata": {},
   "outputs": [],
   "source": [
    "# Python has first class functions\n",
    "def create_adder(x):\n",
    "    def adder(y):\n",
    "        return x + y\n",
    "\n",
    "    return adder"
   ]
  },
  {
   "cell_type": "code",
   "execution_count": 110,
   "metadata": {},
   "outputs": [
    {
     "data": {
      "text/plain": [
       "<function __main__.create_adder(x)>"
      ]
     },
     "execution_count": 110,
     "metadata": {},
     "output_type": "execute_result"
    }
   ],
   "source": [
    "create_adder"
   ]
  },
  {
   "cell_type": "code",
   "execution_count": 111,
   "metadata": {},
   "outputs": [
    {
     "data": {
      "text/plain": [
       "<function __main__.create_adder.<locals>.adder(y)>"
      ]
     },
     "execution_count": 111,
     "metadata": {},
     "output_type": "execute_result"
    }
   ],
   "source": [
    "add_10 = create_adder(10)\n",
    "add_10"
   ]
  },
  {
   "cell_type": "code",
   "execution_count": 54,
   "metadata": {},
   "outputs": [
    {
     "data": {
      "text/plain": [
       "13"
      ]
     },
     "execution_count": 54,
     "metadata": {},
     "output_type": "execute_result"
    }
   ],
   "source": [
    "add_10(3)  # => 13"
   ]
  },
  {
   "cell_type": "code",
   "execution_count": 55,
   "metadata": {},
   "outputs": [
    {
     "data": {
      "text/plain": [
       "13"
      ]
     },
     "execution_count": 55,
     "metadata": {},
     "output_type": "execute_result"
    }
   ],
   "source": [
    "create_adder(10)(3)"
   ]
  },
  {
   "cell_type": "code",
   "execution_count": 71,
   "metadata": {},
   "outputs": [
    {
     "data": {
      "text/plain": [
       "1"
      ]
     },
     "execution_count": 71,
     "metadata": {},
     "output_type": "execute_result"
    }
   ],
   "source": [
    "l = [[1,2]]\n",
    "l[0][0]"
   ]
  },
  {
   "cell_type": "markdown",
   "metadata": {},
   "source": [
    "You can define ***anonymous*** functions using `lambdas`:"
   ]
  },
  {
   "cell_type": "code",
   "execution_count": 112,
   "metadata": {},
   "outputs": [],
   "source": [
    "def f(x):\n",
    "    return x > 2"
   ]
  },
  {
   "cell_type": "code",
   "execution_count": 113,
   "metadata": {},
   "outputs": [
    {
     "data": {
      "text/plain": [
       "False"
      ]
     },
     "execution_count": 113,
     "metadata": {},
     "output_type": "execute_result"
    }
   ],
   "source": [
    "callable(2)"
   ]
  },
  {
   "cell_type": "code",
   "execution_count": 114,
   "metadata": {},
   "outputs": [
    {
     "data": {
      "text/plain": [
       "True"
      ]
     },
     "execution_count": 114,
     "metadata": {},
     "output_type": "execute_result"
    }
   ],
   "source": [
    "callable(f)"
   ]
  },
  {
   "cell_type": "code",
   "execution_count": 115,
   "metadata": {},
   "outputs": [
    {
     "data": {
      "text/plain": [
       "(True, True)"
      ]
     },
     "execution_count": 115,
     "metadata": {},
     "output_type": "execute_result"
    }
   ],
   "source": [
    "# C#: x -> x > 2\n",
    "# Java: x => x > 2\n",
    "(lambda _: _ > 2)(3), f(3)"
   ]
  },
  {
   "cell_type": "code",
   "execution_count": 116,
   "metadata": {},
   "outputs": [
    {
     "data": {
      "text/plain": [
       "True"
      ]
     },
     "execution_count": 116,
     "metadata": {},
     "output_type": "execute_result"
    }
   ],
   "source": [
    "callable((lambda x: x > 2))"
   ]
  },
  {
   "cell_type": "code",
   "execution_count": 76,
   "metadata": {},
   "outputs": [
    {
     "data": {
      "text/plain": [
       "False"
      ]
     },
     "execution_count": 76,
     "metadata": {},
     "output_type": "execute_result"
    }
   ],
   "source": [
    "callable(15)"
   ]
  },
  {
   "cell_type": "code",
   "execution_count": 117,
   "metadata": {},
   "outputs": [
    {
     "data": {
      "text/plain": [
       "5"
      ]
     },
     "execution_count": 117,
     "metadata": {},
     "output_type": "execute_result"
    }
   ],
   "source": [
    "# There are also anonymous functions C#: x => x> 2     Java: x -> x > 2\n",
    "(lambda _: _ > 2)(3)  # => True\n",
    "(lambda x, y: x ** 2 + y ** 2)(2, 1)  # => 5"
   ]
  },
  {
   "cell_type": "code",
   "execution_count": 118,
   "metadata": {},
   "outputs": [
    {
     "data": {
      "text/plain": [
       "5"
      ]
     },
     "execution_count": 118,
     "metadata": {},
     "output_type": "execute_result"
    }
   ],
   "source": [
    "def myfunction(x,y):\n",
    "    return x + y\n",
    "myfunction(3,2)"
   ]
  },
  {
   "cell_type": "code",
   "execution_count": 119,
   "metadata": {},
   "outputs": [
    {
     "data": {
      "text/plain": [
       "5"
      ]
     },
     "execution_count": 119,
     "metadata": {},
     "output_type": "execute_result"
    }
   ],
   "source": [
    "(lambda x, y : x + y)(3,2)"
   ]
  },
  {
   "cell_type": "markdown",
   "metadata": {},
   "source": [
    "There are built-in higher order functions you should know of. It's ok if they're still a bit myesterious to you. We'll explore them more in later lectures."
   ]
  },
  {
   "cell_type": "code",
   "execution_count": null,
   "metadata": {},
   "outputs": [],
   "source": [
    "list(zip([1,2,3], [4,5,6]))"
   ]
  },
  {
   "cell_type": "code",
   "execution_count": 63,
   "metadata": {},
   "outputs": [
    {
     "data": {
      "text/plain": [
       "[11, 12, 13]"
      ]
     },
     "execution_count": 63,
     "metadata": {},
     "output_type": "execute_result"
    }
   ],
   "source": [
    "list(map(add_10, [1, 2, 3]))"
   ]
  },
  {
   "cell_type": "code",
   "execution_count": null,
   "metadata": {},
   "outputs": [],
   "source": [
    "list(map(max, [1, 2, 3], [4, 2, 1]))"
   ]
  },
  {
   "cell_type": "code",
   "execution_count": 66,
   "metadata": {},
   "outputs": [
    {
     "data": {
      "text/plain": [
       "[6, 7]"
      ]
     },
     "execution_count": 66,
     "metadata": {},
     "output_type": "execute_result"
    }
   ],
   "source": [
    "list(filter(lambda x: x > 5, [3, 4, 5, 6, 7]))"
   ]
  },
  {
   "cell_type": "code",
   "execution_count": null,
   "metadata": {},
   "outputs": [],
   "source": [
    "map(add_10, [1, 2, 3])  # => [11, 12, 13]\n",
    "map(max, [1, 2, 3], [4, 2, 1])  # => [4, 2, 3]\n",
    "\n",
    "filter(lambda x: x > 5, [3, 4, 5, 6, 7])  # => [6, 7]"
   ]
  },
  {
   "cell_type": "markdown",
   "metadata": {},
   "source": [
    "You can use list comprehensions, too, as nice maps and filters:"
   ]
  },
  {
   "cell_type": "code",
   "execution_count": null,
   "metadata": {},
   "outputs": [],
   "source": [
    "[add_10(i) for i in [1, 2, 3]]  # => [11, 12, 13]\n",
    "[x for x in [3, 4, 5, 6, 7] if x > 5]  # => [6, 7]"
   ]
  },
  {
   "cell_type": "markdown",
   "metadata": {},
   "source": [
    "Note you can construct set and dict comprehensions as well:"
   ]
  },
  {
   "cell_type": "code",
   "execution_count": null,
   "metadata": {},
   "outputs": [],
   "source": [
    "{x for x in 'abcddeef' if x in 'abc'}  # => {'a', 'b', 'c'}\n",
    "{x: x ** 2 for x in range(5)}  # => {0: 0, 1: 1, 2: 4, 3: 9, 4: 16}\n",
    "[x for x in [3, 4, 5, 6, 7] if x > 5]  # => [6, 7]"
   ]
  },
  {
   "cell_type": "markdown",
   "metadata": {},
   "source": [
    "Finally, Python's `*args` and `**kwargs` constructs lest you iterate over **positional arguments** and **named arguments**: "
   ]
  },
  {
   "cell_type": "code",
   "execution_count": 67,
   "metadata": {},
   "outputs": [],
   "source": [
    "def magic(*args, **kwargs):\n",
    "  print (\"unnamed args: \", args)\n",
    "  print (\"keyword args: \", kwargs)"
   ]
  },
  {
   "cell_type": "code",
   "execution_count": 68,
   "metadata": {},
   "outputs": [
    {
     "name": "stdout",
     "output_type": "stream",
     "text": [
      "unnamed args:  (1, 2, 3)\n",
      "keyword args:  {'a': 4, 'b': 5, 'c': 6}\n"
     ]
    }
   ],
   "source": [
    "magic(1, 2, 3, a=4, b=5, c=6)"
   ]
  },
  {
   "cell_type": "markdown",
   "metadata": {},
   "source": [
    "## Generators"
   ]
  },
  {
   "cell_type": "markdown",
   "metadata": {},
   "source": [
    "A generator *generates* values as they are requested instead of storing everything up front. Let's see what storing everything up front really means. \n",
    "\n",
    "First, let us consider the simple example of building a list and returning it."
   ]
  },
  {
   "cell_type": "code",
   "execution_count": 120,
   "metadata": {},
   "outputs": [],
   "source": [
    "def first_n(n):\n",
    "    '''Build and return a list'''\n",
    "    num, nums = 0, []\n",
    "    while num < n:\n",
    "        nums.append(num)\n",
    "        num += 1\n",
    "    return nums"
   ]
  },
  {
   "cell_type": "code",
   "execution_count": 121,
   "metadata": {},
   "outputs": [
    {
     "name": "stdout",
     "output_type": "stream",
     "text": [
      "[0, 1, 2, 3, 4, 5, 6, 7, 8, 9, 10, 11, 12, 13, 14, 15, 16, 17, 18, 19, 20, 21, 22, 23, 24, 25, 26, 27, 28, 29, 30, 31, 32, 33, 34, 35, 36, 37, 38, 39, 40, 41, 42, 43, 44, 45, 46, 47, 48, 49, 50, 51, 52, 53, 54, 55, 56, 57, 58, 59, 60, 61, 62, 63, 64, 65, 66, 67, 68, 69, 70, 71, 72, 73, 74, 75, 76, 77, 78, 79, 80, 81, 82, 83, 84, 85, 86, 87, 88, 89, 90, 91, 92, 93, 94, 95, 96, 97, 98, 99]\n"
     ]
    }
   ],
   "source": [
    "print(first_n(100))"
   ]
  },
  {
   "cell_type": "code",
   "execution_count": 122,
   "metadata": {},
   "outputs": [
    {
     "data": {
      "text/plain": [
       "4950"
      ]
     },
     "execution_count": 122,
     "metadata": {},
     "output_type": "execute_result"
    }
   ],
   "source": [
    "sum_of_first_n = sum(first_n(100))\n",
    "sum_of_first_n"
   ]
  },
  {
   "cell_type": "markdown",
   "metadata": {},
   "source": [
    "The code is quite simple and straightforward, but it *builds the full list in memory*. This is a *problem*! It is clearly not acceptable in our case, because we cannot afford to keep all $n$ \"10 megabyte\" integers in memory.\n",
    "\n",
    "Lets us rewrite the above iterator as a generator function instead:"
   ]
  },
  {
   "cell_type": "code",
   "execution_count": 123,
   "metadata": {},
   "outputs": [],
   "source": [
    "# a generator that yields items instead of returning a list\n",
    "def firstn(n):\n",
    "    num = 0\n",
    "    while num < n:\n",
    "        yield num\n",
    "        num += 1"
   ]
  },
  {
   "cell_type": "code",
   "execution_count": 124,
   "metadata": {},
   "outputs": [
    {
     "name": "stdout",
     "output_type": "stream",
     "text": [
      "<generator object firstn at 0x000001CD2A616938>\n"
     ]
    }
   ],
   "source": [
    "print(firstn(100))"
   ]
  },
  {
   "cell_type": "code",
   "execution_count": 125,
   "metadata": {},
   "outputs": [
    {
     "data": {
      "text/plain": [
       "4950"
      ]
     },
     "execution_count": 125,
     "metadata": {},
     "output_type": "execute_result"
    }
   ],
   "source": [
    "sum_of_first_n = sum(firstn(100))\n",
    "sum_of_first_n"
   ]
  },
  {
   "cell_type": "markdown",
   "metadata": {},
   "source": [
    "The expression of the number generation logic is clear and natural. It is very similar to the implementation that built a list in memory, but has the memory usage characteristic of the iterator implementation.\n",
    "\n",
    "In fact, we can turn a list comprehension into a generator expression by replacing the square brackets (\"[ ]\") with parentheses. Alternately, we can think of list comprehensions as generator expressions wrapped in a list constructor."
   ]
  },
  {
   "cell_type": "code",
   "execution_count": 78,
   "metadata": {},
   "outputs": [
    {
     "name": "stdout",
     "output_type": "stream",
     "text": [
      "[0, 2, 4, 6, 8, 10, 12, 14, 16, 18, 20, 22, 24, 26, 28, 30, 32, 34, 36, 38, 40, 42, 44, 46, 48, 50, 52, 54, 56, 58, 60, 62, 64, 66, 68, 70, 72, 74, 76, 78, 80, 82, 84, 86, 88, 90, 92, 94, 96, 98]\n",
      "[0, 2, 4, 6, 8, 10, 12, 14, 16, 18, 20, 22, 24, 26, 28, 30, 32, 34, 36, 38, 40, 42, 44, 46, 48, 50, 52, 54, 56, 58, 60, 62, 64, 66, 68, 70, 72, 74, 76, 78, 80, 82, 84, 86, 88, 90, 92, 94, 96, 98]\n"
     ]
    }
   ],
   "source": [
    "# list comprehension\n",
    "doubles1 = [2 * n for n in range(50)]\n",
    "print(doubles1)\n",
    "\n",
    "# same as the list comprehension above\n",
    "doubles2 = (2 * n for n in range(50))\n",
    "print(list(doubles2))"
   ]
  },
  {
   "cell_type": "markdown",
   "metadata": {},
   "source": [
    "Notice how a list comprehension looks essentially like a generator expression passed to a list constructor.\n",
    "\n",
    "By allowing generator expressions, we don't have to write a generator function if we do not need the list. If only list comprehensions were available, and we needed to lazily build a set of items to be processed, we will have to write a generator function.\n",
    "\n",
    "This also means that we can use the same syntax we have been using for list comprehensions to build generators.\n",
    "\n",
    "The performance improvement from the use of generators is the result of the lazy (on demand) generation of values, which translates to lower memory usage. Furthermore, we do not need to wait until all the elements have been generated before we start to use them. This is similar to the benefits provided by iterators, but the generator makes building iterators easy.\n",
    "\n",
    "Generators can be **composed**. Here we create a generator on the squares of consecutive integers."
   ]
  },
  {
   "cell_type": "code",
   "execution_count": 79,
   "metadata": {},
   "outputs": [
    {
     "data": {
      "text/plain": [
       "333332833333500000"
      ]
     },
     "execution_count": 79,
     "metadata": {},
     "output_type": "execute_result"
    }
   ],
   "source": [
    "#square is a generator\n",
    "squares = (i*i for i in range(1000000))\n",
    "#add the squares\n",
    "total = 0\n",
    "for i in squares:\n",
    "    total += i\n",
    "total"
   ]
  },
  {
   "cell_type": "code",
   "execution_count": 80,
   "metadata": {},
   "outputs": [
    {
     "name": "stdout",
     "output_type": "stream",
     "text": [
      "[0, 1, 4, 9, 16, 25, 36, 49, 64, 81, 100, 121, 144, 169, 196, 225, 256, 289, 324, 361, 400, 441, 484, 529, 576, 625, 676, 729, 784, 841, 900, 961, 1024, 1089, 1156, 1225, 1296, 1369, 1444, 1521, 1600, 1681, 1764, 1849, 1936, 2025, 2116, 2209, 2304, 2401, 2500, 2601, 2704, 2809, 2916, 3025, 3136, 3249, 3364, 3481, 3600, 3721, 3844, 3969, 4096, 4225, 4356, 4489, 4624, 4761, 4900, 5041, 5184, 5329, 5476, 5625, 5776, 5929, 6084, 6241, 6400, 6561, 6724, 6889, 7056, 7225, 7396, 7569, 7744, 7921, 8100, 8281, 8464, 8649, 8836, 9025, 9216, 9409, 9604, 9801]\n"
     ]
    }
   ],
   "source": [
    "# this is an iterator\n",
    "squares = [i*i for i in range(100)]\n",
    "print(squares)"
   ]
  },
  {
   "cell_type": "code",
   "execution_count": 81,
   "metadata": {},
   "outputs": [
    {
     "name": "stdout",
     "output_type": "stream",
     "text": [
      "<generator object <genexpr> at 0x00000171373A61A8>\n"
     ]
    }
   ],
   "source": [
    "# this is a generator:\n",
    "squares = (i*i for i in range(100))\n",
    "print(squares)"
   ]
  },
  {
   "cell_type": "code",
   "execution_count": 90,
   "metadata": {},
   "outputs": [
    {
     "name": "stdout",
     "output_type": "stream",
     "text": [
      "[0, 1, 4, 9, 16, 25, 36, 49, 64, 81, 100, 121, 144, 169, 196, 225, 256, 289, 324, 361, 400, 441, 484, 529, 576, 625, 676, 729, 784, 841, 900, 961, 1024, 1089, 1156, 1225, 1296, 1369, 1444, 1521, 1600, 1681, 1764, 1849, 1936, 2025, 2116, 2209, 2304, 2401, 2500, 2601, 2704, 2809, 2916, 3025, 3136, 3249, 3364, 3481, 3600, 3721, 3844, 3969, 4096, 4225, 4356, 4489, 4624, 4761, 4900, 5041, 5184, 5329, 5476, 5625, 5776, 5929, 6084, 6241, 6400, 6561, 6724, 6889, 7056, 7225, 7396, 7569, 7744, 7921, 8100, 8281, 8464, 8649, 8836, 9025, 9216, 9409, 9604, 9801]\n"
     ]
    }
   ],
   "source": [
    "# this is a generator:\n",
    "squares = (i*i for i in range(100))\n",
    "\n",
    "# this is a generator generating the values:\n",
    "print(list(squares))"
   ]
  },
  {
   "cell_type": "markdown",
   "metadata": {},
   "source": [
    "Here, we compose a square generator with the `takewhile` generator, to generate squares less than 100:"
   ]
  },
  {
   "cell_type": "code",
   "execution_count": 83,
   "metadata": {},
   "outputs": [],
   "source": [
    "def count():\n",
    "    num = 0\n",
    "    while True:\n",
    "        yield num\n",
    "        num += 1"
   ]
  },
  {
   "cell_type": "code",
   "execution_count": 84,
   "metadata": {},
   "outputs": [
    {
     "data": {
      "text/plain": [
       "285"
      ]
     },
     "execution_count": 84,
     "metadata": {},
     "output_type": "execute_result"
    }
   ],
   "source": [
    "import itertools\n",
    "\n",
    "#add squares less than 100\n",
    "squares = (i*i for i in count())\n",
    "bounded_squares = itertools.takewhile(lambda x : x < 100, squares)\n",
    "total = 0\n",
    "for i in bounded_squares:\n",
    "    total += i\n",
    "total"
   ]
  },
  {
   "cell_type": "markdown",
   "metadata": {},
   "source": [
    "`next` can also be used to realize a generator:"
   ]
  },
  {
   "cell_type": "code",
   "execution_count": 240,
   "metadata": {},
   "outputs": [
    {
     "data": {
      "text/plain": [
       "<generator object <genexpr> at 0x000001CD2BD0D410>"
      ]
     },
     "execution_count": 240,
     "metadata": {},
     "output_type": "execute_result"
    }
   ],
   "source": [
    "(i*i for i in range(100))"
   ]
  },
  {
   "cell_type": "code",
   "execution_count": 242,
   "metadata": {},
   "outputs": [
    {
     "name": "stdout",
     "output_type": "stream",
     "text": [
      "[0, 1, 4, 9, 16, 25, 36, 49, 64, 81, 100, 121, 144, 169, 196, 225, 256, 289, 324, 361, 400, 441, 484, 529, 576, 625, 676, 729, 784, 841, 900, 961, 1024, 1089, 1156, 1225, 1296, 1369, 1444, 1521, 1600, 1681, 1764, 1849, 1936, 2025, 2116, 2209, 2304, 2401, 2500, 2601, 2704, 2809, 2916, 3025, 3136, 3249, 3364, 3481, 3600, 3721, 3844, 3969, 4096, 4225, 4356, 4489, 4624, 4761, 4900, 5041, 5184, 5329, 5476, 5625, 5776, 5929, 6084, 6241, 6400, 6561, 6724, 6889, 7056, 7225, 7396, 7569, 7744, 7921, 8100, 8281, 8464, 8649, 8836, 9025, 9216, 9409, 9604, 9801]\n"
     ]
    }
   ],
   "source": [
    "print(list(i*i for i in range(100)))"
   ]
  },
  {
   "cell_type": "markdown",
   "metadata": {},
   "source": [
    "Here, we use `next` to get the next item after `100`:"
   ]
  },
  {
   "cell_type": "code",
   "execution_count": 245,
   "metadata": {},
   "outputs": [
    {
     "name": "stdout",
     "output_type": "stream",
     "text": [
      "121\n"
     ]
    }
   ],
   "source": [
    "print(next(i*i for i in range(100) if 100 < i*i ))"
   ]
  },
  {
   "cell_type": "markdown",
   "metadata": {},
   "source": [
    "Generators only compute up to the requested amount, and so as soon as the `if` predicate above evaluates to `True`, `next()` returns with the result!\n",
    "\n",
    "A generator is characterized by a ```yield``` (```yield return``` in Java and C#) instead of a regular ```return```."
   ]
  },
  {
   "cell_type": "markdown",
   "metadata": {},
   "source": [
    "A list comprehension is by nature a parallel construct."
   ]
  },
  {
   "cell_type": "code",
   "execution_count": null,
   "metadata": {},
   "outputs": [],
   "source": [
    "def count(limit):\n",
    "    num = 0\n",
    "    while num < limit:\n",
    "        yield num\n",
    "        num += 1"
   ]
  },
  {
   "cell_type": "code",
   "execution_count": null,
   "metadata": {},
   "outputs": [],
   "source": [
    "count(100)"
   ]
  },
  {
   "cell_type": "code",
   "execution_count": null,
   "metadata": {},
   "outputs": [],
   "source": [
    "mylist = list(count(100))\n",
    "print(mylist)"
   ]
  },
  {
   "cell_type": "markdown",
   "metadata": {},
   "source": [
    "## In-class teamwork\n",
    "\n",
    "Please write below an **iterative**, **recursive**, and **generator** implementation of Fibonacci numbers. Those are the series where the next element is the sum of the previous two. Also, give me the first 100 Fibonacci numbers.\n",
    "\n",
    "Now :-) Here's a hint:"
   ]
  },
  {
   "cell_type": "code",
   "execution_count": 247,
   "metadata": {},
   "outputs": [
    {
     "name": "stdout",
     "output_type": "stream",
     "text": [
      "a = 2\n",
      "b = 1\n"
     ]
    }
   ],
   "source": [
    "a = 1\n",
    "b = 2\n",
    "a, b = b, a\n",
    "print('a = ' + str(a))\n",
    "print('b = ' + str(b))"
   ]
  },
  {
   "cell_type": "code",
   "execution_count": 248,
   "metadata": {},
   "outputs": [
    {
     "name": "stdout",
     "output_type": "stream",
     "text": [
      "1\n",
      "2\n",
      "3\n",
      "5\n",
      "8\n",
      "13\n",
      "21\n",
      "34\n",
      "55\n",
      "89\n",
      "144\n",
      "233\n",
      "377\n",
      "610\n",
      "987\n",
      "1597\n",
      "2584\n",
      "4181\n",
      "6765\n",
      "10946\n",
      "17711\n",
      "28657\n",
      "46368\n",
      "75025\n",
      "121393\n",
      "196418\n",
      "317811\n",
      "514229\n",
      "832040\n",
      "1346269\n",
      "2178309\n",
      "3524578\n",
      "5702887\n",
      "9227465\n",
      "14930352\n",
      "24157817\n",
      "39088169\n",
      "63245986\n",
      "102334155\n",
      "165580141\n",
      "267914296\n",
      "433494437\n",
      "701408733\n",
      "1134903170\n",
      "1836311903\n",
      "2971215073\n",
      "4807526976\n",
      "7778742049\n",
      "12586269025\n",
      "20365011074\n",
      "32951280099\n",
      "53316291173\n",
      "86267571272\n",
      "139583862445\n",
      "225851433717\n",
      "365435296162\n",
      "591286729879\n",
      "956722026041\n",
      "1548008755920\n",
      "2504730781961\n",
      "4052739537881\n",
      "6557470319842\n",
      "10610209857723\n",
      "17167680177565\n",
      "27777890035288\n",
      "44945570212853\n",
      "72723460248141\n",
      "117669030460994\n",
      "190392490709135\n",
      "308061521170129\n",
      "498454011879264\n",
      "806515533049393\n",
      "1304969544928657\n",
      "2111485077978050\n",
      "3416454622906707\n",
      "5527939700884757\n",
      "8944394323791464\n",
      "14472334024676221\n",
      "23416728348467685\n",
      "37889062373143906\n",
      "61305790721611591\n",
      "99194853094755497\n",
      "160500643816367088\n",
      "259695496911122585\n",
      "420196140727489673\n",
      "679891637638612258\n",
      "1100087778366101931\n",
      "1779979416004714189\n",
      "2880067194370816120\n",
      "4660046610375530309\n",
      "7540113804746346429\n",
      "12200160415121876738\n",
      "19740274219868223167\n",
      "31940434634990099905\n",
      "51680708854858323072\n",
      "83621143489848422977\n",
      "135301852344706746049\n",
      "218922995834555169026\n",
      "354224848179261915075\n",
      "573147844013817084101\n"
     ]
    }
   ],
   "source": [
    "a = 1\n",
    "b = 1\n",
    "for x in range(100):\n",
    "    print(a)\n",
    "    b, a = a, a + b"
   ]
  },
  {
   "cell_type": "code",
   "execution_count": 251,
   "metadata": {},
   "outputs": [],
   "source": [
    "def recur_fib(n):\n",
    "    if n <= 1:\n",
    "        return n\n",
    "    else:\n",
    "        return(recur_fib(n-1) + recur_fib(n-2))"
   ]
  },
  {
   "cell_type": "code",
   "execution_count": 252,
   "metadata": {},
   "outputs": [
    {
     "name": "stdout",
     "output_type": "stream",
     "text": [
      "0\n",
      "1\n",
      "1\n",
      "2\n",
      "3\n",
      "5\n",
      "8\n",
      "13\n",
      "21\n",
      "34\n",
      "55\n",
      "89\n",
      "144\n",
      "233\n",
      "377\n",
      "610\n",
      "987\n",
      "1597\n",
      "2584\n",
      "4181\n",
      "6765\n",
      "10946\n",
      "17711\n",
      "28657\n",
      "46368\n",
      "75025\n",
      "121393\n",
      "196418\n",
      "317811\n",
      "514229\n",
      "832040\n",
      "1346269\n",
      "2178309\n",
      "3524578\n",
      "5702887\n",
      "9227465\n",
      "14930352\n"
     ]
    },
    {
     "ename": "KeyboardInterrupt",
     "evalue": "",
     "output_type": "error",
     "traceback": [
      "\u001b[1;31m---------------------------------------------------------------------------\u001b[0m",
      "\u001b[1;31mKeyboardInterrupt\u001b[0m                         Traceback (most recent call last)",
      "\u001b[1;32m<ipython-input-252-cc2931a0c5b9>\u001b[0m in \u001b[0;36m<module>\u001b[1;34m\u001b[0m\n\u001b[0;32m      1\u001b[0m \u001b[1;32mfor\u001b[0m \u001b[0mi\u001b[0m \u001b[1;32min\u001b[0m \u001b[0mrange\u001b[0m\u001b[1;33m(\u001b[0m\u001b[1;36m100\u001b[0m\u001b[1;33m)\u001b[0m\u001b[1;33m:\u001b[0m\u001b[1;33m\u001b[0m\u001b[1;33m\u001b[0m\u001b[0m\n\u001b[1;32m----> 2\u001b[1;33m     \u001b[0mprint\u001b[0m\u001b[1;33m(\u001b[0m\u001b[0mrecur_fib\u001b[0m\u001b[1;33m(\u001b[0m\u001b[0mi\u001b[0m\u001b[1;33m)\u001b[0m\u001b[1;33m)\u001b[0m\u001b[1;33m\u001b[0m\u001b[1;33m\u001b[0m\u001b[0m\n\u001b[0m",
      "\u001b[1;32m<ipython-input-251-f5c814f9570d>\u001b[0m in \u001b[0;36mrecur_fib\u001b[1;34m(n)\u001b[0m\n\u001b[0;32m      3\u001b[0m         \u001b[1;32mreturn\u001b[0m \u001b[0mn\u001b[0m\u001b[1;33m\u001b[0m\u001b[1;33m\u001b[0m\u001b[0m\n\u001b[0;32m      4\u001b[0m     \u001b[1;32melse\u001b[0m\u001b[1;33m:\u001b[0m\u001b[1;33m\u001b[0m\u001b[1;33m\u001b[0m\u001b[0m\n\u001b[1;32m----> 5\u001b[1;33m         \u001b[1;32mreturn\u001b[0m\u001b[1;33m(\u001b[0m\u001b[0mrecur_fib\u001b[0m\u001b[1;33m(\u001b[0m\u001b[0mn\u001b[0m\u001b[1;33m-\u001b[0m\u001b[1;36m1\u001b[0m\u001b[1;33m)\u001b[0m \u001b[1;33m+\u001b[0m \u001b[0mrecur_fib\u001b[0m\u001b[1;33m(\u001b[0m\u001b[0mn\u001b[0m\u001b[1;33m-\u001b[0m\u001b[1;36m2\u001b[0m\u001b[1;33m)\u001b[0m\u001b[1;33m)\u001b[0m\u001b[1;33m\u001b[0m\u001b[1;33m\u001b[0m\u001b[0m\n\u001b[0m",
      "\u001b[1;32m<ipython-input-251-f5c814f9570d>\u001b[0m in \u001b[0;36mrecur_fib\u001b[1;34m(n)\u001b[0m\n\u001b[0;32m      3\u001b[0m         \u001b[1;32mreturn\u001b[0m \u001b[0mn\u001b[0m\u001b[1;33m\u001b[0m\u001b[1;33m\u001b[0m\u001b[0m\n\u001b[0;32m      4\u001b[0m     \u001b[1;32melse\u001b[0m\u001b[1;33m:\u001b[0m\u001b[1;33m\u001b[0m\u001b[1;33m\u001b[0m\u001b[0m\n\u001b[1;32m----> 5\u001b[1;33m         \u001b[1;32mreturn\u001b[0m\u001b[1;33m(\u001b[0m\u001b[0mrecur_fib\u001b[0m\u001b[1;33m(\u001b[0m\u001b[0mn\u001b[0m\u001b[1;33m-\u001b[0m\u001b[1;36m1\u001b[0m\u001b[1;33m)\u001b[0m \u001b[1;33m+\u001b[0m \u001b[0mrecur_fib\u001b[0m\u001b[1;33m(\u001b[0m\u001b[0mn\u001b[0m\u001b[1;33m-\u001b[0m\u001b[1;36m2\u001b[0m\u001b[1;33m)\u001b[0m\u001b[1;33m)\u001b[0m\u001b[1;33m\u001b[0m\u001b[1;33m\u001b[0m\u001b[0m\n\u001b[0m",
      "\u001b[1;32m<ipython-input-251-f5c814f9570d>\u001b[0m in \u001b[0;36mrecur_fib\u001b[1;34m(n)\u001b[0m\n\u001b[0;32m      3\u001b[0m         \u001b[1;32mreturn\u001b[0m \u001b[0mn\u001b[0m\u001b[1;33m\u001b[0m\u001b[1;33m\u001b[0m\u001b[0m\n\u001b[0;32m      4\u001b[0m     \u001b[1;32melse\u001b[0m\u001b[1;33m:\u001b[0m\u001b[1;33m\u001b[0m\u001b[1;33m\u001b[0m\u001b[0m\n\u001b[1;32m----> 5\u001b[1;33m         \u001b[1;32mreturn\u001b[0m\u001b[1;33m(\u001b[0m\u001b[0mrecur_fib\u001b[0m\u001b[1;33m(\u001b[0m\u001b[0mn\u001b[0m\u001b[1;33m-\u001b[0m\u001b[1;36m1\u001b[0m\u001b[1;33m)\u001b[0m \u001b[1;33m+\u001b[0m \u001b[0mrecur_fib\u001b[0m\u001b[1;33m(\u001b[0m\u001b[0mn\u001b[0m\u001b[1;33m-\u001b[0m\u001b[1;36m2\u001b[0m\u001b[1;33m)\u001b[0m\u001b[1;33m)\u001b[0m\u001b[1;33m\u001b[0m\u001b[1;33m\u001b[0m\u001b[0m\n\u001b[0m",
      "\u001b[1;32m<ipython-input-251-f5c814f9570d>\u001b[0m in \u001b[0;36mrecur_fib\u001b[1;34m(n)\u001b[0m\n\u001b[0;32m      3\u001b[0m         \u001b[1;32mreturn\u001b[0m \u001b[0mn\u001b[0m\u001b[1;33m\u001b[0m\u001b[1;33m\u001b[0m\u001b[0m\n\u001b[0;32m      4\u001b[0m     \u001b[1;32melse\u001b[0m\u001b[1;33m:\u001b[0m\u001b[1;33m\u001b[0m\u001b[1;33m\u001b[0m\u001b[0m\n\u001b[1;32m----> 5\u001b[1;33m         \u001b[1;32mreturn\u001b[0m\u001b[1;33m(\u001b[0m\u001b[0mrecur_fib\u001b[0m\u001b[1;33m(\u001b[0m\u001b[0mn\u001b[0m\u001b[1;33m-\u001b[0m\u001b[1;36m1\u001b[0m\u001b[1;33m)\u001b[0m \u001b[1;33m+\u001b[0m \u001b[0mrecur_fib\u001b[0m\u001b[1;33m(\u001b[0m\u001b[0mn\u001b[0m\u001b[1;33m-\u001b[0m\u001b[1;36m2\u001b[0m\u001b[1;33m)\u001b[0m\u001b[1;33m)\u001b[0m\u001b[1;33m\u001b[0m\u001b[1;33m\u001b[0m\u001b[0m\n\u001b[0m",
      "\u001b[1;32m<ipython-input-251-f5c814f9570d>\u001b[0m in \u001b[0;36mrecur_fib\u001b[1;34m(n)\u001b[0m\n\u001b[0;32m      3\u001b[0m         \u001b[1;32mreturn\u001b[0m \u001b[0mn\u001b[0m\u001b[1;33m\u001b[0m\u001b[1;33m\u001b[0m\u001b[0m\n\u001b[0;32m      4\u001b[0m     \u001b[1;32melse\u001b[0m\u001b[1;33m:\u001b[0m\u001b[1;33m\u001b[0m\u001b[1;33m\u001b[0m\u001b[0m\n\u001b[1;32m----> 5\u001b[1;33m         \u001b[1;32mreturn\u001b[0m\u001b[1;33m(\u001b[0m\u001b[0mrecur_fib\u001b[0m\u001b[1;33m(\u001b[0m\u001b[0mn\u001b[0m\u001b[1;33m-\u001b[0m\u001b[1;36m1\u001b[0m\u001b[1;33m)\u001b[0m \u001b[1;33m+\u001b[0m \u001b[0mrecur_fib\u001b[0m\u001b[1;33m(\u001b[0m\u001b[0mn\u001b[0m\u001b[1;33m-\u001b[0m\u001b[1;36m2\u001b[0m\u001b[1;33m)\u001b[0m\u001b[1;33m)\u001b[0m\u001b[1;33m\u001b[0m\u001b[1;33m\u001b[0m\u001b[0m\n\u001b[0m",
      "\u001b[1;32m<ipython-input-251-f5c814f9570d>\u001b[0m in \u001b[0;36mrecur_fib\u001b[1;34m(n)\u001b[0m\n\u001b[0;32m      3\u001b[0m         \u001b[1;32mreturn\u001b[0m \u001b[0mn\u001b[0m\u001b[1;33m\u001b[0m\u001b[1;33m\u001b[0m\u001b[0m\n\u001b[0;32m      4\u001b[0m     \u001b[1;32melse\u001b[0m\u001b[1;33m:\u001b[0m\u001b[1;33m\u001b[0m\u001b[1;33m\u001b[0m\u001b[0m\n\u001b[1;32m----> 5\u001b[1;33m         \u001b[1;32mreturn\u001b[0m\u001b[1;33m(\u001b[0m\u001b[0mrecur_fib\u001b[0m\u001b[1;33m(\u001b[0m\u001b[0mn\u001b[0m\u001b[1;33m-\u001b[0m\u001b[1;36m1\u001b[0m\u001b[1;33m)\u001b[0m \u001b[1;33m+\u001b[0m \u001b[0mrecur_fib\u001b[0m\u001b[1;33m(\u001b[0m\u001b[0mn\u001b[0m\u001b[1;33m-\u001b[0m\u001b[1;36m2\u001b[0m\u001b[1;33m)\u001b[0m\u001b[1;33m)\u001b[0m\u001b[1;33m\u001b[0m\u001b[1;33m\u001b[0m\u001b[0m\n\u001b[0m",
      "\u001b[1;32m<ipython-input-251-f5c814f9570d>\u001b[0m in \u001b[0;36mrecur_fib\u001b[1;34m(n)\u001b[0m\n\u001b[0;32m      3\u001b[0m         \u001b[1;32mreturn\u001b[0m \u001b[0mn\u001b[0m\u001b[1;33m\u001b[0m\u001b[1;33m\u001b[0m\u001b[0m\n\u001b[0;32m      4\u001b[0m     \u001b[1;32melse\u001b[0m\u001b[1;33m:\u001b[0m\u001b[1;33m\u001b[0m\u001b[1;33m\u001b[0m\u001b[0m\n\u001b[1;32m----> 5\u001b[1;33m         \u001b[1;32mreturn\u001b[0m\u001b[1;33m(\u001b[0m\u001b[0mrecur_fib\u001b[0m\u001b[1;33m(\u001b[0m\u001b[0mn\u001b[0m\u001b[1;33m-\u001b[0m\u001b[1;36m1\u001b[0m\u001b[1;33m)\u001b[0m \u001b[1;33m+\u001b[0m \u001b[0mrecur_fib\u001b[0m\u001b[1;33m(\u001b[0m\u001b[0mn\u001b[0m\u001b[1;33m-\u001b[0m\u001b[1;36m2\u001b[0m\u001b[1;33m)\u001b[0m\u001b[1;33m)\u001b[0m\u001b[1;33m\u001b[0m\u001b[1;33m\u001b[0m\u001b[0m\n\u001b[0m",
      "\u001b[1;32m<ipython-input-251-f5c814f9570d>\u001b[0m in \u001b[0;36mrecur_fib\u001b[1;34m(n)\u001b[0m\n\u001b[0;32m      3\u001b[0m         \u001b[1;32mreturn\u001b[0m \u001b[0mn\u001b[0m\u001b[1;33m\u001b[0m\u001b[1;33m\u001b[0m\u001b[0m\n\u001b[0;32m      4\u001b[0m     \u001b[1;32melse\u001b[0m\u001b[1;33m:\u001b[0m\u001b[1;33m\u001b[0m\u001b[1;33m\u001b[0m\u001b[0m\n\u001b[1;32m----> 5\u001b[1;33m         \u001b[1;32mreturn\u001b[0m\u001b[1;33m(\u001b[0m\u001b[0mrecur_fib\u001b[0m\u001b[1;33m(\u001b[0m\u001b[0mn\u001b[0m\u001b[1;33m-\u001b[0m\u001b[1;36m1\u001b[0m\u001b[1;33m)\u001b[0m \u001b[1;33m+\u001b[0m \u001b[0mrecur_fib\u001b[0m\u001b[1;33m(\u001b[0m\u001b[0mn\u001b[0m\u001b[1;33m-\u001b[0m\u001b[1;36m2\u001b[0m\u001b[1;33m)\u001b[0m\u001b[1;33m)\u001b[0m\u001b[1;33m\u001b[0m\u001b[1;33m\u001b[0m\u001b[0m\n\u001b[0m",
      "\u001b[1;32m<ipython-input-251-f5c814f9570d>\u001b[0m in \u001b[0;36mrecur_fib\u001b[1;34m(n)\u001b[0m\n\u001b[0;32m      3\u001b[0m         \u001b[1;32mreturn\u001b[0m \u001b[0mn\u001b[0m\u001b[1;33m\u001b[0m\u001b[1;33m\u001b[0m\u001b[0m\n\u001b[0;32m      4\u001b[0m     \u001b[1;32melse\u001b[0m\u001b[1;33m:\u001b[0m\u001b[1;33m\u001b[0m\u001b[1;33m\u001b[0m\u001b[0m\n\u001b[1;32m----> 5\u001b[1;33m         \u001b[1;32mreturn\u001b[0m\u001b[1;33m(\u001b[0m\u001b[0mrecur_fib\u001b[0m\u001b[1;33m(\u001b[0m\u001b[0mn\u001b[0m\u001b[1;33m-\u001b[0m\u001b[1;36m1\u001b[0m\u001b[1;33m)\u001b[0m \u001b[1;33m+\u001b[0m \u001b[0mrecur_fib\u001b[0m\u001b[1;33m(\u001b[0m\u001b[0mn\u001b[0m\u001b[1;33m-\u001b[0m\u001b[1;36m2\u001b[0m\u001b[1;33m)\u001b[0m\u001b[1;33m)\u001b[0m\u001b[1;33m\u001b[0m\u001b[1;33m\u001b[0m\u001b[0m\n\u001b[0m",
      "\u001b[1;32m<ipython-input-251-f5c814f9570d>\u001b[0m in \u001b[0;36mrecur_fib\u001b[1;34m(n)\u001b[0m\n\u001b[0;32m      3\u001b[0m         \u001b[1;32mreturn\u001b[0m \u001b[0mn\u001b[0m\u001b[1;33m\u001b[0m\u001b[1;33m\u001b[0m\u001b[0m\n\u001b[0;32m      4\u001b[0m     \u001b[1;32melse\u001b[0m\u001b[1;33m:\u001b[0m\u001b[1;33m\u001b[0m\u001b[1;33m\u001b[0m\u001b[0m\n\u001b[1;32m----> 5\u001b[1;33m         \u001b[1;32mreturn\u001b[0m\u001b[1;33m(\u001b[0m\u001b[0mrecur_fib\u001b[0m\u001b[1;33m(\u001b[0m\u001b[0mn\u001b[0m\u001b[1;33m-\u001b[0m\u001b[1;36m1\u001b[0m\u001b[1;33m)\u001b[0m \u001b[1;33m+\u001b[0m \u001b[0mrecur_fib\u001b[0m\u001b[1;33m(\u001b[0m\u001b[0mn\u001b[0m\u001b[1;33m-\u001b[0m\u001b[1;36m2\u001b[0m\u001b[1;33m)\u001b[0m\u001b[1;33m)\u001b[0m\u001b[1;33m\u001b[0m\u001b[1;33m\u001b[0m\u001b[0m\n\u001b[0m",
      "\u001b[1;32m<ipython-input-251-f5c814f9570d>\u001b[0m in \u001b[0;36mrecur_fib\u001b[1;34m(n)\u001b[0m\n\u001b[0;32m      3\u001b[0m         \u001b[1;32mreturn\u001b[0m \u001b[0mn\u001b[0m\u001b[1;33m\u001b[0m\u001b[1;33m\u001b[0m\u001b[0m\n\u001b[0;32m      4\u001b[0m     \u001b[1;32melse\u001b[0m\u001b[1;33m:\u001b[0m\u001b[1;33m\u001b[0m\u001b[1;33m\u001b[0m\u001b[0m\n\u001b[1;32m----> 5\u001b[1;33m         \u001b[1;32mreturn\u001b[0m\u001b[1;33m(\u001b[0m\u001b[0mrecur_fib\u001b[0m\u001b[1;33m(\u001b[0m\u001b[0mn\u001b[0m\u001b[1;33m-\u001b[0m\u001b[1;36m1\u001b[0m\u001b[1;33m)\u001b[0m \u001b[1;33m+\u001b[0m \u001b[0mrecur_fib\u001b[0m\u001b[1;33m(\u001b[0m\u001b[0mn\u001b[0m\u001b[1;33m-\u001b[0m\u001b[1;36m2\u001b[0m\u001b[1;33m)\u001b[0m\u001b[1;33m)\u001b[0m\u001b[1;33m\u001b[0m\u001b[1;33m\u001b[0m\u001b[0m\n\u001b[0m",
      "\u001b[1;32m<ipython-input-251-f5c814f9570d>\u001b[0m in \u001b[0;36mrecur_fib\u001b[1;34m(n)\u001b[0m\n\u001b[0;32m      3\u001b[0m         \u001b[1;32mreturn\u001b[0m \u001b[0mn\u001b[0m\u001b[1;33m\u001b[0m\u001b[1;33m\u001b[0m\u001b[0m\n\u001b[0;32m      4\u001b[0m     \u001b[1;32melse\u001b[0m\u001b[1;33m:\u001b[0m\u001b[1;33m\u001b[0m\u001b[1;33m\u001b[0m\u001b[0m\n\u001b[1;32m----> 5\u001b[1;33m         \u001b[1;32mreturn\u001b[0m\u001b[1;33m(\u001b[0m\u001b[0mrecur_fib\u001b[0m\u001b[1;33m(\u001b[0m\u001b[0mn\u001b[0m\u001b[1;33m-\u001b[0m\u001b[1;36m1\u001b[0m\u001b[1;33m)\u001b[0m \u001b[1;33m+\u001b[0m \u001b[0mrecur_fib\u001b[0m\u001b[1;33m(\u001b[0m\u001b[0mn\u001b[0m\u001b[1;33m-\u001b[0m\u001b[1;36m2\u001b[0m\u001b[1;33m)\u001b[0m\u001b[1;33m)\u001b[0m\u001b[1;33m\u001b[0m\u001b[1;33m\u001b[0m\u001b[0m\n\u001b[0m",
      "\u001b[1;32m<ipython-input-251-f5c814f9570d>\u001b[0m in \u001b[0;36mrecur_fib\u001b[1;34m(n)\u001b[0m\n\u001b[0;32m      3\u001b[0m         \u001b[1;32mreturn\u001b[0m \u001b[0mn\u001b[0m\u001b[1;33m\u001b[0m\u001b[1;33m\u001b[0m\u001b[0m\n\u001b[0;32m      4\u001b[0m     \u001b[1;32melse\u001b[0m\u001b[1;33m:\u001b[0m\u001b[1;33m\u001b[0m\u001b[1;33m\u001b[0m\u001b[0m\n\u001b[1;32m----> 5\u001b[1;33m         \u001b[1;32mreturn\u001b[0m\u001b[1;33m(\u001b[0m\u001b[0mrecur_fib\u001b[0m\u001b[1;33m(\u001b[0m\u001b[0mn\u001b[0m\u001b[1;33m-\u001b[0m\u001b[1;36m1\u001b[0m\u001b[1;33m)\u001b[0m \u001b[1;33m+\u001b[0m \u001b[0mrecur_fib\u001b[0m\u001b[1;33m(\u001b[0m\u001b[0mn\u001b[0m\u001b[1;33m-\u001b[0m\u001b[1;36m2\u001b[0m\u001b[1;33m)\u001b[0m\u001b[1;33m)\u001b[0m\u001b[1;33m\u001b[0m\u001b[1;33m\u001b[0m\u001b[0m\n\u001b[0m",
      "\u001b[1;32m<ipython-input-251-f5c814f9570d>\u001b[0m in \u001b[0;36mrecur_fib\u001b[1;34m(n)\u001b[0m\n\u001b[0;32m      3\u001b[0m         \u001b[1;32mreturn\u001b[0m \u001b[0mn\u001b[0m\u001b[1;33m\u001b[0m\u001b[1;33m\u001b[0m\u001b[0m\n\u001b[0;32m      4\u001b[0m     \u001b[1;32melse\u001b[0m\u001b[1;33m:\u001b[0m\u001b[1;33m\u001b[0m\u001b[1;33m\u001b[0m\u001b[0m\n\u001b[1;32m----> 5\u001b[1;33m         \u001b[1;32mreturn\u001b[0m\u001b[1;33m(\u001b[0m\u001b[0mrecur_fib\u001b[0m\u001b[1;33m(\u001b[0m\u001b[0mn\u001b[0m\u001b[1;33m-\u001b[0m\u001b[1;36m1\u001b[0m\u001b[1;33m)\u001b[0m \u001b[1;33m+\u001b[0m \u001b[0mrecur_fib\u001b[0m\u001b[1;33m(\u001b[0m\u001b[0mn\u001b[0m\u001b[1;33m-\u001b[0m\u001b[1;36m2\u001b[0m\u001b[1;33m)\u001b[0m\u001b[1;33m)\u001b[0m\u001b[1;33m\u001b[0m\u001b[1;33m\u001b[0m\u001b[0m\n\u001b[0m",
      "\u001b[1;32m<ipython-input-251-f5c814f9570d>\u001b[0m in \u001b[0;36mrecur_fib\u001b[1;34m(n)\u001b[0m\n\u001b[0;32m      3\u001b[0m         \u001b[1;32mreturn\u001b[0m \u001b[0mn\u001b[0m\u001b[1;33m\u001b[0m\u001b[1;33m\u001b[0m\u001b[0m\n\u001b[0;32m      4\u001b[0m     \u001b[1;32melse\u001b[0m\u001b[1;33m:\u001b[0m\u001b[1;33m\u001b[0m\u001b[1;33m\u001b[0m\u001b[0m\n\u001b[1;32m----> 5\u001b[1;33m         \u001b[1;32mreturn\u001b[0m\u001b[1;33m(\u001b[0m\u001b[0mrecur_fib\u001b[0m\u001b[1;33m(\u001b[0m\u001b[0mn\u001b[0m\u001b[1;33m-\u001b[0m\u001b[1;36m1\u001b[0m\u001b[1;33m)\u001b[0m \u001b[1;33m+\u001b[0m \u001b[0mrecur_fib\u001b[0m\u001b[1;33m(\u001b[0m\u001b[0mn\u001b[0m\u001b[1;33m-\u001b[0m\u001b[1;36m2\u001b[0m\u001b[1;33m)\u001b[0m\u001b[1;33m)\u001b[0m\u001b[1;33m\u001b[0m\u001b[1;33m\u001b[0m\u001b[0m\n\u001b[0m",
      "\u001b[1;32m<ipython-input-251-f5c814f9570d>\u001b[0m in \u001b[0;36mrecur_fib\u001b[1;34m(n)\u001b[0m\n\u001b[0;32m      3\u001b[0m         \u001b[1;32mreturn\u001b[0m \u001b[0mn\u001b[0m\u001b[1;33m\u001b[0m\u001b[1;33m\u001b[0m\u001b[0m\n\u001b[0;32m      4\u001b[0m     \u001b[1;32melse\u001b[0m\u001b[1;33m:\u001b[0m\u001b[1;33m\u001b[0m\u001b[1;33m\u001b[0m\u001b[0m\n\u001b[1;32m----> 5\u001b[1;33m         \u001b[1;32mreturn\u001b[0m\u001b[1;33m(\u001b[0m\u001b[0mrecur_fib\u001b[0m\u001b[1;33m(\u001b[0m\u001b[0mn\u001b[0m\u001b[1;33m-\u001b[0m\u001b[1;36m1\u001b[0m\u001b[1;33m)\u001b[0m \u001b[1;33m+\u001b[0m \u001b[0mrecur_fib\u001b[0m\u001b[1;33m(\u001b[0m\u001b[0mn\u001b[0m\u001b[1;33m-\u001b[0m\u001b[1;36m2\u001b[0m\u001b[1;33m)\u001b[0m\u001b[1;33m)\u001b[0m\u001b[1;33m\u001b[0m\u001b[1;33m\u001b[0m\u001b[0m\n\u001b[0m",
      "\u001b[1;32m<ipython-input-251-f5c814f9570d>\u001b[0m in \u001b[0;36mrecur_fib\u001b[1;34m(n)\u001b[0m\n\u001b[0;32m      3\u001b[0m         \u001b[1;32mreturn\u001b[0m \u001b[0mn\u001b[0m\u001b[1;33m\u001b[0m\u001b[1;33m\u001b[0m\u001b[0m\n\u001b[0;32m      4\u001b[0m     \u001b[1;32melse\u001b[0m\u001b[1;33m:\u001b[0m\u001b[1;33m\u001b[0m\u001b[1;33m\u001b[0m\u001b[0m\n\u001b[1;32m----> 5\u001b[1;33m         \u001b[1;32mreturn\u001b[0m\u001b[1;33m(\u001b[0m\u001b[0mrecur_fib\u001b[0m\u001b[1;33m(\u001b[0m\u001b[0mn\u001b[0m\u001b[1;33m-\u001b[0m\u001b[1;36m1\u001b[0m\u001b[1;33m)\u001b[0m \u001b[1;33m+\u001b[0m \u001b[0mrecur_fib\u001b[0m\u001b[1;33m(\u001b[0m\u001b[0mn\u001b[0m\u001b[1;33m-\u001b[0m\u001b[1;36m2\u001b[0m\u001b[1;33m)\u001b[0m\u001b[1;33m)\u001b[0m\u001b[1;33m\u001b[0m\u001b[1;33m\u001b[0m\u001b[0m\n\u001b[0m",
      "\u001b[1;32m<ipython-input-251-f5c814f9570d>\u001b[0m in \u001b[0;36mrecur_fib\u001b[1;34m(n)\u001b[0m\n\u001b[0;32m      3\u001b[0m         \u001b[1;32mreturn\u001b[0m \u001b[0mn\u001b[0m\u001b[1;33m\u001b[0m\u001b[1;33m\u001b[0m\u001b[0m\n\u001b[0;32m      4\u001b[0m     \u001b[1;32melse\u001b[0m\u001b[1;33m:\u001b[0m\u001b[1;33m\u001b[0m\u001b[1;33m\u001b[0m\u001b[0m\n\u001b[1;32m----> 5\u001b[1;33m         \u001b[1;32mreturn\u001b[0m\u001b[1;33m(\u001b[0m\u001b[0mrecur_fib\u001b[0m\u001b[1;33m(\u001b[0m\u001b[0mn\u001b[0m\u001b[1;33m-\u001b[0m\u001b[1;36m1\u001b[0m\u001b[1;33m)\u001b[0m \u001b[1;33m+\u001b[0m \u001b[0mrecur_fib\u001b[0m\u001b[1;33m(\u001b[0m\u001b[0mn\u001b[0m\u001b[1;33m-\u001b[0m\u001b[1;36m2\u001b[0m\u001b[1;33m)\u001b[0m\u001b[1;33m)\u001b[0m\u001b[1;33m\u001b[0m\u001b[1;33m\u001b[0m\u001b[0m\n\u001b[0m",
      "\u001b[1;32m<ipython-input-251-f5c814f9570d>\u001b[0m in \u001b[0;36mrecur_fib\u001b[1;34m(n)\u001b[0m\n\u001b[0;32m      3\u001b[0m         \u001b[1;32mreturn\u001b[0m \u001b[0mn\u001b[0m\u001b[1;33m\u001b[0m\u001b[1;33m\u001b[0m\u001b[0m\n\u001b[0;32m      4\u001b[0m     \u001b[1;32melse\u001b[0m\u001b[1;33m:\u001b[0m\u001b[1;33m\u001b[0m\u001b[1;33m\u001b[0m\u001b[0m\n\u001b[1;32m----> 5\u001b[1;33m         \u001b[1;32mreturn\u001b[0m\u001b[1;33m(\u001b[0m\u001b[0mrecur_fib\u001b[0m\u001b[1;33m(\u001b[0m\u001b[0mn\u001b[0m\u001b[1;33m-\u001b[0m\u001b[1;36m1\u001b[0m\u001b[1;33m)\u001b[0m \u001b[1;33m+\u001b[0m \u001b[0mrecur_fib\u001b[0m\u001b[1;33m(\u001b[0m\u001b[0mn\u001b[0m\u001b[1;33m-\u001b[0m\u001b[1;36m2\u001b[0m\u001b[1;33m)\u001b[0m\u001b[1;33m)\u001b[0m\u001b[1;33m\u001b[0m\u001b[1;33m\u001b[0m\u001b[0m\n\u001b[0m",
      "\u001b[1;32m<ipython-input-251-f5c814f9570d>\u001b[0m in \u001b[0;36mrecur_fib\u001b[1;34m(n)\u001b[0m\n\u001b[0;32m      3\u001b[0m         \u001b[1;32mreturn\u001b[0m \u001b[0mn\u001b[0m\u001b[1;33m\u001b[0m\u001b[1;33m\u001b[0m\u001b[0m\n\u001b[0;32m      4\u001b[0m     \u001b[1;32melse\u001b[0m\u001b[1;33m:\u001b[0m\u001b[1;33m\u001b[0m\u001b[1;33m\u001b[0m\u001b[0m\n\u001b[1;32m----> 5\u001b[1;33m         \u001b[1;32mreturn\u001b[0m\u001b[1;33m(\u001b[0m\u001b[0mrecur_fib\u001b[0m\u001b[1;33m(\u001b[0m\u001b[0mn\u001b[0m\u001b[1;33m-\u001b[0m\u001b[1;36m1\u001b[0m\u001b[1;33m)\u001b[0m \u001b[1;33m+\u001b[0m \u001b[0mrecur_fib\u001b[0m\u001b[1;33m(\u001b[0m\u001b[0mn\u001b[0m\u001b[1;33m-\u001b[0m\u001b[1;36m2\u001b[0m\u001b[1;33m)\u001b[0m\u001b[1;33m)\u001b[0m\u001b[1;33m\u001b[0m\u001b[1;33m\u001b[0m\u001b[0m\n\u001b[0m",
      "\u001b[1;32m<ipython-input-251-f5c814f9570d>\u001b[0m in \u001b[0;36mrecur_fib\u001b[1;34m(n)\u001b[0m\n\u001b[0;32m      3\u001b[0m         \u001b[1;32mreturn\u001b[0m \u001b[0mn\u001b[0m\u001b[1;33m\u001b[0m\u001b[1;33m\u001b[0m\u001b[0m\n\u001b[0;32m      4\u001b[0m     \u001b[1;32melse\u001b[0m\u001b[1;33m:\u001b[0m\u001b[1;33m\u001b[0m\u001b[1;33m\u001b[0m\u001b[0m\n\u001b[1;32m----> 5\u001b[1;33m         \u001b[1;32mreturn\u001b[0m\u001b[1;33m(\u001b[0m\u001b[0mrecur_fib\u001b[0m\u001b[1;33m(\u001b[0m\u001b[0mn\u001b[0m\u001b[1;33m-\u001b[0m\u001b[1;36m1\u001b[0m\u001b[1;33m)\u001b[0m \u001b[1;33m+\u001b[0m \u001b[0mrecur_fib\u001b[0m\u001b[1;33m(\u001b[0m\u001b[0mn\u001b[0m\u001b[1;33m-\u001b[0m\u001b[1;36m2\u001b[0m\u001b[1;33m)\u001b[0m\u001b[1;33m)\u001b[0m\u001b[1;33m\u001b[0m\u001b[1;33m\u001b[0m\u001b[0m\n\u001b[0m",
      "\u001b[1;32m<ipython-input-251-f5c814f9570d>\u001b[0m in \u001b[0;36mrecur_fib\u001b[1;34m(n)\u001b[0m\n\u001b[0;32m      3\u001b[0m         \u001b[1;32mreturn\u001b[0m \u001b[0mn\u001b[0m\u001b[1;33m\u001b[0m\u001b[1;33m\u001b[0m\u001b[0m\n\u001b[0;32m      4\u001b[0m     \u001b[1;32melse\u001b[0m\u001b[1;33m:\u001b[0m\u001b[1;33m\u001b[0m\u001b[1;33m\u001b[0m\u001b[0m\n\u001b[1;32m----> 5\u001b[1;33m         \u001b[1;32mreturn\u001b[0m\u001b[1;33m(\u001b[0m\u001b[0mrecur_fib\u001b[0m\u001b[1;33m(\u001b[0m\u001b[0mn\u001b[0m\u001b[1;33m-\u001b[0m\u001b[1;36m1\u001b[0m\u001b[1;33m)\u001b[0m \u001b[1;33m+\u001b[0m \u001b[0mrecur_fib\u001b[0m\u001b[1;33m(\u001b[0m\u001b[0mn\u001b[0m\u001b[1;33m-\u001b[0m\u001b[1;36m2\u001b[0m\u001b[1;33m)\u001b[0m\u001b[1;33m)\u001b[0m\u001b[1;33m\u001b[0m\u001b[1;33m\u001b[0m\u001b[0m\n\u001b[0m",
      "\u001b[1;32m<ipython-input-251-f5c814f9570d>\u001b[0m in \u001b[0;36mrecur_fib\u001b[1;34m(n)\u001b[0m\n\u001b[0;32m      3\u001b[0m         \u001b[1;32mreturn\u001b[0m \u001b[0mn\u001b[0m\u001b[1;33m\u001b[0m\u001b[1;33m\u001b[0m\u001b[0m\n\u001b[0;32m      4\u001b[0m     \u001b[1;32melse\u001b[0m\u001b[1;33m:\u001b[0m\u001b[1;33m\u001b[0m\u001b[1;33m\u001b[0m\u001b[0m\n\u001b[1;32m----> 5\u001b[1;33m         \u001b[1;32mreturn\u001b[0m\u001b[1;33m(\u001b[0m\u001b[0mrecur_fib\u001b[0m\u001b[1;33m(\u001b[0m\u001b[0mn\u001b[0m\u001b[1;33m-\u001b[0m\u001b[1;36m1\u001b[0m\u001b[1;33m)\u001b[0m \u001b[1;33m+\u001b[0m \u001b[0mrecur_fib\u001b[0m\u001b[1;33m(\u001b[0m\u001b[0mn\u001b[0m\u001b[1;33m-\u001b[0m\u001b[1;36m2\u001b[0m\u001b[1;33m)\u001b[0m\u001b[1;33m)\u001b[0m\u001b[1;33m\u001b[0m\u001b[1;33m\u001b[0m\u001b[0m\n\u001b[0m",
      "\u001b[1;32m<ipython-input-251-f5c814f9570d>\u001b[0m in \u001b[0;36mrecur_fib\u001b[1;34m(n)\u001b[0m\n\u001b[0;32m      3\u001b[0m         \u001b[1;32mreturn\u001b[0m \u001b[0mn\u001b[0m\u001b[1;33m\u001b[0m\u001b[1;33m\u001b[0m\u001b[0m\n\u001b[0;32m      4\u001b[0m     \u001b[1;32melse\u001b[0m\u001b[1;33m:\u001b[0m\u001b[1;33m\u001b[0m\u001b[1;33m\u001b[0m\u001b[0m\n\u001b[1;32m----> 5\u001b[1;33m         \u001b[1;32mreturn\u001b[0m\u001b[1;33m(\u001b[0m\u001b[0mrecur_fib\u001b[0m\u001b[1;33m(\u001b[0m\u001b[0mn\u001b[0m\u001b[1;33m-\u001b[0m\u001b[1;36m1\u001b[0m\u001b[1;33m)\u001b[0m \u001b[1;33m+\u001b[0m \u001b[0mrecur_fib\u001b[0m\u001b[1;33m(\u001b[0m\u001b[0mn\u001b[0m\u001b[1;33m-\u001b[0m\u001b[1;36m2\u001b[0m\u001b[1;33m)\u001b[0m\u001b[1;33m)\u001b[0m\u001b[1;33m\u001b[0m\u001b[1;33m\u001b[0m\u001b[0m\n\u001b[0m",
      "\u001b[1;32m<ipython-input-251-f5c814f9570d>\u001b[0m in \u001b[0;36mrecur_fib\u001b[1;34m(n)\u001b[0m\n\u001b[0;32m      3\u001b[0m         \u001b[1;32mreturn\u001b[0m \u001b[0mn\u001b[0m\u001b[1;33m\u001b[0m\u001b[1;33m\u001b[0m\u001b[0m\n\u001b[0;32m      4\u001b[0m     \u001b[1;32melse\u001b[0m\u001b[1;33m:\u001b[0m\u001b[1;33m\u001b[0m\u001b[1;33m\u001b[0m\u001b[0m\n\u001b[1;32m----> 5\u001b[1;33m         \u001b[1;32mreturn\u001b[0m\u001b[1;33m(\u001b[0m\u001b[0mrecur_fib\u001b[0m\u001b[1;33m(\u001b[0m\u001b[0mn\u001b[0m\u001b[1;33m-\u001b[0m\u001b[1;36m1\u001b[0m\u001b[1;33m)\u001b[0m \u001b[1;33m+\u001b[0m \u001b[0mrecur_fib\u001b[0m\u001b[1;33m(\u001b[0m\u001b[0mn\u001b[0m\u001b[1;33m-\u001b[0m\u001b[1;36m2\u001b[0m\u001b[1;33m)\u001b[0m\u001b[1;33m)\u001b[0m\u001b[1;33m\u001b[0m\u001b[1;33m\u001b[0m\u001b[0m\n\u001b[0m",
      "\u001b[1;32m<ipython-input-251-f5c814f9570d>\u001b[0m in \u001b[0;36mrecur_fib\u001b[1;34m(n)\u001b[0m\n\u001b[0;32m      3\u001b[0m         \u001b[1;32mreturn\u001b[0m \u001b[0mn\u001b[0m\u001b[1;33m\u001b[0m\u001b[1;33m\u001b[0m\u001b[0m\n\u001b[0;32m      4\u001b[0m     \u001b[1;32melse\u001b[0m\u001b[1;33m:\u001b[0m\u001b[1;33m\u001b[0m\u001b[1;33m\u001b[0m\u001b[0m\n\u001b[1;32m----> 5\u001b[1;33m         \u001b[1;32mreturn\u001b[0m\u001b[1;33m(\u001b[0m\u001b[0mrecur_fib\u001b[0m\u001b[1;33m(\u001b[0m\u001b[0mn\u001b[0m\u001b[1;33m-\u001b[0m\u001b[1;36m1\u001b[0m\u001b[1;33m)\u001b[0m \u001b[1;33m+\u001b[0m \u001b[0mrecur_fib\u001b[0m\u001b[1;33m(\u001b[0m\u001b[0mn\u001b[0m\u001b[1;33m-\u001b[0m\u001b[1;36m2\u001b[0m\u001b[1;33m)\u001b[0m\u001b[1;33m)\u001b[0m\u001b[1;33m\u001b[0m\u001b[1;33m\u001b[0m\u001b[0m\n\u001b[0m",
      "\u001b[1;32m<ipython-input-251-f5c814f9570d>\u001b[0m in \u001b[0;36mrecur_fib\u001b[1;34m(n)\u001b[0m\n\u001b[0;32m      3\u001b[0m         \u001b[1;32mreturn\u001b[0m \u001b[0mn\u001b[0m\u001b[1;33m\u001b[0m\u001b[1;33m\u001b[0m\u001b[0m\n\u001b[0;32m      4\u001b[0m     \u001b[1;32melse\u001b[0m\u001b[1;33m:\u001b[0m\u001b[1;33m\u001b[0m\u001b[1;33m\u001b[0m\u001b[0m\n\u001b[1;32m----> 5\u001b[1;33m         \u001b[1;32mreturn\u001b[0m\u001b[1;33m(\u001b[0m\u001b[0mrecur_fib\u001b[0m\u001b[1;33m(\u001b[0m\u001b[0mn\u001b[0m\u001b[1;33m-\u001b[0m\u001b[1;36m1\u001b[0m\u001b[1;33m)\u001b[0m \u001b[1;33m+\u001b[0m \u001b[0mrecur_fib\u001b[0m\u001b[1;33m(\u001b[0m\u001b[0mn\u001b[0m\u001b[1;33m-\u001b[0m\u001b[1;36m2\u001b[0m\u001b[1;33m)\u001b[0m\u001b[1;33m)\u001b[0m\u001b[1;33m\u001b[0m\u001b[1;33m\u001b[0m\u001b[0m\n\u001b[0m",
      "\u001b[1;32m<ipython-input-251-f5c814f9570d>\u001b[0m in \u001b[0;36mrecur_fib\u001b[1;34m(n)\u001b[0m\n\u001b[0;32m      3\u001b[0m         \u001b[1;32mreturn\u001b[0m \u001b[0mn\u001b[0m\u001b[1;33m\u001b[0m\u001b[1;33m\u001b[0m\u001b[0m\n\u001b[0;32m      4\u001b[0m     \u001b[1;32melse\u001b[0m\u001b[1;33m:\u001b[0m\u001b[1;33m\u001b[0m\u001b[1;33m\u001b[0m\u001b[0m\n\u001b[1;32m----> 5\u001b[1;33m         \u001b[1;32mreturn\u001b[0m\u001b[1;33m(\u001b[0m\u001b[0mrecur_fib\u001b[0m\u001b[1;33m(\u001b[0m\u001b[0mn\u001b[0m\u001b[1;33m-\u001b[0m\u001b[1;36m1\u001b[0m\u001b[1;33m)\u001b[0m \u001b[1;33m+\u001b[0m \u001b[0mrecur_fib\u001b[0m\u001b[1;33m(\u001b[0m\u001b[0mn\u001b[0m\u001b[1;33m-\u001b[0m\u001b[1;36m2\u001b[0m\u001b[1;33m)\u001b[0m\u001b[1;33m)\u001b[0m\u001b[1;33m\u001b[0m\u001b[1;33m\u001b[0m\u001b[0m\n\u001b[0m",
      "\u001b[1;31mKeyboardInterrupt\u001b[0m: "
     ]
    }
   ],
   "source": [
    "for i in range(100):\n",
    "    print(recur_fib(i))"
   ]
  },
  {
   "cell_type": "code",
   "execution_count": 253,
   "metadata": {},
   "outputs": [],
   "source": [
    "def fib(n):\n",
    "    a, b = 0, 1\n",
    "    for _ in range(n):\n",
    "        yield a\n",
    "        a, b = b, a + b"
   ]
  },
  {
   "cell_type": "code",
   "execution_count": 254,
   "metadata": {},
   "outputs": [
    {
     "name": "stdout",
     "output_type": "stream",
     "text": [
      "[0, 1, 1, 2, 3, 5, 8, 13, 21, 34, 55, 89, 144, 233, 377, 610, 987, 1597, 2584, 4181, 6765, 10946, 17711, 28657, 46368, 75025, 121393, 196418, 317811, 514229, 832040, 1346269, 2178309, 3524578, 5702887, 9227465, 14930352, 24157817, 39088169, 63245986, 102334155, 165580141, 267914296, 433494437, 701408733, 1134903170, 1836311903, 2971215073, 4807526976, 7778742049, 12586269025, 20365011074, 32951280099, 53316291173, 86267571272, 139583862445, 225851433717, 365435296162, 591286729879, 956722026041, 1548008755920, 2504730781961, 4052739537881, 6557470319842, 10610209857723, 17167680177565, 27777890035288, 44945570212853, 72723460248141, 117669030460994, 190392490709135, 308061521170129, 498454011879264, 806515533049393, 1304969544928657, 2111485077978050, 3416454622906707, 5527939700884757, 8944394323791464, 14472334024676221, 23416728348467685, 37889062373143906, 61305790721611591, 99194853094755497, 160500643816367088, 259695496911122585, 420196140727489673, 679891637638612258, 1100087778366101931, 1779979416004714189, 2880067194370816120, 4660046610375530309, 7540113804746346429, 12200160415121876738, 19740274219868223167, 31940434634990099905, 51680708854858323072, 83621143489848422977, 135301852344706746049, 218922995834555169026]\n"
     ]
    }
   ],
   "source": [
    "print(list(fib(100)))"
   ]
  },
  {
   "cell_type": "markdown",
   "metadata": {},
   "source": [
    "# Your homework\n",
    "We are going to use python dictionaries to help us learn Chinese and Hindi.\n",
    "\n",
    "Every time we find an intersting english sentence to translate, we use [google translate](https://translate.google.com/) to translate it to hindi and chinese, and we store the translations in a dictionary, keyed by the time we enter the data and a random guid."
   ]
  },
  {
   "cell_type": "code",
   "execution_count": 21,
   "metadata": {},
   "outputs": [],
   "source": [
    "from bson.objectid import ObjectId\n",
    "from datetime import datetime\n",
    "import random\n",
    "random.seed(3)\n",
    "\n",
    "def prefix_crud_timestamp_suffix(key):\n",
    "    prefix = key[:3]\n",
    "    crud = key[3:4]\n",
    "    #hyphens = [i for i in range(len(key[:4])) if key[:4].startswith('-'', i)]\n",
    "    hyphen1 = key.find('-')\n",
    "    hyphen2 = key[5:].find('-')\n",
    "    timestamp = key[hyphen1+1:hyphen1+1+hyphen2]\n",
    "    suffix = key[hyphen1+hyphen2+2:]\n",
    "    return prefix, crud, timestamp, suffix #coll, op, time, guid\n",
    "\n",
    "## seconds since midnight, simulate non-contiguous times\n",
    "def ssm():\n",
    "    now = datetime.now()\n",
    "    midnight = now.replace(hour=0, minute=0, second=0, microsecond=0)\n",
    "    return str((now - midnight).seconds + random.randint(0, 1000))\n",
    "\n",
    "words = dict()\n",
    "def enter_words(en, zh = None, hi = None):\n",
    "    uid = ('zhon-' if zh != None else 'hind-' if hi != None else 'oops-') + ssm() + '-' + str(ObjectId())\n",
    "    words[uid] = (\n",
    "        dict(english = en, chinese = zh, _id = uid) if zh != None else \n",
    "        dict(english = en, hindi = hi, _id = uid) if hi != None else\n",
    "        dict(_id = uid)\n",
    "    )"
   ]
  },
  {
   "cell_type": "markdown",
   "metadata": {},
   "source": [
    "Here's the structure of our key for an example translation: The first part is the language, the second part is the time (as an integer counter), the third part is a guid (random string)."
   ]
  },
  {
   "cell_type": "code",
   "execution_count": 22,
   "metadata": {},
   "outputs": [
    {
     "data": {
      "text/plain": [
       "'zhon-33836-6331a6f9f06ead3e9c385237'"
      ]
     },
     "execution_count": 22,
     "metadata": {},
     "output_type": "execute_result"
    }
   ],
   "source": [
    "en = \"\"\"If a person has not had a chance to acquire his target language by the time he's an adult, \n",
    "he's unlikely to be able to reach native speaker level in that language\"\"\"\n",
    "zh = '如果一個人在成人前沒有機會習得目標語言，他對該語言的認識達到母語者程度的機會是相當小的'\n",
    "('zhon-' if zh != None else 'hind-' if hi != None else 'oops-') + ssm() + '-' + str(ObjectId())"
   ]
  },
  {
   "cell_type": "markdown",
   "metadata": {},
   "source": [
    "We are going to *simulate* the data entering process. I'll give you two files with translations of english sentences, one for chinese, anotehr for hindi (from my NLP class):"
   ]
  },
  {
   "cell_type": "code",
   "execution_count": 23,
   "metadata": {},
   "outputs": [],
   "source": [
    "file1 = open('data/cmn.txt', 'r', encoding='utf8')\n",
    "lines = file1.readlines()\n",
    "file1.close()\n",
    "\n",
    "for i,l in enumerate(lines):\n",
    "    t2 = l.split('\\t')\n",
    "    enter_words(t2[0][:-1], zh = t2[1][:-1])"
   ]
  },
  {
   "cell_type": "code",
   "execution_count": 24,
   "metadata": {},
   "outputs": [],
   "source": [
    "file1 = open('data/hin.txt', 'r', encoding='utf8')\n",
    "lines = file1.readlines()\n",
    "file1.close()\n",
    "\n",
    "for i,l in enumerate(lines):\n",
    "    t2 = l.split('\\t')\n",
    "    enter_words(t2[0][:-1], hi = t2[1][:-1])"
   ]
  },
  {
   "cell_type": "markdown",
   "metadata": {},
   "source": [
    "Dictionaries *have no built-in ordering*! That means that if you enumerate on dictionary items, they will appear *unordered*:"
   ]
  },
  {
   "cell_type": "code",
   "execution_count": 25,
   "metadata": {},
   "outputs": [
    {
     "name": "stdout",
     "output_type": "stream",
     "text": [
      "[('zhon-34200-6331a6faf06ead3e9c385238', {'english': 'Hi', 'chinese': '嗨', '_id': 'zhon-34200-6331a6faf06ead3e9c385238'}), ('zhon-34151-6331a6faf06ead3e9c385239', {'english': 'Hi', 'chinese': '你好', '_id': 'zhon-34151-6331a6faf06ead3e9c385239'}), ('zhon-33727-6331a6faf06ead3e9c38523a', {'english': 'Run', 'chinese': '你用跑的', '_id': 'zhon-33727-6331a6faf06ead3e9c38523a'}), ('zhon-33972-6331a6faf06ead3e9c38523b', {'english': 'Wait', 'chinese': '等等', '_id': 'zhon-33972-6331a6faf06ead3e9c38523b'}), ('zhon-34531-6331a6faf06ead3e9c38523c', {'english': 'Wait', 'chinese': '等一下', '_id': 'zhon-34531-6331a6faf06ead3e9c38523c'}), ('zhon-34212-6331a6faf06ead3e9c38523d', {'english': 'Hello', 'chinese': '你好', '_id': 'zhon-34212-6331a6faf06ead3e9c38523d'}), ('zhon-34079-6331a6faf06ead3e9c38523e', {'english': 'Dino', 'chinese': '迪诺', '_id': 'zhon-34079-6331a6faf06ead3e9c38523e'}), ('zhon-34234-6331a6faf06ead3e9c38523f', {'english': 'I try', 'chinese': '让我来', '_id': 'zhon-34234-6331a6faf06ead3e9c38523f'}), ('zhon-34188-6331a6faf06ead3e9c385240', {'english': 'I won', 'chinese': '我赢了', '_id': 'zhon-34188-6331a6faf06ead3e9c385240'}), ('zhon-33661-6331a6faf06ead3e9c385241', {'english': 'Oh no', 'chinese': '不会吧', '_id': 'zhon-33661-6331a6faf06ead3e9c385241'})]\n"
     ]
    }
   ],
   "source": [
    "print([(u,v) for i,(u,v) in enumerate(words.items()) if i < 10 ])"
   ]
  },
  {
   "cell_type": "markdown",
   "metadata": {},
   "source": [
    "So now I have *one* dictionary for *both* chinese and hindi!\n",
    "\n",
    "Let's separate them into two dictionaries:"
   ]
  },
  {
   "cell_type": "code",
   "execution_count": 26,
   "metadata": {},
   "outputs": [],
   "source": [
    "separated = dict()\n",
    "separated['chinese'] = {k:v for k,v in words.items() if k.startswith('zhon')}\n",
    "separated['hindi'] = {k:v for k,v in words.items() if k.startswith('hind')}"
   ]
  },
  {
   "cell_type": "code",
   "execution_count": 27,
   "metadata": {},
   "outputs": [
    {
     "name": "stdout",
     "output_type": "stream",
     "text": [
      "[('hind-33842-6331a6fbf06ead3e9c38a874', {'english': 'Wow', 'hindi': 'वाह', '_id': 'hind-33842-6331a6fbf06ead3e9c38a874'}), ('hind-34201-6331a6fbf06ead3e9c38a875', {'english': 'Help', 'hindi': 'बचाओ', '_id': 'hind-34201-6331a6fbf06ead3e9c38a875'}), ('hind-34430-6331a6fbf06ead3e9c38a876', {'english': 'Jump', 'hindi': 'उछलो', '_id': 'hind-34430-6331a6fbf06ead3e9c38a876'}), ('hind-34205-6331a6fbf06ead3e9c38a877', {'english': 'Jump', 'hindi': 'कूदो', '_id': 'hind-34205-6331a6fbf06ead3e9c38a877'}), ('hind-33793-6331a6fbf06ead3e9c38a878', {'english': 'Jump', 'hindi': 'छलांग', '_id': 'hind-33793-6331a6fbf06ead3e9c38a878'}), ('hind-33742-6331a6fbf06ead3e9c38a879', {'english': 'Hello', 'hindi': 'नमस्ते', '_id': 'hind-33742-6331a6fbf06ead3e9c38a879'}), ('hind-34102-6331a6fbf06ead3e9c38a87a', {'english': 'Hello', 'hindi': 'नमस्कार', '_id': 'hind-34102-6331a6fbf06ead3e9c38a87a'}), ('hind-34207-6331a6fbf06ead3e9c38a87b', {'english': 'Cheers', 'hindi': 'वाह-वाह', '_id': 'hind-34207-6331a6fbf06ead3e9c38a87b'}), ('hind-34028-6331a6fbf06ead3e9c38a87c', {'english': 'Cheers', 'hindi': 'चियर्स', '_id': 'hind-34028-6331a6fbf06ead3e9c38a87c'}), ('hind-33970-6331a6fbf06ead3e9c38a87d', {'english': 'Got it', 'hindi': 'समझे कि नहीं', '_id': 'hind-33970-6331a6fbf06ead3e9c38a87d'})]\n"
     ]
    }
   ],
   "source": [
    "print([(u,v) for i,(u,v) in enumerate(separated['hindi'].items()) if i < 10 ])"
   ]
  },
  {
   "cell_type": "code",
   "execution_count": null,
   "metadata": {},
   "outputs": [],
   "source": []
  },
  {
   "cell_type": "code",
   "execution_count": null,
   "metadata": {},
   "outputs": [],
   "source": []
  },
  {
   "cell_type": "markdown",
   "metadata": {},
   "source": [
    "The key has the format `language-time-randomguid` (we simulated `time` by adding a random number to number of seconds since midnight). Suppose I want to be able to practice my sentences every day in the (simulated) order that we saved them, and that every day, I want to be able to *see a specific number of sentences with a time greater than a specific time* (entered as an integer: number of seconds from midnight).\n",
    "\n",
    "- **Question 1 (50 points)**: Given how many sentences I want to see (variable `n`), and a certain time of the day specified as number of seconds past midnight (variable `ssm`) write code that yields *the next `n` (given as input) sentences of both the chinese and hindi dictionaries, past a certain specified `ssm` that represents a time (given as input)*. Structure the result as a **dictionary** with two keys: `chinese` and `hindi`.\n",
    "\n",
    "- **Question 2 (50 points)**: Rewrite your code in Dua Lipa style: In the smallest number of lines of python (e.g. a few!). Line continuations are allowed. For example:\n",
    "```\n",
    "{\n",
    "    'chinese' : {k:v for k,v in .....},\n",
    "    'hindi' : {k:v for k,v in .....},\n",
    "}\n",
    "```\n",
    "counts for one line of code.\n",
    "\n",
    "Time your Dua Lipa code with `%%time`. Shorter times combined with most beautiful Dua Lipa code get best grades :-)"
   ]
  },
  {
   "cell_type": "code",
   "execution_count": 37,
   "metadata": {},
   "outputs": [
    {
     "name": "stdout",
     "output_type": "stream",
     "text": [
      "CPU times: total: 46.9 ms\n",
      "Wall time: 52.7 ms\n"
     ]
    }
   ],
   "source": [
    "%%time\n",
    "res=[]\n",
    "cdict={}\n",
    "hdict={}\n",
    "clist=[]\n",
    "hlist=[]\n",
    "n=3\n",
    "ssm=33000\n",
    "for key in separated['chinese']:\n",
    "    keysplit=key.split(\"-\")\n",
    "    if(int(keysplit[1])>ssm):\n",
    "        clist.append(key)\n",
    "        clist.append(separated['chinese'][key])\n",
    "for key in separated['hindi']:\n",
    "    keysplit=key.split(\"-\")\n",
    "    if(int(keysplit[1])>ssm):\n",
    "        hlist.append(key)\n",
    "        hlist.append(separated['hindi'][key])"
   ]
  },
  {
   "cell_type": "code",
   "execution_count": 38,
   "metadata": {},
   "outputs": [],
   "source": [
    "clist=clist[0:2*n]\n",
    "hlist=hlist[0:2*n]"
   ]
  },
  {
   "cell_type": "code",
   "execution_count": 39,
   "metadata": {},
   "outputs": [
    {
     "name": "stdout",
     "output_type": "stream",
     "text": [
      "CPU times: total: 0 ns\n",
      "Wall time: 0 ns\n"
     ]
    }
   ],
   "source": [
    "%%time\n",
    "def Convert(mylst):\n",
    "    res_dct = {mylst[i]: mylst[i + 1] for i in range(0, len(mylst), 2)}\n",
    "    return res_dct\n",
    "         \n",
    "cdict=Convert(clist)\n",
    "hdict=Convert(hlist)"
   ]
  },
  {
   "cell_type": "code",
   "execution_count": 40,
   "metadata": {},
   "outputs": [
    {
     "data": {
      "text/plain": [
       "{'chinese': {'zhon-34200-6331a6faf06ead3e9c385238': {'english': 'Hi',\n",
       "   'chinese': '嗨',\n",
       "   '_id': 'zhon-34200-6331a6faf06ead3e9c385238'},\n",
       "  'zhon-34151-6331a6faf06ead3e9c385239': {'english': 'Hi',\n",
       "   'chinese': '你好',\n",
       "   '_id': 'zhon-34151-6331a6faf06ead3e9c385239'},\n",
       "  'zhon-33727-6331a6faf06ead3e9c38523a': {'english': 'Run',\n",
       "   'chinese': '你用跑的',\n",
       "   '_id': 'zhon-33727-6331a6faf06ead3e9c38523a'}},\n",
       " 'hindi': {'hind-33842-6331a6fbf06ead3e9c38a874': {'english': 'Wow',\n",
       "   'hindi': 'वाह',\n",
       "   '_id': 'hind-33842-6331a6fbf06ead3e9c38a874'},\n",
       "  'hind-34201-6331a6fbf06ead3e9c38a875': {'english': 'Help',\n",
       "   'hindi': 'बचाओ',\n",
       "   '_id': 'hind-34201-6331a6fbf06ead3e9c38a875'},\n",
       "  'hind-34430-6331a6fbf06ead3e9c38a876': {'english': 'Jump',\n",
       "   'hindi': 'उछलो',\n",
       "   '_id': 'hind-34430-6331a6fbf06ead3e9c38a876'}}}"
      ]
     },
     "execution_count": 40,
     "metadata": {},
     "output_type": "execute_result"
    }
   ],
   "source": [
    "res={'chinese':cdict,'hindi':hdict}\n",
    "res"
   ]
  },
  {
   "cell_type": "markdown",
   "metadata": {},
   "source": [
    "# Part 2"
   ]
  },
  {
   "cell_type": "code",
   "execution_count": 35,
   "metadata": {},
   "outputs": [
    {
     "data": {
      "text/plain": [
       "{'zhon-34200-6331a6faf06ead3e9c385238': {'english': 'Hi',\n",
       "  'chinese': '嗨',\n",
       "  '_id': 'zhon-34200-6331a6faf06ead3e9c385238'},\n",
       " 'zhon-34151-6331a6faf06ead3e9c385239': {'english': 'Hi',\n",
       "  'chinese': '你好',\n",
       "  '_id': 'zhon-34151-6331a6faf06ead3e9c385239'},\n",
       " 'zhon-33727-6331a6faf06ead3e9c38523a': {'english': 'Run',\n",
       "  'chinese': '你用跑的',\n",
       "  '_id': 'zhon-33727-6331a6faf06ead3e9c38523a'},\n",
       " 'zhon-33972-6331a6faf06ead3e9c38523b': {'english': 'Wait',\n",
       "  'chinese': '等等',\n",
       "  '_id': 'zhon-33972-6331a6faf06ead3e9c38523b'},\n",
       " 'zhon-34531-6331a6faf06ead3e9c38523c': {'english': 'Wait',\n",
       "  'chinese': '等一下',\n",
       "  '_id': 'zhon-34531-6331a6faf06ead3e9c38523c'},\n",
       " 'zhon-34212-6331a6faf06ead3e9c38523d': {'english': 'Hello',\n",
       "  'chinese': '你好',\n",
       "  '_id': 'zhon-34212-6331a6faf06ead3e9c38523d'},\n",
       " 'zhon-34079-6331a6faf06ead3e9c38523e': {'english': 'Dino',\n",
       "  'chinese': '迪诺',\n",
       "  '_id': 'zhon-34079-6331a6faf06ead3e9c38523e'},\n",
       " 'zhon-34234-6331a6faf06ead3e9c38523f': {'english': 'I try',\n",
       "  'chinese': '让我来',\n",
       "  '_id': 'zhon-34234-6331a6faf06ead3e9c38523f'},\n",
       " 'zhon-34188-6331a6faf06ead3e9c385240': {'english': 'I won',\n",
       "  'chinese': '我赢了',\n",
       "  '_id': 'zhon-34188-6331a6faf06ead3e9c385240'},\n",
       " 'zhon-33661-6331a6faf06ead3e9c385241': {'english': 'Oh no',\n",
       "  'chinese': '不会吧',\n",
       "  '_id': 'zhon-33661-6331a6faf06ead3e9c385241'},\n",
       " 'zhon-34214-6331a6faf06ead3e9c385242': {'english': 'Cheers',\n",
       "  'chinese': '乾杯',\n",
       "  '_id': 'zhon-34214-6331a6faf06ead3e9c385242'},\n",
       " 'zhon-33607-6331a6faf06ead3e9c385243': {'english': 'Got it',\n",
       "  'chinese': '你懂了吗',\n",
       "  '_id': 'zhon-33607-6331a6faf06ead3e9c385243'},\n",
       " 'zhon-34524-6331a6faf06ead3e9c385244': {'english': 'He ran',\n",
       "  'chinese': '他跑了',\n",
       "  '_id': 'zhon-34524-6331a6faf06ead3e9c385244'},\n",
       " 'zhon-34451-6331a6faf06ead3e9c385245': {'english': 'Hop in',\n",
       "  'chinese': '跳进来',\n",
       "  '_id': 'zhon-34451-6331a6faf06ead3e9c385245'},\n",
       " 'zhon-34074-6331a6faf06ead3e9c385246': {'english': 'I quit',\n",
       "  'chinese': '我退出',\n",
       "  '_id': 'zhon-34074-6331a6faf06ead3e9c385246'},\n",
       " 'zhon-33859-6331a6faf06ead3e9c385247': {'english': \"I'm OK\",\n",
       "  'chinese': '我沒事',\n",
       "  '_id': 'zhon-33859-6331a6faf06ead3e9c385247'},\n",
       " 'zhon-34158-6331a6faf06ead3e9c385248': {'english': 'Listen',\n",
       "  'chinese': '听着',\n",
       "  '_id': 'zhon-34158-6331a6faf06ead3e9c385248'},\n",
       " 'zhon-33833-6331a6faf06ead3e9c385249': {'english': 'No way',\n",
       "  'chinese': '不可能',\n",
       "  '_id': 'zhon-33833-6331a6faf06ead3e9c385249'},\n",
       " 'zhon-33790-6331a6faf06ead3e9c38524a': {'english': 'No way',\n",
       "  'chinese': '没门',\n",
       "  '_id': 'zhon-33790-6331a6faf06ead3e9c38524a'},\n",
       " 'zhon-34328-6331a6faf06ead3e9c38524b': {'english': 'Really',\n",
       "  'chinese': '你确定',\n",
       "  '_id': 'zhon-34328-6331a6faf06ead3e9c38524b'},\n",
       " 'zhon-34075-6331a6faf06ead3e9c38524c': {'english': 'Try it',\n",
       "  'chinese': '试试吧',\n",
       "  '_id': 'zhon-34075-6331a6faf06ead3e9c38524c'},\n",
       " 'zhon-34147-6331a6faf06ead3e9c38524d': {'english': 'We try',\n",
       "  'chinese': '我们来试试',\n",
       "  '_id': 'zhon-34147-6331a6faf06ead3e9c38524d'},\n",
       " 'zhon-34450-6331a6faf06ead3e9c38524e': {'english': 'Why me',\n",
       "  'chinese': '为什么是我',\n",
       "  '_id': 'zhon-34450-6331a6faf06ead3e9c38524e'},\n",
       " 'zhon-34156-6331a6faf06ead3e9c38524f': {'english': 'Ask Tom',\n",
       "  'chinese': '去问汤姆',\n",
       "  '_id': 'zhon-34156-6331a6faf06ead3e9c38524f'},\n",
       " 'zhon-34081-6331a6faf06ead3e9c385250': {'english': 'Awesome',\n",
       "  'chinese': '好棒',\n",
       "  '_id': 'zhon-34081-6331a6faf06ead3e9c385250'},\n",
       " 'zhon-34000-6331a6faf06ead3e9c385251': {'english': 'Be calm',\n",
       "  'chinese': '冷静点',\n",
       "  '_id': 'zhon-34000-6331a6faf06ead3e9c385251'},\n",
       " 'zhon-34248-6331a6faf06ead3e9c385252': {'english': 'Be fair',\n",
       "  'chinese': '公平点',\n",
       "  '_id': 'zhon-34248-6331a6faf06ead3e9c385252'},\n",
       " 'zhon-34475-6331a6faf06ead3e9c385253': {'english': 'Be kind',\n",
       "  'chinese': '友善点',\n",
       "  '_id': 'zhon-34475-6331a6faf06ead3e9c385253'},\n",
       " 'zhon-33748-6331a6faf06ead3e9c385254': {'english': 'Be nice',\n",
       "  'chinese': '和气点',\n",
       "  '_id': 'zhon-33748-6331a6faf06ead3e9c385254'},\n",
       " 'zhon-33831-6331a6faf06ead3e9c385255': {'english': 'Be nice',\n",
       "  'chinese': '友善点',\n",
       "  '_id': 'zhon-33831-6331a6faf06ead3e9c385255'},\n",
       " 'zhon-34244-6331a6faf06ead3e9c385256': {'english': 'Call me',\n",
       "  'chinese': '联系我',\n",
       "  '_id': 'zhon-34244-6331a6faf06ead3e9c385256'},\n",
       " 'zhon-33749-6331a6faf06ead3e9c385257': {'english': 'Call us',\n",
       "  'chinese': '联系我们',\n",
       "  '_id': 'zhon-33749-6331a6faf06ead3e9c385257'},\n",
       " 'zhon-34482-6331a6faf06ead3e9c385258': {'english': 'Come in',\n",
       "  'chinese': '进来',\n",
       "  '_id': 'zhon-34482-6331a6faf06ead3e9c385258'},\n",
       " 'zhon-34542-6331a6faf06ead3e9c385259': {'english': 'Get Tom',\n",
       "  'chinese': '找到汤姆',\n",
       "  '_id': 'zhon-34542-6331a6faf06ead3e9c385259'},\n",
       " 'zhon-34129-6331a6faf06ead3e9c38525a': {'english': 'Get out',\n",
       "  'chinese': '滾出去',\n",
       "  '_id': 'zhon-34129-6331a6faf06ead3e9c38525a'},\n",
       " 'zhon-33993-6331a6faf06ead3e9c38525b': {'english': 'Get out',\n",
       "  'chinese': '出去',\n",
       "  '_id': 'zhon-33993-6331a6faf06ead3e9c38525b'},\n",
       " 'zhon-34353-6331a6faf06ead3e9c38525c': {'english': 'Go away',\n",
       "  'chinese': '走開',\n",
       "  '_id': 'zhon-34353-6331a6faf06ead3e9c38525c'},\n",
       " 'zhon-33609-6331a6faf06ead3e9c38525d': {'english': 'Go away',\n",
       "  'chinese': '滾',\n",
       "  '_id': 'zhon-33609-6331a6faf06ead3e9c38525d'},\n",
       " 'zhon-34281-6331a6faf06ead3e9c38525e': {'english': 'Go away',\n",
       "  'chinese': '走開',\n",
       "  '_id': 'zhon-34281-6331a6faf06ead3e9c38525e'},\n",
       " 'zhon-34389-6331a6faf06ead3e9c38525f': {'english': 'Go home',\n",
       "  'chinese': '回家吧',\n",
       "  '_id': 'zhon-34389-6331a6faf06ead3e9c38525f'},\n",
       " 'zhon-33659-6331a6faf06ead3e9c385260': {'english': 'Goodbye',\n",
       "  'chinese': '再见',\n",
       "  '_id': 'zhon-33659-6331a6faf06ead3e9c385260'},\n",
       " 'zhon-33757-6331a6faf06ead3e9c385261': {'english': 'Goodbye',\n",
       "  'chinese': '告辞',\n",
       "  '_id': 'zhon-33757-6331a6faf06ead3e9c385261'},\n",
       " 'zhon-34370-6331a6faf06ead3e9c385262': {'english': 'Hang on',\n",
       "  'chinese': '坚持',\n",
       "  '_id': 'zhon-34370-6331a6faf06ead3e9c385262'},\n",
       " 'zhon-34574-6331a6faf06ead3e9c385263': {'english': 'Hang on',\n",
       "  'chinese': '等一下',\n",
       "  '_id': 'zhon-34574-6331a6faf06ead3e9c385263'},\n",
       " 'zhon-34199-6331a6faf06ead3e9c385264': {'english': 'Hang on',\n",
       "  'chinese': '坚持',\n",
       "  '_id': 'zhon-34199-6331a6faf06ead3e9c385264'},\n",
       " 'zhon-33637-6331a6faf06ead3e9c385265': {'english': 'He came',\n",
       "  'chinese': '他来了',\n",
       "  '_id': 'zhon-33637-6331a6faf06ead3e9c385265'},\n",
       " 'zhon-33902-6331a6faf06ead3e9c385266': {'english': 'He runs',\n",
       "  'chinese': '他跑',\n",
       "  '_id': 'zhon-33902-6331a6faf06ead3e9c385266'},\n",
       " 'zhon-34392-6331a6faf06ead3e9c385267': {'english': 'Help me',\n",
       "  'chinese': '帮我一下',\n",
       "  '_id': 'zhon-34392-6331a6faf06ead3e9c385267'},\n",
       " 'zhon-33625-6331a6faf06ead3e9c385268': {'english': 'Help us',\n",
       "  'chinese': '帮帮我们吧',\n",
       "  '_id': 'zhon-33625-6331a6faf06ead3e9c385268'},\n",
       " 'zhon-34437-6331a6faf06ead3e9c385269': {'english': 'Hold on',\n",
       "  'chinese': '坚持',\n",
       "  '_id': 'zhon-34437-6331a6faf06ead3e9c385269'},\n",
       " 'zhon-34480-6331a6faf06ead3e9c38526a': {'english': 'Hug Tom',\n",
       "  'chinese': '抱抱汤姆',\n",
       "  '_id': 'zhon-34480-6331a6faf06ead3e9c38526a'},\n",
       " 'zhon-33869-6331a6faf06ead3e9c38526b': {'english': 'Hug Tom',\n",
       "  'chinese': '请抱紧汤姆',\n",
       "  '_id': 'zhon-33869-6331a6faf06ead3e9c38526b'},\n",
       " 'zhon-34078-6331a6faf06ead3e9c38526c': {'english': 'I agree',\n",
       "  'chinese': '我同意',\n",
       "  '_id': 'zhon-34078-6331a6faf06ead3e9c38526c'},\n",
       " 'zhon-34203-6331a6faf06ead3e9c38526d': {'english': \"I'm ill\",\n",
       "  'chinese': '我生病了',\n",
       "  '_id': 'zhon-34203-6331a6faf06ead3e9c38526d'},\n",
       " 'zhon-34330-6331a6faf06ead3e9c38526e': {'english': \"I'm old\",\n",
       "  'chinese': '我老了',\n",
       "  '_id': 'zhon-34330-6331a6faf06ead3e9c38526e'},\n",
       " 'zhon-34536-6331a6faf06ead3e9c38526f': {'english': \"I'm wet\",\n",
       "  'chinese': '我濕了',\n",
       "  '_id': 'zhon-34536-6331a6faf06ead3e9c38526f'},\n",
       " 'zhon-34493-6331a6faf06ead3e9c385270': {'english': \"It's OK\",\n",
       "  'chinese': '没关系',\n",
       "  '_id': 'zhon-34493-6331a6faf06ead3e9c385270'},\n",
       " 'zhon-33990-6331a6faf06ead3e9c385271': {'english': \"It's me\",\n",
       "  'chinese': '是我',\n",
       "  '_id': 'zhon-33990-6331a6faf06ead3e9c385271'},\n",
       " 'zhon-34325-6331a6faf06ead3e9c385272': {'english': 'Join us',\n",
       "  'chinese': '来加入我们吧',\n",
       "  '_id': 'zhon-34325-6331a6faf06ead3e9c385272'},\n",
       " 'zhon-34401-6331a6faf06ead3e9c385273': {'english': 'Keep it',\n",
       "  'chinese': '留着吧',\n",
       "  '_id': 'zhon-34401-6331a6faf06ead3e9c385273'},\n",
       " 'zhon-34537-6331a6faf06ead3e9c385274': {'english': 'Kiss me',\n",
       "  'chinese': '吻我',\n",
       "  '_id': 'zhon-34537-6331a6faf06ead3e9c385274'},\n",
       " 'zhon-34031-6331a6faf06ead3e9c385275': {'english': 'Perfect',\n",
       "  'chinese': '完美',\n",
       "  '_id': 'zhon-34031-6331a6faf06ead3e9c385275'},\n",
       " 'zhon-33998-6331a6faf06ead3e9c385276': {'english': 'See you',\n",
       "  'chinese': '再见',\n",
       "  '_id': 'zhon-33998-6331a6faf06ead3e9c385276'},\n",
       " 'zhon-34339-6331a6faf06ead3e9c385277': {'english': 'Shut up',\n",
       "  'chinese': '閉嘴',\n",
       "  '_id': 'zhon-34339-6331a6faf06ead3e9c385277'},\n",
       " 'zhon-34414-6331a6faf06ead3e9c385278': {'english': 'Skip it',\n",
       "  'chinese': '不管它',\n",
       "  '_id': 'zhon-34414-6331a6faf06ead3e9c385278'},\n",
       " 'zhon-34184-6331a6faf06ead3e9c385279': {'english': 'Take it',\n",
       "  'chinese': '拿走吧',\n",
       "  '_id': 'zhon-34184-6331a6faf06ead3e9c385279'},\n",
       " 'zhon-34049-6331a6faf06ead3e9c38527a': {'english': 'Wake up',\n",
       "  'chinese': '醒醒',\n",
       "  '_id': 'zhon-34049-6331a6faf06ead3e9c38527a'},\n",
       " 'zhon-34581-6331a6faf06ead3e9c38527b': {'english': 'Wash up',\n",
       "  'chinese': '去清洗一下',\n",
       "  '_id': 'zhon-34581-6331a6faf06ead3e9c38527b'},\n",
       " 'zhon-34552-6331a6faf06ead3e9c38527c': {'english': 'We know',\n",
       "  'chinese': '我们知道',\n",
       "  '_id': 'zhon-34552-6331a6faf06ead3e9c38527c'},\n",
       " 'zhon-33731-6331a6faf06ead3e9c38527d': {'english': 'Welcome',\n",
       "  'chinese': '欢迎',\n",
       "  '_id': 'zhon-33731-6331a6faf06ead3e9c38527d'},\n",
       " 'zhon-34493-6331a6faf06ead3e9c38527e': {'english': 'Who won',\n",
       "  'chinese': '谁赢了',\n",
       "  '_id': 'zhon-34493-6331a6faf06ead3e9c38527e'},\n",
       " 'zhon-33968-6331a6faf06ead3e9c38527f': {'english': 'Why not',\n",
       "  'chinese': '为什么不',\n",
       "  '_id': 'zhon-33968-6331a6faf06ead3e9c38527f'},\n",
       " 'zhon-33693-6331a6faf06ead3e9c385280': {'english': 'You run',\n",
       "  'chinese': '你跑',\n",
       "  '_id': 'zhon-33693-6331a6faf06ead3e9c385280'},\n",
       " 'zhon-33630-6331a6faf06ead3e9c385281': {'english': 'Back off',\n",
       "  'chinese': '往后退点',\n",
       "  '_id': 'zhon-33630-6331a6faf06ead3e9c385281'},\n",
       " 'zhon-33733-6331a6faf06ead3e9c385282': {'english': 'Be still',\n",
       "  'chinese': '静静的，别动',\n",
       "  '_id': 'zhon-33733-6331a6faf06ead3e9c385282'},\n",
       " 'zhon-34100-6331a6faf06ead3e9c385283': {'english': 'Beats me',\n",
       "  'chinese': '我一无所知',\n",
       "  '_id': 'zhon-34100-6331a6faf06ead3e9c385283'},\n",
       " 'zhon-33816-6331a6faf06ead3e9c385284': {'english': 'Cuff him',\n",
       "  'chinese': '把他铐上',\n",
       "  '_id': 'zhon-33816-6331a6faf06ead3e9c385284'},\n",
       " 'zhon-33858-6331a6faf06ead3e9c385285': {'english': 'Drive on',\n",
       "  'chinese': '往前开',\n",
       "  '_id': 'zhon-33858-6331a6faf06ead3e9c385285'},\n",
       " 'zhon-34582-6331a6faf06ead3e9c385286': {'english': 'Get away',\n",
       "  'chinese': '走開',\n",
       "  '_id': 'zhon-34582-6331a6faf06ead3e9c385286'},\n",
       " 'zhon-34282-6331a6faf06ead3e9c385287': {'english': 'Get away',\n",
       "  'chinese': '滾',\n",
       "  '_id': 'zhon-34282-6331a6faf06ead3e9c385287'},\n",
       " 'zhon-34040-6331a6faf06ead3e9c385288': {'english': 'Get down',\n",
       "  'chinese': '趴下',\n",
       "  '_id': 'zhon-34040-6331a6faf06ead3e9c385288'},\n",
       " 'zhon-34391-6331a6faf06ead3e9c385289': {'english': 'Get lost',\n",
       "  'chinese': '滾',\n",
       "  '_id': 'zhon-34391-6331a6faf06ead3e9c385289'},\n",
       " 'zhon-34235-6331a6faf06ead3e9c38528a': {'english': 'Get real',\n",
       "  'chinese': '醒醒吧',\n",
       "  '_id': 'zhon-34235-6331a6faf06ead3e9c38528a'},\n",
       " 'zhon-34469-6331a6faf06ead3e9c38528b': {'english': 'Good job',\n",
       "  'chinese': '做得好',\n",
       "  '_id': 'zhon-34469-6331a6faf06ead3e9c38528b'},\n",
       " 'zhon-33902-6331a6faf06ead3e9c38528c': {'english': 'Good job',\n",
       "  'chinese': '干的好',\n",
       "  '_id': 'zhon-33902-6331a6faf06ead3e9c38528c'},\n",
       " 'zhon-34025-6331a6faf06ead3e9c38528d': {'english': 'Grab Tom',\n",
       "  'chinese': '抓住汤姆',\n",
       "  '_id': 'zhon-34025-6331a6faf06ead3e9c38528d'},\n",
       " 'zhon-34113-6331a6faf06ead3e9c38528e': {'english': 'Grab him',\n",
       "  'chinese': '抓住他',\n",
       "  '_id': 'zhon-34113-6331a6faf06ead3e9c38528e'},\n",
       " 'zhon-34447-6331a6faf06ead3e9c38528f': {'english': 'Have fun',\n",
       "  'chinese': '玩得開心',\n",
       "  '_id': 'zhon-34447-6331a6faf06ead3e9c38528f'},\n",
       " 'zhon-33989-6331a6faf06ead3e9c385290': {'english': 'He tries',\n",
       "  'chinese': '他来试试',\n",
       "  '_id': 'zhon-33989-6331a6faf06ead3e9c385290'},\n",
       " 'zhon-34181-6331a6faf06ead3e9c385291': {'english': 'How cute',\n",
       "  'chinese': '多可爱啊',\n",
       "  '_id': 'zhon-34181-6331a6faf06ead3e9c385291'},\n",
       " 'zhon-33953-6331a6faf06ead3e9c385292': {'english': 'Humor me',\n",
       "  'chinese': '你就随了我的意吧',\n",
       "  '_id': 'zhon-33953-6331a6faf06ead3e9c385292'},\n",
       " 'zhon-34140-6331a6faf06ead3e9c385293': {'english': 'Hurry up',\n",
       "  'chinese': '趕快',\n",
       "  '_id': 'zhon-34140-6331a6faf06ead3e9c385293'},\n",
       " 'zhon-34193-6331a6faf06ead3e9c385294': {'english': 'Hurry up',\n",
       "  'chinese': '快点',\n",
       "  '_id': 'zhon-34193-6331a6faf06ead3e9c385294'},\n",
       " 'zhon-34011-6331a6faf06ead3e9c385295': {'english': 'Hurry up',\n",
       "  'chinese': '快点',\n",
       "  '_id': 'zhon-34011-6331a6faf06ead3e9c385295'},\n",
       " 'zhon-34192-6331a6faf06ead3e9c385296': {'english': 'I forgot',\n",
       "  'chinese': '我忘了',\n",
       "  '_id': 'zhon-34192-6331a6faf06ead3e9c385296'},\n",
       " 'zhon-33831-6331a6faf06ead3e9c385297': {'english': 'I resign',\n",
       "  'chinese': '我放弃',\n",
       "  '_id': 'zhon-33831-6331a6faf06ead3e9c385297'},\n",
       " 'zhon-34519-6331a6faf06ead3e9c385298': {'english': \"I'll pay\",\n",
       "  'chinese': '我來付錢',\n",
       "  '_id': 'zhon-34519-6331a6faf06ead3e9c385298'},\n",
       " 'zhon-33938-6331a6faf06ead3e9c385299': {'english': \"I'm busy\",\n",
       "  'chinese': '我很忙',\n",
       "  '_id': 'zhon-33938-6331a6faf06ead3e9c385299'},\n",
       " 'zhon-34292-6331a6faf06ead3e9c38529a': {'english': \"I'm cold\",\n",
       "  'chinese': '我冷',\n",
       "  '_id': 'zhon-34292-6331a6faf06ead3e9c38529a'},\n",
       " 'zhon-34531-6331a6faf06ead3e9c38529b': {'english': \"I'm fine\",\n",
       "  'chinese': '我很好',\n",
       "  '_id': 'zhon-34531-6331a6faf06ead3e9c38529b'},\n",
       " 'zhon-34545-6331a6faf06ead3e9c38529c': {'english': \"I'm full\",\n",
       "  'chinese': '我吃飽了',\n",
       "  '_id': 'zhon-34545-6331a6faf06ead3e9c38529c'},\n",
       " 'zhon-33623-6331a6faf06ead3e9c38529d': {'english': \"I'm lost\",\n",
       "  'chinese': '我迷失了',\n",
       "  '_id': 'zhon-33623-6331a6faf06ead3e9c38529d'},\n",
       " 'zhon-34470-6331a6faf06ead3e9c38529e': {'english': \"I'm sick\",\n",
       "  'chinese': '我生病了',\n",
       "  '_id': 'zhon-34470-6331a6faf06ead3e9c38529e'},\n",
       " 'zhon-33880-6331a6faf06ead3e9c38529f': {'english': \"I'm sick\",\n",
       "  'chinese': '我病了',\n",
       "  '_id': 'zhon-33880-6331a6faf06ead3e9c38529f'},\n",
       " 'zhon-34214-6331a6faf06ead3e9c3852a0': {'english': \"I'm tall\",\n",
       "  'chinese': '我个子高',\n",
       "  '_id': 'zhon-34214-6331a6faf06ead3e9c3852a0'},\n",
       " 'zhon-34281-6331a6faf06ead3e9c3852a1': {'english': 'Leave me',\n",
       "  'chinese': '让我一个人呆会儿',\n",
       "  '_id': 'zhon-34281-6331a6faf06ead3e9c3852a1'},\n",
       " 'zhon-34306-6331a6faf06ead3e9c3852a2': {'english': \"Let's go\",\n",
       "  'chinese': '走吧',\n",
       "  '_id': 'zhon-34306-6331a6faf06ead3e9c3852a2'},\n",
       " 'zhon-33761-6331a6faf06ead3e9c3852a3': {'english': \"Let's go\",\n",
       "  'chinese': '我們開始吧',\n",
       "  '_id': 'zhon-33761-6331a6faf06ead3e9c3852a3'},\n",
       " 'zhon-34309-6331a6faf06ead3e9c3852a4': {'english': \"Let's go\",\n",
       "  'chinese': '我們走吧',\n",
       "  '_id': 'zhon-34309-6331a6faf06ead3e9c3852a4'},\n",
       " 'zhon-34475-6331a6faf06ead3e9c3852a5': {'english': 'Look out',\n",
       "  'chinese': '当心',\n",
       "  '_id': 'zhon-34475-6331a6faf06ead3e9c3852a5'},\n",
       " 'zhon-33928-6331a6faf06ead3e9c3852a6': {'english': 'Say what',\n",
       "  'chinese': '啥',\n",
       "  '_id': 'zhon-33928-6331a6faf06ead3e9c3852a6'},\n",
       " 'zhon-34581-6331a6faf06ead3e9c3852a7': {'english': 'She runs',\n",
       "  'chinese': '她跑',\n",
       "  '_id': 'zhon-34581-6331a6faf06ead3e9c3852a7'},\n",
       " 'zhon-34148-6331a6faf06ead3e9c3852a8': {'english': 'Stand up',\n",
       "  'chinese': '起立',\n",
       "  '_id': 'zhon-34148-6331a6faf06ead3e9c3852a8'},\n",
       " 'zhon-34520-6331a6faf06ead3e9c3852a9': {'english': 'Terrific',\n",
       "  'chinese': '很棒',\n",
       "  '_id': 'zhon-34520-6331a6faf06ead3e9c3852a9'},\n",
       " 'zhon-34179-6331a6faf06ead3e9c3852aa': {'english': 'They won',\n",
       "  'chinese': '他们赢了',\n",
       "  '_id': 'zhon-34179-6331a6faf06ead3e9c3852aa'},\n",
       " 'zhon-34176-6331a6faf06ead3e9c3852ab': {'english': 'Tom died',\n",
       "  'chinese': '汤姆去世了',\n",
       "  '_id': 'zhon-34176-6331a6faf06ead3e9c3852ab'},\n",
       " 'zhon-33700-6331a6faf06ead3e9c3852ac': {'english': 'Tom lied',\n",
       "  'chinese': '汤姆说谎了',\n",
       "  '_id': 'zhon-33700-6331a6faf06ead3e9c3852ac'},\n",
       " 'zhon-34324-6331a6faf06ead3e9c3852ad': {'english': 'Tom quit',\n",
       "  'chinese': '汤姆不干了',\n",
       "  '_id': 'zhon-34324-6331a6faf06ead3e9c3852ad'},\n",
       " 'zhon-34265-6331a6faf06ead3e9c3852ae': {'english': 'Tom swam',\n",
       "  'chinese': '汤姆游泳了',\n",
       "  '_id': 'zhon-34265-6331a6faf06ead3e9c3852ae'},\n",
       " 'zhon-33810-6331a6faf06ead3e9c3852af': {'english': 'Trust me',\n",
       "  'chinese': '相信我',\n",
       "  '_id': 'zhon-33810-6331a6faf06ead3e9c3852af'},\n",
       " 'zhon-34242-6331a6faf06ead3e9c3852b0': {'english': 'Try hard',\n",
       "  'chinese': '努力',\n",
       "  '_id': 'zhon-34242-6331a6faf06ead3e9c3852b0'},\n",
       " 'zhon-34445-6331a6faf06ead3e9c3852b1': {'english': 'Try some',\n",
       "  'chinese': '试试吧',\n",
       "  '_id': 'zhon-34445-6331a6faf06ead3e9c3852b1'},\n",
       " 'zhon-34181-6331a6faf06ead3e9c3852b2': {'english': 'Who died',\n",
       "  'chinese': '谁死了',\n",
       "  '_id': 'zhon-34181-6331a6faf06ead3e9c3852b2'},\n",
       " 'zhon-33867-6331a6faf06ead3e9c3852b3': {'english': 'Birds fly',\n",
       "  'chinese': '鳥類飛行',\n",
       "  '_id': 'zhon-33867-6331a6faf06ead3e9c3852b3'},\n",
       " 'zhon-33885-6331a6faf06ead3e9c3852b4': {'english': 'Call home',\n",
       "  'chinese': '打电话回家',\n",
       "  '_id': 'zhon-33885-6331a6faf06ead3e9c3852b4'},\n",
       " 'zhon-33721-6331a6faf06ead3e9c3852b5': {'english': 'Calm down',\n",
       "  'chinese': '冷静点',\n",
       "  '_id': 'zhon-33721-6331a6faf06ead3e9c3852b5'},\n",
       " 'zhon-33658-6331a6faf06ead3e9c3852b6': {'english': 'Catch him',\n",
       "  'chinese': '抓住他',\n",
       "  '_id': 'zhon-33658-6331a6faf06ead3e9c3852b6'},\n",
       " 'zhon-34087-6331a6faf06ead3e9c3852b7': {'english': 'Come home',\n",
       "  'chinese': '回家吧',\n",
       "  '_id': 'zhon-34087-6331a6faf06ead3e9c3852b7'},\n",
       " 'zhon-34468-6331a6faf06ead3e9c3852b8': {'english': 'Cool down',\n",
       "  'chinese': '冷静点',\n",
       "  '_id': 'zhon-34468-6331a6faf06ead3e9c3852b8'},\n",
       " 'zhon-34248-6331a6faf06ead3e9c3852b9': {'english': 'Do it now',\n",
       "  'chinese': '現在就做',\n",
       "  '_id': 'zhon-34248-6331a6faf06ead3e9c3852b9'},\n",
       " 'zhon-34089-6331a6faf06ead3e9c3852ba': {'english': 'Dogs bark',\n",
       "  'chinese': '狗会叫',\n",
       "  '_id': 'zhon-34089-6331a6faf06ead3e9c3852ba'},\n",
       " 'zhon-33684-6331a6faf06ead3e9c3852bb': {'english': \"Don't cry\",\n",
       "  'chinese': '别哭',\n",
       "  '_id': 'zhon-33684-6331a6faf06ead3e9c3852bb'},\n",
       " 'zhon-33946-6331a6faf06ead3e9c3852bc': {'english': 'Excuse me',\n",
       "  'chinese': '对不起',\n",
       "  '_id': 'zhon-33946-6331a6faf06ead3e9c3852bc'},\n",
       " 'zhon-34413-6331a6faf06ead3e9c3852bd': {'english': 'Fantastic',\n",
       "  'chinese': '好棒',\n",
       "  '_id': 'zhon-34413-6331a6faf06ead3e9c3852bd'},\n",
       " 'zhon-33662-6331a6faf06ead3e9c3852be': {'english': 'Fantastic',\n",
       "  'chinese': '很棒',\n",
       "  '_id': 'zhon-33662-6331a6faf06ead3e9c3852be'},\n",
       " 'zhon-34014-6331a6faf06ead3e9c3852bf': {'english': 'Feel this',\n",
       "  'chinese': '来感受一下这个',\n",
       "  '_id': 'zhon-34014-6331a6faf06ead3e9c3852bf'},\n",
       " 'zhon-34512-6331a6faf06ead3e9c3852c0': {'english': 'Follow me',\n",
       "  'chinese': '请跟我来',\n",
       "  '_id': 'zhon-34512-6331a6faf06ead3e9c3852c0'},\n",
       " 'zhon-33748-6331a6faf06ead3e9c3852c1': {'english': 'Follow us',\n",
       "  'chinese': '请跟着我们',\n",
       "  '_id': 'zhon-33748-6331a6faf06ead3e9c3852c1'},\n",
       " 'zhon-33614-6331a6faf06ead3e9c3852c2': {'english': 'Good luck',\n",
       "  'chinese': '祝你好运',\n",
       "  '_id': 'zhon-33614-6331a6faf06ead3e9c3852c2'},\n",
       " 'zhon-33894-6331a6faf06ead3e9c3852c3': {'english': 'Grab that',\n",
       "  'chinese': '抓住那个',\n",
       "  '_id': 'zhon-33894-6331a6faf06ead3e9c3852c3'},\n",
       " 'zhon-34031-6331a6faf06ead3e9c3852c4': {'english': 'Grab this',\n",
       "  'chinese': '抓住这个',\n",
       "  '_id': 'zhon-34031-6331a6faf06ead3e9c3852c4'},\n",
       " 'zhon-34381-6331a6faf06ead3e9c3852c5': {'english': \"He's a DJ\",\n",
       "  'chinese': '他是一个 DJ ',\n",
       "  '_id': 'zhon-34381-6331a6faf06ead3e9c3852c5'},\n",
       " 'zhon-34019-6331a6faf06ead3e9c3852c6': {'english': \"He's lazy\",\n",
       "  'chinese': '他很懒',\n",
       "  '_id': 'zhon-34019-6331a6faf06ead3e9c3852c6'},\n",
       " 'zhon-34487-6331a6faf06ead3e9c3852c7': {'english': 'Hold fire',\n",
       "  'chinese': '停火',\n",
       "  '_id': 'zhon-34487-6331a6faf06ead3e9c3852c7'},\n",
       " 'zhon-33715-6331a6faf06ead3e9c3852c8': {'english': 'How awful',\n",
       "  'chinese': '太可怕了',\n",
       "  '_id': 'zhon-33715-6331a6faf06ead3e9c3852c8'},\n",
       " 'zhon-33639-6331a6faf06ead3e9c3852c9': {'english': 'How weird',\n",
       "  'chinese': '多怪啊',\n",
       "  '_id': 'zhon-33639-6331a6faf06ead3e9c3852c9'},\n",
       " 'zhon-34213-6331a6faf06ead3e9c3852ca': {'english': 'I am cold',\n",
       "  'chinese': '我冷',\n",
       "  '_id': 'zhon-34213-6331a6faf06ead3e9c3852ca'},\n",
       " 'zhon-34223-6331a6faf06ead3e9c3852cb': {'english': 'I am lost',\n",
       "  'chinese': '我迷失了',\n",
       "  '_id': 'zhon-34223-6331a6faf06ead3e9c3852cb'},\n",
       " 'zhon-34373-6331a6faf06ead3e9c3852cc': {'english': 'I am okay',\n",
       "  'chinese': '我沒事',\n",
       "  '_id': 'zhon-34373-6331a6faf06ead3e9c3852cc'},\n",
       " 'zhon-33640-6331a6faf06ead3e9c3852cd': {'english': 'I am sick',\n",
       "  'chinese': '我生病了',\n",
       "  '_id': 'zhon-33640-6331a6faf06ead3e9c3852cd'},\n",
       " 'zhon-33980-6331a6faf06ead3e9c3852ce': {'english': 'I am tall',\n",
       "  'chinese': '我个子高',\n",
       "  '_id': 'zhon-33980-6331a6faf06ead3e9c3852ce'},\n",
       " 'zhon-34329-6331a6faf06ead3e9c3852cf': {'english': 'I clapped',\n",
       "  'chinese': '我拍手',\n",
       "  '_id': 'zhon-34329-6331a6faf06ead3e9c3852cf'},\n",
       " 'zhon-34194-6331a6faf06ead3e9c3852d0': {'english': 'I get you',\n",
       "  'chinese': '我了解你',\n",
       "  '_id': 'zhon-34194-6331a6faf06ead3e9c3852d0'},\n",
       " 'zhon-33932-6331a6faf06ead3e9c3852d1': {'english': 'I give up',\n",
       "  'chinese': '我放弃',\n",
       "  '_id': 'zhon-33932-6331a6faf06ead3e9c3852d1'},\n",
       " 'zhon-34158-6331a6faf06ead3e9c3852d2': {'english': 'I hope so',\n",
       "  'chinese': '我希望如此',\n",
       "  '_id': 'zhon-34158-6331a6faf06ead3e9c3852d2'},\n",
       " 'zhon-34496-6331a6faf06ead3e9c3852d3': {'english': 'I laughed',\n",
       "  'chinese': '我笑了',\n",
       "  '_id': 'zhon-34496-6331a6faf06ead3e9c3852d3'},\n",
       " 'zhon-34538-6331a6faf06ead3e9c3852d4': {'english': 'I promise',\n",
       "  'chinese': '我向你保证',\n",
       "  '_id': 'zhon-34538-6331a6faf06ead3e9c3852d4'},\n",
       " 'zhon-33879-6331a6faf06ead3e9c3852d5': {'english': 'I saw Tom',\n",
       "  'chinese': '我看見湯姆了',\n",
       "  '_id': 'zhon-33879-6331a6faf06ead3e9c3852d5'},\n",
       " 'zhon-34111-6331a6faf06ead3e9c3852d6': {'english': 'I was shy',\n",
       "  'chinese': '我害羞',\n",
       "  '_id': 'zhon-34111-6331a6faf06ead3e9c3852d6'},\n",
       " 'zhon-33835-6331a6faf06ead3e9c3852d7': {'english': \"I'll swim\",\n",
       "  'chinese': '我要游泳',\n",
       "  '_id': 'zhon-33835-6331a6faf06ead3e9c3852d7'},\n",
       " 'zhon-33630-6331a6faf06ead3e9c3852d8': {'english': \"I'm a man\",\n",
       "  'chinese': '我是个男人',\n",
       "  '_id': 'zhon-33630-6331a6faf06ead3e9c3852d8'},\n",
       " 'zhon-33911-6331a6faf06ead3e9c3852d9': {'english': \"I'm bored\",\n",
       "  'chinese': '我覺得很無聊',\n",
       "  '_id': 'zhon-33911-6331a6faf06ead3e9c3852d9'},\n",
       " 'zhon-33601-6331a6faf06ead3e9c3852da': {'english': \"I'm right\",\n",
       "  'chinese': '我是對的',\n",
       "  '_id': 'zhon-33601-6331a6faf06ead3e9c3852da'},\n",
       " 'zhon-33672-6331a6faf06ead3e9c3852db': {'english': \"I'm sorry\",\n",
       "  'chinese': '对不起',\n",
       "  '_id': 'zhon-33672-6331a6faf06ead3e9c3852db'},\n",
       " 'zhon-33704-6331a6faf06ead3e9c3852dc': {'english': \"I'm sorry\",\n",
       "  'chinese': '我很抱歉',\n",
       "  '_id': 'zhon-33704-6331a6faf06ead3e9c3852dc'},\n",
       " 'zhon-34208-6331a6faf06ead3e9c3852dd': {'english': \"I'm young\",\n",
       "  'chinese': '我還年輕',\n",
       "  '_id': 'zhon-34208-6331a6faf06ead3e9c3852dd'},\n",
       " 'zhon-34142-6331a6faf06ead3e9c3852de': {'english': 'Is it far',\n",
       "  'chinese': '遠嗎',\n",
       "  '_id': 'zhon-34142-6331a6faf06ead3e9c3852de'},\n",
       " 'zhon-33626-6331a6faf06ead3e9c3852df': {'english': 'It snowed',\n",
       "  'chinese': '下雪了',\n",
       "  '_id': 'zhon-33626-6331a6faf06ead3e9c3852df'},\n",
       " 'zhon-34565-6331a6faf06ead3e9c3852e0': {'english': \"It's 3:30\",\n",
       "  'chinese': '3点半了',\n",
       "  '_id': 'zhon-34565-6331a6faf06ead3e9c3852e0'},\n",
       " 'zhon-33796-6331a6faf06ead3e9c3852e1': {'english': \"It's cold\",\n",
       "  'chinese': '天很冷',\n",
       "  '_id': 'zhon-33796-6331a6faf06ead3e9c3852e1'},\n",
       " 'zhon-34588-6331a6faf06ead3e9c3852e2': {'english': \"It's free\",\n",
       "  'chinese': '它是免費的',\n",
       "  '_id': 'zhon-34588-6331a6faf06ead3e9c3852e2'},\n",
       " 'zhon-34011-6331a6faf06ead3e9c3852e3': {'english': \"It's late\",\n",
       "  'chinese': '很晚了',\n",
       "  '_id': 'zhon-34011-6331a6faf06ead3e9c3852e3'},\n",
       " 'zhon-33892-6331a6faf06ead3e9c3852e4': {'english': \"It's true\",\n",
       "  'chinese': '這是真的',\n",
       "  '_id': 'zhon-33892-6331a6faf06ead3e9c3852e4'},\n",
       " 'zhon-34219-6331a6faf06ead3e9c3852e5': {'english': 'Keep them',\n",
       "  'chinese': '留着吧',\n",
       "  '_id': 'zhon-34219-6331a6faf06ead3e9c3852e5'},\n",
       " 'zhon-33863-6331a6faf06ead3e9c3852e6': {'english': 'Kill them',\n",
       "  'chinese': '殺了他',\n",
       "  '_id': 'zhon-33863-6331a6faf06ead3e9c3852e6'},\n",
       " 'zhon-33753-6331a6faf06ead3e9c3852e7': {'english': 'Let me in',\n",
       "  'chinese': '让我进去',\n",
       "  '_id': 'zhon-33753-6331a6faf06ead3e9c3852e7'},\n",
       " 'zhon-34300-6331a6faf06ead3e9c3852e8': {'english': 'Lie still',\n",
       "  'chinese': '躺着不动',\n",
       "  '_id': 'zhon-34300-6331a6faf06ead3e9c3852e8'},\n",
       " 'zhon-33637-6331a6faf06ead3e9c3852e9': {'english': 'Look back',\n",
       "  'chinese': '回头看',\n",
       "  '_id': 'zhon-33637-6331a6faf06ead3e9c3852e9'},\n",
       " 'zhon-34482-6331a6faf06ead3e9c3852ea': {'english': 'Move over',\n",
       "  'chinese': '腾一下地方',\n",
       "  '_id': 'zhon-34482-6331a6faf06ead3e9c3852ea'},\n",
       " 'zhon-33941-6331a6faf06ead3e9c3852eb': {'english': 'Of course',\n",
       "  'chinese': '當然',\n",
       "  '_id': 'zhon-33941-6331a6faf06ead3e9c3852eb'},\n",
       " 'zhon-33915-6331a6faf06ead3e9c3852ec': {'english': 'Of course',\n",
       "  'chinese': '當然',\n",
       "  '_id': 'zhon-33915-6331a6faf06ead3e9c3852ec'},\n",
       " 'zhon-33962-6331a6faf06ead3e9c3852ed': {'english': 'Of course',\n",
       "  'chinese': '当然了',\n",
       "  '_id': 'zhon-33962-6331a6faf06ead3e9c3852ed'},\n",
       " 'zhon-34575-6331a6faf06ead3e9c3852ee': {'english': 'Oh please',\n",
       "  'chinese': '噢拜托了',\n",
       "  '_id': 'zhon-34575-6331a6faf06ead3e9c3852ee'},\n",
       " 'zhon-33735-6331a6faf06ead3e9c3852ef': {'english': 'Open fire',\n",
       "  'chinese': '开火',\n",
       "  '_id': 'zhon-33735-6331a6faf06ead3e9c3852ef'},\n",
       " 'zhon-34512-6331a6faf06ead3e9c3852f0': {'english': 'Read this',\n",
       "  'chinese': '念这个',\n",
       "  '_id': 'zhon-34512-6331a6faf06ead3e9c3852f0'},\n",
       " 'zhon-34476-6331a6faf06ead3e9c3852f1': {'english': 'See above',\n",
       "  'chinese': '参见上文',\n",
       "  '_id': 'zhon-34476-6331a6faf06ead3e9c3852f1'},\n",
       " 'zhon-33980-6331a6faf06ead3e9c3852f2': {'english': 'She cried',\n",
       "  'chinese': '她哭了',\n",
       "  '_id': 'zhon-33980-6331a6faf06ead3e9c3852f2'},\n",
       " 'zhon-33979-6331a6faf06ead3e9c3852f3': {'english': 'She tried',\n",
       "  'chinese': '她试过了',\n",
       "  '_id': 'zhon-33979-6331a6faf06ead3e9c3852f3'},\n",
       " 'zhon-34065-6331a6faf06ead3e9c3852f4': {'english': 'She walks',\n",
       "  'chinese': '她在行走',\n",
       "  '_id': 'zhon-34065-6331a6faf06ead3e9c3852f4'},\n",
       " 'zhon-34484-6331a6faf06ead3e9c3852f5': {'english': 'Sit tight',\n",
       "  'chinese': '耐心等着',\n",
       "  '_id': 'zhon-34484-6331a6faf06ead3e9c3852f5'},\n",
       " 'zhon-34126-6331a6faf06ead3e9c3852f6': {'english': 'Slow down',\n",
       "  'chinese': '慢一點',\n",
       "  '_id': 'zhon-34126-6331a6faf06ead3e9c3852f6'},\n",
       " 'zhon-33989-6331a6faf06ead3e9c3852f7': {'english': 'Stay calm',\n",
       "  'chinese': '保持冷靜',\n",
       "  '_id': 'zhon-33989-6331a6faf06ead3e9c3852f7'},\n",
       " 'zhon-34253-6331a6faf06ead3e9c3852f8': {'english': 'Stay down',\n",
       "  'chinese': '趴着',\n",
       "  '_id': 'zhon-34253-6331a6faf06ead3e9c3852f8'},\n",
       " 'zhon-34481-6331a6faf06ead3e9c3852f9': {'english': 'Stop that',\n",
       "  'chinese': '住手',\n",
       "  '_id': 'zhon-34481-6331a6faf06ead3e9c3852f9'},\n",
       " 'zhon-34203-6331a6faf06ead3e9c3852fa': {'english': 'Take care',\n",
       "  'chinese': '照顾好自己',\n",
       "  '_id': 'zhon-34203-6331a6faf06ead3e9c3852fa'},\n",
       " 'zhon-34291-6331a6faf06ead3e9c3852fb': {'english': 'Take care',\n",
       "  'chinese': '照顾好自己',\n",
       "  '_id': 'zhon-34291-6331a6faf06ead3e9c3852fb'},\n",
       " 'zhon-34166-6331a6faf06ead3e9c3852fc': {'english': 'Thank you',\n",
       "  'chinese': '谢谢',\n",
       "  '_id': 'zhon-34166-6331a6faf06ead3e9c3852fc'},\n",
       " 'zhon-33699-6331a6faf06ead3e9c3852fd': {'english': 'Tom slept',\n",
       "  'chinese': '汤姆睡了',\n",
       "  '_id': 'zhon-33699-6331a6faf06ead3e9c3852fd'},\n",
       " 'zhon-34229-6331a6faf06ead3e9c3852fe': {'english': 'Tom swims',\n",
       "  'chinese': 'Tom游泳',\n",
       "  '_id': 'zhon-34229-6331a6faf06ead3e9c3852fe'},\n",
       " 'zhon-34590-6331a6faf06ead3e9c3852ff': {'english': 'Tom tried',\n",
       "  'chinese': '湯姆累了',\n",
       "  '_id': 'zhon-34590-6331a6faf06ead3e9c3852ff'},\n",
       " 'zhon-34557-6331a6faf06ead3e9c385300': {'english': 'Tom waved',\n",
       "  'chinese': '汤姆挥手了',\n",
       "  '_id': 'zhon-34557-6331a6faf06ead3e9c385300'},\n",
       " 'zhon-34424-6331a6faf06ead3e9c385301': {'english': \"Tom'll go\",\n",
       "  'chinese': '湯姆要走',\n",
       "  '_id': 'zhon-34424-6331a6faf06ead3e9c385301'},\n",
       " 'zhon-34113-6331a6faf06ead3e9c385302': {'english': 'Turn left',\n",
       "  'chinese': '向左转',\n",
       "  '_id': 'zhon-34113-6331a6faf06ead3e9c385302'},\n",
       " 'zhon-33871-6331a6faf06ead3e9c385303': {'english': 'Wait here',\n",
       "  'chinese': '在这等着',\n",
       "  '_id': 'zhon-33871-6331a6faf06ead3e9c385303'},\n",
       " 'zhon-34035-6331a6faf06ead3e9c385304': {'english': 'Watch out',\n",
       "  'chinese': '当心',\n",
       "  '_id': 'zhon-34035-6331a6faf06ead3e9c385304'},\n",
       " 'zhon-34243-6331a6faf06ead3e9c385305': {'english': 'Well done',\n",
       "  'chinese': '做得好',\n",
       "  '_id': 'zhon-34243-6331a6faf06ead3e9c385305'},\n",
       " 'zhon-34331-6331a6faf06ead3e9c385306': {'english': 'Well done',\n",
       "  'chinese': '干的好',\n",
       "  '_id': 'zhon-34331-6331a6faf06ead3e9c385306'},\n",
       " 'zhon-34326-6331a6faf06ead3e9c385307': {'english': 'Who cares',\n",
       "  'chinese': '爱谁谁',\n",
       "  '_id': 'zhon-34326-6331a6faf06ead3e9c385307'},\n",
       " 'zhon-33837-6331a6faf06ead3e9c385308': {'english': 'Wonderful',\n",
       "  'chinese': '很棒',\n",
       "  '_id': 'zhon-33837-6331a6faf06ead3e9c385308'},\n",
       " 'zhon-34552-6331a6faf06ead3e9c385309': {'english': 'You idiot',\n",
       "  'chinese': '蠢货',\n",
       "  '_id': 'zhon-34552-6331a6faf06ead3e9c385309'},\n",
       " 'zhon-33902-6331a6faf06ead3e9c38530a': {'english': 'You stink',\n",
       "  'chinese': '你身上发臭了',\n",
       "  '_id': 'zhon-33902-6331a6faf06ead3e9c38530a'},\n",
       " 'zhon-34041-6331a6faf06ead3e9c38530b': {'english': 'All aboard',\n",
       "  'chinese': '请上船',\n",
       "  '_id': 'zhon-34041-6331a6faf06ead3e9c38530b'},\n",
       " 'zhon-33858-6331a6faf06ead3e9c38530c': {'english': 'Am I wrong',\n",
       "  'chinese': '我錯了嗎',\n",
       "  '_id': 'zhon-33858-6331a6faf06ead3e9c38530c'},\n",
       " 'zhon-34127-6331a6faf06ead3e9c38530d': {'english': 'Be patient',\n",
       "  'chinese': '耐心等着',\n",
       "  '_id': 'zhon-34127-6331a6faf06ead3e9c38530d'},\n",
       " 'zhon-33904-6331a6faf06ead3e9c38530e': {'english': 'Birds sing',\n",
       "  'chinese': '鳥兒歌唱',\n",
       "  '_id': 'zhon-33904-6331a6faf06ead3e9c38530e'},\n",
       " 'zhon-34155-6331a6faf06ead3e9c38530f': {'english': 'Can I help',\n",
       "  'chinese': '我可以幫忙嗎',\n",
       "  '_id': 'zhon-34155-6331a6faf06ead3e9c38530f'},\n",
       " 'zhon-33941-6331a6faf06ead3e9c385310': {'english': 'Come on in',\n",
       "  'chinese': '进来',\n",
       "  '_id': 'zhon-33941-6331a6faf06ead3e9c385310'},\n",
       " 'zhon-33605-6331a6faf06ead3e9c385311': {'english': 'Definitely',\n",
       "  'chinese': '必须的',\n",
       "  '_id': 'zhon-33605-6331a6faf06ead3e9c385311'},\n",
       " 'zhon-34401-6331a6faf06ead3e9c385312': {'english': \"Don't move\",\n",
       "  'chinese': '别动',\n",
       "  '_id': 'zhon-34401-6331a6faf06ead3e9c385312'},\n",
       " 'zhon-34019-6331a6faf06ead3e9c385313': {'english': \"Don't move\",\n",
       "  'chinese': '不要动',\n",
       "  '_id': 'zhon-34019-6331a6faf06ead3e9c385313'},\n",
       " 'zhon-34187-6331a6faf06ead3e9c385314': {'english': \"Don't wait\",\n",
       "  'chinese': '不要等待',\n",
       "  '_id': 'zhon-34187-6331a6faf06ead3e9c385314'},\n",
       " 'zhon-33916-6331a6faf06ead3e9c385315': {'english': 'Fill it up',\n",
       "  'chinese': '把它填滿',\n",
       "  '_id': 'zhon-33916-6331a6faf06ead3e9c385315'},\n",
       " 'zhon-33614-6331a6faf06ead3e9c385316': {'english': 'Follow him',\n",
       "  'chinese': '跟著他走',\n",
       "  '_id': 'zhon-33614-6331a6faf06ead3e9c385316'},\n",
       " 'zhon-33979-6331a6faf06ead3e9c385317': {'english': 'Go on home',\n",
       "  'chinese': '回家吧',\n",
       "  '_id': 'zhon-33979-6331a6faf06ead3e9c385317'},\n",
       " 'zhon-34224-6331a6faf06ead3e9c385318': {'english': 'God exists',\n",
       "  'chinese': '上帝存在',\n",
       "  '_id': 'zhon-34224-6331a6faf06ead3e9c385318'},\n",
       " 'zhon-34197-6331a6faf06ead3e9c385319': {'english': 'Good night',\n",
       "  'chinese': '晚安',\n",
       "  '_id': 'zhon-34197-6331a6faf06ead3e9c385319'},\n",
       " 'zhon-34241-6331a6faf06ead3e9c38531a': {'english': 'He gave in',\n",
       "  'chinese': '他让步了',\n",
       "  '_id': 'zhon-34241-6331a6faf06ead3e9c38531a'},\n",
       " 'zhon-33730-6331a6faf06ead3e9c38531b': {'english': 'He is lazy',\n",
       "  'chinese': '他很懒',\n",
       "  '_id': 'zhon-33730-6331a6faf06ead3e9c38531b'},\n",
       " 'zhon-33655-6331a6faf06ead3e9c38531c': {'english': 'He is mean',\n",
       "  'chinese': '他很凶',\n",
       "  '_id': 'zhon-33655-6331a6faf06ead3e9c38531c'},\n",
       " 'zhon-34242-6331a6faf06ead3e9c38531d': {'english': 'He is poor',\n",
       "  'chinese': '他很穷',\n",
       "  '_id': 'zhon-34242-6331a6faf06ead3e9c38531d'},\n",
       " 'zhon-34236-6331a6faf06ead3e9c38531e': {'english': 'He is tall',\n",
       "  'chinese': '他高',\n",
       "  '_id': 'zhon-34236-6331a6faf06ead3e9c38531e'},\n",
       " 'zhon-33934-6331a6faf06ead3e9c38531f': {'english': 'Hello, Tom',\n",
       "  'chinese': '你好，汤姆',\n",
       "  '_id': 'zhon-33934-6331a6faf06ead3e9c38531f'},\n",
       " 'zhon-34071-6331a6faf06ead3e9c385320': {'english': 'Hey, relax',\n",
       "  'chinese': '嘿，放松点',\n",
       "  '_id': 'zhon-34071-6331a6faf06ead3e9c385320'},\n",
       " 'zhon-33955-6331a6faf06ead3e9c385321': {'english': 'How lovely',\n",
       "  'chinese': '多可爱啊',\n",
       "  '_id': 'zhon-33955-6331a6faf06ead3e9c385321'},\n",
       " 'zhon-34289-6331a6faf06ead3e9c385322': {'english': \"How's work\",\n",
       "  'chinese': '工作怎么样',\n",
       "  '_id': 'zhon-34289-6331a6faf06ead3e9c385322'},\n",
       " 'zhon-34533-6331a6faf06ead3e9c385323': {'english': 'Hurry home',\n",
       "  'chinese': '赶快回家',\n",
       "  '_id': 'zhon-34533-6331a6faf06ead3e9c385323'},\n",
       " 'zhon-33955-6331a6faf06ead3e9c385324': {'english': 'I am a man',\n",
       "  'chinese': '我是个男人',\n",
       "  '_id': 'zhon-33955-6331a6faf06ead3e9c385324'},\n",
       " 'zhon-34217-6331a6faf06ead3e9c385325': {'english': 'I am short',\n",
       "  'chinese': '我个头矮',\n",
       "  '_id': 'zhon-34217-6331a6faf06ead3e9c385325'},\n",
       " 'zhon-34317-6331a6faf06ead3e9c385326': {'english': 'I can cook',\n",
       "  'chinese': '我会做饭',\n",
       "  '_id': 'zhon-34317-6331a6faf06ead3e9c385326'},\n",
       " 'zhon-33879-6331a6faf06ead3e9c385327': {'english': 'I can swim',\n",
       "  'chinese': '我會游泳',\n",
       "  '_id': 'zhon-33879-6331a6faf06ead3e9c385327'},\n",
       " 'zhon-34349-6331a6faf06ead3e9c385328': {'english': \"I can't go\",\n",
       "  'chinese': '我不能走',\n",
       "  '_id': 'zhon-34349-6331a6faf06ead3e9c385328'},\n",
       " 'zhon-34095-6331a6faf06ead3e9c385329': {'english': 'I eat here',\n",
       "  'chinese': '我在這裡吃',\n",
       "  '_id': 'zhon-34095-6331a6faf06ead3e9c385329'},\n",
       " 'zhon-33616-6331a6faf06ead3e9c38532a': {'english': 'I envy her',\n",
       "  'chinese': '我嫉妒她',\n",
       "  '_id': 'zhon-33616-6331a6faf06ead3e9c38532a'},\n",
       " 'zhon-34197-6331a6faf06ead3e9c38532b': {'english': 'I envy him',\n",
       "  'chinese': '我羡慕他',\n",
       "  '_id': 'zhon-34197-6331a6faf06ead3e9c38532b'},\n",
       " 'zhon-33656-6331a6faf06ead3e9c38532c': {'english': 'I hate you',\n",
       "  'chinese': '我恨你',\n",
       "  '_id': 'zhon-33656-6331a6faf06ead3e9c38532c'},\n",
       " 'zhon-34571-6331a6faf06ead3e9c38532d': {'english': 'I know Tom',\n",
       "  'chinese': '我认识汤姆',\n",
       "  '_id': 'zhon-34571-6331a6faf06ead3e9c38532d'},\n",
       " 'zhon-34286-6331a6faf06ead3e9c38532e': {'english': 'I know him',\n",
       "  'chinese': '我認識他',\n",
       "  '_id': 'zhon-34286-6331a6faf06ead3e9c38532e'},\n",
       " 'zhon-33615-6331a6faf06ead3e9c38532f': {'english': 'I like tea',\n",
       "  'chinese': '我喜欢茶',\n",
       "  '_id': 'zhon-33615-6331a6faf06ead3e9c38532f'},\n",
       " 'zhon-34580-6331a6faf06ead3e9c385330': {'english': 'I like you',\n",
       "  'chinese': '我喜歡你',\n",
       "  '_id': 'zhon-34580-6331a6faf06ead3e9c385330'},\n",
       " 'zhon-33972-6331a6faf06ead3e9c385331': {'english': 'I like you',\n",
       "  'chinese': '我喜欢你',\n",
       "  '_id': 'zhon-33972-6331a6faf06ead3e9c385331'},\n",
       " 'zhon-33851-6331a6faf06ead3e9c385332': {'english': 'I love her',\n",
       "  'chinese': '我愛她',\n",
       "  '_id': 'zhon-33851-6331a6faf06ead3e9c385332'},\n",
       " 'zhon-34237-6331a6faf06ead3e9c385333': {'english': 'I love you',\n",
       "  'chinese': '我爱您',\n",
       "  '_id': 'zhon-34237-6331a6faf06ead3e9c385333'},\n",
       " 'zhon-34061-6331a6faf06ead3e9c385334': {'english': 'I miss him',\n",
       "  'chinese': '我想念他',\n",
       "  '_id': 'zhon-34061-6331a6faf06ead3e9c385334'},\n",
       " 'zhon-33899-6331a6faf06ead3e9c385335': {'english': 'I miss you',\n",
       "  'chinese': '我想念你',\n",
       "  '_id': 'zhon-33899-6331a6faf06ead3e9c385335'},\n",
       " 'zhon-34200-6331a6faf06ead3e9c385336': {'english': 'I need you',\n",
       "  'chinese': '我需要你',\n",
       "  '_id': 'zhon-34200-6331a6faf06ead3e9c385336'},\n",
       " 'zhon-34209-6331a6faf06ead3e9c385337': {'english': 'I think so',\n",
       "  'chinese': '我想是這樣的',\n",
       "  '_id': 'zhon-34209-6331a6faf06ead3e9c385337'},\n",
       " 'zhon-33921-6331a6faf06ead3e9c385338': {'english': 'I use this',\n",
       "  'chinese': '我使用这个',\n",
       "  '_id': 'zhon-33921-6331a6faf06ead3e9c385338'},\n",
       " 'zhon-33775-6331a6faf06ead3e9c385339': {'english': \"I'll do it\",\n",
       "  'chinese': '我會做的',\n",
       "  '_id': 'zhon-33775-6331a6faf06ead3e9c385339'},\n",
       " 'zhon-33966-6331a6faf06ead3e9c38533a': {'english': \"I'm a hero\",\n",
       "  'chinese': '我是個英雄',\n",
       "  '_id': 'zhon-33966-6331a6faf06ead3e9c38533a'},\n",
       " 'zhon-33783-6331a6faf06ead3e9c38533b': {'english': \"I'm humble\",\n",
       "  'chinese': '我是谦虚的',\n",
       "  '_id': 'zhon-33783-6331a6faf06ead3e9c38533b'},\n",
       " 'zhon-33914-6331a6faf06ead3e9c38533c': {'english': \"I'm single\",\n",
       "  'chinese': '我单身',\n",
       "  '_id': 'zhon-33914-6331a6faf06ead3e9c38533c'},\n",
       " 'zhon-34370-6331a6faf06ead3e9c38533d': {'english': \"I'm sleepy\",\n",
       "  'chinese': '我困了',\n",
       "  '_id': 'zhon-34370-6331a6faf06ead3e9c38533d'},\n",
       " 'zhon-33972-6331a6faf06ead3e9c38533e': {'english': \"I'm so fat\",\n",
       "  'chinese': '我好胖哦',\n",
       "  '_id': 'zhon-33972-6331a6faf06ead3e9c38533e'},\n",
       " 'zhon-34458-6331a6faf06ead3e9c38533f': {'english': 'Ignore Tom',\n",
       "  'chinese': '别理汤姆',\n",
       "  '_id': 'zhon-34458-6331a6faf06ead3e9c38533f'},\n",
       " 'zhon-34203-6331a6faf06ead3e9c385340': {'english': 'Is it love',\n",
       "  'chinese': '那是愛嗎',\n",
       "  '_id': 'zhon-34203-6331a6faf06ead3e9c385340'},\n",
       " 'zhon-33864-6331a6faf06ead3e9c385341': {'english': \"It's great\",\n",
       "  'chinese': '真是太好了',\n",
       "  '_id': 'zhon-33864-6331a6faf06ead3e9c385341'},\n",
       " 'zhon-33901-6331a6faf06ead3e9c385342': {'english': \"It's night\",\n",
       "  'chinese': '是晚上了',\n",
       "  '_id': 'zhon-33901-6331a6faf06ead3e9c385342'},\n",
       " 'zhon-34400-6331a6faf06ead3e9c385343': {'english': 'Just relax',\n",
       "  'chinese': '放松点吧',\n",
       "  '_id': 'zhon-34400-6331a6faf06ead3e9c385343'},\n",
       " 'zhon-33980-6331a6faf06ead3e9c385344': {'english': 'Keep it up',\n",
       "  'chinese': '坚持',\n",
       "  '_id': 'zhon-33980-6331a6faf06ead3e9c385344'},\n",
       " 'zhon-33701-6331a6faf06ead3e9c385345': {'english': 'Keep it up',\n",
       "  'chinese': '坚持',\n",
       "  '_id': 'zhon-33701-6331a6faf06ead3e9c385345'},\n",
       " 'zhon-34384-6331a6faf06ead3e9c385346': {'english': 'Keep quiet',\n",
       "  'chinese': '保持安静',\n",
       "  '_id': 'zhon-34384-6331a6faf06ead3e9c385346'},\n",
       " 'zhon-34426-6331a6faf06ead3e9c385347': {'english': 'Keep quiet',\n",
       "  'chinese': '保持安静',\n",
       "  '_id': 'zhon-34426-6331a6faf06ead3e9c385347'},\n",
       " 'zhon-33621-6331a6faf06ead3e9c385348': {'english': 'Let him in',\n",
       "  'chinese': '让他进来',\n",
       "  '_id': 'zhon-33621-6331a6faf06ead3e9c385348'},\n",
       " 'zhon-34588-6331a6faf06ead3e9c385349': {'english': 'Let me die',\n",
       "  'chinese': '让我去死',\n",
       "  '_id': 'zhon-34588-6331a6faf06ead3e9c385349'},\n",
       " 'zhon-34176-6331a6faf06ead3e9c38534a': {'english': 'Let me see',\n",
       "  'chinese': '让我想一想',\n",
       "  '_id': 'zhon-34176-6331a6faf06ead3e9c38534a'},\n",
       " 'zhon-34294-6331a6faf06ead3e9c38534b': {'english': \"Let's walk\",\n",
       "  'chinese': '我们走走吧',\n",
       "  '_id': 'zhon-34294-6331a6faf06ead3e9c38534b'},\n",
       " 'zhon-34346-6331a6faf06ead3e9c38534c': {'english': 'Look there',\n",
       "  'chinese': '看那里',\n",
       "  '_id': 'zhon-34346-6331a6faf06ead3e9c38534c'},\n",
       " 'zhon-33728-6331a6faf06ead3e9c38534d': {'english': 'No comment',\n",
       "  'chinese': '禁止评论',\n",
       "  '_id': 'zhon-33728-6331a6faf06ead3e9c38534d'},\n",
       " 'zhon-33911-6331a6faf06ead3e9c38534e': {'english': 'No comment',\n",
       "  'chinese': '无可奉告',\n",
       "  '_id': 'zhon-33911-6331a6faf06ead3e9c38534e'},\n",
       " 'zhon-34106-6331a6faf06ead3e9c38534f': {'english': 'No problem',\n",
       "  'chinese': '没问题',\n",
       "  '_id': 'zhon-34106-6331a6faf06ead3e9c38534f'},\n",
       " 'zhon-33821-6331a6faf06ead3e9c385350': {'english': 'No problem',\n",
       "  'chinese': '没关系',\n",
       "  '_id': 'zhon-33821-6331a6faf06ead3e9c385350'},\n",
       " 'zhon-34263-6331a6faf06ead3e9c385351': {'english': 'No problem',\n",
       "  'chinese': '没问题',\n",
       "  '_id': 'zhon-34263-6331a6faf06ead3e9c385351'},\n",
       " 'zhon-34417-6331a6faf06ead3e9c385352': {'english': 'Oh, really',\n",
       "  'chinese': '噢，真的嗎',\n",
       "  '_id': 'zhon-34417-6331a6faf06ead3e9c385352'},\n",
       " 'zhon-33869-6331a6faf06ead3e9c385353': {'english': 'Once again',\n",
       "  'chinese': '再一次',\n",
       "  '_id': 'zhon-33869-6331a6faf06ead3e9c385353'},\n",
       " 'zhon-33838-6331a6faf06ead3e9c385354': {'english': 'She smiled',\n",
       "  'chinese': '她笑了',\n",
       "  '_id': 'zhon-33838-6331a6faf06ead3e9c385354'},\n",
       " 'zhon-33929-6331a6faf06ead3e9c385355': {'english': 'Stand back',\n",
       "  'chinese': '往后站',\n",
       "  '_id': 'zhon-33929-6331a6faf06ead3e9c385355'},\n",
       " 'zhon-33785-6331a6faf06ead3e9c385356': {'english': 'Stay sharp',\n",
       "  'chinese': '保持警惕',\n",
       "  '_id': 'zhon-33785-6331a6faf06ead3e9c385356'},\n",
       " 'zhon-34288-6331a6faf06ead3e9c385357': {'english': 'Stay there',\n",
       "  'chinese': '留在这里别动',\n",
       "  '_id': 'zhon-34288-6331a6faf06ead3e9c385357'},\n",
       " 'zhon-34039-6331a6faf06ead3e9c385358': {'english': 'Step aside',\n",
       "  'chinese': '让开',\n",
       "  '_id': 'zhon-34039-6331a6faf06ead3e9c385358'},\n",
       " 'zhon-34259-6331a6faf06ead3e9c385359': {'english': 'Study hard',\n",
       "  'chinese': '好好学习',\n",
       "  '_id': 'zhon-34259-6331a6faf06ead3e9c385359'},\n",
       " 'zhon-34308-6331a6faf06ead3e9c38535a': {'english': 'That hurts',\n",
       "  'chinese': '真疼',\n",
       "  '_id': 'zhon-34308-6331a6faf06ead3e9c38535a'},\n",
       " 'zhon-33693-6331a6faf06ead3e9c38535b': {'english': 'Time flies',\n",
       "  'chinese': '時光飛逝',\n",
       "  '_id': 'zhon-33693-6331a6faf06ead3e9c38535b'},\n",
       " 'zhon-33698-6331a6faf06ead3e9c38535c': {'english': 'Time flies',\n",
       "  'chinese': '时间匆匆走过',\n",
       "  '_id': 'zhon-33698-6331a6faf06ead3e9c38535c'},\n",
       " 'zhon-34209-6331a6faf06ead3e9c38535d': {'english': 'Tom is shy',\n",
       "  'chinese': '汤姆害羞',\n",
       "  '_id': 'zhon-34209-6331a6faf06ead3e9c38535d'},\n",
       " 'zhon-33923-6331a6faf06ead3e9c38535e': {'english': 'Tom smiled',\n",
       "  'chinese': '汤姆笑了',\n",
       "  '_id': 'zhon-33923-6331a6faf06ead3e9c38535e'},\n",
       " 'zhon-34565-6331a6faf06ead3e9c38535f': {'english': 'Tom yawned',\n",
       "  'chinese': '汤姆打哈欠了',\n",
       "  '_id': 'zhon-34565-6331a6faf06ead3e9c38535f'},\n",
       " 'zhon-33935-6331a6faf06ead3e9c385360': {'english': 'Turn right',\n",
       "  'chinese': '向右转',\n",
       "  '_id': 'zhon-33935-6331a6faf06ead3e9c385360'},\n",
       " 'zhon-34285-6331a6faf06ead3e9c385361': {'english': 'We laughed',\n",
       "  'chinese': '我们笑了',\n",
       "  '_id': 'zhon-34285-6331a6faf06ead3e9c385361'},\n",
       " 'zhon-34447-6331a6faf06ead3e9c385362': {'english': 'We lost it',\n",
       "  'chinese': '我们失去了它',\n",
       "  '_id': 'zhon-34447-6331a6faf06ead3e9c385362'},\n",
       " 'zhon-33823-6331a6faf06ead3e9c385363': {'english': \"We're boys\",\n",
       "  'chinese': '我們是男孩',\n",
       "  '_id': 'zhon-33823-6331a6faf06ead3e9c385363'},\n",
       " 'zhon-34042-6331a6faf06ead3e9c385364': {'english': 'What is it',\n",
       "  'chinese': '這是什麼啊',\n",
       "  '_id': 'zhon-34042-6331a6faf06ead3e9c385364'},\n",
       " 'zhon-34423-6331a6faf06ead3e9c385365': {'english': \"What's new\",\n",
       "  'chinese': '有什么新鲜事吗',\n",
       "  '_id': 'zhon-34423-6331a6faf06ead3e9c385365'},\n",
       " 'zhon-34470-6331a6faf06ead3e9c385366': {'english': 'Where am I',\n",
       "  'chinese': '我在哪裡',\n",
       "  '_id': 'zhon-34470-6331a6faf06ead3e9c385366'},\n",
       " 'zhon-34577-6331a6faf06ead3e9c385367': {'english': 'Where am I',\n",
       "  'chinese': '這是什麼地方',\n",
       "  '_id': 'zhon-34577-6331a6faf06ead3e9c385367'},\n",
       " 'zhon-33767-6331a6faf06ead3e9c385368': {'english': 'Who are we',\n",
       "  'chinese': '我們是誰',\n",
       "  '_id': 'zhon-33767-6331a6faf06ead3e9c385368'},\n",
       " 'zhon-33675-6331a6faf06ead3e9c385369': {'english': \"Who's next\",\n",
       "  'chinese': '下一个是谁',\n",
       "  '_id': 'zhon-33675-6331a6faf06ead3e9c385369'},\n",
       " 'zhon-33938-6331a6faf06ead3e9c38536a': {'english': 'Wood burns',\n",
       "  'chinese': '木材燃燒',\n",
       "  '_id': 'zhon-33938-6331a6faf06ead3e9c38536a'},\n",
       " 'zhon-34353-6331a6faf06ead3e9c38536b': {'english': 'Are we done',\n",
       "  'chinese': '我们完成了吗',\n",
       "  '_id': 'zhon-34353-6331a6faf06ead3e9c38536b'},\n",
       " 'zhon-34259-6331a6faf06ead3e9c38536c': {'english': 'Are you Tom',\n",
       "  'chinese': '你是汤姆吗',\n",
       "  '_id': 'zhon-34259-6331a6faf06ead3e9c38536c'},\n",
       " 'zhon-33817-6331a6faf06ead3e9c38536d': {'english': 'Are you mad',\n",
       "  'chinese': '您生气了吗',\n",
       "  '_id': 'zhon-33817-6331a6faf06ead3e9c38536d'},\n",
       " 'zhon-34500-6331a6faf06ead3e9c38536e': {'english': 'Are you mad',\n",
       "  'chinese': '你生气了吗',\n",
       "  '_id': 'zhon-34500-6331a6faf06ead3e9c38536e'},\n",
       " 'zhon-34176-6331a6faf06ead3e9c38536f': {'english': 'Are you sad',\n",
       "  'chinese': '你傷心嗎',\n",
       "  '_id': 'zhon-34176-6331a6faf06ead3e9c38536f'},\n",
       " 'zhon-34055-6331a6faf06ead3e9c385370': {'english': 'Be friendly',\n",
       "  'chinese': '友好点',\n",
       "  '_id': 'zhon-34055-6331a6faf06ead3e9c385370'},\n",
       " 'zhon-33871-6331a6faf06ead3e9c385371': {'english': 'Break it up',\n",
       "  'chinese': '停手',\n",
       "  '_id': 'zhon-33871-6331a6faf06ead3e9c385371'},\n",
       " 'zhon-33824-6331a6faf06ead3e9c385372': {'english': 'Can you see',\n",
       "  'chinese': '你能看吗',\n",
       "  '_id': 'zhon-33824-6331a6faf06ead3e9c385372'},\n",
       " 'zhon-34399-6331a6faf06ead3e9c385373': {'english': 'Come inside',\n",
       "  'chinese': '进来',\n",
       "  '_id': 'zhon-34399-6331a6faf06ead3e9c385373'},\n",
       " 'zhon-33717-6331a6faf06ead3e9c385374': {'english': 'Count me in',\n",
       "  'chinese': '算我一个',\n",
       "  '_id': 'zhon-33717-6331a6faf06ead3e9c385374'},\n",
       " 'zhon-33628-6331a6faf06ead3e9c385375': {'english': 'Do as I say',\n",
       "  'chinese': '按我說的做',\n",
       "  '_id': 'zhon-33628-6331a6faf06ead3e9c385375'},\n",
       " 'zhon-34136-6331a6faf06ead3e9c385376': {'english': \"Don't leave\",\n",
       "  'chinese': '別走',\n",
       "  '_id': 'zhon-34136-6331a6faf06ead3e9c385376'},\n",
       " 'zhon-34574-6331a6faf06ead3e9c385377': {'english': \"Don't panic\",\n",
       "  'chinese': '不要恐慌',\n",
       "  '_id': 'zhon-34574-6331a6faf06ead3e9c385377'},\n",
       " 'zhon-33789-6331a6faf06ead3e9c385378': {'english': \"Don't shoot\",\n",
       "  'chinese': '停火',\n",
       "  '_id': 'zhon-33789-6331a6faf06ead3e9c385378'},\n",
       " 'zhon-33916-6331a6faf06ead3e9c385379': {'english': \"Don't shout\",\n",
       "  'chinese': '不许大叫',\n",
       "  '_id': 'zhon-33916-6331a6faf06ead3e9c385379'},\n",
       " 'zhon-34420-6331a6faf06ead3e9c38537a': {'english': \"Don't worry\",\n",
       "  'chinese': '別擔心',\n",
       "  '_id': 'zhon-34420-6331a6faf06ead3e9c38537a'},\n",
       " 'zhon-34450-6331a6faf06ead3e9c38537b': {'english': \"Don't worry\",\n",
       "  'chinese': '别擔心',\n",
       "  '_id': 'zhon-34450-6331a6faf06ead3e9c38537b'},\n",
       " 'zhon-34452-6331a6faf06ead3e9c38537c': {'english': 'Get serious',\n",
       "  'chinese': '认真点',\n",
       "  '_id': 'zhon-34452-6331a6faf06ead3e9c38537c'},\n",
       " 'zhon-34182-6331a6faf06ead3e9c38537d': {'english': 'He is alone',\n",
       "  'chinese': '他獨自一人',\n",
       "  '_id': 'zhon-34182-6331a6faf06ead3e9c38537d'},\n",
       " 'zhon-33781-6331a6faf06ead3e9c38537e': {'english': 'He is drunk',\n",
       "  'chinese': '他醉了',\n",
       "  '_id': 'zhon-33781-6331a6faf06ead3e9c38537e'},\n",
       " 'zhon-34478-6331a6faf06ead3e9c38537f': {'english': \"He's strong\",\n",
       "  'chinese': '他很強壯',\n",
       "  '_id': 'zhon-34478-6331a6faf06ead3e9c38537f'},\n",
       " 'zhon-33879-6331a6faf06ead3e9c385380': {'english': 'Here we are',\n",
       "  'chinese': '我們到了',\n",
       "  '_id': 'zhon-33879-6331a6faf06ead3e9c385380'},\n",
       " 'zhon-33942-6331a6faf06ead3e9c385381': {'english': 'Here, catch',\n",
       "  'chinese': '这里，快抓住',\n",
       "  '_id': 'zhon-33942-6331a6faf06ead3e9c385381'},\n",
       " 'zhon-34420-6331a6faf06ead3e9c385382': {'english': 'How are you',\n",
       "  'chinese': '你們好嗎',\n",
       "  '_id': 'zhon-34420-6331a6faf06ead3e9c385382'},\n",
       " 'zhon-34441-6331a6faf06ead3e9c385383': {'english': 'How are you',\n",
       "  'chinese': '你好嗎',\n",
       "  '_id': 'zhon-34441-6331a6faf06ead3e9c385383'},\n",
       " 'zhon-34251-6331a6faf06ead3e9c385384': {'english': 'How curious',\n",
       "  'chinese': '多怪啊',\n",
       "  '_id': 'zhon-34251-6331a6faf06ead3e9c385384'},\n",
       " 'zhon-33681-6331a6faf06ead3e9c385385': {'english': 'How strange',\n",
       "  'chinese': '真奇怪',\n",
       "  '_id': 'zhon-33681-6331a6faf06ead3e9c385385'},\n",
       " 'zhon-34419-6331a6faf06ead3e9c385386': {'english': 'I am coming',\n",
       "  'chinese': '我來了',\n",
       "  '_id': 'zhon-34419-6331a6faf06ead3e9c385386'},\n",
       " 'zhon-34228-6331a6faf06ead3e9c385387': {'english': 'I buy tapes',\n",
       "  'chinese': '我買磁帶',\n",
       "  '_id': 'zhon-34228-6331a6faf06ead3e9c385387'},\n",
       " 'zhon-33947-6331a6faf06ead3e9c385388': {'english': \"I can't say\",\n",
       "  'chinese': '我不能说',\n",
       "  '_id': 'zhon-33947-6331a6faf06ead3e9c385388'},\n",
       " 'zhon-34197-6331a6faf06ead3e9c385389': {'english': \"I don't lie\",\n",
       "  'chinese': '我不說謊',\n",
       "  '_id': 'zhon-34197-6331a6faf06ead3e9c385389'},\n",
       " 'zhon-33726-6331a6faf06ead3e9c38538a': {'english': 'I eat bread',\n",
       "  'chinese': '我吃面包',\n",
       "  '_id': 'zhon-33726-6331a6faf06ead3e9c38538a'},\n",
       " 'zhon-34025-6331a6faf06ead3e9c38538b': {'english': 'I feel cold',\n",
       "  'chinese': '我觉得冷',\n",
       "  '_id': 'zhon-34025-6331a6faf06ead3e9c38538b'},\n",
       " 'zhon-33892-6331a6faf06ead3e9c38538c': {'english': 'I feel fine',\n",
       "  'chinese': '我感觉很好',\n",
       "  '_id': 'zhon-33892-6331a6faf06ead3e9c38538c'},\n",
       " 'zhon-34124-6331a6faf06ead3e9c38538d': {'english': 'I feel weak',\n",
       "  'chinese': '我感到虚弱',\n",
       "  '_id': 'zhon-34124-6331a6faf06ead3e9c38538d'},\n",
       " 'zhon-34406-6331a6faf06ead3e9c38538e': {'english': 'I have time',\n",
       "  'chinese': '我有时间',\n",
       "  '_id': 'zhon-34406-6331a6faf06ead3e9c38538e'},\n",
       " 'zhon-34464-6331a6faf06ead3e9c38538f': {'english': 'I heard you',\n",
       "  'chinese': '我聽你的',\n",
       "  '_id': 'zhon-34464-6331a6faf06ead3e9c38538f'},\n",
       " 'zhon-33871-6331a6faf06ead3e9c385390': {'english': 'I like fish',\n",
       "  'chinese': '我喜欢鱼',\n",
       "  '_id': 'zhon-33871-6331a6faf06ead3e9c385390'},\n",
       " 'zhon-34069-6331a6faf06ead3e9c385391': {'english': 'I like jazz',\n",
       "  'chinese': '我喜歡爵士樂',\n",
       "  '_id': 'zhon-34069-6331a6faf06ead3e9c385391'},\n",
       " 'zhon-33948-6331a6faf06ead3e9c385392': {'english': 'I like them',\n",
       "  'chinese': '我喜欢他们',\n",
       "  '_id': 'zhon-33948-6331a6faf06ead3e9c385392'},\n",
       " 'zhon-34243-6331a6faf06ead3e9c385393': {'english': 'I live here',\n",
       "  'chinese': '我住在這',\n",
       "  '_id': 'zhon-34243-6331a6faf06ead3e9c385393'},\n",
       " 'zhon-34020-6331a6faf06ead3e9c385394': {'english': 'I lost face',\n",
       "  'chinese': '我丢臉了',\n",
       "  '_id': 'zhon-34020-6331a6faf06ead3e9c385394'},\n",
       " 'zhon-33891-6331a6faf06ead3e9c385395': {'english': 'I need glue',\n",
       "  'chinese': '我需要胶水',\n",
       "  '_id': 'zhon-33891-6331a6faf06ead3e9c385395'},\n",
       " 'zhon-34023-6331a6faf06ead3e9c385396': {'english': 'I need help',\n",
       "  'chinese': '我需要帮助',\n",
       "  '_id': 'zhon-34023-6331a6faf06ead3e9c385396'},\n",
       " 'zhon-34175-6331a6faf06ead3e9c385397': {'english': 'I overslept',\n",
       "  'chinese': '我睡过头了',\n",
       "  '_id': 'zhon-34175-6331a6faf06ead3e9c385397'},\n",
       " 'zhon-34013-6331a6faf06ead3e9c385398': {'english': 'I said that',\n",
       "  'chinese': '我是那樣說的',\n",
       "  '_id': 'zhon-34013-6331a6faf06ead3e9c385398'},\n",
       " 'zhon-33630-6331a6faf06ead3e9c385399': {'english': 'I smell gas',\n",
       "  'chinese': '我聞到瓦斯味',\n",
       "  '_id': 'zhon-33630-6331a6faf06ead3e9c385399'},\n",
       " 'zhon-34536-6331a6faf06ead3e9c38539a': {'english': 'I trust him',\n",
       "  'chinese': '我信任他',\n",
       "  '_id': 'zhon-34536-6331a6faf06ead3e9c38539a'},\n",
       " 'zhon-34017-6331a6faf06ead3e9c38539b': {'english': 'I trust you',\n",
       "  'chinese': '我信任你',\n",
       "  '_id': 'zhon-34017-6331a6faf06ead3e9c38539b'},\n",
       " 'zhon-33753-6331a6faf06ead3e9c38539c': {'english': 'I want more',\n",
       "  'chinese': '我想要更多',\n",
       "  '_id': 'zhon-33753-6331a6faf06ead3e9c38539c'},\n",
       " 'zhon-33798-6331a6faf06ead3e9c38539d': {'english': 'I was wrong',\n",
       "  'chinese': '我搞错了',\n",
       "  '_id': 'zhon-33798-6331a6faf06ead3e9c38539d'},\n",
       " 'zhon-33598-6331a6faf06ead3e9c38539e': {'english': 'I will obey',\n",
       "  'chinese': '我会听从指示',\n",
       "  '_id': 'zhon-33598-6331a6faf06ead3e9c38539e'},\n",
       " 'zhon-34082-6331a6faf06ead3e9c38539f': {'english': 'I will wait',\n",
       "  'chinese': '我會等',\n",
       "  '_id': 'zhon-34082-6331a6faf06ead3e9c38539f'},\n",
       " 'zhon-34559-6331a6faf06ead3e9c3853a0': {'english': 'I work here',\n",
       "  'chinese': '我在這裡工作',\n",
       "  '_id': 'zhon-34559-6331a6faf06ead3e9c3853a0'},\n",
       " 'zhon-34446-6331a6faf06ead3e9c3853a1': {'english': \"I'll attend\",\n",
       "  'chinese': '我會參加',\n",
       "  '_id': 'zhon-34446-6331a6faf06ead3e9c3853a1'},\n",
       " 'zhon-34495-6331a6faf06ead3e9c3853a2': {'english': \"I'll get in\",\n",
       "  'chinese': '我會進去',\n",
       "  '_id': 'zhon-34495-6331a6faf06ead3e9c3853a2'},\n",
       " 'zhon-34231-6331a6faf06ead3e9c3853a3': {'english': \"I'm 17, too\",\n",
       "  'chinese': '我也是17岁',\n",
       "  '_id': 'zhon-34231-6331a6faf06ead3e9c3853a3'},\n",
       " 'zhon-34116-6331a6faf06ead3e9c3853a4': {'english': \"I'm a loser\",\n",
       "  'chinese': '我是個不成器的人',\n",
       "  '_id': 'zhon-34116-6331a6faf06ead3e9c3853a4'},\n",
       " 'zhon-34038-6331a6faf06ead3e9c3853a5': {'english': \"I'm at home\",\n",
       "  'chinese': '我在家',\n",
       "  '_id': 'zhon-34038-6331a6faf06ead3e9c3853a5'},\n",
       " 'zhon-34166-6331a6faf06ead3e9c3853a6': {'english': \"I'm curious\",\n",
       "  'chinese': '我很好奇',\n",
       "  '_id': 'zhon-34166-6331a6faf06ead3e9c3853a6'},\n",
       " 'zhon-34566-6331a6faf06ead3e9c3853a7': {'english': \"I'm married\",\n",
       "  'chinese': '我结婚了',\n",
       "  '_id': 'zhon-34566-6331a6faf06ead3e9c3853a7'},\n",
       " 'zhon-34543-6331a6faf06ead3e9c3853a8': {'english': \"I'm married\",\n",
       "  'chinese': '我已婚',\n",
       "  '_id': 'zhon-34543-6331a6faf06ead3e9c3853a8'},\n",
       " 'zhon-34328-6331a6faf06ead3e9c3853a9': {'english': \"I'm reading\",\n",
       "  'chinese': '我在读书',\n",
       "  '_id': 'zhon-34328-6331a6faf06ead3e9c3853a9'},\n",
       " 'zhon-33821-6331a6faf06ead3e9c3853aa': {'english': \"I'm serious\",\n",
       "  'chinese': '我是認真的',\n",
       "  '_id': 'zhon-33821-6331a6faf06ead3e9c3853aa'},\n",
       " 'zhon-33627-6331a6faf06ead3e9c3853ab': {'english': \"I'm thirsty\",\n",
       "  'chinese': '我渴了',\n",
       "  '_id': 'zhon-33627-6331a6faf06ead3e9c3853ab'},\n",
       " 'zhon-34357-6331a6faf06ead3e9c3853ac': {'english': 'Is Tom well',\n",
       "  'chinese': '汤姆还好吧',\n",
       "  '_id': 'zhon-34357-6331a6faf06ead3e9c3853ac'},\n",
       " 'zhon-34061-6331a6faf06ead3e9c3853ad': {'english': 'Is it yours',\n",
       "  'chinese': '这是你的吗',\n",
       "  '_id': 'zhon-34061-6331a6faf06ead3e9c3853ad'},\n",
       " 'zhon-34450-6331a6faf06ead3e9c3853ae': {'english': \"It can't be\",\n",
       "  'chinese': '这不可能',\n",
       "  '_id': 'zhon-34450-6331a6faf06ead3e9c3853ae'},\n",
       " 'zhon-34365-6331a6faf06ead3e9c3853af': {'english': \"It can't be\",\n",
       "  'chinese': '不可能',\n",
       "  '_id': 'zhon-34365-6331a6faf06ead3e9c3853af'},\n",
       " 'zhon-34272-6331a6faf06ead3e9c3853b0': {'english': \"It's my job\",\n",
       "  'chinese': '這是我份內的事',\n",
       "  '_id': 'zhon-34272-6331a6faf06ead3e9c3853b0'},\n",
       " 'zhon-34359-6331a6faf06ead3e9c3853b1': {'english': 'Just say no',\n",
       "  'chinese': '只要說不',\n",
       "  '_id': 'zhon-34359-6331a6faf06ead3e9c3853b1'},\n",
       " 'zhon-34125-6331a6faf06ead3e9c3853b2': {'english': 'Keep trying',\n",
       "  'chinese': '继续努力',\n",
       "  '_id': 'zhon-34125-6331a6faf06ead3e9c3853b2'},\n",
       " 'zhon-34580-6331a6faf06ead3e9c3853b3': {'english': 'Let me know',\n",
       "  'chinese': '讓我知道',\n",
       "  '_id': 'zhon-34580-6331a6faf06ead3e9c3853b3'},\n",
       " 'zhon-33889-6331a6faf06ead3e9c3853b4': {'english': \"Let's begin\",\n",
       "  'chinese': '讓我們開始吧',\n",
       "  '_id': 'zhon-33889-6331a6faf06ead3e9c3853b4'},\n",
       " 'zhon-34150-6331a6faf06ead3e9c3853b5': {'english': \"Let's leave\",\n",
       "  'chinese': '走吧',\n",
       "  '_id': 'zhon-34150-6331a6faf06ead3e9c3853b5'},\n",
       " 'zhon-33943-6331a6faf06ead3e9c3853b6': {'english': \"Let's start\",\n",
       "  'chinese': '讓我們開始吧',\n",
       "  '_id': 'zhon-33943-6331a6faf06ead3e9c3853b6'},\n",
       " 'zhon-34505-6331a6faf06ead3e9c3853b7': {'english': \"Let's start\",\n",
       "  'chinese': '我们开始吧',\n",
       "  '_id': 'zhon-34505-6331a6faf06ead3e9c3853b7'},\n",
       " 'zhon-33826-6331a6faf06ead3e9c3853b8': {'english': 'Life is fun',\n",
       "  'chinese': '人生是有趣的',\n",
       "  '_id': 'zhon-33826-6331a6faf06ead3e9c3853b8'},\n",
       " 'zhon-34476-6331a6faf06ead3e9c3853b9': {'english': 'Look around',\n",
       "  'chinese': '四处看看',\n",
       "  '_id': 'zhon-34476-6331a6faf06ead3e9c3853b9'},\n",
       " 'zhon-33663-6331a6faf06ead3e9c3853ba': {'english': 'Lunch is on',\n",
       "  'chinese': '午餐送到了',\n",
       "  '_id': 'zhon-33663-6331a6faf06ead3e9c3853ba'},\n",
       " 'zhon-34472-6331a6faf06ead3e9c3853bb': {'english': 'Many thanks',\n",
       "  'chinese': '非常感谢',\n",
       "  '_id': 'zhon-34472-6331a6faf06ead3e9c3853bb'},\n",
       " 'zhon-34196-6331a6faf06ead3e9c3853bc': {'english': 'Money talks',\n",
       "  'chinese': '金钱万能',\n",
       "  '_id': 'zhon-34196-6331a6faf06ead3e9c3853bc'},\n",
       " 'zhon-34588-6331a6faf06ead3e9c3853bd': {'english': 'Nice timing',\n",
       "  'chinese': '好时机',\n",
       "  '_id': 'zhon-34588-6331a6faf06ead3e9c3853bd'},\n",
       " 'zhon-33887-6331a6faf06ead3e9c3853be': {'english': 'No one came',\n",
       "  'chinese': '没有人来了',\n",
       "  '_id': 'zhon-33887-6331a6faf06ead3e9c3853be'},\n",
       " 'zhon-33716-6331a6faf06ead3e9c3853bf': {'english': 'OK. I agree',\n",
       "  'chinese': '好。我同意',\n",
       "  '_id': 'zhon-33716-6331a6faf06ead3e9c3853bf'},\n",
       " 'zhon-34423-6331a6faf06ead3e9c3853c0': {'english': 'Please come',\n",
       "  'chinese': '请来吧',\n",
       "  '_id': 'zhon-34423-6331a6faf06ead3e9c3853c0'},\n",
       " 'zhon-33844-6331a6faf06ead3e9c3853c1': {'english': 'Please sing',\n",
       "  'chinese': '请唱歌',\n",
       "  '_id': 'zhon-33844-6331a6faf06ead3e9c3853c1'},\n",
       " 'zhon-33640-6331a6faf06ead3e9c3853c2': {'english': 'Release him',\n",
       "  'chinese': '放开他',\n",
       "  '_id': 'zhon-33640-6331a6faf06ead3e9c3853c2'},\n",
       " 'zhon-33629-6331a6faf06ead3e9c3853c3': {'english': 'She hit him',\n",
       "  'chinese': '她打了他',\n",
       "  '_id': 'zhon-33629-6331a6faf06ead3e9c3853c3'},\n",
       " 'zhon-34519-6331a6faf06ead3e9c3853c4': {'english': 'Stand aside',\n",
       "  'chinese': '一边站着',\n",
       "  '_id': 'zhon-34519-6331a6faf06ead3e9c3853c4'},\n",
       " 'zhon-34416-6331a6faf06ead3e9c3853c5': {'english': 'Step inside',\n",
       "  'chinese': '进来',\n",
       "  '_id': 'zhon-34416-6331a6faf06ead3e9c3853c5'},\n",
       " 'zhon-34304-6331a6faf06ead3e9c3853c6': {'english': \"That's life\",\n",
       "  'chinese': '這就是生活',\n",
       "  '_id': 'zhon-34304-6331a6faf06ead3e9c3853c6'},\n",
       " 'zhon-34118-6331a6faf06ead3e9c3853c7': {'english': \"That's life\",\n",
       "  'chinese': '人生就是如此',\n",
       "  '_id': 'zhon-34118-6331a6faf06ead3e9c3853c7'},\n",
       " 'zhon-34540-6331a6faf06ead3e9c3853c8': {'english': \"That's mine\",\n",
       "  'chinese': '那是我的',\n",
       "  '_id': 'zhon-34540-6331a6faf06ead3e9c3853c8'},\n",
       " 'zhon-33797-6331a6faf06ead3e9c3853c9': {'english': \"That's soft\",\n",
       "  'chinese': '这很软',\n",
       "  '_id': 'zhon-33797-6331a6faf06ead3e9c3853c9'},\n",
       " 'zhon-34512-6331a6faf06ead3e9c3853ca': {'english': \"That's true\",\n",
       "  'chinese': '這是真的',\n",
       "  '_id': 'zhon-34512-6331a6faf06ead3e9c3853ca'},\n",
       " 'zhon-34498-6331a6faf06ead3e9c3853cb': {'english': 'They hugged',\n",
       "  'chinese': '他们拥抱',\n",
       "  '_id': 'zhon-34498-6331a6faf06ead3e9c3853cb'},\n",
       " 'zhon-34515-6331a6faf06ead3e9c3853cc': {'english': 'They kissed',\n",
       "  'chinese': '他们亲吻了',\n",
       "  '_id': 'zhon-34515-6331a6faf06ead3e9c3853cc'},\n",
       " 'zhon-34034-6331a6faf06ead3e9c3853cd': {'english': 'This is ice',\n",
       "  'chinese': '這是冰塊',\n",
       "  '_id': 'zhon-34034-6331a6faf06ead3e9c3853cd'},\n",
       " 'zhon-34184-6331a6faf06ead3e9c3853ce': {'english': 'Tom blushed',\n",
       "  'chinese': '汤姆脸红了',\n",
       "  '_id': 'zhon-34184-6331a6faf06ead3e9c3853ce'},\n",
       " 'zhon-33644-6331a6faf06ead3e9c3853cf': {'english': 'Tom frowned',\n",
       "  'chinese': '湯姆皺著眉頭',\n",
       "  '_id': 'zhon-33644-6331a6faf06ead3e9c3853cf'},\n",
       " 'zhon-33607-6331a6faf06ead3e9c3853d0': {'english': 'Tom got fat',\n",
       "  'chinese': '汤姆变胖了',\n",
       "  '_id': 'zhon-33607-6331a6faf06ead3e9c3853d0'},\n",
       " 'zhon-34086-6331a6faf06ead3e9c3853d1': {'english': 'Tom laughed',\n",
       "  'chinese': '汤姆笑了',\n",
       "  '_id': 'zhon-34086-6331a6faf06ead3e9c3853d1'},\n",
       " 'zhon-34357-6331a6faf06ead3e9c3853d2': {'english': 'Tom saw you',\n",
       "  'chinese': '湯姆看見你了',\n",
       "  '_id': 'zhon-34357-6331a6faf06ead3e9c3853d2'},\n",
       " 'zhon-33717-6331a6faf06ead3e9c3853d3': {'english': \"Tom'll wait\",\n",
       "  'chinese': '湯姆會等',\n",
       "  '_id': 'zhon-33717-6331a6faf06ead3e9c3853d3'},\n",
       " 'zhon-33769-6331a6faf06ead3e9c3853d4': {'english': \"Tom's wrong\",\n",
       "  'chinese': '湯姆錯了',\n",
       "  '_id': 'zhon-33769-6331a6faf06ead3e9c3853d4'},\n",
       " 'zhon-34109-6331a6faf06ead3e9c3853d5': {'english': 'Turn around',\n",
       "  'chinese': '转过来',\n",
       "  '_id': 'zhon-34109-6331a6faf06ead3e9c3853d5'},\n",
       " 'zhon-33901-6331a6faf06ead3e9c3853d6': {'english': 'Wait for me',\n",
       "  'chinese': '等等我',\n",
       "  '_id': 'zhon-33901-6331a6faf06ead3e9c3853d6'},\n",
       " 'zhon-33838-6331a6faf06ead3e9c3853d7': {'english': 'Was I wrong',\n",
       "  'chinese': '我错了吗',\n",
       "  '_id': 'zhon-33838-6331a6faf06ead3e9c3853d7'},\n",
       " 'zhon-34272-6331a6faf06ead3e9c3853d8': {'english': 'We both won',\n",
       "  'chinese': '我們都贏了',\n",
       "  '_id': 'zhon-34272-6331a6faf06ead3e9c3853d8'},\n",
       " 'zhon-33614-6331a6faf06ead3e9c3853d9': {'english': 'We can rest',\n",
       "  'chinese': '我们可以休息',\n",
       "  '_id': 'zhon-33614-6331a6faf06ead3e9c3853d9'},\n",
       " 'zhon-34131-6331a6faf06ead3e9c3853da': {'english': 'We know him',\n",
       "  'chinese': '我們認識他',\n",
       "  '_id': 'zhon-34131-6331a6faf06ead3e9c3853da'},\n",
       " 'zhon-34143-6331a6faf06ead3e9c3853db': {'english': 'We like you',\n",
       "  'chinese': '我们喜欢你们',\n",
       "  '_id': 'zhon-34143-6331a6faf06ead3e9c3853db'},\n",
       " 'zhon-34017-6331a6faf06ead3e9c3853dc': {'english': 'We love Tom',\n",
       "  'chinese': '我们爱汤姆',\n",
       "  '_id': 'zhon-34017-6331a6faf06ead3e9c3853dc'},\n",
       " 'zhon-33648-6331a6faf06ead3e9c3853dd': {'english': 'We want Tom',\n",
       "  'chinese': '我们想要汤姆',\n",
       "  '_id': 'zhon-33648-6331a6faf06ead3e9c3853dd'},\n",
       " 'zhon-34555-6331a6faf06ead3e9c3853de': {'english': 'We want one',\n",
       "  'chinese': '我們要一個',\n",
       "  '_id': 'zhon-34555-6331a6faf06ead3e9c3853de'},\n",
       " 'zhon-34528-6331a6faf06ead3e9c3853df': {'english': 'What a pity',\n",
       "  'chinese': '太可惜了',\n",
       "  '_id': 'zhon-34528-6331a6faf06ead3e9c3853df'},\n",
       " 'zhon-34220-6331a6faf06ead3e9c3853e0': {'english': 'What a pity',\n",
       "  'chinese': '多遗憾啊',\n",
       "  '_id': 'zhon-34220-6331a6faf06ead3e9c3853e0'},\n",
       " 'zhon-33710-6331a6faf06ead3e9c3853e1': {'english': 'What is new',\n",
       "  'chinese': '有什么新鲜事吗',\n",
       "  '_id': 'zhon-33710-6331a6faf06ead3e9c3853e1'},\n",
       " 'zhon-33943-6331a6faf06ead3e9c3853e2': {'english': \"What's that\",\n",
       "  'chinese': '那是什么',\n",
       "  '_id': 'zhon-33943-6331a6faf06ead3e9c3853e2'},\n",
       " 'zhon-33722-6331a6faf06ead3e9c3853e3': {'english': \"What's this\",\n",
       "  'chinese': '這是什麼啊',\n",
       "  '_id': 'zhon-33722-6331a6faf06ead3e9c3853e3'},\n",
       " 'zhon-33852-6331a6faf06ead3e9c3853e4': {'english': \"What's this\",\n",
       "  'chinese': '那是什么',\n",
       "  '_id': 'zhon-33852-6331a6faf06ead3e9c3853e4'},\n",
       " 'zhon-34589-6331a6faf06ead3e9c3853e5': {'english': \"What's this\",\n",
       "  'chinese': '這是什麼',\n",
       "  '_id': 'zhon-34589-6331a6faf06ead3e9c3853e5'},\n",
       " 'zhon-34476-6331a6faf06ead3e9c3853e6': {'english': 'Who are you',\n",
       "  'chinese': '你是誰',\n",
       "  '_id': 'zhon-34476-6331a6faf06ead3e9c3853e6'},\n",
       " 'zhon-34147-6331a6faf06ead3e9c3853e7': {'english': 'Who drew it',\n",
       "  'chinese': '誰畫的',\n",
       "  '_id': 'zhon-34147-6331a6faf06ead3e9c3853e7'},\n",
       " 'zhon-34082-6331a6faf06ead3e9c3853e8': {'english': 'Who is next',\n",
       "  'chinese': '下一个是谁',\n",
       "  '_id': 'zhon-34082-6331a6faf06ead3e9c3853e8'},\n",
       " 'zhon-34425-6331a6faf06ead3e9c3853e9': {'english': 'Who is that',\n",
       "  'chinese': '那是谁',\n",
       "  '_id': 'zhon-34425-6331a6faf06ead3e9c3853e9'},\n",
       " 'zhon-34395-6331a6faf06ead3e9c3853ea': {'english': \"Who's dying\",\n",
       "  'chinese': '誰要死了',\n",
       "  '_id': 'zhon-34395-6331a6faf06ead3e9c3853ea'},\n",
       " 'zhon-33656-6331a6faf06ead3e9c3853eb': {'english': 'Whose is it',\n",
       "  'chinese': '这是谁的',\n",
       "  '_id': 'zhon-33656-6331a6faf06ead3e9c3853eb'},\n",
       " 'zhon-33954-6331a6faf06ead3e9c3853ec': {'english': 'Wood floats',\n",
       "  'chinese': '木头会漂浮',\n",
       "  '_id': 'zhon-33954-6331a6faf06ead3e9c3853ec'},\n",
       " 'zhon-33820-6331a6faf06ead3e9c3853ed': {'english': 'Work slowly',\n",
       "  'chinese': '干活慢点',\n",
       "  '_id': 'zhon-33820-6331a6faf06ead3e9c3853ed'},\n",
       " 'zhon-33796-6331a6faf06ead3e9c3853ee': {'english': 'You made it',\n",
       "  'chinese': '你做到了',\n",
       "  '_id': 'zhon-33796-6331a6faf06ead3e9c3853ee'},\n",
       " 'zhon-33719-6331a6faf06ead3e9c3853ef': {'english': \"You're here\",\n",
       "  'chinese': '你在这里',\n",
       "  '_id': 'zhon-33719-6331a6faf06ead3e9c3853ef'},\n",
       " 'zhon-34141-6331a6faf06ead3e9c3853f0': {'english': \"You're sick\",\n",
       "  'chinese': '你有病',\n",
       "  '_id': 'zhon-34141-6331a6faf06ead3e9c3853f0'},\n",
       " 'zhon-34502-6331a6faf06ead3e9c3853f1': {'english': 'Anything new',\n",
       "  'chinese': '有什么新鲜事吗',\n",
       "  '_id': 'zhon-34502-6331a6faf06ead3e9c3853f1'},\n",
       " 'zhon-34430-6331a6faf06ead3e9c3853f2': {'english': 'Are you busy',\n",
       "  'chinese': '你忙嗎',\n",
       "  '_id': 'zhon-34430-6331a6faf06ead3e9c3853f2'},\n",
       " 'zhon-33716-6331a6faf06ead3e9c3853f3': {'english': 'Are you busy',\n",
       "  'chinese': '您在忙吗',\n",
       "  '_id': 'zhon-33716-6331a6faf06ead3e9c3853f3'},\n",
       " 'zhon-33769-6331a6faf06ead3e9c3853f4': {'english': 'Are you lost',\n",
       "  'chinese': '您迷路了吗',\n",
       "  '_id': 'zhon-33769-6331a6faf06ead3e9c3853f4'},\n",
       " 'zhon-33839-6331a6faf06ead3e9c3853f5': {'english': 'Are you lost',\n",
       "  'chinese': '你迷路了吗',\n",
       "  '_id': 'zhon-33839-6331a6faf06ead3e9c3853f5'},\n",
       " 'zhon-34404-6331a6faf06ead3e9c3853f6': {'english': 'Are you sure',\n",
       "  'chinese': '你确定吗',\n",
       "  '_id': 'zhon-34404-6331a6faf06ead3e9c3853f6'},\n",
       " 'zhon-33874-6331a6faf06ead3e9c3853f7': {'english': 'Be realistic',\n",
       "  'chinese': '现实点',\n",
       "  '_id': 'zhon-33874-6331a6faf06ead3e9c3853f7'},\n",
       " 'zhon-34537-6331a6faf06ead3e9c3853f8': {'english': 'Be realistic',\n",
       "  'chinese': '现实点',\n",
       "  '_id': 'zhon-34537-6331a6faf06ead3e9c3853f8'},\n",
       " 'zhon-34504-6331a6faf06ead3e9c3853f9': {'english': 'Bring him in',\n",
       "  'chinese': '带他进来',\n",
       "  '_id': 'zhon-34504-6331a6faf06ead3e9c3853f9'},\n",
       " 'zhon-34419-6331a6faf06ead3e9c3853fa': {'english': 'Call Tom now',\n",
       "  'chinese': '现在给汤姆打电话',\n",
       "  '_id': 'zhon-34419-6331a6faf06ead3e9c3853fa'},\n",
       " 'zhon-33725-6331a6faf06ead3e9c3853fb': {'english': 'Can we do it',\n",
       "  'chinese': '我们能做到吗',\n",
       "  '_id': 'zhon-33725-6331a6faf06ead3e9c3853fb'},\n",
       " 'zhon-34437-6331a6faf06ead3e9c3853fc': {'english': 'Can you come',\n",
       "  'chinese': '你能來嗎',\n",
       "  '_id': 'zhon-34437-6331a6faf06ead3e9c3853fc'},\n",
       " 'zhon-34536-6331a6faf06ead3e9c3853fd': {'english': 'Can you read',\n",
       "  'chinese': '你能閱讀嗎',\n",
       "  '_id': 'zhon-34536-6331a6faf06ead3e9c3853fd'},\n",
       " 'zhon-33601-6331a6faf06ead3e9c3853fe': {'english': 'Can you swim',\n",
       "  'chinese': '你會游泳嗎',\n",
       "  '_id': 'zhon-33601-6331a6faf06ead3e9c3853fe'},\n",
       " 'zhon-34093-6331a6faf06ead3e9c3853ff': {'english': 'Did you call',\n",
       "  'chinese': '你打過電話了嗎',\n",
       "  '_id': 'zhon-34093-6331a6faf06ead3e9c3853ff'},\n",
       " 'zhon-34237-6331a6faf06ead3e9c385400': {'english': 'Do you smoke',\n",
       "  'chinese': '你吸烟吗',\n",
       "  '_id': 'zhon-34237-6331a6faf06ead3e9c385400'},\n",
       " 'zhon-34178-6331a6faf06ead3e9c385401': {'english': 'Do you smoke',\n",
       "  'chinese': '您吸烟吗',\n",
       "  '_id': 'zhon-34178-6331a6faf06ead3e9c385401'},\n",
       " 'zhon-34477-6331a6faf06ead3e9c385402': {'english': 'Do your best',\n",
       "  'chinese': '盡力而為',\n",
       "  '_id': 'zhon-34477-6331a6faf06ead3e9c385402'},\n",
       " 'zhon-34003-6331a6faf06ead3e9c385403': {'english': \"Don't be sad\",\n",
       "  'chinese': '别伤心',\n",
       "  '_id': 'zhon-34003-6331a6faf06ead3e9c385403'},\n",
       " 'zhon-33645-6331a6faf06ead3e9c385404': {'english': \"Don't be shy\",\n",
       "  'chinese': '不要害羞',\n",
       "  '_id': 'zhon-33645-6331a6faf06ead3e9c385404'},\n",
       " 'zhon-34368-6331a6faf06ead3e9c385405': {'english': \"Don't bother\",\n",
       "  'chinese': '不用麻烦了',\n",
       "  '_id': 'zhon-34368-6331a6faf06ead3e9c385405'},\n",
       " 'zhon-33871-6331a6faf06ead3e9c385406': {'english': \"Don't bug me\",\n",
       "  'chinese': '别来烦我',\n",
       "  '_id': 'zhon-33871-6331a6faf06ead3e9c385406'},\n",
       " 'zhon-33848-6331a6faf06ead3e9c385407': {'english': 'Drive safely',\n",
       "  'chinese': '安全地駕駛',\n",
       "  '_id': 'zhon-33848-6331a6faf06ead3e9c385407'},\n",
       " 'zhon-33869-6331a6faf06ead3e9c385408': {'english': 'Drive slowly',\n",
       "  'chinese': '开车慢点',\n",
       "  '_id': 'zhon-33869-6331a6faf06ead3e9c385408'},\n",
       " 'zhon-34226-6331a6faf06ead3e9c385409': {'english': 'Ghosts exist',\n",
       "  'chinese': '鬼魂是存在的',\n",
       "  '_id': 'zhon-34226-6331a6faf06ead3e9c385409'},\n",
       " 'zhon-34133-6331a6faf06ead3e9c38540a': {'english': 'Give it back',\n",
       "  'chinese': '还回',\n",
       "  '_id': 'zhon-34133-6331a6faf06ead3e9c38540a'},\n",
       " 'zhon-34126-6331a6faf06ead3e9c38540b': {'english': 'Good evening',\n",
       "  'chinese': '晚上好',\n",
       "  '_id': 'zhon-34126-6331a6faf06ead3e9c38540b'},\n",
       " 'zhon-34027-6331a6faf06ead3e9c38540c': {'english': 'Good evening',\n",
       "  'chinese': '晚上好',\n",
       "  '_id': 'zhon-34027-6331a6faf06ead3e9c38540c'},\n",
       " 'zhon-33646-6331a6faf06ead3e9c38540d': {'english': 'Good morning',\n",
       "  'chinese': '早上好',\n",
       "  '_id': 'zhon-33646-6331a6faf06ead3e9c38540d'},\n",
       " 'zhon-34078-6331a6faf06ead3e9c38540e': {'english': 'He got angry',\n",
       "  'chinese': '他生气了',\n",
       "  '_id': 'zhon-34078-6331a6faf06ead3e9c38540e'},\n",
       " 'zhon-33924-6331a6faf06ead3e9c38540f': {'english': 'He has a car',\n",
       "  'chinese': '他有辆车',\n",
       "  '_id': 'zhon-33924-6331a6faf06ead3e9c38540f'},\n",
       " 'zhon-34389-6331a6faf06ead3e9c385410': {'english': 'He likes tea',\n",
       "  'chinese': '他喜歡茶',\n",
       "  '_id': 'zhon-34389-6331a6faf06ead3e9c385410'},\n",
       " 'zhon-34433-6331a6faf06ead3e9c385411': {'english': 'He loves her',\n",
       "  'chinese': '他愛她',\n",
       "  '_id': 'zhon-34433-6331a6faf06ead3e9c385411'},\n",
       " 'zhon-33595-6331a6faf06ead3e9c385412': {'english': 'He was brave',\n",
       "  'chinese': '他很勇敢',\n",
       "  '_id': 'zhon-33595-6331a6faf06ead3e9c385412'},\n",
       " 'zhon-34471-6331a6faf06ead3e9c385413': {'english': \"He's out now\",\n",
       "  'chinese': '他现在出去了',\n",
       "  '_id': 'zhon-34471-6331a6faf06ead3e9c385413'},\n",
       " 'zhon-33650-6331a6faf06ead3e9c385414': {'english': 'How annoying',\n",
       "  'chinese': '真烦人',\n",
       "  '_id': 'zhon-33650-6331a6faf06ead3e9c385414'},\n",
       " 'zhon-34387-6331a6faf06ead3e9c385415': {'english': 'How dare you',\n",
       "  'chinese': '你敢',\n",
       "  '_id': 'zhon-34387-6331a6faf06ead3e9c385415'},\n",
       " 'zhon-33723-6331a6faf06ead3e9c385416': {'english': 'How horrible',\n",
       "  'chinese': '真糟糕',\n",
       "  '_id': 'zhon-33723-6331a6faf06ead3e9c385416'},\n",
       " 'zhon-33641-6331a6faf06ead3e9c385417': {'english': \"How's school\",\n",
       "  'chinese': '学校怎么样',\n",
       "  '_id': 'zhon-33641-6331a6faf06ead3e9c385417'},\n",
       " 'zhon-33721-6331a6faf06ead3e9c385418': {'english': 'I admire you',\n",
       "  'chinese': '我欣赏你',\n",
       "  '_id': 'zhon-33721-6331a6faf06ead3e9c385418'},\n",
       " 'zhon-33645-6331a6faf06ead3e9c385419': {'english': 'I almost won',\n",
       "  'chinese': '我几乎赢了',\n",
       "  '_id': 'zhon-33645-6331a6faf06ead3e9c385419'},\n",
       " 'zhon-33664-6331a6faf06ead3e9c38541a': {'english': 'I am at home',\n",
       "  'chinese': '我在家',\n",
       "  '_id': 'zhon-33664-6331a6faf06ead3e9c38541a'},\n",
       " 'zhon-34088-6331a6faf06ead3e9c38541b': {'english': 'I am curious',\n",
       "  'chinese': '我很好奇',\n",
       "  '_id': 'zhon-34088-6331a6faf06ead3e9c38541b'},\n",
       " 'zhon-34592-6331a6faf06ead3e9c38541c': {'english': 'I am praying',\n",
       "  'chinese': '我在祈禱',\n",
       "  '_id': 'zhon-34592-6331a6faf06ead3e9c38541c'},\n",
       " 'zhon-33627-6331a6faf06ead3e9c38541d': {'english': 'I ate caviar',\n",
       "  'chinese': '我吃了魚子醬',\n",
       "  '_id': 'zhon-33627-6331a6faf06ead3e9c38541d'},\n",
       " 'zhon-34468-6331a6faf06ead3e9c38541e': {'english': 'I called Tom',\n",
       "  'chinese': '我給湯姆打了電話',\n",
       "  '_id': 'zhon-34468-6331a6faf06ead3e9c38541e'},\n",
       " 'zhon-34323-6331a6faf06ead3e9c38541f': {'english': \"I can't walk\",\n",
       "  'chinese': '我走不了',\n",
       "  '_id': 'zhon-34323-6331a6faf06ead3e9c38541f'},\n",
       " 'zhon-33682-6331a6faf06ead3e9c385420': {'english': \"I don't care\",\n",
       "  'chinese': '我无所谓',\n",
       "  '_id': 'zhon-33682-6331a6faf06ead3e9c385420'},\n",
       " 'zhon-34121-6331a6faf06ead3e9c385421': {'english': \"I don't know\",\n",
       "  'chinese': '我一无所知',\n",
       "  '_id': 'zhon-34121-6331a6faf06ead3e9c385421'},\n",
       " 'zhon-34108-6331a6faf06ead3e9c385422': {'english': 'I have a car',\n",
       "  'chinese': '我有一辆车',\n",
       "  '_id': 'zhon-34108-6331a6faf06ead3e9c385422'},\n",
       " 'zhon-34095-6331a6faf06ead3e9c385423': {'english': 'I have a dog',\n",
       "  'chinese': '我有一条狗',\n",
       "  '_id': 'zhon-34095-6331a6faf06ead3e9c385423'},\n",
       " 'zhon-33917-6331a6faf06ead3e9c385424': {'english': 'I have a map',\n",
       "  'chinese': '我有一張地圖',\n",
       "  '_id': 'zhon-33917-6331a6faf06ead3e9c385424'},\n",
       " 'zhon-33754-6331a6faf06ead3e9c385425': {'english': 'I like beans',\n",
       "  'chinese': '我喜欢豆子',\n",
       "  '_id': 'zhon-33754-6331a6faf06ead3e9c385425'},\n",
       " 'zhon-33916-6331a6faf06ead3e9c385426': {'english': 'I like these',\n",
       "  'chinese': '我喜欢这些',\n",
       "  '_id': 'zhon-33916-6331a6faf06ead3e9c385426'},\n",
       " 'zhon-33667-6331a6faf06ead3e9c385427': {'english': 'I love music',\n",
       "  'chinese': '我爱音乐',\n",
       "  '_id': 'zhon-33667-6331a6faf06ead3e9c385427'},\n",
       " 'zhon-33953-6331a6faf06ead3e9c385428': {'english': 'I missed you',\n",
       "  'chinese': '我想你',\n",
       "  '_id': 'zhon-33953-6331a6faf06ead3e9c385428'},\n",
       " 'zhon-33989-6331a6faf06ead3e9c385429': {'english': 'I see a book',\n",
       "  'chinese': '我看到一本書',\n",
       "  '_id': 'zhon-33989-6331a6faf06ead3e9c385429'},\n",
       " 'zhon-34256-6331a6faf06ead3e9c38542a': {'english': 'I understand',\n",
       "  'chinese': '我明白了',\n",
       "  '_id': 'zhon-34256-6331a6faf06ead3e9c38542a'},\n",
       " 'zhon-33992-6331a6faf06ead3e9c38542b': {'english': 'I want a dog',\n",
       "  'chinese': '我想要一隻狗',\n",
       "  '_id': 'zhon-33992-6331a6faf06ead3e9c38542b'},\n",
       " 'zhon-34194-6331a6faf06ead3e9c38542c': {'english': \"I'll sue you\",\n",
       "  'chinese': '我要告你',\n",
       "  '_id': 'zhon-34194-6331a6faf06ead3e9c38542c'},\n",
       " 'zhon-33905-6331a6faf06ead3e9c38542d': {'english': \"I'm all ears\",\n",
       "  'chinese': '我洗耳恭聽',\n",
       "  '_id': 'zhon-33905-6331a6faf06ead3e9c38542d'},\n",
       " 'zhon-33963-6331a6faf06ead3e9c38542e': {'english': \"I'm bleeding\",\n",
       "  'chinese': '我在流血',\n",
       "  '_id': 'zhon-33963-6331a6faf06ead3e9c38542e'},\n",
       " 'zhon-33865-6331a6faf06ead3e9c38542f': {'english': \"I'm fine now\",\n",
       "  'chinese': '已经没事了',\n",
       "  '_id': 'zhon-33865-6331a6faf06ead3e9c38542f'},\n",
       " 'zhon-33789-6331a6faf06ead3e9c385430': {'english': \"I'm free now\",\n",
       "  'chinese': '我现在有空了',\n",
       "  '_id': 'zhon-33789-6331a6faf06ead3e9c385430'},\n",
       " 'zhon-33930-6331a6faf06ead3e9c385431': {'english': \"I'm innocent\",\n",
       "  'chinese': '我是清白的',\n",
       "  '_id': 'zhon-33930-6331a6faf06ead3e9c385431'},\n",
       " 'zhon-34032-6331a6faf06ead3e9c385432': {'english': \"I'm new here\",\n",
       "  'chinese': '我是新來的',\n",
       "  '_id': 'zhon-34032-6331a6faf06ead3e9c385432'},\n",
       " 'zhon-33720-6331a6faf06ead3e9c385433': {'english': \"I'm not busy\",\n",
       "  'chinese': '我没在忙',\n",
       "  '_id': 'zhon-33720-6331a6faf06ead3e9c385433'},\n",
       " 'zhon-33724-6331a6faf06ead3e9c385434': {'english': \"I'm not sure\",\n",
       "  'chinese': '我不确定',\n",
       "  '_id': 'zhon-33724-6331a6faf06ead3e9c385434'},\n",
       " 'zhon-34162-6331a6faf06ead3e9c385435': {'english': \"I'm pregnant\",\n",
       "  'chinese': '我怀孕了',\n",
       "  '_id': 'zhon-34162-6331a6faf06ead3e9c385435'},\n",
       " 'zhon-33597-6331a6faf06ead3e9c385436': {'english': \"I'm so happy\",\n",
       "  'chinese': '我好高興',\n",
       "  '_id': 'zhon-33597-6331a6faf06ead3e9c385436'},\n",
       " 'zhon-34327-6331a6faf06ead3e9c385437': {'english': \"I'm so tired\",\n",
       "  'chinese': '我好累',\n",
       "  '_id': 'zhon-34327-6331a6faf06ead3e9c385437'},\n",
       " 'zhon-34334-6331a6faf06ead3e9c385438': {'english': \"I'm the best\",\n",
       "  'chinese': '我是最好的',\n",
       "  '_id': 'zhon-34334-6331a6faf06ead3e9c385438'},\n",
       " 'zhon-33983-6331a6faf06ead3e9c385439': {'english': \"I'm thrilled\",\n",
       "  'chinese': '我激動不已',\n",
       "  '_id': 'zhon-33983-6331a6faf06ead3e9c385439'},\n",
       " 'zhon-34408-6331a6faf06ead3e9c38543a': {'english': \"I've decided\",\n",
       "  'chinese': '我決定了',\n",
       "  '_id': 'zhon-34408-6331a6faf06ead3e9c38543a'},\n",
       " 'zhon-33675-6331a6faf06ead3e9c38543b': {'english': \"I've no idea\",\n",
       "  'chinese': '我一无所知',\n",
       "  '_id': 'zhon-33675-6331a6faf06ead3e9c38543b'},\n",
       " 'zhon-34174-6331a6faf06ead3e9c38543c': {'english': \"I've seen it\",\n",
       "  'chinese': '我見過',\n",
       "  '_id': 'zhon-34174-6331a6faf06ead3e9c38543c'},\n",
       " 'zhon-33776-6331a6faf06ead3e9c38543d': {'english': 'Ideas matter',\n",
       "  'chinese': '想法很重要',\n",
       "  '_id': 'zhon-33776-6331a6faf06ead3e9c38543d'},\n",
       " 'zhon-33637-6331a6faf06ead3e9c38543e': {'english': 'Is that love',\n",
       "  'chinese': '那是愛嗎',\n",
       "  '_id': 'zhon-33637-6331a6faf06ead3e9c38543e'},\n",
       " 'zhon-33976-6331a6faf06ead3e9c38543f': {'english': 'Is that true',\n",
       "  'chinese': '真的',\n",
       "  '_id': 'zhon-33976-6331a6faf06ead3e9c38543f'},\n",
       " 'zhon-34065-6331a6faf06ead3e9c385440': {'english': \"It's amazing\",\n",
       "  'chinese': '太神奇了',\n",
       "  '_id': 'zhon-34065-6331a6faf06ead3e9c385440'},\n",
       " 'zhon-34212-6331a6faf06ead3e9c385441': {'english': \"It's obvious\",\n",
       "  'chinese': '它是明顯的',\n",
       "  '_id': 'zhon-34212-6331a6faf06ead3e9c385441'},\n",
       " 'zhon-34259-6331a6faf06ead3e9c385442': {'english': \"It's raining\",\n",
       "  'chinese': '下雨了',\n",
       "  '_id': 'zhon-34259-6331a6faf06ead3e9c385442'},\n",
       " 'zhon-34395-6331a6faf06ead3e9c385443': {'english': \"It's raining\",\n",
       "  'chinese': '在下雨',\n",
       "  '_id': 'zhon-34395-6331a6faf06ead3e9c385443'},\n",
       " 'zhon-34148-6331a6faf06ead3e9c385444': {'english': \"It's snowing\",\n",
       "  'chinese': '正在下雪',\n",
       "  '_id': 'zhon-34148-6331a6faf06ead3e9c385444'},\n",
       " 'zhon-33983-6331a6faf06ead3e9c385445': {'english': \"It's so hard\",\n",
       "  'chinese': '太难了',\n",
       "  '_id': 'zhon-33983-6331a6faf06ead3e9c385445'},\n",
       " 'zhon-34245-6331a6faf06ead3e9c385446': {'english': \"It's too big\",\n",
       "  'chinese': '它太大了',\n",
       "  '_id': 'zhon-34245-6331a6faf06ead3e9c385446'},\n",
       " 'zhon-34414-6331a6faf06ead3e9c385447': {'english': 'Keep looking',\n",
       "  'chinese': '繼續看',\n",
       "  '_id': 'zhon-34414-6331a6faf06ead3e9c385447'},\n",
       " 'zhon-33638-6331a6faf06ead3e9c385448': {'english': 'Keep reading',\n",
       "  'chinese': '继续看',\n",
       "  '_id': 'zhon-33638-6331a6faf06ead3e9c385448'},\n",
       " 'zhon-34231-6331a6faf06ead3e9c385449': {'english': 'Keep smiling',\n",
       "  'chinese': '保持微笑',\n",
       "  '_id': 'zhon-34231-6331a6faf06ead3e9c385449'},\n",
       " 'zhon-34501-6331a6faf06ead3e9c38544a': {'english': 'Keep working',\n",
       "  'chinese': '繼續工作',\n",
       "  '_id': 'zhon-34501-6331a6faf06ead3e9c38544a'},\n",
       " 'zhon-34035-6331a6faf06ead3e9c38544b': {'english': 'Let Tom live',\n",
       "  'chinese': '給湯姆活路',\n",
       "  '_id': 'zhon-34035-6331a6faf06ead3e9c38544b'},\n",
       " 'zhon-33648-6331a6faf06ead3e9c38544c': {'english': 'Let me think',\n",
       "  'chinese': '讓我想一想',\n",
       "  '_id': 'zhon-33648-6331a6faf06ead3e9c38544c'},\n",
       " 'zhon-33975-6331a6faf06ead3e9c38544d': {'english': \"Let's go now\",\n",
       "  'chinese': '我们现在去吧',\n",
       "  '_id': 'zhon-33975-6331a6faf06ead3e9c38544d'},\n",
       " 'zhon-34236-6331a6faf06ead3e9c38544e': {'english': 'Life goes on',\n",
       "  'chinese': '人生會繼續',\n",
       "  '_id': 'zhon-34236-6331a6faf06ead3e9c38544e'},\n",
       " 'zhon-34102-6331a6faf06ead3e9c38544f': {'english': 'Mary came in',\n",
       "  'chinese': '瑪麗進來了',\n",
       "  '_id': 'zhon-34102-6331a6faf06ead3e9c38544f'},\n",
       " 'zhon-34372-6331a6faf06ead3e9c385450': {'english': 'Mary is tall',\n",
       "  'chinese': '瑪麗很高',\n",
       "  '_id': 'zhon-34372-6331a6faf06ead3e9c385450'},\n",
       " 'zhon-34313-6331a6faf06ead3e9c385451': {'english': 'May I go now',\n",
       "  'chinese': '我现在能去了吗',\n",
       "  '_id': 'zhon-34313-6331a6faf06ead3e9c385451'},\n",
       " 'zhon-33916-6331a6faf06ead3e9c385452': {'english': 'Move quietly',\n",
       "  'chinese': '轻轻地移动',\n",
       "  '_id': 'zhon-33916-6331a6faf06ead3e9c385452'},\n",
       " 'zhon-34024-6331a6faf06ead3e9c385453': {'english': 'My eyes hurt',\n",
       "  'chinese': '我的眼睛痛',\n",
       "  '_id': 'zhon-34024-6331a6faf06ead3e9c385453'},\n",
       " 'zhon-34567-6331a6faf06ead3e9c385454': {'english': 'No one knows',\n",
       "  'chinese': '沒有人知道',\n",
       "  '_id': 'zhon-34567-6331a6faf06ead3e9c385454'},\n",
       " 'zhon-34304-6331a6faf06ead3e9c385455': {'english': 'Nobody asked',\n",
       "  'chinese': '没人问过',\n",
       "  '_id': 'zhon-34304-6331a6faf06ead3e9c385455'},\n",
       " 'zhon-34022-6331a6faf06ead3e9c385456': {'english': 'Open the box',\n",
       "  'chinese': '打開箱子',\n",
       "  '_id': 'zhon-34022-6331a6faf06ead3e9c385456'},\n",
       " 'zhon-34065-6331a6faf06ead3e9c385457': {'english': 'Please hurry',\n",
       "  'chinese': '请抓紧时间',\n",
       "  '_id': 'zhon-34065-6331a6faf06ead3e9c385457'},\n",
       " 'zhon-33612-6331a6faf06ead3e9c385458': {'english': 'Please leave',\n",
       "  'chinese': '請你離開',\n",
       "  '_id': 'zhon-33612-6331a6faf06ead3e9c385458'},\n",
       " 'zhon-33844-6331a6faf06ead3e9c385459': {'english': 'See you soon',\n",
       "  'chinese': '一会儿见',\n",
       "  '_id': 'zhon-33844-6331a6faf06ead3e9c385459'},\n",
       " 'zhon-33817-6331a6faf06ead3e9c38545a': {'english': 'See you soon',\n",
       "  'chinese': '一會兒見',\n",
       "  '_id': 'zhon-33817-6331a6faf06ead3e9c38545a'},\n",
       " 'zhon-34142-6331a6faf06ead3e9c38545b': {'english': 'See you then',\n",
       "  'chinese': '到時候見',\n",
       "  '_id': 'zhon-34142-6331a6faf06ead3e9c38545b'},\n",
       " 'zhon-33870-6331a6faf06ead3e9c38545c': {'english': 'Shame on you',\n",
       "  'chinese': '你真丢脸',\n",
       "  '_id': 'zhon-33870-6331a6faf06ead3e9c38545c'},\n",
       " 'zhon-34305-6331a6faf06ead3e9c38545d': {'english': 'Shame on you',\n",
       "  'chinese': '你真丢脸',\n",
       "  '_id': 'zhon-34305-6331a6faf06ead3e9c38545d'},\n",
       " 'zhon-34198-6331a6faf06ead3e9c38545e': {'english': 'She is quiet',\n",
       "  'chinese': '她很安静',\n",
       "  '_id': 'zhon-34198-6331a6faf06ead3e9c38545e'},\n",
       " 'zhon-33667-6331a6faf06ead3e9c38545f': {'english': 'She is upset',\n",
       "  'chinese': '她心情不好',\n",
       "  '_id': 'zhon-33667-6331a6faf06ead3e9c38545f'},\n",
       " 'zhon-34416-6331a6faf06ead3e9c385460': {'english': 'She knows me',\n",
       "  'chinese': '她认识我',\n",
       "  '_id': 'zhon-34416-6331a6faf06ead3e9c385460'},\n",
       " 'zhon-34029-6331a6faf06ead3e9c385461': {'english': 'She may come',\n",
       "  'chinese': '她可以來',\n",
       "  '_id': 'zhon-34029-6331a6faf06ead3e9c385461'},\n",
       " 'zhon-33823-6331a6faf06ead3e9c385462': {'english': 'She may come',\n",
       "  'chinese': '她也許來',\n",
       "  '_id': 'zhon-33823-6331a6faf06ead3e9c385462'},\n",
       " 'zhon-34030-6331a6faf06ead3e9c385463': {'english': 'Someone came',\n",
       "  'chinese': '有人来了',\n",
       "  '_id': 'zhon-34030-6331a6faf06ead3e9c385463'},\n",
       " 'zhon-33727-6331a6faf06ead3e9c385464': {'english': 'Speak softly',\n",
       "  'chinese': '你说话小点声',\n",
       "  '_id': 'zhon-33727-6331a6faf06ead3e9c385464'},\n",
       " 'zhon-34494-6331a6faf06ead3e9c385465': {'english': 'Stay with us',\n",
       "  'chinese': '和我们留在一起吧',\n",
       "  '_id': 'zhon-34494-6331a6faf06ead3e9c385465'},\n",
       " 'zhon-33622-6331a6faf06ead3e9c385466': {'english': 'Stop gawking',\n",
       "  'chinese': '别再傻看着',\n",
       "  '_id': 'zhon-33622-6331a6faf06ead3e9c385466'},\n",
       " 'zhon-34552-6331a6faf06ead3e9c385467': {'english': 'Stop reading',\n",
       "  'chinese': '别再念了',\n",
       "  '_id': 'zhon-34552-6331a6faf06ead3e9c385467'},\n",
       " 'zhon-33927-6331a6faf06ead3e9c385468': {'english': 'Stop staring',\n",
       "  'chinese': '别再盯着了',\n",
       "  '_id': 'zhon-33927-6331a6faf06ead3e9c385468'},\n",
       " 'zhon-33977-6331a6faf06ead3e9c385469': {'english': 'Stop talking',\n",
       "  'chinese': '不要说话了',\n",
       "  '_id': 'zhon-33977-6331a6faf06ead3e9c385469'},\n",
       " 'zhon-34586-6331a6faf06ead3e9c38546a': {'english': 'Stop whining',\n",
       "  'chinese': '别再埋怨了',\n",
       "  '_id': 'zhon-34586-6331a6faf06ead3e9c38546a'},\n",
       " 'zhon-34513-6331a6faf06ead3e9c38546b': {'english': 'Stop yelling',\n",
       "  'chinese': '别再喊叫了',\n",
       "  '_id': 'zhon-34513-6331a6faf06ead3e9c38546b'},\n",
       " 'zhon-34166-6331a6faf06ead3e9c38546c': {'english': 'Sweet dreams',\n",
       "  'chinese': '祝你好梦',\n",
       "  '_id': 'zhon-34166-6331a6faf06ead3e9c38546c'},\n",
       " 'zhon-34403-6331a6faf06ead3e9c38546d': {'english': 'Take it easy',\n",
       "  'chinese': '放輕鬆',\n",
       "  '_id': 'zhon-34403-6331a6faf06ead3e9c38546d'},\n",
       " 'zhon-34485-6331a6faf06ead3e9c38546e': {'english': 'Take it easy',\n",
       "  'chinese': '別緊張',\n",
       "  '_id': 'zhon-34485-6331a6faf06ead3e9c38546e'},\n",
       " 'zhon-33862-6331a6faf06ead3e9c38546f': {'english': 'Take me home',\n",
       "  'chinese': '带我回家',\n",
       "  '_id': 'zhon-33862-6331a6faf06ead3e9c38546f'},\n",
       " 'zhon-33718-6331a6faf06ead3e9c385470': {'english': 'Tell us more',\n",
       "  'chinese': '告訴我們多一點',\n",
       "  '_id': 'zhon-33718-6331a6faf06ead3e9c385470'},\n",
       " 'zhon-34069-6331a6faf06ead3e9c385471': {'english': 'That is mine',\n",
       "  'chinese': '那是我的',\n",
       "  '_id': 'zhon-34069-6331a6faf06ead3e9c385471'},\n",
       " 'zhon-34301-6331a6faf06ead3e9c385472': {'english': \"That's crazy\",\n",
       "  'chinese': '那是瘋狂的',\n",
       "  '_id': 'zhon-34301-6331a6faf06ead3e9c385472'},\n",
       " 'zhon-33720-6331a6faf06ead3e9c385473': {'english': \"That's great\",\n",
       "  'chinese': '那真是太好了',\n",
       "  '_id': 'zhon-33720-6331a6faf06ead3e9c385473'},\n",
       " 'zhon-34555-6331a6faf06ead3e9c385474': {'english': \"That's right\",\n",
       "  'chinese': '對了',\n",
       "  '_id': 'zhon-34555-6331a6faf06ead3e9c385474'},\n",
       " 'zhon-34426-6331a6faf06ead3e9c385475': {'english': \"That's right\",\n",
       "  'chinese': '对',\n",
       "  '_id': 'zhon-34426-6331a6faf06ead3e9c385475'},\n",
       " 'zhon-34343-6331a6faf06ead3e9c385476': {'english': 'They refused',\n",
       "  'chinese': '他們拒絕了',\n",
       "  '_id': 'zhon-34343-6331a6faf06ead3e9c385476'},\n",
       " 'zhon-34272-6331a6faf06ead3e9c385477': {'english': \"They're fake\",\n",
       "  'chinese': '它们是假的',\n",
       "  '_id': 'zhon-34272-6331a6faf06ead3e9c385477'},\n",
       " 'zhon-34464-6331a6faf06ead3e9c385478': {'english': 'This is mine',\n",
       "  'chinese': '这是我的',\n",
       "  '_id': 'zhon-34464-6331a6faf06ead3e9c385478'},\n",
       " 'zhon-34502-6331a6faf06ead3e9c385479': {'english': 'This is true',\n",
       "  'chinese': '這是真的',\n",
       "  '_id': 'zhon-34502-6331a6faf06ead3e9c385479'},\n",
       " 'zhon-34136-6331a6faf06ead3e9c38547a': {'english': 'Tom followed',\n",
       "  'chinese': '汤姆跟着',\n",
       "  '_id': 'zhon-34136-6331a6faf06ead3e9c38547a'},\n",
       " 'zhon-34405-6331a6faf06ead3e9c38547b': {'english': 'Tom is clean',\n",
       "  'chinese': '湯姆是干净的',\n",
       "  '_id': 'zhon-34405-6331a6faf06ead3e9c38547b'},\n",
       " 'zhon-33979-6331a6faf06ead3e9c38547c': {'english': 'Tom is happy',\n",
       "  'chinese': '湯姆高興',\n",
       "  '_id': 'zhon-33979-6331a6faf06ead3e9c38547c'},\n",
       " 'zhon-34277-6331a6faf06ead3e9c38547d': {'english': 'Tom knows me',\n",
       "  'chinese': 'Tom認識我',\n",
       "  '_id': 'zhon-34277-6331a6faf06ead3e9c38547d'},\n",
       " 'zhon-33705-6331a6faf06ead3e9c38547e': {'english': 'Tom sat down',\n",
       "  'chinese': '汤姆坐下了',\n",
       "  '_id': 'zhon-33705-6331a6faf06ead3e9c38547e'},\n",
       " 'zhon-34345-6331a6faf06ead3e9c38547f': {'english': 'Tom told him',\n",
       "  'chinese': '汤姆告诉了他',\n",
       "  '_id': 'zhon-34345-6331a6faf06ead3e9c38547f'},\n",
       " 'zhon-33920-6331a6faf06ead3e9c385480': {'english': 'Tom vanished',\n",
       "  'chinese': '汤姆不见了',\n",
       "  '_id': 'zhon-33920-6331a6faf06ead3e9c385480'},\n",
       " 'zhon-34171-6331a6faf06ead3e9c385481': {'english': 'Tom was full',\n",
       "  'chinese': '汤姆饱了',\n",
       "  '_id': 'zhon-34171-6331a6faf06ead3e9c385481'},\n",
       " 'zhon-34138-6331a6faf06ead3e9c385482': {'english': 'Tom, wake up',\n",
       "  'chinese': '汤姆，快起来',\n",
       "  '_id': 'zhon-34138-6331a6faf06ead3e9c385482'},\n",
       " 'zhon-33699-6331a6faf06ead3e9c385483': {'english': 'Try it again',\n",
       "  'chinese': '再試一次',\n",
       "  '_id': 'zhon-33699-6331a6faf06ead3e9c385483'},\n",
       " 'zhon-34425-6331a6faf06ead3e9c385484': {'english': 'Unbelievable',\n",
       "  'chinese': '難以置信',\n",
       "  '_id': 'zhon-34425-6331a6faf06ead3e9c385484'},\n",
       " 'zhon-34195-6331a6faf06ead3e9c385485': {'english': 'Unbelievable',\n",
       "  'chinese': '难以置信',\n",
       "  '_id': 'zhon-34195-6331a6faf06ead3e9c385485'},\n",
       " 'zhon-34327-6331a6faf06ead3e9c385486': {'english': 'Vote for Tom',\n",
       "  'chinese': '投票給湯姆',\n",
       "  '_id': 'zhon-34327-6331a6faf06ead3e9c385486'},\n",
       " 'zhon-33599-6331a6faf06ead3e9c385487': {'english': 'Wait and see',\n",
       "  'chinese': '走著',\n",
       "  '_id': 'zhon-33599-6331a6faf06ead3e9c385487'},\n",
       " 'zhon-34078-6331a6faf06ead3e9c385488': {'english': 'We are happy',\n",
       "  'chinese': '我們很快樂',\n",
       "  '_id': 'zhon-34078-6331a6faf06ead3e9c385488'},\n",
       " 'zhon-33740-6331a6faf06ead3e9c385489': {'english': 'We can begin',\n",
       "  'chinese': '我們能開始',\n",
       "  '_id': 'zhon-33740-6331a6faf06ead3e9c385489'},\n",
       " 'zhon-33835-6331a6faf06ead3e9c38548a': {'english': 'We know that',\n",
       "  'chinese': '我们知道',\n",
       "  '_id': 'zhon-33835-6331a6faf06ead3e9c38548a'},\n",
       " 'zhon-34386-6331a6faf06ead3e9c38548b': {'english': 'We need more',\n",
       "  'chinese': '我們需要更多',\n",
       "  '_id': 'zhon-34386-6331a6faf06ead3e9c38548b'},\n",
       " 'zhon-33992-6331a6faf06ead3e9c38548c': {'english': 'We succeeded',\n",
       "  'chinese': '我们成功了',\n",
       "  '_id': 'zhon-33992-6331a6faf06ead3e9c38548c'},\n",
       " 'zhon-33639-6331a6faf06ead3e9c38548d': {'english': 'We surrender',\n",
       "  'chinese': '我們投降',\n",
       "  '_id': 'zhon-33639-6331a6faf06ead3e9c38548d'},\n",
       " 'zhon-34133-6331a6faf06ead3e9c38548e': {'english': \"We're adults\",\n",
       "  'chinese': '我们已是成年人了',\n",
       "  '_id': 'zhon-34133-6331a6faf06ead3e9c38548e'},\n",
       " 'zhon-33688-6331a6faf06ead3e9c38548f': {'english': \"We're hiding\",\n",
       "  'chinese': '我们在藏着',\n",
       "  '_id': 'zhon-33688-6331a6faf06ead3e9c38548f'},\n",
       " 'zhon-34171-6331a6faf06ead3e9c385490': {'english': 'Welcome back',\n",
       "  'chinese': '欢迎回来',\n",
       "  '_id': 'zhon-34171-6331a6faf06ead3e9c385490'},\n",
       " 'zhon-33695-6331a6faf06ead3e9c385491': {'english': 'What is love',\n",
       "  'chinese': '愛是什麼',\n",
       "  '_id': 'zhon-33695-6331a6faf06ead3e9c385491'},\n",
       " 'zhon-34269-6331a6faf06ead3e9c385492': {'english': 'What is that',\n",
       "  'chinese': '那是什么',\n",
       "  '_id': 'zhon-34269-6331a6faf06ead3e9c385492'},\n",
       " 'zhon-34495-6331a6faf06ead3e9c385493': {'english': 'What is that',\n",
       "  'chinese': '那是什么啊',\n",
       "  '_id': 'zhon-34495-6331a6faf06ead3e9c385493'},\n",
       " 'zhon-33978-6331a6faf06ead3e9c385494': {'english': 'What is this',\n",
       "  'chinese': '這是什麼啊',\n",
       "  '_id': 'zhon-33978-6331a6faf06ead3e9c385494'},\n",
       " 'zhon-33777-6331a6faf06ead3e9c385495': {'english': 'What is this',\n",
       "  'chinese': '這是什麼',\n",
       "  '_id': 'zhon-33777-6331a6faf06ead3e9c385495'},\n",
       " 'zhon-34433-6331a6faf06ead3e9c385496': {'english': 'Who built it',\n",
       "  'chinese': '这是谁建的',\n",
       "  '_id': 'zhon-34433-6331a6faf06ead3e9c385496'},\n",
       " 'zhon-33618-6331a6faf06ead3e9c385497': {'english': 'Who was here',\n",
       "  'chinese': '谁来了这里',\n",
       "  '_id': 'zhon-33618-6331a6faf06ead3e9c385497'},\n",
       " 'zhon-33943-6331a6faf06ead3e9c385498': {'english': 'Years passed',\n",
       "  'chinese': '多少年过去了',\n",
       "  '_id': 'zhon-33943-6331a6faf06ead3e9c385498'},\n",
       " 'zhon-34455-6331a6faf06ead3e9c385499': {'english': \"You're drunk\",\n",
       "  'chinese': '你喝醉了',\n",
       "  '_id': 'zhon-34455-6331a6faf06ead3e9c385499'},\n",
       " 'zhon-34466-6331a6faf06ead3e9c38549a': {'english': 'Anything else',\n",
       "  'chinese': '还有别的吗',\n",
       "  '_id': 'zhon-34466-6331a6faf06ead3e9c38549a'},\n",
       " 'zhon-33718-6331a6faf06ead3e9c38549b': {'english': 'Are you angry',\n",
       "  'chinese': '您生气了吗',\n",
       "  '_id': 'zhon-33718-6331a6faf06ead3e9c38549b'},\n",
       " 'zhon-33620-6331a6faf06ead3e9c38549c': {'english': 'Are you angry',\n",
       "  'chinese': '你生气了吗',\n",
       "  '_id': 'zhon-33620-6331a6faf06ead3e9c38549c'},\n",
       " 'zhon-34458-6331a6faf06ead3e9c38549d': {'english': 'Are you happy',\n",
       "  'chinese': '你快樂嗎',\n",
       "  '_id': 'zhon-34458-6331a6faf06ead3e9c38549d'},\n",
       " 'zhon-33711-6331a6faf06ead3e9c38549e': {'english': 'Are you ready',\n",
       "  'chinese': '您准备好了吗',\n",
       "  '_id': 'zhon-33711-6331a6faf06ead3e9c38549e'},\n",
       " 'zhon-34283-6331a6faf06ead3e9c38549f': {'english': 'Are you ready',\n",
       "  'chinese': '你们准备好了吗',\n",
       "  '_id': 'zhon-34283-6331a6faf06ead3e9c38549f'},\n",
       " 'zhon-34087-6331a6faf06ead3e9c3854a0': {'english': 'Are you ready',\n",
       "  'chinese': '你准备好了吗',\n",
       "  '_id': 'zhon-34087-6331a6faf06ead3e9c3854a0'},\n",
       " 'zhon-34450-6331a6faf06ead3e9c3854a1': {'english': 'Are you tired',\n",
       "  'chinese': '你累了嗎',\n",
       "  '_id': 'zhon-34450-6331a6faf06ead3e9c3854a1'},\n",
       " 'zhon-34307-6331a6faf06ead3e9c3854a2': {'english': 'Bring the key',\n",
       "  'chinese': '帶鑰匙來',\n",
       "  '_id': 'zhon-34307-6331a6faf06ead3e9c3854a2'},\n",
       " 'zhon-34569-6331a6faf06ead3e9c3854a3': {'english': 'Call security',\n",
       "  'chinese': '叫保安来',\n",
       "  '_id': 'zhon-34569-6331a6faf06ead3e9c3854a3'},\n",
       " 'zhon-33885-6331a6faf06ead3e9c3854a4': {'english': 'Can you skate',\n",
       "  'chinese': '你会溜冰吗',\n",
       "  '_id': 'zhon-33885-6331a6faf06ead3e9c3854a4'},\n",
       " 'zhon-34186-6331a6faf06ead3e9c3854a5': {'english': 'Check, please',\n",
       "  'chinese': '請結帳',\n",
       "  '_id': 'zhon-34186-6331a6faf06ead3e9c3854a5'},\n",
       " 'zhon-33900-6331a6faf06ead3e9c3854a6': {'english': 'Did you write',\n",
       "  'chinese': '你写吗',\n",
       "  '_id': 'zhon-33900-6331a6faf06ead3e9c3854a6'},\n",
       " 'zhon-34411-6331a6faf06ead3e9c3854a7': {'english': \"Don't give up\",\n",
       "  'chinese': '不要放棄',\n",
       "  '_id': 'zhon-34411-6331a6faf06ead3e9c3854a7'},\n",
       " 'zhon-33684-6331a6faf06ead3e9c3854a8': {'english': 'Draw a circle',\n",
       "  'chinese': '画一个圈',\n",
       "  '_id': 'zhon-33684-6331a6faf06ead3e9c3854a8'},\n",
       " 'zhon-33631-6331a6faf06ead3e9c3854a9': {'english': 'Flowers bloom',\n",
       "  'chinese': '鮮花盛開',\n",
       "  '_id': 'zhon-33631-6331a6faf06ead3e9c3854a9'},\n",
       " 'zhon-34379-6331a6faf06ead3e9c3854aa': {'english': 'Hang in there',\n",
       "  'chinese': '坚持',\n",
       "  '_id': 'zhon-34379-6331a6faf06ead3e9c3854aa'},\n",
       " 'zhon-34171-6331a6faf06ead3e9c3854ab': {'english': \"He can't swim\",\n",
       "  'chinese': '他不會游泳',\n",
       "  '_id': 'zhon-34171-6331a6faf06ead3e9c3854ab'},\n",
       " 'zhon-34117-6331a6faf06ead3e9c3854ac': {'english': 'He is a thief',\n",
       "  'chinese': '这是一个小偷',\n",
       "  '_id': 'zhon-34117-6331a6faf06ead3e9c3854ac'},\n",
       " 'zhon-34135-6331a6faf06ead3e9c3854ad': {'english': 'He is at home',\n",
       "  'chinese': '他在家裡',\n",
       "  '_id': 'zhon-34135-6331a6faf06ead3e9c3854ad'},\n",
       " 'zhon-34326-6331a6faf06ead3e9c3854ae': {'english': 'He is my type',\n",
       "  'chinese': '他是我的菜',\n",
       "  '_id': 'zhon-34326-6331a6faf06ead3e9c3854ae'},\n",
       " 'zhon-33838-6331a6faf06ead3e9c3854af': {'english': 'He is no fool',\n",
       "  'chinese': '他不是傻子',\n",
       "  '_id': 'zhon-33838-6331a6faf06ead3e9c3854af'},\n",
       " 'zhon-33703-6331a6faf06ead3e9c3854b0': {'english': 'He is no fool',\n",
       "  'chinese': '他没疯',\n",
       "  '_id': 'zhon-33703-6331a6faf06ead3e9c3854b0'},\n",
       " 'zhon-34161-6331a6faf06ead3e9c3854b1': {'english': 'He is out now',\n",
       "  'chinese': '他现在出去了',\n",
       "  '_id': 'zhon-34161-6331a6faf06ead3e9c3854b1'},\n",
       " 'zhon-34360-6331a6faf06ead3e9c3854b2': {'english': 'He lied to us',\n",
       "  'chinese': '他欺騙了我們',\n",
       "  '_id': 'zhon-34360-6331a6faf06ead3e9c3854b2'},\n",
       " 'zhon-33696-6331a6faf06ead3e9c3854b3': {'english': 'He sells cars',\n",
       "  'chinese': '他賣車子',\n",
       "  '_id': 'zhon-33696-6331a6faf06ead3e9c3854b3'},\n",
       " 'zhon-34550-6331a6faf06ead3e9c3854b4': {'english': 'He shot at me',\n",
       "  'chinese': '他槍擊了我',\n",
       "  '_id': 'zhon-34550-6331a6faf06ead3e9c3854b4'},\n",
       " 'zhon-34160-6331a6faf06ead3e9c3854b5': {'english': 'He tries hard',\n",
       "  'chinese': '他努力地嘗試',\n",
       "  '_id': 'zhon-34160-6331a6faf06ead3e9c3854b5'},\n",
       " 'zhon-33656-6331a6faf06ead3e9c3854b6': {'english': 'He wants more',\n",
       "  'chinese': '他想要更多',\n",
       "  '_id': 'zhon-33656-6331a6faf06ead3e9c3854b6'},\n",
       " 'zhon-34157-6331a6faf06ead3e9c3854b7': {'english': \"He's not home\",\n",
       "  'chinese': '他不在家',\n",
       "  '_id': 'zhon-34157-6331a6faf06ead3e9c3854b7'},\n",
       " 'zhon-33926-6331a6faf06ead3e9c3854b8': {'english': \"He's studying\",\n",
       "  'chinese': '他在讀書',\n",
       "  '_id': 'zhon-33926-6331a6faf06ead3e9c3854b8'},\n",
       " 'zhon-34484-6331a6faf06ead3e9c3854b9': {'english': 'How about you',\n",
       "  'chinese': '你怎麼樣',\n",
       "  '_id': 'zhon-34484-6331a6faf06ead3e9c3854b9'},\n",
       " 'zhon-34171-6331a6faf06ead3e9c3854ba': {'english': 'How about you',\n",
       "  'chinese': '那你呢',\n",
       "  '_id': 'zhon-34171-6331a6faf06ead3e9c3854ba'},\n",
       " 'zhon-33778-6331a6faf06ead3e9c3854bb': {'english': 'How about you',\n",
       "  'chinese': '你們呢',\n",
       "  '_id': 'zhon-33778-6331a6faf06ead3e9c3854bb'},\n",
       " 'zhon-34441-6331a6faf06ead3e9c3854bc': {'english': 'How about you',\n",
       "  'chinese': '您呢',\n",
       "  '_id': 'zhon-34441-6331a6faf06ead3e9c3854bc'},\n",
       " 'zhon-33673-6331a6faf06ead3e9c3854bd': {'english': 'How beautiful',\n",
       "  'chinese': '多美啊',\n",
       "  '_id': 'zhon-33673-6331a6faf06ead3e9c3854bd'},\n",
       " 'zhon-33841-6331a6faf06ead3e9c3854be': {'english': 'I am divorced',\n",
       "  'chinese': '我离婚了',\n",
       "  '_id': 'zhon-33841-6331a6faf06ead3e9c3854be'},\n",
       " 'zhon-33778-6331a6faf06ead3e9c3854bf': {'english': 'I am very sad',\n",
       "  'chinese': '我很难过',\n",
       "  '_id': 'zhon-33778-6331a6faf06ead3e9c3854bf'},\n",
       " 'zhon-34255-6331a6faf06ead3e9c3854c0': {'english': 'I approved it',\n",
       "  'chinese': '我同意它',\n",
       "  '_id': 'zhon-34255-6331a6faf06ead3e9c3854c0'},\n",
       " 'zhon-33849-6331a6faf06ead3e9c3854c1': {'english': 'I believe you',\n",
       "  'chinese': '我相信你',\n",
       "  '_id': 'zhon-33849-6331a6faf06ead3e9c3854c1'},\n",
       " 'zhon-34059-6331a6faf06ead3e9c3854c2': {'english': 'I believe you',\n",
       "  'chinese': '我信过你',\n",
       "  '_id': 'zhon-34059-6331a6faf06ead3e9c3854c2'},\n",
       " 'zhon-34224-6331a6faf06ead3e9c3854c3': {'english': 'I can see Tom',\n",
       "  'chinese': '我看得见汤姆',\n",
       "  '_id': 'zhon-34224-6331a6faf06ead3e9c3854c3'},\n",
       " 'zhon-34310-6331a6faf06ead3e9c3854c4': {'english': \"I can't do it\",\n",
       "  'chinese': '我無法做到這一點',\n",
       "  '_id': 'zhon-34310-6331a6faf06ead3e9c3854c4'},\n",
       " 'zhon-34365-6331a6faf06ead3e9c3854c5': {'english': \"I can't do it\",\n",
       "  'chinese': '我做不到',\n",
       "  '_id': 'zhon-34365-6331a6faf06ead3e9c3854c5'},\n",
       " 'zhon-34559-6331a6faf06ead3e9c3854c6': {'english': \"I can't leave\",\n",
       "  'chinese': '我不能走',\n",
       "  '_id': 'zhon-34559-6331a6faf06ead3e9c3854c6'},\n",
       " 'zhon-33997-6331a6faf06ead3e9c3854c7': {'english': 'I despise you',\n",
       "  'chinese': '我鄙视你',\n",
       "  '_id': 'zhon-33997-6331a6faf06ead3e9c3854c7'},\n",
       " 'zhon-33852-6331a6faf06ead3e9c3854c8': {'english': 'I did my best',\n",
       "  'chinese': '我做得好到不能再好了',\n",
       "  '_id': 'zhon-33852-6331a6faf06ead3e9c3854c8'},\n",
       " 'zhon-33970-6331a6faf06ead3e9c3854c9': {'english': 'I did see him',\n",
       "  'chinese': '我确实看见他了',\n",
       "  '_id': 'zhon-33970-6331a6faf06ead3e9c3854c9'},\n",
       " 'zhon-34207-6331a6faf06ead3e9c3854ca': {'english': \"I didn't pass\",\n",
       "  'chinese': '我没通过',\n",
       "  '_id': 'zhon-34207-6331a6faf06ead3e9c3854ca'},\n",
       " 'zhon-34000-6331a6faf06ead3e9c3854cb': {'english': 'I fed the dog',\n",
       "  'chinese': '我餵過狗了',\n",
       "  '_id': 'zhon-34000-6331a6faf06ead3e9c3854cb'},\n",
       " 'zhon-34555-6331a6faf06ead3e9c3854cc': {'english': 'I feel lonely',\n",
       "  'chinese': '我觉得很孤独',\n",
       "  '_id': 'zhon-34555-6331a6faf06ead3e9c3854cc'},\n",
       " 'zhon-33952-6331a6faf06ead3e9c3854cd': {'english': 'I feel unwell',\n",
       "  'chinese': '我感觉不舒服',\n",
       "  '_id': 'zhon-33952-6331a6faf06ead3e9c3854cd'},\n",
       " 'zhon-34163-6331a6faf06ead3e9c3854ce': {'english': 'I got it free',\n",
       "  'chinese': '我是免費得到的',\n",
       "  '_id': 'zhon-34163-6331a6faf06ead3e9c3854ce'},\n",
       " 'zhon-34022-6331a6faf06ead3e9c3854cf': {'english': 'I have a home',\n",
       "  'chinese': '我有一个家',\n",
       "  '_id': 'zhon-34022-6331a6faf06ead3e9c3854cf'},\n",
       " 'zhon-34583-6331a6faf06ead3e9c3854d0': {'english': 'I have an egg',\n",
       "  'chinese': '我有一只蛋',\n",
       "  '_id': 'zhon-34583-6331a6faf06ead3e9c3854d0'},\n",
       " 'zhon-33679-6331a6faf06ead3e9c3854d1': {'english': 'I have to win',\n",
       "  'chinese': '我必须赢',\n",
       "  '_id': 'zhon-33679-6331a6faf06ead3e9c3854d1'},\n",
       " 'zhon-33978-6331a6faf06ead3e9c3854d2': {'english': 'I like sports',\n",
       "  'chinese': '我喜歡運動',\n",
       "  '_id': 'zhon-33978-6331a6faf06ead3e9c3854d2'},\n",
       " 'zhon-34106-6331a6faf06ead3e9c3854d3': {'english': 'I like sweets',\n",
       "  'chinese': '我喜歡甜食',\n",
       "  '_id': 'zhon-34106-6331a6faf06ead3e9c3854d3'},\n",
       " 'zhon-33834-6331a6faf06ead3e9c3854d4': {'english': 'I like to eat',\n",
       "  'chinese': '我喜歡吃',\n",
       "  '_id': 'zhon-33834-6331a6faf06ead3e9c3854d4'},\n",
       " 'zhon-34590-6331a6faf06ead3e9c3854d5': {'english': 'I like to run',\n",
       "  'chinese': '我喜欢跑步',\n",
       "  '_id': 'zhon-34590-6331a6faf06ead3e9c3854d5'},\n",
       " 'zhon-34545-6331a6faf06ead3e9c3854d6': {'english': 'I love coffee',\n",
       "  'chinese': '我愛咖啡',\n",
       "  '_id': 'zhon-34545-6331a6faf06ead3e9c3854d6'},\n",
       " 'zhon-34016-6331a6faf06ead3e9c3854d7': {'english': 'I love movies',\n",
       "  'chinese': '我愛電影',\n",
       "  '_id': 'zhon-34016-6331a6faf06ead3e9c3854d7'},\n",
       " 'zhon-34457-6331a6faf06ead3e9c3854d8': {'english': 'I love nature',\n",
       "  'chinese': '我愛大自然',\n",
       "  '_id': 'zhon-34457-6331a6faf06ead3e9c3854d8'},\n",
       " 'zhon-34359-6331a6faf06ead3e9c3854d9': {'english': 'I love sports',\n",
       "  'chinese': '我喜歡運動',\n",
       "  '_id': 'zhon-34359-6331a6faf06ead3e9c3854d9'},\n",
       " 'zhon-34584-6331a6faf06ead3e9c3854da': {'english': 'I miss Boston',\n",
       "  'chinese': '我想念波士頓',\n",
       "  '_id': 'zhon-34584-6331a6faf06ead3e9c3854da'},\n",
       " 'zhon-33758-6331a6faf06ead3e9c3854db': {'english': 'I must go now',\n",
       "  'chinese': '我現在必須走了',\n",
       "  '_id': 'zhon-33758-6331a6faf06ead3e9c3854db'},\n",
       " 'zhon-34019-6331a6faf06ead3e9c3854dc': {'english': 'I need advice',\n",
       "  'chinese': '我需要些建议',\n",
       "  '_id': 'zhon-34019-6331a6faf06ead3e9c3854dc'},\n",
       " 'zhon-34301-6331a6faf06ead3e9c3854dd': {'english': 'I need to try',\n",
       "  'chinese': '我需要尝试',\n",
       "  '_id': 'zhon-34301-6331a6faf06ead3e9c3854dd'},\n",
       " 'zhon-34176-6331a6faf06ead3e9c3854de': {'english': 'I respect Tom',\n",
       "  'chinese': '我尊敬湯姆',\n",
       "  '_id': 'zhon-34176-6331a6faf06ead3e9c3854de'},\n",
       " 'zhon-34368-6331a6faf06ead3e9c3854df': {'english': 'I should obey',\n",
       "  'chinese': '我應該服從',\n",
       "  '_id': 'zhon-34368-6331a6faf06ead3e9c3854df'},\n",
       " 'zhon-34187-6331a6faf06ead3e9c3854e0': {'english': 'I think I can',\n",
       "  'chinese': '我想我可以',\n",
       "  '_id': 'zhon-34187-6331a6faf06ead3e9c3854e0'},\n",
       " 'zhon-34284-6331a6faf06ead3e9c3854e1': {'english': 'I use Twitter',\n",
       "  'chinese': '我用Twitter',\n",
       "  '_id': 'zhon-34284-6331a6faf06ead3e9c3854e1'},\n",
       " 'zhon-34540-6331a6faf06ead3e9c3854e2': {'english': 'I want to cry',\n",
       "  'chinese': '我想哭',\n",
       "  '_id': 'zhon-34540-6331a6faf06ead3e9c3854e2'},\n",
       " 'zhon-34123-6331a6faf06ead3e9c3854e3': {'english': 'I want to die',\n",
       "  'chinese': '我想',\n",
       "  '_id': 'zhon-34123-6331a6faf06ead3e9c3854e3'},\n",
       " 'zhon-34296-6331a6faf06ead3e9c3854e4': {'english': 'I was at home',\n",
       "  'chinese': '我刚才在家',\n",
       "  '_id': 'zhon-34296-6331a6faf06ead3e9c3854e4'},\n",
       " 'zhon-34089-6331a6faf06ead3e9c3854e5': {'english': 'I was so cold',\n",
       "  'chinese': '我很冷',\n",
       "  '_id': 'zhon-34089-6331a6faf06ead3e9c3854e5'},\n",
       " 'zhon-33753-6331a6faf06ead3e9c3854e6': {'english': \"I'll buy this\",\n",
       "  'chinese': '我要買這個',\n",
       "  '_id': 'zhon-33753-6331a6faf06ead3e9c3854e6'},\n",
       " 'zhon-34252-6331a6faf06ead3e9c3854e7': {'english': \"I'll call you\",\n",
       "  'chinese': '我会打电话给你',\n",
       "  '_id': 'zhon-34252-6331a6faf06ead3e9c3854e7'},\n",
       " 'zhon-34004-6331a6faf06ead3e9c3854e8': {'english': \"I'll eat here\",\n",
       "  'chinese': '我會在這裡吃飯',\n",
       "  '_id': 'zhon-34004-6331a6faf06ead3e9c3854e8'},\n",
       " 'zhon-34512-6331a6faf06ead3e9c3854e9': {'english': \"I'll take him\",\n",
       "  'chinese': '我会去接他的',\n",
       "  '_id': 'zhon-34512-6331a6faf06ead3e9c3854e9'},\n",
       " 'zhon-34502-6331a6faf06ead3e9c3854ea': {'english': \"I'm a student\",\n",
       "  'chinese': '我是个学生',\n",
       "  '_id': 'zhon-34502-6331a6faf06ead3e9c3854ea'},\n",
       " 'zhon-33746-6331a6faf06ead3e9c3854eb': {'english': \"I'm a teacher\",\n",
       "  'chinese': '我是個老師',\n",
       "  '_id': 'zhon-33746-6331a6faf06ead3e9c3854eb'},\n",
       " 'zhon-33760-6331a6faf06ead3e9c3854ec': {'english': \"I'm exhausted\",\n",
       "  'chinese': '我累死了',\n",
       "  '_id': 'zhon-33760-6331a6faf06ead3e9c3854ec'},\n",
       " 'zhon-33692-6331a6faf06ead3e9c3854ed': {'english': \"I'm exhausted\",\n",
       "  'chinese': '困死了',\n",
       "  '_id': 'zhon-33692-6331a6faf06ead3e9c3854ed'},\n",
       " 'zhon-34103-6331a6faf06ead3e9c3854ee': {'english': \"I'm on a diet\",\n",
       "  'chinese': '我在節食',\n",
       "  '_id': 'zhon-34103-6331a6faf06ead3e9c3854ee'},\n",
       " 'zhon-34360-6331a6faf06ead3e9c3854ef': {'english': \"I'm on my way\",\n",
       "  'chinese': '我这就上路',\n",
       "  '_id': 'zhon-34360-6331a6faf06ead3e9c3854ef'},\n",
       " 'zhon-34089-6331a6faf06ead3e9c3854f0': {'english': \"I'm so lonely\",\n",
       "  'chinese': '我好孤单',\n",
       "  '_id': 'zhon-34089-6331a6faf06ead3e9c3854f0'},\n",
       " 'zhon-34532-6331a6faf06ead3e9c3854f1': {'english': \"I'm so stupid\",\n",
       "  'chinese': '我真蠢',\n",
       "  '_id': 'zhon-34532-6331a6faf06ead3e9c3854f1'},\n",
       " 'zhon-34309-6331a6faf06ead3e9c3854f2': {'english': \"I'm very busy\",\n",
       "  'chinese': '我很忙',\n",
       "  '_id': 'zhon-34309-6331a6faf06ead3e9c3854f2'},\n",
       " 'zhon-34123-6331a6faf06ead3e9c3854f3': {'english': \"I've got time\",\n",
       "  'chinese': '我有时间',\n",
       "  '_id': 'zhon-34123-6331a6faf06ead3e9c3854f3'},\n",
       " 'zhon-34567-6331a6faf06ead3e9c3854f4': {'english': \"I've got wine\",\n",
       "  'chinese': '我有酒',\n",
       "  '_id': 'zhon-34567-6331a6faf06ead3e9c3854f4'},\n",
       " 'zhon-34047-6331a6faf06ead3e9c3854f5': {'english': 'Is it serious',\n",
       "  'chinese': '严重吗',\n",
       "  '_id': 'zhon-34047-6331a6faf06ead3e9c3854f5'},\n",
       " 'zhon-34194-6331a6faf06ead3e9c3854f6': {'english': 'It is raining',\n",
       "  'chinese': '下雨了',\n",
       "  '_id': 'zhon-34194-6331a6faf06ead3e9c3854f6'},\n",
       " 'zhon-34330-6331a6faf06ead3e9c3854f7': {'english': 'It is raining',\n",
       "  'chinese': '在下雨',\n",
       "  '_id': 'zhon-34330-6331a6faf06ead3e9c3854f7'},\n",
       " 'zhon-34472-6331a6faf06ead3e9c3854f8': {'english': 'It looks good',\n",
       "  'chinese': '看起来不错',\n",
       "  '_id': 'zhon-34472-6331a6faf06ead3e9c3854f8'},\n",
       " 'zhon-33784-6331a6faf06ead3e9c3854f9': {'english': 'It might rain',\n",
       "  'chinese': '可能会下雨',\n",
       "  '_id': 'zhon-33784-6331a6faf06ead3e9c3854f9'},\n",
       " 'zhon-33733-6331a6faf06ead3e9c3854fa': {'english': 'It might rain',\n",
       "  'chinese': '可能要下雨了',\n",
       "  '_id': 'zhon-33733-6331a6faf06ead3e9c3854fa'},\n",
       " 'zhon-33867-6331a6faf06ead3e9c3854fb': {'english': 'It takes time',\n",
       "  'chinese': '这需要时间',\n",
       "  '_id': 'zhon-33867-6331a6faf06ead3e9c3854fb'},\n",
       " 'zhon-34364-6331a6faf06ead3e9c3854fc': {'english': \"It's a secret\",\n",
       "  'chinese': '它是個秘密',\n",
       "  '_id': 'zhon-34364-6331a6faf06ead3e9c3854fc'},\n",
       " 'zhon-33797-6331a6faf06ead3e9c3854fd': {'english': \"It's business\",\n",
       "  'chinese': '公事公辦',\n",
       "  '_id': 'zhon-33797-6331a6faf06ead3e9c3854fd'},\n",
       " 'zhon-33744-6331a6faf06ead3e9c3854fe': {'english': \"It's freezing\",\n",
       "  'chinese': '天氣好冷',\n",
       "  '_id': 'zhon-33744-6331a6faf06ead3e9c3854fe'},\n",
       " 'zhon-34193-6331a6faf06ead3e9c3854ff': {'english': \"It's improved\",\n",
       "  'chinese': '它有改善了',\n",
       "  '_id': 'zhon-34193-6331a6faf06ead3e9c3854ff'},\n",
       " 'zhon-34121-6331a6faf06ead3e9c385500': {'english': \"It's my treat\",\n",
       "  'chinese': '我請客',\n",
       "  '_id': 'zhon-34121-6331a6faf06ead3e9c385500'},\n",
       " 'zhon-33916-6331a6faf06ead3e9c385501': {'english': \"It's not mine\",\n",
       "  'chinese': '不是我的',\n",
       "  '_id': 'zhon-33916-6331a6faf06ead3e9c385501'},\n",
       " 'zhon-34551-6331a6faf06ead3e9c385502': {'english': \"It's too long\",\n",
       "  'chinese': '它太長了',\n",
       "  '_id': 'zhon-34551-6331a6faf06ead3e9c385502'},\n",
       " 'zhon-33831-6331a6faf06ead3e9c385503': {'english': \"It's too loud\",\n",
       "  'chinese': '它太大聲',\n",
       "  '_id': 'zhon-33831-6331a6faf06ead3e9c385503'},\n",
       " 'zhon-34465-6331a6faf06ead3e9c385504': {'english': \"It's very big\",\n",
       "  'chinese': '它很大',\n",
       "  '_id': 'zhon-34465-6331a6faf06ead3e9c385504'},\n",
       " 'zhon-34301-6331a6faf06ead3e9c385505': {'english': 'Keep Tom safe',\n",
       "  'chinese': '确保汤姆安全',\n",
       "  '_id': 'zhon-34301-6331a6faf06ead3e9c385505'},\n",
       " 'zhon-34144-6331a6faf06ead3e9c385506': {'english': 'Keep it quiet',\n",
       "  'chinese': '保持安',\n",
       "  '_id': 'zhon-34144-6331a6faf06ead3e9c385506'},\n",
       " 'zhon-34570-6331a6faf06ead3e9c385507': {'english': 'Let me see it',\n",
       "  'chinese': '讓我看看',\n",
       "  '_id': 'zhon-34570-6331a6faf06ead3e9c385507'},\n",
       " 'zhon-34392-6331a6faf06ead3e9c385508': {'english': \"Let's go home\",\n",
       "  'chinese': '让我们回家吧',\n",
       "  '_id': 'zhon-34392-6331a6faf06ead3e9c385508'},\n",
       " 'zhon-33896-6331a6faf06ead3e9c385509': {'english': 'Lock the gate',\n",
       "  'chinese': '鎖大門',\n",
       "  '_id': 'zhon-33896-6331a6faf06ead3e9c385509'},\n",
       " 'zhon-34281-6331a6faf06ead3e9c38550a': {'english': 'Make it quick',\n",
       "  'chinese': '快点',\n",
       "  '_id': 'zhon-34281-6331a6faf06ead3e9c38550a'},\n",
       " 'zhon-34316-6331a6faf06ead3e9c38550b': {'english': 'Man is mortal',\n",
       "  'chinese': '人固有一死',\n",
       "  '_id': 'zhon-34316-6331a6faf06ead3e9c38550b'},\n",
       " 'zhon-34469-6331a6faf06ead3e9c38550c': {'english': 'May I come in',\n",
       "  'chinese': '我可以進來嗎',\n",
       "  '_id': 'zhon-34469-6331a6faf06ead3e9c38550c'},\n",
       " 'zhon-34017-6331a6faf06ead3e9c38550d': {'english': 'Meet me there',\n",
       "  'chinese': '在那裡見我',\n",
       "  '_id': 'zhon-34017-6331a6faf06ead3e9c38550d'},\n",
       " 'zhon-34203-6331a6faf06ead3e9c38550e': {'english': 'My foot hurts',\n",
       "  'chinese': '我的脚痛',\n",
       "  '_id': 'zhon-34203-6331a6faf06ead3e9c38550e'},\n",
       " 'zhon-34468-6331a6faf06ead3e9c38550f': {'english': 'My head aches',\n",
       "  'chinese': '我头痛',\n",
       "  '_id': 'zhon-34468-6331a6faf06ead3e9c38550f'},\n",
       " 'zhon-34192-6331a6faf06ead3e9c385510': {'english': 'My head hurts',\n",
       "  'chinese': '我头痛',\n",
       "  '_id': 'zhon-34192-6331a6faf06ead3e9c385510'},\n",
       " 'zhon-34192-6331a6faf06ead3e9c385511': {'english': 'My pen is new',\n",
       "  'chinese': '我的钢笔是新的',\n",
       "  '_id': 'zhon-34192-6331a6faf06ead3e9c385511'},\n",
       " 'zhon-33867-6331a6faf06ead3e9c385512': {'english': 'Never give up',\n",
       "  'chinese': '决不放弃',\n",
       "  '_id': 'zhon-33867-6331a6faf06ead3e9c385512'},\n",
       " 'zhon-34504-6331a6faf06ead3e9c385513': {'english': 'Pace yourself',\n",
       "  'chinese': '量力而行',\n",
       "  '_id': 'zhon-34504-6331a6faf06ead3e9c385513'},\n",
       " 'zhon-33816-6331a6faf06ead3e9c385514': {'english': 'Quit gambling',\n",
       "  'chinese': '戒掉赌博吧',\n",
       "  '_id': 'zhon-33816-6331a6faf06ead3e9c385514'},\n",
       " 'zhon-33908-6331a6faf06ead3e9c385515': {'english': 'Read this now',\n",
       "  'chinese': '现在读这个',\n",
       "  '_id': 'zhon-33908-6331a6faf06ead3e9c385515'},\n",
       " 'zhon-33617-6331a6faf06ead3e9c385516': {'english': 'Save yourself',\n",
       "  'chinese': '拯救你自己',\n",
       "  '_id': 'zhon-33617-6331a6faf06ead3e9c385516'},\n",
       " 'zhon-33868-6331a6faf06ead3e9c385517': {'english': 'See you again',\n",
       "  'chinese': '再见',\n",
       "  '_id': 'zhon-33868-6331a6faf06ead3e9c385517'},\n",
       " 'zhon-34084-6331a6faf06ead3e9c385518': {'english': 'See you later',\n",
       "  'chinese': '再见',\n",
       "  '_id': 'zhon-34084-6331a6faf06ead3e9c385518'},\n",
       " 'zhon-34417-6331a6faf06ead3e9c385519': {'english': 'Shake my hand',\n",
       "  'chinese': '和我握手',\n",
       "  '_id': 'zhon-34417-6331a6faf06ead3e9c385519'},\n",
       " 'zhon-33985-6331a6faf06ead3e9c38551a': {'english': 'Shall we walk',\n",
       "  'chinese': '我们该步行吗',\n",
       "  '_id': 'zhon-33985-6331a6faf06ead3e9c38551a'},\n",
       " 'zhon-33799-6331a6faf06ead3e9c38551b': {'english': 'She felt blue',\n",
       "  'chinese': '她感到闷闷不乐的',\n",
       "  '_id': 'zhon-33799-6331a6faf06ead3e9c38551b'},\n",
       " 'zhon-33770-6331a6faf06ead3e9c38551c': {'english': 'She hated him',\n",
       "  'chinese': '她恨他',\n",
       "  '_id': 'zhon-33770-6331a6faf06ead3e9c38551c'},\n",
       " 'zhon-34177-6331a6faf06ead3e9c38551d': {'english': 'She loves Tom',\n",
       "  'chinese': '她愛湯姆',\n",
       "  '_id': 'zhon-34177-6331a6faf06ead3e9c38551d'},\n",
       " 'zhon-33963-6331a6faf06ead3e9c38551e': {'english': \"She's dieting\",\n",
       "  'chinese': '她在节食中',\n",
       "  '_id': 'zhon-33963-6331a6faf06ead3e9c38551e'},\n",
       " 'zhon-33838-6331a6faf06ead3e9c38551f': {'english': \"She's dieting\",\n",
       "  'chinese': '她在节食',\n",
       "  '_id': 'zhon-33838-6331a6faf06ead3e9c38551f'},\n",
       " 'zhon-33923-6331a6faf06ead3e9c385520': {'english': \"She's my type\",\n",
       "  'chinese': '她是我的菜',\n",
       "  '_id': 'zhon-33923-6331a6faf06ead3e9c385520'},\n",
       " 'zhon-34088-6331a6faf06ead3e9c385521': {'english': 'Show it to me',\n",
       "  'chinese': '给我看下它吧',\n",
       "  '_id': 'zhon-34088-6331a6faf06ead3e9c385521'},\n",
       " 'zhon-34386-6331a6faf06ead3e9c385522': {'english': 'Shut the door',\n",
       "  'chinese': '不要把门开着',\n",
       "  '_id': 'zhon-34386-6331a6faf06ead3e9c385522'},\n",
       " 'zhon-34478-6331a6faf06ead3e9c385523': {'english': 'Shut the door',\n",
       "  'chinese': '关门',\n",
       "  '_id': 'zhon-34478-6331a6faf06ead3e9c385523'},\n",
       " 'zhon-33741-6331a6faf06ead3e9c385524': {'english': 'Sit beside me',\n",
       "  'chinese': '坐我旁边',\n",
       "  '_id': 'zhon-33741-6331a6faf06ead3e9c385524'},\n",
       " 'zhon-34022-6331a6faf06ead3e9c385525': {'english': 'Somebody came',\n",
       "  'chinese': '有人来了',\n",
       "  '_id': 'zhon-34022-6331a6faf06ead3e9c385525'},\n",
       " 'zhon-34308-6331a6faf06ead3e9c385526': {'english': 'Speak clearly',\n",
       "  'chinese': '講清楚',\n",
       "  '_id': 'zhon-34308-6331a6faf06ead3e9c385526'},\n",
       " 'zhon-34085-6331a6faf06ead3e9c385527': {'english': 'Stir the soup',\n",
       "  'chinese': '搅一下汤',\n",
       "  '_id': 'zhon-34085-6331a6faf06ead3e9c385527'},\n",
       " 'zhon-34312-6331a6faf06ead3e9c385528': {'english': 'Stop gambling',\n",
       "  'chinese': '戒掉赌博吧',\n",
       "  '_id': 'zhon-34312-6331a6faf06ead3e9c385528'},\n",
       " 'zhon-34207-6331a6faf06ead3e9c385529': {'english': 'Stop meddling',\n",
       "  'chinese': '别再插手',\n",
       "  '_id': 'zhon-34207-6331a6faf06ead3e9c385529'},\n",
       " 'zhon-33804-6331a6faf06ead3e9c38552a': {'english': 'Stop shooting',\n",
       "  'chinese': '停止射击',\n",
       "  '_id': 'zhon-33804-6331a6faf06ead3e9c38552a'},\n",
       " 'zhon-34073-6331a6faf06ead3e9c38552b': {'english': 'Straighten up',\n",
       "  'chinese': '改邪归正',\n",
       "  '_id': 'zhon-34073-6331a6faf06ead3e9c38552b'},\n",
       " 'zhon-34188-6331a6faf06ead3e9c38552c': {'english': 'Stuff happens',\n",
       "  'chinese': '事情难免会发生',\n",
       "  '_id': 'zhon-34188-6331a6faf06ead3e9c38552c'},\n",
       " 'zhon-34448-6331a6faf06ead3e9c38552d': {'english': 'Tell me again',\n",
       "  'chinese': '重新告訴我',\n",
       "  '_id': 'zhon-34448-6331a6faf06ead3e9c38552d'},\n",
       " 'zhon-34517-6331a6faf06ead3e9c38552e': {'english': 'Thanks anyway',\n",
       "  'chinese': '还是要说谢谢的',\n",
       "  '_id': 'zhon-34517-6331a6faf06ead3e9c38552e'},\n",
       " 'zhon-34435-6331a6faf06ead3e9c38552f': {'english': \"That's a book\",\n",
       "  'chinese': '那是一本書',\n",
       "  '_id': 'zhon-34435-6331a6faf06ead3e9c38552f'},\n",
       " 'zhon-34262-6331a6faf06ead3e9c385530': {'english': 'The bell rang',\n",
       "  'chinese': '铃响了',\n",
       "  '_id': 'zhon-34262-6331a6faf06ead3e9c385530'},\n",
       " 'zhon-34164-6331a6faf06ead3e9c385531': {'english': \"They're armed\",\n",
       "  'chinese': '他們有帶武器',\n",
       "  '_id': 'zhon-34164-6331a6faf06ead3e9c385531'},\n",
       " 'zhon-33622-6331a6faf06ead3e9c385532': {'english': 'This is a wig',\n",
       "  'chinese': '这是假发',\n",
       "  '_id': 'zhon-33622-6331a6faf06ead3e9c385532'},\n",
       " 'zhon-34086-6331a6faf06ead3e9c385533': {'english': 'Time is money',\n",
       "  'chinese': '时间就是金钱',\n",
       "  '_id': 'zhon-34086-6331a6faf06ead3e9c385533'},\n",
       " 'zhon-34332-6331a6faf06ead3e9c385534': {'english': 'Today was fun',\n",
       "  'chinese': '今天很有趣',\n",
       "  '_id': 'zhon-34332-6331a6faf06ead3e9c385534'},\n",
       " 'zhon-33668-6331a6faf06ead3e9c385535': {'english': 'Tom came back',\n",
       "  'chinese': '湯姆回來了',\n",
       "  '_id': 'zhon-33668-6331a6faf06ead3e9c385535'},\n",
       " 'zhon-34471-6331a6faf06ead3e9c385536': {'english': \"Tom didn't go\",\n",
       "  'chinese': '汤姆没走',\n",
       "  '_id': 'zhon-34471-6331a6faf06ead3e9c385536'},\n",
       " 'zhon-34564-6331a6faf06ead3e9c385537': {'english': 'Tom fell down',\n",
       "  'chinese': '湯姆摔倒了',\n",
       "  '_id': 'zhon-34564-6331a6faf06ead3e9c385537'},\n",
       " 'zhon-34003-6331a6faf06ead3e9c385538': {'english': 'Tom graduated',\n",
       "  'chinese': '湯姆畢業了',\n",
       "  '_id': 'zhon-34003-6331a6faf06ead3e9c385538'},\n",
       " 'zhon-34395-6331a6faf06ead3e9c385539': {'english': 'Tom is a hick',\n",
       "  'chinese': '汤姆是个乡巴佬',\n",
       "  '_id': 'zhon-34395-6331a6faf06ead3e9c385539'},\n",
       " 'zhon-34345-6331a6faf06ead3e9c38553a': {'english': 'Tom is absent',\n",
       "  'chinese': '湯姆缺席',\n",
       "  '_id': 'zhon-34345-6331a6faf06ead3e9c38553a'},\n",
       " 'zhon-34497-6331a6faf06ead3e9c38553b': {'english': 'Tom is boring',\n",
       "  'chinese': '汤姆是个无聊的人',\n",
       "  '_id': 'zhon-34497-6331a6faf06ead3e9c38553b'},\n",
       " 'zhon-34577-6331a6faf06ead3e9c38553c': {'english': 'Tom is so hot',\n",
       "  'chinese': '汤姆非常性感',\n",
       "  '_id': 'zhon-34577-6331a6faf06ead3e9c38553c'},\n",
       " 'zhon-33640-6331a6faf06ead3e9c38553d': {'english': \"Tom isn't old\",\n",
       "  'chinese': '湯姆不老',\n",
       "  '_id': 'zhon-33640-6331a6faf06ead3e9c38553d'},\n",
       " 'zhon-34072-6331a6faf06ead3e9c38553e': {'english': 'Tom knows him',\n",
       "  'chinese': '湯姆認識他',\n",
       "  '_id': 'zhon-34072-6331a6faf06ead3e9c38553e'},\n",
       " 'zhon-34526-6331a6faf06ead3e9c38553f': {'english': 'Tom loves you',\n",
       "  'chinese': '汤姆爱你',\n",
       "  '_id': 'zhon-34526-6331a6faf06ead3e9c38553f'},\n",
       " 'zhon-33829-6331a6faf06ead3e9c385540': {'english': 'Tom overslept',\n",
       "  'chinese': '汤姆睡过头了',\n",
       "  '_id': 'zhon-33829-6331a6faf06ead3e9c385540'},\n",
       " 'zhon-34506-6331a6faf06ead3e9c385541': {'english': 'Tom runs fast',\n",
       "  'chinese': '汤姆跑得快',\n",
       "  '_id': 'zhon-34506-6331a6faf06ead3e9c385541'},\n",
       " 'zhon-33834-6331a6faf06ead3e9c385542': {'english': 'Tom was fired',\n",
       "  'chinese': '湯姆被解僱了',\n",
       "  '_id': 'zhon-33834-6331a6faf06ead3e9c385542'},\n",
       " 'zhon-34257-6331a6faf06ead3e9c385543': {'english': 'Tom was wrong',\n",
       "  'chinese': '汤姆错了',\n",
       "  '_id': 'zhon-34257-6331a6faf06ead3e9c385543'},\n",
       " 'zhon-34328-6331a6faf06ead3e9c385544': {'english': 'Wait a moment',\n",
       "  'chinese': '請稍等',\n",
       "  '_id': 'zhon-34328-6331a6faf06ead3e9c385544'},\n",
       " 'zhon-34389-6331a6faf06ead3e9c385545': {'english': 'We have to go',\n",
       "  'chinese': '我们必须走了',\n",
       "  '_id': 'zhon-34389-6331a6faf06ead3e9c385545'},\n",
       " 'zhon-34285-6331a6faf06ead3e9c385546': {'english': 'We kept quiet',\n",
       "  'chinese': '我们保持了沉默',\n",
       "  '_id': 'zhon-34285-6331a6faf06ead3e9c385546'},\n",
       " 'zhon-33664-6331a6faf06ead3e9c385547': {'english': 'We like music',\n",
       "  'chinese': '我們喜歡音樂',\n",
       "  '_id': 'zhon-33664-6331a6faf06ead3e9c385547'},\n",
       " 'zhon-34575-6331a6faf06ead3e9c385548': {'english': 'We missed you',\n",
       "  'chinese': '我們想你',\n",
       "  '_id': 'zhon-34575-6331a6faf06ead3e9c385548'},\n",
       " 'zhon-33816-6331a6faf06ead3e9c385549': {'english': 'We need money',\n",
       "  'chinese': '我們需要錢',\n",
       "  '_id': 'zhon-33816-6331a6faf06ead3e9c385549'},\n",
       " 'zhon-34468-6331a6faf06ead3e9c38554a': {'english': 'We need to go',\n",
       "  'chinese': '我们必须走了',\n",
       "  '_id': 'zhon-34468-6331a6faf06ead3e9c38554a'},\n",
       " 'zhon-33854-6331a6faf06ead3e9c38554b': {'english': 'We understand',\n",
       "  'chinese': '我们明白',\n",
       "  '_id': 'zhon-33854-6331a6faf06ead3e9c38554b'},\n",
       " 'zhon-33841-6331a6faf06ead3e9c38554c': {'english': 'We want candy',\n",
       "  'chinese': '我們想要糖',\n",
       "  '_id': 'zhon-33841-6331a6faf06ead3e9c38554c'},\n",
       " 'zhon-34505-6331a6faf06ead3e9c38554d': {'english': 'We were bored',\n",
       "  'chinese': '我们感到厌烦了',\n",
       "  '_id': 'zhon-34505-6331a6faf06ead3e9c38554d'},\n",
       " 'zhon-33788-6331a6faf06ead3e9c38554e': {'english': \"We'll be busy\",\n",
       "  'chinese': '我們會很忙',\n",
       "  '_id': 'zhon-33788-6331a6faf06ead3e9c38554e'},\n",
       " 'zhon-34388-6331a6faf06ead3e9c38554f': {'english': \"We'll do that\",\n",
       "  'chinese': '我們會去做',\n",
       "  '_id': 'zhon-34388-6331a6faf06ead3e9c38554f'},\n",
       " 'zhon-33858-6331a6faf06ead3e9c385550': {'english': \"We're special\",\n",
       "  'chinese': '我们是特别的',\n",
       "  '_id': 'zhon-33858-6331a6faf06ead3e9c385550'},\n",
       " 'zhon-33734-6331a6faf06ead3e9c385551': {'english': \"We're special\",\n",
       "  'chinese': '我们很特别',\n",
       "  '_id': 'zhon-33734-6331a6faf06ead3e9c385551'},\n",
       " 'zhon-33785-6331a6faf06ead3e9c385552': {'english': \"We're worried\",\n",
       "  'chinese': '我们很担心',\n",
       "  '_id': 'zhon-33785-6331a6faf06ead3e9c385552'},\n",
       " 'zhon-34230-6331a6faf06ead3e9c385553': {'english': \"We've arrived\",\n",
       "  'chinese': '我們已經到了',\n",
       "  '_id': 'zhon-34230-6331a6faf06ead3e9c385553'},\n",
       " 'zhon-34315-6331a6faf06ead3e9c385554': {'english': 'Were you busy',\n",
       "  'chinese': '您当时在忙吗',\n",
       "  '_id': 'zhon-34315-6331a6faf06ead3e9c385554'},\n",
       " 'zhon-34285-6331a6faf06ead3e9c385555': {'english': 'Where are you',\n",
       "  'chinese': '你在哪儿',\n",
       "  '_id': 'zhon-34285-6331a6faf06ead3e9c385555'},\n",
       " 'zhon-34473-6331a6faf06ead3e9c385556': {'english': 'Who helps her',\n",
       "  'chinese': '谁帮帮她',\n",
       "  '_id': 'zhon-34473-6331a6faf06ead3e9c385556'},\n",
       " 'zhon-33631-6331a6faf06ead3e9c385557': {'english': 'Who hired you',\n",
       "  'chinese': '誰雇了你',\n",
       "  '_id': 'zhon-33631-6331a6faf06ead3e9c385557'},\n",
       " 'zhon-34515-6331a6faf06ead3e9c385558': {'english': 'Whose is this',\n",
       "  'chinese': '这是谁的',\n",
       "  '_id': 'zhon-34515-6331a6faf06ead3e9c385558'},\n",
       " 'zhon-34550-6331a6faf06ead3e9c385559': {'english': 'Why blame Tom',\n",
       "  'chinese': '为什么责备汤姆',\n",
       "  '_id': 'zhon-34550-6331a6faf06ead3e9c385559'},\n",
       " 'zhon-33855-6331a6faf06ead3e9c38555a': {'english': 'You are drunk',\n",
       "  'chinese': '你喝醉了',\n",
       "  '_id': 'zhon-33855-6331a6faf06ead3e9c38555a'},\n",
       " 'zhon-33767-6331a6faf06ead3e9c38555b': {'english': 'You are lying',\n",
       "  'chinese': '你在撒谎',\n",
       "  '_id': 'zhon-33767-6331a6faf06ead3e9c38555b'},\n",
       " 'zhon-34479-6331a6faf06ead3e9c38555c': {'english': 'You could run',\n",
       "  'chinese': '你能跑',\n",
       "  '_id': 'zhon-34479-6331a6faf06ead3e9c38555c'},\n",
       " 'zhon-33640-6331a6faf06ead3e9c38555d': {'english': 'You look pale',\n",
       "  'chinese': '你看起來很蒼白',\n",
       "  '_id': 'zhon-33640-6331a6faf06ead3e9c38555d'},\n",
       " 'zhon-33914-6331a6faf06ead3e9c38555e': {'english': 'You should go',\n",
       "  'chinese': '你應該去',\n",
       "  '_id': 'zhon-33914-6331a6faf06ead3e9c38555e'},\n",
       " 'zhon-33781-6331a6faf06ead3e9c38555f': {'english': 'You should go',\n",
       "  'chinese': '你最好去',\n",
       "  '_id': 'zhon-33781-6331a6faf06ead3e9c38555f'},\n",
       " 'zhon-34027-6331a6faf06ead3e9c385560': {'english': 'You will fail',\n",
       "  'chinese': '你會失敗',\n",
       "  '_id': 'zhon-34027-6331a6faf06ead3e9c385560'},\n",
       " 'zhon-33687-6331a6faf06ead3e9c385561': {'english': 'You work hard',\n",
       "  'chinese': '你工作努力',\n",
       "  '_id': 'zhon-33687-6331a6faf06ead3e9c385561'},\n",
       " 'zhon-34340-6331a6faf06ead3e9c385562': {'english': \"You're joking\",\n",
       "  'chinese': '你在開玩笑吧',\n",
       "  '_id': 'zhon-34340-6331a6faf06ead3e9c385562'},\n",
       " 'zhon-34412-6331a6faf06ead3e9c385563': {'english': \"You're so bad\",\n",
       "  'chinese': '你真壞',\n",
       "  '_id': 'zhon-34412-6331a6faf06ead3e9c385563'},\n",
       " 'zhon-33681-6331a6faf06ead3e9c385564': {'english': 'Zip your lips',\n",
       "  'chinese': '闭上你的嘴',\n",
       "  '_id': 'zhon-33681-6331a6faf06ead3e9c385564'},\n",
       " 'zhon-33714-6331a6faf06ead3e9c385565': {'english': 'A bird can fly',\n",
       "  'chinese': '鸟会飞',\n",
       "  '_id': 'zhon-33714-6331a6faf06ead3e9c385565'},\n",
       " 'zhon-33688-6331a6faf06ead3e9c385566': {'english': 'Allow me to go',\n",
       "  'chinese': '請允許我去',\n",
       "  '_id': 'zhon-33688-6331a6faf06ead3e9c385566'},\n",
       " 'zhon-33864-6331a6faf06ead3e9c385567': {'english': 'Are you crying',\n",
       "  'chinese': '你在哭嗎',\n",
       "  '_id': 'zhon-33864-6331a6faf06ead3e9c385567'},\n",
       " 'zhon-34447-6331a6faf06ead3e9c385568': {'english': \"Aren't you Tom\",\n",
       "  'chinese': '你不是湯姆嗎',\n",
       "  '_id': 'zhon-34447-6331a6faf06ead3e9c385568'},\n",
       " 'zhon-34529-6331a6faf06ead3e9c385569': {'english': \"Aren't you Tom\",\n",
       "  'chinese': '你不是湯姆嗎',\n",
       "  '_id': 'zhon-34529-6331a6faf06ead3e9c385569'},\n",
       " 'zhon-33892-6331a6faf06ead3e9c38556a': {'english': \"Aren't you hot\",\n",
       "  'chinese': '你不热吗',\n",
       "  '_id': 'zhon-33892-6331a6faf06ead3e9c38556a'},\n",
       " 'zhon-33630-6331a6faf06ead3e9c38556b': {'english': 'Be nice to her',\n",
       "  'chinese': '对她好点',\n",
       "  '_id': 'zhon-33630-6331a6faf06ead3e9c38556b'},\n",
       " 'zhon-33959-6331a6faf06ead3e9c38556c': {'english': 'Birds lay eggs',\n",
       "  'chinese': '鳥下蛋',\n",
       "  '_id': 'zhon-33959-6331a6faf06ead3e9c38556c'},\n",
       " 'zhon-34057-6331a6faf06ead3e9c38556d': {'english': 'Boil the water',\n",
       "  'chinese': '把水燒開',\n",
       "  '_id': 'zhon-34057-6331a6faf06ead3e9c38556d'},\n",
       " 'zhon-34188-6331a6faf06ead3e9c38556e': {'english': 'Bring it to me',\n",
       "  'chinese': '把它带给我',\n",
       "  '_id': 'zhon-34188-6331a6faf06ead3e9c38556e'},\n",
       " 'zhon-34345-6331a6faf06ead3e9c38556f': {'english': 'Can I eat this',\n",
       "  'chinese': '我可以吃这个吗',\n",
       "  '_id': 'zhon-34345-6331a6faf06ead3e9c38556f'},\n",
       " 'zhon-34285-6331a6faf06ead3e9c385570': {'english': 'Can I help you',\n",
       "  'chinese': '我能幫你嗎',\n",
       "  '_id': 'zhon-34285-6331a6faf06ead3e9c385570'},\n",
       " 'zhon-33938-6331a6faf06ead3e9c385571': {'english': 'Can I sit here',\n",
       "  'chinese': '我能坐这里吗',\n",
       "  '_id': 'zhon-33938-6331a6faf06ead3e9c385571'},\n",
       " 'zhon-33601-6331a6faf06ead3e9c385572': {'english': 'Can you get up',\n",
       "  'chinese': '你能起床嗎',\n",
       "  '_id': 'zhon-33601-6331a6faf06ead3e9c385572'},\n",
       " 'zhon-33624-6331a6faf06ead3e9c385573': {'english': 'Clean the room',\n",
       "  'chinese': '打掃房間',\n",
       "  '_id': 'zhon-33624-6331a6faf06ead3e9c385573'},\n",
       " 'zhon-33936-6331a6faf06ead3e9c385574': {'english': 'Close the door',\n",
       "  'chinese': '关门',\n",
       "  '_id': 'zhon-33936-6331a6faf06ead3e9c385574'},\n",
       " 'zhon-33933-6331a6faf06ead3e9c385575': {'english': 'Coffee, please',\n",
       "  'chinese': '我要咖啡，谢谢',\n",
       "  '_id': 'zhon-33933-6331a6faf06ead3e9c385575'},\n",
       " 'zhon-34040-6331a6faf06ead3e9c385576': {'english': 'Cows give milk',\n",
       "  'chinese': '牛可产奶',\n",
       "  '_id': 'zhon-34040-6331a6faf06ead3e9c385576'},\n",
       " 'zhon-33982-6331a6faf06ead3e9c385577': {'english': 'Deal with them',\n",
       "  'chinese': '解决他们',\n",
       "  '_id': 'zhon-33982-6331a6faf06ead3e9c385577'},\n",
       " 'zhon-34091-6331a6faf06ead3e9c385578': {'english': 'Do we know you',\n",
       "  'chinese': '我们认识你么',\n",
       "  '_id': 'zhon-34091-6331a6faf06ead3e9c385578'},\n",
       " 'zhon-33673-6331a6faf06ead3e9c385579': {'english': 'Do you have it',\n",
       "  'chinese': '你们有吗',\n",
       "  '_id': 'zhon-33673-6331a6faf06ead3e9c385579'},\n",
       " 'zhon-33809-6331a6faf06ead3e9c38557a': {'english': 'Do you know me',\n",
       "  'chinese': '你认识我吗',\n",
       "  '_id': 'zhon-33809-6331a6faf06ead3e9c38557a'},\n",
       " 'zhon-34253-6331a6faf06ead3e9c38557b': {'english': 'Do you know me',\n",
       "  'chinese': '你还认识我吗',\n",
       "  '_id': 'zhon-34253-6331a6faf06ead3e9c38557b'},\n",
       " 'zhon-34193-6331a6faf06ead3e9c38557c': {'english': 'Do you like it',\n",
       "  'chinese': '你喜欢吗 ',\n",
       "  '_id': 'zhon-34193-6331a6faf06ead3e9c38557c'},\n",
       " 'zhon-34354-6331a6faf06ead3e9c38557d': {'english': 'Do you like it',\n",
       "  'chinese': '你喜歡嗎',\n",
       "  '_id': 'zhon-34354-6331a6faf06ead3e9c38557d'},\n",
       " 'zhon-34572-6331a6faf06ead3e9c38557e': {'english': 'Do you miss me',\n",
       "  'chinese': '你想我了',\n",
       "  '_id': 'zhon-34572-6331a6faf06ead3e9c38557e'},\n",
       " 'zhon-34095-6331a6faf06ead3e9c38557f': {'english': 'Do you miss me',\n",
       "  'chinese': '你想我吗',\n",
       "  '_id': 'zhon-34095-6331a6faf06ead3e9c38557f'},\n",
       " 'zhon-33994-6331a6faf06ead3e9c385580': {'english': 'Do you promise',\n",
       "  'chinese': '你保证吗',\n",
       "  '_id': 'zhon-33994-6331a6faf06ead3e9c385580'},\n",
       " 'zhon-33722-6331a6faf06ead3e9c385581': {'english': 'Do you promise',\n",
       "  'chinese': '你保证',\n",
       "  '_id': 'zhon-33722-6331a6faf06ead3e9c385581'},\n",
       " 'zhon-34151-6331a6faf06ead3e9c385582': {'english': \"Don't touch it\",\n",
       "  'chinese': '別碰它',\n",
       "  '_id': 'zhon-34151-6331a6faf06ead3e9c385582'},\n",
       " 'zhon-33920-6331a6faf06ead3e9c385583': {'english': 'Everybody lies',\n",
       "  'chinese': '每个人都会说谎',\n",
       "  '_id': 'zhon-33920-6331a6faf06ead3e9c385583'},\n",
       " 'zhon-33716-6331a6faf06ead3e9c385584': {'english': 'Foxes eat hens',\n",
       "  'chinese': '狐狸吃母鸡',\n",
       "  '_id': 'zhon-33716-6331a6faf06ead3e9c385584'},\n",
       " 'zhon-34498-6331a6faf06ead3e9c385585': {'english': 'Get out of bed',\n",
       "  'chinese': '起床',\n",
       "  '_id': 'zhon-34498-6331a6faf06ead3e9c385585'},\n",
       " 'zhon-33875-6331a6faf06ead3e9c385586': {'english': 'Good afternoon',\n",
       "  'chinese': '下午好',\n",
       "  '_id': 'zhon-33875-6331a6faf06ead3e9c385586'},\n",
       " 'zhon-33672-6331a6faf06ead3e9c385587': {'english': 'Happy New Year',\n",
       "  'chinese': '新年快樂',\n",
       "  '_id': 'zhon-33672-6331a6faf06ead3e9c385587'},\n",
       " 'zhon-34275-6331a6faf06ead3e9c385588': {'english': 'Happy New Year',\n",
       "  'chinese': '元旦快樂',\n",
       "  '_id': 'zhon-34275-6331a6faf06ead3e9c385588'},\n",
       " 'zhon-34036-6331a6faf06ead3e9c385589': {'english': 'Have some more',\n",
       "  'chinese': '你該多吃點',\n",
       "  '_id': 'zhon-34036-6331a6faf06ead3e9c385589'},\n",
       " 'zhon-33709-6331a6faf06ead3e9c38558a': {'english': 'He accelerated',\n",
       "  'chinese': '他提速了',\n",
       "  '_id': 'zhon-33709-6331a6faf06ead3e9c38558a'},\n",
       " 'zhon-34042-6331a6faf06ead3e9c38558b': {'english': 'He almost died',\n",
       "  'chinese': '他快死了',\n",
       "  '_id': 'zhon-34042-6331a6faf06ead3e9c38558b'},\n",
       " 'zhon-34502-6331a6faf06ead3e9c38558c': {'english': 'He cannot swim',\n",
       "  'chinese': '他不會游泳',\n",
       "  '_id': 'zhon-34502-6331a6faf06ead3e9c38558c'},\n",
       " 'zhon-34134-6331a6faf06ead3e9c38558d': {'english': 'He confused us',\n",
       "  'chinese': '他把我們弄糊塗了',\n",
       "  '_id': 'zhon-34134-6331a6faf06ead3e9c38558d'},\n",
       " 'zhon-34524-6331a6faf06ead3e9c38558e': {'english': \"He doesn't lie\",\n",
       "  'chinese': '他不说谎',\n",
       "  '_id': 'zhon-34524-6331a6faf06ead3e9c38558e'},\n",
       " 'zhon-33850-6331a6faf06ead3e9c38558f': {'english': 'He held a ball',\n",
       "  'chinese': '他举办了一场舞会',\n",
       "  '_id': 'zhon-33850-6331a6faf06ead3e9c38558f'},\n",
       " 'zhon-33693-6331a6faf06ead3e9c385590': {'english': 'He is American',\n",
       "  'chinese': '他是美国人',\n",
       "  '_id': 'zhon-33693-6331a6faf06ead3e9c385590'},\n",
       " 'zhon-34134-6331a6faf06ead3e9c385591': {'english': 'He is a doctor',\n",
       "  'chinese': '他是医生来的',\n",
       "  '_id': 'zhon-34134-6331a6faf06ead3e9c385591'},\n",
       " 'zhon-34557-6331a6faf06ead3e9c385592': {'english': 'He lives alone',\n",
       "  'chinese': '他一个人生活',\n",
       "  '_id': 'zhon-34557-6331a6faf06ead3e9c385592'},\n",
       " 'zhon-34311-6331a6faf06ead3e9c385593': {'english': 'He lives alone',\n",
       "  'chinese': '他独自生活',\n",
       "  '_id': 'zhon-34311-6331a6faf06ead3e9c385593'},\n",
       " 'zhon-33977-6331a6faf06ead3e9c385594': {'english': 'He looks young',\n",
       "  'chinese': '他看起来很年轻',\n",
       "  '_id': 'zhon-33977-6331a6faf06ead3e9c385594'},\n",
       " 'zhon-34288-6331a6faf06ead3e9c385595': {'english': 'He lost a book',\n",
       "  'chinese': '他弄丟了一本書',\n",
       "  '_id': 'zhon-34288-6331a6faf06ead3e9c385595'},\n",
       " 'zhon-34384-6331a6faf06ead3e9c385596': {'english': 'He sang a song',\n",
       "  'chinese': '他唱了一首歌',\n",
       "  '_id': 'zhon-34384-6331a6faf06ead3e9c385596'},\n",
       " 'zhon-33971-6331a6faf06ead3e9c385597': {'english': 'He sells fruit',\n",
       "  'chinese': '他卖水果',\n",
       "  '_id': 'zhon-33971-6331a6faf06ead3e9c385597'},\n",
       " 'zhon-34369-6331a6faf06ead3e9c385598': {'english': 'He was drowned',\n",
       "  'chinese': '他被淹死了',\n",
       "  '_id': 'zhon-34369-6331a6faf06ead3e9c385598'},\n",
       " 'zhon-34055-6331a6faf06ead3e9c385599': {'english': 'He was drowned',\n",
       "  'chinese': '他溺水而亡',\n",
       "  '_id': 'zhon-34055-6331a6faf06ead3e9c385599'},\n",
       " 'zhon-33896-6331a6faf06ead3e9c38559a': {'english': \"He's a big boy\",\n",
       "  'chinese': '他是個大男孩',\n",
       "  '_id': 'zhon-33896-6331a6faf06ead3e9c38559a'},\n",
       " 'zhon-34272-6331a6faf06ead3e9c38559b': {'english': \"He's an author\",\n",
       "  'chinese': '他是作家',\n",
       "  '_id': 'zhon-34272-6331a6faf06ead3e9c38559b'},\n",
       " 'zhon-34286-6331a6faf06ead3e9c38559c': {'english': 'Here is a book',\n",
       "  'chinese': '這裡有一本書',\n",
       "  '_id': 'zhon-34286-6331a6faf06ead3e9c38559c'},\n",
       " 'zhon-34280-6331a6faf06ead3e9c38559d': {'english': 'How much is it',\n",
       "  'chinese': '它多貴',\n",
       "  '_id': 'zhon-34280-6331a6faf06ead3e9c38559d'},\n",
       " 'zhon-34263-6331a6faf06ead3e9c38559e': {'english': 'How much is it',\n",
       "  'chinese': '多少錢',\n",
       "  '_id': 'zhon-34263-6331a6faf06ead3e9c38559e'},\n",
       " 'zhon-34560-6331a6faf06ead3e9c38559f': {'english': \"How's it going\",\n",
       "  'chinese': '你們好嗎',\n",
       "  '_id': 'zhon-34560-6331a6faf06ead3e9c38559f'},\n",
       " 'zhon-34419-6331a6faf06ead3e9c3855a0': {'english': 'I am Hungarian',\n",
       "  'chinese': '我是匈牙利人',\n",
       "  '_id': 'zhon-34419-6331a6faf06ead3e9c3855a0'},\n",
       " 'zhon-34430-6331a6faf06ead3e9c3855a1': {'english': 'I am a student',\n",
       "  'chinese': '我是个学生',\n",
       "  '_id': 'zhon-34430-6331a6faf06ead3e9c3855a1'},\n",
       " 'zhon-33865-6331a6faf06ead3e9c3855a2': {'english': 'I am a teacher',\n",
       "  'chinese': '我是個老師',\n",
       "  '_id': 'zhon-33865-6331a6faf06ead3e9c3855a2'},\n",
       " 'zhon-33703-6331a6faf06ead3e9c3855a3': {'english': 'I am off today',\n",
       "  'chinese': '我今天休息',\n",
       "  '_id': 'zhon-33703-6331a6faf06ead3e9c3855a3'},\n",
       " 'zhon-34366-6331a6faf06ead3e9c3855a4': {'english': 'I am too short',\n",
       "  'chinese': '我太矮了',\n",
       "  '_id': 'zhon-34366-6331a6faf06ead3e9c3855a4'},\n",
       " 'zhon-34561-6331a6faf06ead3e9c3855a5': {'english': 'I believed you',\n",
       "  'chinese': '我相信了你',\n",
       "  '_id': 'zhon-34561-6331a6faf06ead3e9c3855a5'},\n",
       " 'zhon-34578-6331a6faf06ead3e9c3855a6': {'english': 'I borrow money',\n",
       "  'chinese': '我借錢',\n",
       "  '_id': 'zhon-34578-6331a6faf06ead3e9c3855a6'},\n",
       " 'zhon-33940-6331a6faf06ead3e9c3855a7': {'english': 'I broke my arm',\n",
       "  'chinese': '我的手臂斷了',\n",
       "  '_id': 'zhon-33940-6331a6faf06ead3e9c3855a7'},\n",
       " 'zhon-34282-6331a6faf06ead3e9c3855a8': {'english': 'I dislike eggs',\n",
       "  'chinese': '我不喜欢鸡蛋',\n",
       "  '_id': 'zhon-34282-6331a6faf06ead3e9c3855a8'},\n",
       " 'zhon-34173-6331a6faf06ead3e9c3855a9': {'english': \"I don't get it\",\n",
       "  'chinese': '我不懂',\n",
       "  '_id': 'zhon-34173-6331a6faf06ead3e9c3855a9'},\n",
       " 'zhon-34143-6331a6faf06ead3e9c3855aa': {'english': 'I go to school',\n",
       "  'chinese': '我去学校',\n",
       "  '_id': 'zhon-34143-6331a6faf06ead3e9c3855aa'},\n",
       " 'zhon-34132-6331a6faf06ead3e9c3855ab': {'english': 'I got arrested',\n",
       "  'chinese': '我被逮捕了',\n",
       "  '_id': 'zhon-34132-6331a6faf06ead3e9c3855ab'},\n",
       " 'zhon-33710-6331a6faf06ead3e9c3855ac': {'english': 'I got up early',\n",
       "  'chinese': '我起床早',\n",
       "  '_id': 'zhon-33710-6331a6faf06ead3e9c3855ac'},\n",
       " 'zhon-34276-6331a6faf06ead3e9c3855ad': {'english': 'I had a vision',\n",
       "  'chinese': '我有一个设想',\n",
       "  '_id': 'zhon-34276-6331a6faf06ead3e9c3855ad'},\n",
       " 'zhon-34099-6331a6faf06ead3e9c3855ae': {'english': 'I had a vision',\n",
       "  'chinese': '我有一个愿景',\n",
       "  '_id': 'zhon-34099-6331a6faf06ead3e9c3855ae'},\n",
       " 'zhon-34114-6331a6faf06ead3e9c3855af': {'english': 'I hate Mondays',\n",
       "  'chinese': '我讨厌星期一',\n",
       "  '_id': 'zhon-34114-6331a6faf06ead3e9c3855af'},\n",
       " 'zhon-33954-6331a6faf06ead3e9c3855b0': {'english': 'I have a cough',\n",
       "  'chinese': '我咳嗽',\n",
       "  '_id': 'zhon-33954-6331a6faf06ead3e9c3855b0'},\n",
       " 'zhon-33654-6331a6faf06ead3e9c3855b1': {'english': 'I have a dream',\n",
       "  'chinese': '我有一个梦想',\n",
       "  '_id': 'zhon-33654-6331a6faf06ead3e9c3855b1'},\n",
       " 'zhon-34329-6331a6faf06ead3e9c3855b2': {'english': 'I have hiccups',\n",
       "  'chinese': '我打嗝了',\n",
       "  '_id': 'zhon-34329-6331a6faf06ead3e9c3855b2'},\n",
       " 'zhon-33895-6331a6faf06ead3e9c3855b3': {'english': 'I have no clue',\n",
       "  'chinese': '我一无所知',\n",
       "  '_id': 'zhon-33895-6331a6faf06ead3e9c3855b3'},\n",
       " 'zhon-34288-6331a6faf06ead3e9c3855b4': {'english': 'I have no idea',\n",
       "  'chinese': '我一无所知',\n",
       "  '_id': 'zhon-34288-6331a6faf06ead3e9c3855b4'},\n",
       " 'zhon-34339-6331a6faf06ead3e9c3855b5': {'english': 'I have no time',\n",
       "  'chinese': '我没时间',\n",
       "  '_id': 'zhon-34339-6331a6faf06ead3e9c3855b5'},\n",
       " 'zhon-34173-6331a6faf06ead3e9c3855b6': {'english': 'I hiccup a lot',\n",
       "  'chinese': '我经常打嗝',\n",
       "  '_id': 'zhon-34173-6331a6faf06ead3e9c3855b6'},\n",
       " 'zhon-34354-6331a6faf06ead3e9c3855b7': {'english': 'I like drawing',\n",
       "  'chinese': '我喜欢画画',\n",
       "  '_id': 'zhon-34354-6331a6faf06ead3e9c3855b7'},\n",
       " 'zhon-33780-6331a6faf06ead3e9c3855b8': {'english': 'I like flowers',\n",
       "  'chinese': '我喜歡花',\n",
       "  '_id': 'zhon-33780-6331a6faf06ead3e9c3855b8'},\n",
       " 'zhon-34255-6331a6faf06ead3e9c3855b9': {'english': 'I like jogging',\n",
       "  'chinese': '我喜欢跑步',\n",
       "  '_id': 'zhon-34255-6331a6faf06ead3e9c3855b9'},\n",
       " 'zhon-34255-6331a6faf06ead3e9c3855ba': {'english': 'I like reading',\n",
       "  'chinese': '我喜欢阅读',\n",
       "  '_id': 'zhon-34255-6331a6faf06ead3e9c3855ba'},\n",
       " 'zhon-34341-6331a6faf06ead3e9c3855bb': {'english': 'I like running',\n",
       "  'chinese': '我喜欢跑步',\n",
       "  '_id': 'zhon-34341-6331a6faf06ead3e9c3855bb'},\n",
       " 'zhon-34240-6331a6faf06ead3e9c3855bc': {'english': 'I like to read',\n",
       "  'chinese': '我喜欢阅读',\n",
       "  '_id': 'zhon-34240-6331a6faf06ead3e9c3855bc'},\n",
       " 'zhon-33747-6331a6faf06ead3e9c3855bd': {'english': 'I love my life',\n",
       "  'chinese': '我爱我的生活',\n",
       "  '_id': 'zhon-33747-6331a6faf06ead3e9c3855bd'},\n",
       " 'zhon-33777-6331a6faf06ead3e9c3855be': {'english': 'I love my life',\n",
       "  'chinese': '我爱我的生命',\n",
       "  '_id': 'zhon-33777-6331a6faf06ead3e9c3855be'},\n",
       " 'zhon-33973-6331a6faf06ead3e9c3855bf': {'english': 'I love my wife',\n",
       "  'chinese': '我爱我的妻子',\n",
       "  '_id': 'zhon-33973-6331a6faf06ead3e9c3855bf'},\n",
       " 'zhon-34505-6331a6faf06ead3e9c3855c0': {'english': 'I love parties',\n",
       "  'chinese': '我愛派對',\n",
       "  '_id': 'zhon-34505-6331a6faf06ead3e9c3855c0'},\n",
       " 'zhon-34536-6331a6faf06ead3e9c3855c1': {'english': 'I met a friend',\n",
       "  'chinese': '我遇见一个朋友',\n",
       "  '_id': 'zhon-34536-6331a6faf06ead3e9c3855c1'},\n",
       " 'zhon-34265-6331a6faf06ead3e9c3855c2': {'english': 'I must decline',\n",
       "  'chinese': '我必须拒绝',\n",
       "  '_id': 'zhon-34265-6331a6faf06ead3e9c3855c2'},\n",
       " 'zhon-34059-6331a6faf06ead3e9c3855c3': {'english': 'I must go home',\n",
       "  'chinese': '我该回家了',\n",
       "  '_id': 'zhon-34059-6331a6faf06ead3e9c3855c3'},\n",
       " 'zhon-33720-6331a6faf06ead3e9c3855c4': {'english': 'I need a stamp',\n",
       "  'chinese': '我需要一張郵票',\n",
       "  '_id': 'zhon-33720-6331a6faf06ead3e9c3855c4'},\n",
       " 'zhon-33704-6331a6faf06ead3e9c3855c5': {'english': 'I need it ASAP',\n",
       "  'chinese': '我尽快需要',\n",
       "  '_id': 'zhon-33704-6331a6faf06ead3e9c3855c5'},\n",
       " 'zhon-34548-6331a6faf06ead3e9c3855c6': {'english': 'I need my coat',\n",
       "  'chinese': '我需要我的大衣',\n",
       "  '_id': 'zhon-34548-6331a6faf06ead3e9c3855c6'},\n",
       " 'zhon-34167-6331a6faf06ead3e9c3855c7': {'english': 'I need to know',\n",
       "  'chinese': '我需要知道',\n",
       "  '_id': 'zhon-34167-6331a6faf06ead3e9c3855c7'},\n",
       " 'zhon-33738-6331a6faf06ead3e9c3855c8': {'english': 'I often hiccup',\n",
       "  'chinese': '我经常打嗝',\n",
       "  '_id': 'zhon-33738-6331a6faf06ead3e9c3855c8'},\n",
       " 'zhon-34536-6331a6faf06ead3e9c3855c9': {'english': 'I said shut up',\n",
       "  'chinese': '我说过了，闭嘴',\n",
       "  '_id': 'zhon-34536-6331a6faf06ead3e9c3855c9'},\n",
       " 'zhon-33933-6331a6faf06ead3e9c3855ca': {'english': 'I saw five men',\n",
       "  'chinese': '我看到了五個男人',\n",
       "  '_id': 'zhon-33933-6331a6faf06ead3e9c3855ca'},\n",
       " 'zhon-34254-6331a6faf06ead3e9c3855cb': {'english': 'I saw her swim',\n",
       "  'chinese': '我看見她游泳',\n",
       "  '_id': 'zhon-34254-6331a6faf06ead3e9c3855cb'},\n",
       " 'zhon-34331-6331a6faf06ead3e9c3855cc': {'english': 'I should do it',\n",
       "  'chinese': '我应该去做',\n",
       "  '_id': 'zhon-34331-6331a6faf06ead3e9c3855cc'},\n",
       " 'zhon-34259-6331a6faf06ead3e9c3855cd': {'english': 'I study Korean',\n",
       "  'chinese': '我学韩语',\n",
       "  '_id': 'zhon-34259-6331a6faf06ead3e9c3855cd'},\n",
       " 'zhon-34205-6331a6faf06ead3e9c3855ce': {'english': 'I was a doctor',\n",
       "  'chinese': '我以前是醫生',\n",
       "  '_id': 'zhon-34205-6331a6faf06ead3e9c3855ce'},\n",
       " 'zhon-34024-6331a6faf06ead3e9c3855cf': {'english': 'I was learning',\n",
       "  'chinese': '我在學習',\n",
       "  '_id': 'zhon-34024-6331a6faf06ead3e9c3855cf'},\n",
       " 'zhon-34162-6331a6faf06ead3e9c3855d0': {'english': \"I wasn't drunk\",\n",
       "  'chinese': '我沒醉',\n",
       "  '_id': 'zhon-34162-6331a6faf06ead3e9c3855d0'},\n",
       " 'zhon-33901-6331a6faf06ead3e9c3855d1': {'english': 'I will sue you',\n",
       "  'chinese': '我要控告你',\n",
       "  '_id': 'zhon-33901-6331a6faf06ead3e9c3855d1'},\n",
       " 'zhon-34257-6331a6faf06ead3e9c3855d2': {'english': \"I'd like to go\",\n",
       "  'chinese': '我想要去',\n",
       "  '_id': 'zhon-34257-6331a6faf06ead3e9c3855d2'},\n",
       " 'zhon-33785-6331a6faf06ead3e9c3855d3': {'english': \"I'll alert Tom\",\n",
       "  'chinese': '我会警告汤姆',\n",
       "  '_id': 'zhon-33785-6331a6faf06ead3e9c3855d3'},\n",
       " 'zhon-34062-6331a6faf06ead3e9c3855d4': {'english': \"I'll come back\",\n",
       "  'chinese': '我会回来的',\n",
       "  '_id': 'zhon-34062-6331a6faf06ead3e9c3855d4'},\n",
       " 'zhon-34087-6331a6faf06ead3e9c3855d5': {'english': \"I'll scold him\",\n",
       "  'chinese': '我會責備他',\n",
       "  '_id': 'zhon-34087-6331a6faf06ead3e9c3855d5'},\n",
       " 'zhon-33913-6331a6faf06ead3e9c3855d6': {'english': \"I'll see to it\",\n",
       "  'chinese': '我會留意的',\n",
       "  '_id': 'zhon-33913-6331a6faf06ead3e9c3855d6'},\n",
       " 'zhon-34394-6331a6faf06ead3e9c3855d7': {'english': \"I'll see to it\",\n",
       "  'chinese': '由我来做',\n",
       "  '_id': 'zhon-34394-6331a6faf06ead3e9c3855d7'},\n",
       " 'zhon-33774-6331a6faf06ead3e9c3855d8': {'english': \"I'll stay home\",\n",
       "  'chinese': '我會待在家裡',\n",
       "  '_id': 'zhon-33774-6331a6faf06ead3e9c3855d8'},\n",
       " 'zhon-34316-6331a6faf06ead3e9c3855d9': {'english': \"I'll treat you\",\n",
       "  'chinese': '我請你',\n",
       "  '_id': 'zhon-34316-6331a6faf06ead3e9c3855d9'},\n",
       " 'zhon-33664-6331a6faf06ead3e9c3855da': {'english': \"I'm a free man\",\n",
       "  'chinese': '我是一個自由的人',\n",
       "  '_id': 'zhon-33664-6331a6faf06ead3e9c3855da'},\n",
       " 'zhon-33703-6331a6faf06ead3e9c3855db': {'english': \"I'm a good guy\",\n",
       "  'chinese': '我是一个好人',\n",
       "  '_id': 'zhon-33703-6331a6faf06ead3e9c3855db'},\n",
       " 'zhon-34327-6331a6faf06ead3e9c3855dc': {'english': \"I'm an atheist\",\n",
       "  'chinese': '我是无神论者',\n",
       "  '_id': 'zhon-34327-6331a6faf06ead3e9c3855dc'},\n",
       " 'zhon-33779-6331a6faf06ead3e9c3855dd': {'english': \"I'm behind him\",\n",
       "  'chinese': '我在他後面',\n",
       "  '_id': 'zhon-33779-6331a6faf06ead3e9c3855dd'},\n",
       " 'zhon-34366-6331a6faf06ead3e9c3855de': {'english': \"I'm busy today\",\n",
       "  'chinese': '我今天忙',\n",
       "  '_id': 'zhon-34366-6331a6faf06ead3e9c3855de'},\n",
       " 'zhon-34161-6331a6faf06ead3e9c3855df': {'english': \"I'm dead tired\",\n",
       "  'chinese': '我累死了',\n",
       "  '_id': 'zhon-34161-6331a6faf06ead3e9c3855df'},\n",
       " 'zhon-34150-6331a6faf06ead3e9c3855e0': {'english': \"I'm free today\",\n",
       "  'chinese': '我今天有空',\n",
       "  '_id': 'zhon-34150-6331a6faf06ead3e9c3855e0'},\n",
       " 'zhon-34183-6331a6faf06ead3e9c3855e1': {'english': \"I'm no quitter\",\n",
       "  'chinese': '我不輕易放棄',\n",
       "  '_id': 'zhon-34183-6331a6faf06ead3e9c3855e1'},\n",
       " 'zhon-34351-6331a6faf06ead3e9c3855e2': {'english': \"I'm not greedy\",\n",
       "  'chinese': '我不貪婪',\n",
       "  '_id': 'zhon-34351-6331a6faf06ead3e9c3855e2'},\n",
       " 'zhon-33995-6331a6faf06ead3e9c3855e3': {'english': \"I'm not guilty\",\n",
       "  'chinese': '我没有罪',\n",
       "  '_id': 'zhon-33995-6331a6faf06ead3e9c3855e3'},\n",
       " 'zhon-33961-6331a6faf06ead3e9c3855e4': {'english': \"I'm so excited\",\n",
       "  'chinese': '我很激动',\n",
       "  '_id': 'zhon-33961-6331a6faf06ead3e9c3855e4'},\n",
       " 'zhon-33696-6331a6faf06ead3e9c3855e5': {'english': \"I'm undressing\",\n",
       "  'chinese': '我脱衣服',\n",
       "  '_id': 'zhon-33696-6331a6faf06ead3e9c3855e5'},\n",
       " 'zhon-33866-6331a6faf06ead3e9c3855e6': {'english': \"I'm very happy\",\n",
       "  'chinese': '我很快樂',\n",
       "  '_id': 'zhon-33866-6331a6faf06ead3e9c3855e6'},\n",
       " 'zhon-33871-6331a6faf06ead3e9c3855e7': {'english': \"I'm very happy\",\n",
       "  'chinese': '我好高興',\n",
       "  '_id': 'zhon-33871-6331a6faf06ead3e9c3855e7'},\n",
       " 'zhon-33986-6331a6faf06ead3e9c3855e8': {'english': \"I'm very happy\",\n",
       "  'chinese': '我很快乐',\n",
       "  '_id': 'zhon-33986-6331a6faf06ead3e9c3855e8'},\n",
       " 'zhon-33648-6331a6faf06ead3e9c3855e9': {'english': \"I'm very happy\",\n",
       "  'chinese': '我很幸福',\n",
       "  '_id': 'zhon-33648-6331a6faf06ead3e9c3855e9'},\n",
       " 'zhon-34487-6331a6faf06ead3e9c3855ea': {'english': \"I've seen that\",\n",
       "  'chinese': '我見過',\n",
       "  '_id': 'zhon-34487-6331a6faf06ead3e9c3855ea'},\n",
       " 'zhon-33733-6331a6faf06ead3e9c3855eb': {'english': 'Is he Japanese',\n",
       "  'chinese': '他是日本人吗',\n",
       "  '_id': 'zhon-33733-6331a6faf06ead3e9c3855eb'},\n",
       " 'zhon-33637-6331a6faf06ead3e9c3855ec': {'english': 'Is that better',\n",
       "  'chinese': '那更好吗',\n",
       "  '_id': 'zhon-33637-6331a6faf06ead3e9c3855ec'},\n",
       " 'zhon-34084-6331a6faf06ead3e9c3855ed': {'english': 'Is this edible',\n",
       "  'chinese': '这个能吃吗',\n",
       "  '_id': 'zhon-34084-6331a6faf06ead3e9c3855ed'},\n",
       " 'zhon-34110-6331a6faf06ead3e9c3855ee': {'english': \"Isn't it black\",\n",
       "  'chinese': '它不是黑色的嗎',\n",
       "  '_id': 'zhon-34110-6331a6faf06ead3e9c3855ee'},\n",
       " 'zhon-33871-6331a6faf06ead3e9c3855ef': {'english': 'It is so early',\n",
       "  'chinese': '太早了',\n",
       "  '_id': 'zhon-33871-6331a6faf06ead3e9c3855ef'},\n",
       " 'zhon-33847-6331a6faf06ead3e9c3855f0': {'english': 'It is too late',\n",
       "  'chinese': '太晚了',\n",
       "  '_id': 'zhon-33847-6331a6faf06ead3e9c3855f0'},\n",
       " 'zhon-34306-6331a6faf06ead3e9c3855f1': {'english': 'It makes sense',\n",
       "  'chinese': '那样说得通',\n",
       "  '_id': 'zhon-34306-6331a6faf06ead3e9c3855f1'},\n",
       " 'zhon-34381-6331a6faf06ead3e9c3855f2': {'english': 'It took months',\n",
       "  'chinese': '它花了几个月',\n",
       "  '_id': 'zhon-34381-6331a6faf06ead3e9c3855f2'},\n",
       " 'zhon-34121-6331a6faf06ead3e9c3855f3': {'english': \"It's brand new\",\n",
       "  'chinese': '这是全新的',\n",
       "  '_id': 'zhon-34121-6331a6faf06ead3e9c3855f3'},\n",
       " 'zhon-33956-6331a6faf06ead3e9c3855f4': {'english': \"It's dangerous\",\n",
       "  'chinese': '它是危險的',\n",
       "  '_id': 'zhon-33956-6331a6faf06ead3e9c3855f4'},\n",
       " 'zhon-34490-6331a6faf06ead3e9c3855f5': {'english': \"It's delicious\",\n",
       "  'chinese': '很美味',\n",
       "  '_id': 'zhon-34490-6331a6faf06ead3e9c3855f5'},\n",
       " 'zhon-33934-6331a6faf06ead3e9c3855f6': {'english': \"It's not funny\",\n",
       "  'chinese': '这不好笑',\n",
       "  '_id': 'zhon-33934-6331a6faf06ead3e9c3855f6'},\n",
       " 'zhon-34561-6331a6faf06ead3e9c3855f7': {'english': \"It's our fault\",\n",
       "  'chinese': '它是我們的錯誤',\n",
       "  '_id': 'zhon-34561-6331a6faf06ead3e9c3855f7'},\n",
       " 'zhon-34007-6331a6faf06ead3e9c3855f8': {'english': \"It's the truth\",\n",
       "  'chinese': '这是事实',\n",
       "  '_id': 'zhon-34007-6331a6faf06ead3e9c3855f8'},\n",
       " 'zhon-34052-6331a6faf06ead3e9c3855f9': {'english': \"It's too large\",\n",
       "  'chinese': '它太大了',\n",
       "  '_id': 'zhon-34052-6331a6faf06ead3e9c3855f9'},\n",
       " 'zhon-34148-6331a6faf06ead3e9c3855fa': {'english': \"It's up to you\",\n",
       "  'chinese': '这就要看您了',\n",
       "  '_id': 'zhon-34148-6331a6faf06ead3e9c3855fa'},\n",
       " 'zhon-34422-6331a6faf06ead3e9c3855fb': {'english': \"It's up to you\",\n",
       "  'chinese': '由你來決定',\n",
       "  '_id': 'zhon-34422-6331a6faf06ead3e9c3855fb'},\n",
       " 'zhon-34384-6331a6faf06ead3e9c3855fc': {'english': \"It's very cold\",\n",
       "  'chinese': '非常冷',\n",
       "  '_id': 'zhon-34384-6331a6faf06ead3e9c3855fc'},\n",
       " 'zhon-33664-6331a6faf06ead3e9c3855fd': {'english': \"It's well done\",\n",
       "  'chinese': '做得很好',\n",
       "  '_id': 'zhon-33664-6331a6faf06ead3e9c3855fd'},\n",
       " 'zhon-33955-6331a6faf06ead3e9c3855fe': {'english': \"It's your book\",\n",
       "  'chinese': '它是你的書',\n",
       "  '_id': 'zhon-33955-6331a6faf06ead3e9c3855fe'},\n",
       " 'zhon-34103-6331a6faf06ead3e9c3855ff': {'english': \"It's your move\",\n",
       "  'chinese': '該你走了',\n",
       "  '_id': 'zhon-34103-6331a6faf06ead3e9c3855ff'},\n",
       " 'zhon-34461-6331a6faf06ead3e9c385600': {'english': \"It's your turn\",\n",
       "  'chinese': '輪到你了',\n",
       "  '_id': 'zhon-34461-6331a6faf06ead3e9c385600'},\n",
       " 'zhon-33708-6331a6faf06ead3e9c385601': {'english': 'Keep listening',\n",
       "  'chinese': '继续听',\n",
       "  '_id': 'zhon-33708-6331a6faf06ead3e9c385601'},\n",
       " 'zhon-33749-6331a6faf06ead3e9c385602': {'english': 'Let me come in',\n",
       "  'chinese': '让我进去',\n",
       "  '_id': 'zhon-33749-6331a6faf06ead3e9c385602'},\n",
       " 'zhon-33870-6331a6faf06ead3e9c385603': {'english': 'Let me do that',\n",
       "  'chinese': '让我去做',\n",
       "  '_id': 'zhon-33870-6331a6faf06ead3e9c385603'},\n",
       " 'zhon-34198-6331a6faf06ead3e9c385604': {'english': 'Let us go home',\n",
       "  'chinese': '让我们回家吧',\n",
       "  '_id': 'zhon-34198-6331a6faf06ead3e9c385604'},\n",
       " 'zhon-33696-6331a6faf06ead3e9c385605': {'english': \"Let's just eat\",\n",
       "  'chinese': '我們吃吧',\n",
       "  '_id': 'zhon-33696-6331a6faf06ead3e9c385605'},\n",
       " 'zhon-34291-6331a6faf06ead3e9c385606': {'english': 'Listen to this',\n",
       "  'chinese': '聽聽這個',\n",
       "  '_id': 'zhon-34291-6331a6faf06ead3e9c385606'},\n",
       " 'zhon-33709-6331a6faf06ead3e9c385607': {'english': 'Louder, please',\n",
       "  'chinese': '请大声一点',\n",
       "  '_id': 'zhon-33709-6331a6faf06ead3e9c385607'},\n",
       " 'zhon-34171-6331a6faf06ead3e9c385608': {'english': 'May I help you',\n",
       "  'chinese': '我能幫你嗎',\n",
       "  '_id': 'zhon-34171-6331a6faf06ead3e9c385608'},\n",
       " 'zhon-34391-6331a6faf06ead3e9c385609': {'english': 'May I use this',\n",
       "  'chinese': '我可以用嗎',\n",
       "  '_id': 'zhon-34391-6331a6faf06ead3e9c385609'},\n",
       " 'zhon-34525-6331a6faf06ead3e9c38560a': {'english': 'My name is Tom',\n",
       "  'chinese': '我叫Tom',\n",
       "  '_id': 'zhon-34525-6331a6faf06ead3e9c38560a'},\n",
       " 'zhon-34338-6331a6faf06ead3e9c38560b': {'english': 'Now I remember',\n",
       "  'chinese': '现在我想起来了',\n",
       "  '_id': 'zhon-34338-6331a6faf06ead3e9c38560b'},\n",
       " 'zhon-33708-6331a6faf06ead3e9c38560c': {'english': 'Please come in',\n",
       "  'chinese': '請進來',\n",
       "  '_id': 'zhon-33708-6331a6faf06ead3e9c38560c'},\n",
       " 'zhon-33783-6331a6faf06ead3e9c38560d': {'english': 'Please do that',\n",
       "  'chinese': '麻煩您那樣做',\n",
       "  '_id': 'zhon-33783-6331a6faf06ead3e9c38560d'},\n",
       " 'zhon-34308-6331a6faf06ead3e9c38560e': {'english': 'Please help me',\n",
       "  'chinese': '請幫助我',\n",
       "  '_id': 'zhon-34308-6331a6faf06ead3e9c38560e'},\n",
       " 'zhon-33787-6331a6faf06ead3e9c38560f': {'english': 'Please help me',\n",
       "  'chinese': '請幫我',\n",
       "  '_id': 'zhon-33787-6331a6faf06ead3e9c38560f'},\n",
       " 'zhon-34174-6331a6faf06ead3e9c385610': {'english': 'Please join us',\n",
       "  'chinese': '請加入我們',\n",
       "  '_id': 'zhon-34174-6331a6faf06ead3e9c385610'},\n",
       " 'zhon-34020-6331a6faf06ead3e9c385611': {'english': 'Please tell me',\n",
       "  'chinese': '請告訴我',\n",
       "  '_id': 'zhon-34020-6331a6faf06ead3e9c385611'},\n",
       " 'zhon-34280-6331a6faf06ead3e9c385612': {'english': 'Please wash it',\n",
       "  'chinese': '请清洗它',\n",
       "  '_id': 'zhon-34280-6331a6faf06ead3e9c385612'},\n",
       " 'zhon-34355-6331a6faf06ead3e9c385613': {'english': 'Prices went up',\n",
       "  'chinese': '物價上漲',\n",
       "  '_id': 'zhon-34355-6331a6faf06ead3e9c385613'},\n",
       " 'zhon-33994-6331a6faf06ead3e9c385614': {'english': 'Read this book',\n",
       "  'chinese': '看这本书',\n",
       "  '_id': 'zhon-33994-6331a6faf06ead3e9c385614'},\n",
       " 'zhon-34429-6331a6faf06ead3e9c385615': {'english': 'Say it clearly',\n",
       "  'chinese': '說清楚',\n",
       "  '_id': 'zhon-34429-6331a6faf06ead3e9c385615'},\n",
       " 'zhon-34360-6331a6faf06ead3e9c385616': {'english': 'Science is fun',\n",
       "  'chinese': '科學好玩',\n",
       "  '_id': 'zhon-34360-6331a6faf06ead3e9c385616'},\n",
       " 'zhon-33725-6331a6faf06ead3e9c385617': {'english': 'See you around',\n",
       "  'chinese': '再见',\n",
       "  '_id': 'zhon-33725-6331a6faf06ead3e9c385617'},\n",
       " 'zhon-34200-6331a6faf06ead3e9c385618': {'english': 'She fooled him',\n",
       "  'chinese': '她愚弄了他',\n",
       "  '_id': 'zhon-34200-6331a6faf06ead3e9c385618'},\n",
       " 'zhon-34216-6331a6faf06ead3e9c385619': {'english': 'She grew roses',\n",
       "  'chinese': '她種了玫瑰',\n",
       "  '_id': 'zhon-34216-6331a6faf06ead3e9c385619'},\n",
       " 'zhon-33743-6331a6faf06ead3e9c38561a': {'english': 'She hugged him',\n",
       "  'chinese': '她抱了他',\n",
       "  '_id': 'zhon-33743-6331a6faf06ead3e9c38561a'},\n",
       " 'zhon-34474-6331a6faf06ead3e9c38561b': {'english': 'She is dieting',\n",
       "  'chinese': '她在节食',\n",
       "  '_id': 'zhon-34474-6331a6faf06ead3e9c38561b'},\n",
       " 'zhon-34001-6331a6faf06ead3e9c38561c': {'english': 'She is walking',\n",
       "  'chinese': '她在行走',\n",
       "  '_id': 'zhon-34001-6331a6faf06ead3e9c38561c'},\n",
       " 'zhon-34411-6331a6faf06ead3e9c38561d': {'english': 'She might come',\n",
       "  'chinese': '她也許會來',\n",
       "  '_id': 'zhon-34411-6331a6faf06ead3e9c38561d'},\n",
       " 'zhon-33792-6331a6faf06ead3e9c38561e': {'english': 'She seems rich',\n",
       "  'chinese': '她看來有錢',\n",
       "  '_id': 'zhon-33792-6331a6faf06ead3e9c38561e'},\n",
       " 'zhon-34151-6331a6faf06ead3e9c38561f': {'english': 'Smoke appeared',\n",
       "  'chinese': '烟雾出现了',\n",
       "  '_id': 'zhon-34151-6331a6faf06ead3e9c38561f'},\n",
       " ...}"
      ]
     },
     "execution_count": 35,
     "metadata": {},
     "output_type": "execute_result"
    }
   ],
   "source": [
    "separated['chinese']"
   ]
  },
  {
   "cell_type": "code",
   "execution_count": 62,
   "metadata": {},
   "outputs": [
    {
     "name": "stdout",
     "output_type": "stream",
     "text": [
      "CPU times: total: 15.6 ms\n",
      "Wall time: 18 ms\n"
     ]
    }
   ],
   "source": [
    "%%time\n",
    "ssm= 11000\n",
    "n=3\n",
    "cvallist=[]\n",
    "hvallist=[]\n",
    "clist=[k for (k,v) in separated['chinese'].items()]\n",
    "hlist=[k for (k,v) in separated['hindi'].items()]\n",
    "clist1 = list(filter(lambda s: int(s.split(\"-\")[1]) > ssm, clist))\n",
    "hlist1 = list(filter(lambda s: int(s.split(\"-\")[1]) > ssm , hlist))"
   ]
  },
  {
   "cell_type": "code",
   "execution_count": null,
   "metadata": {},
   "outputs": [],
   "source": []
  },
  {
   "cell_type": "code",
   "execution_count": 64,
   "metadata": {},
   "outputs": [],
   "source": [
    "for i in range(0,n):\n",
    "    if(len(clist1)==0):\n",
    "        print('No translations done for chinese')\n",
    "    elif(len(hlist1)==0):\n",
    "        print('No translations done for hindi')\n",
    "    else:\n",
    "        cvallist.append(separated['chinese'][clist1[i]])\n",
    "        hvallist.append(separated['hindi'][hlist1[i]])"
   ]
  },
  {
   "cell_type": "code",
   "execution_count": 36,
   "metadata": {},
   "outputs": [
    {
     "ename": "IndexError",
     "evalue": "list index out of range",
     "output_type": "error",
     "traceback": [
      "\u001b[1;31m---------------------------------------------------------------------------\u001b[0m",
      "\u001b[1;31mIndexError\u001b[0m                                Traceback (most recent call last)",
      "File \u001b[1;32m<timed exec>:10\u001b[0m, in \u001b[0;36m<module>\u001b[1;34m\u001b[0m\n",
      "\u001b[1;31mIndexError\u001b[0m: list index out of range"
     ]
    }
   ],
   "source": [
    "%%time\n",
    "ssm= 60846\n",
    "n=3\n",
    "cvallist=[]\n",
    "hvallist=[]\n",
    "clist=[k for (k,v) in separated['chinese'].items()]\n",
    "hlist=[k for (k,v) in separated['hindi'].items()]\n",
    "clist1 = list(filter(lambda s: (int(s.split(\"-\")[1]) > ssm) , clist))\n",
    "hlist1 = list(filter(lambda s: int(s.split(\"-\")[1]) > ssm , hlist))\n",
    "for i in range(0,n):\n",
    "    cvallist.append(separated['chinese'][clist1[i]])\n",
    "    hvallist.append(separated['hindi'][hlist1[i]])\n",
    "cdict={k:v for (k,v) in zip(clist1, cvallist)}\n",
    "hdict={k:v for (k,v) in zip(hlist1, hvallist)}\n",
    "res={'chinese':cdict,'hindi':hdict}"
   ]
  },
  {
   "cell_type": "code",
   "execution_count": null,
   "metadata": {},
   "outputs": [],
   "source": []
  },
  {
   "cell_type": "markdown",
   "metadata": {},
   "source": [
    "## Decorators (***optional***)"
   ]
  },
  {
   "cell_type": "markdown",
   "metadata": {},
   "source": [
    "A decorator is a **higher order function**: A function which accepts and returns... a function! \n",
    "\n",
    "Simple usage example `add_apples` decorator will add 'Apple' element into fruits list returned by get_fruits target function."
   ]
  },
  {
   "cell_type": "code",
   "execution_count": null,
   "metadata": {},
   "outputs": [],
   "source": [
    "def add_apples(func):\n",
    "    def get_fruits():\n",
    "        fruits = func()\n",
    "        fruits.append('Apple')\n",
    "        return fruits\n",
    "    return get_fruits\n",
    "\n",
    "@add_apples\n",
    "def get_fruits():\n",
    "    return ['Banana', 'Mango', 'Orange']\n",
    "\n",
    "# Prints out the list of fruits with 'Apple' element in it:\n",
    "# Banana, Mango, Orange, Apple\n",
    "print(', '.join(get_fruits()))"
   ]
  },
  {
   "cell_type": "markdown",
   "metadata": {},
   "source": [
    "In this example, `beg` wraps `say`. `beg` will call `say`. If `say_please` is True then it will change the returned message:"
   ]
  },
  {
   "cell_type": "code",
   "execution_count": null,
   "metadata": {},
   "outputs": [],
   "source": [
    "from functools import wraps\n",
    "\n",
    "\n",
    "def beg(target_function):\n",
    "    @wraps(target_function)\n",
    "    def wrapper(*args, **kwargs):\n",
    "        msg, say_please = target_function(*args, **kwargs)\n",
    "        if say_please:\n",
    "            return \"{} {}\".format(msg, \"Please! I am poor :(\")\n",
    "        return msg\n",
    "\n",
    "    return wrapper\n",
    "\n",
    "\n",
    "@beg\n",
    "def say(say_please=False):\n",
    "    msg = \"Can you buy me a beer?\"\n",
    "    return msg, say_please\n",
    "\n",
    "\n",
    "print say()  # Can you buy me a beer?\n",
    "print say(say_please=True)  # Can you buy me a beer? Please! I am poor :("
   ]
  },
  {
   "cell_type": "markdown",
   "metadata": {},
   "source": [
    "Now, enough for this week?\n",
    "\n",
    "<br />\n",
    "<center>\n",
    "<img src = ipynb.images/tree-sloth.jpg width = 600 />\n",
    "</center>\n",
    "\n",
    "*Almost!*"
   ]
  }
 ],
 "metadata": {
  "kernelspec": {
   "display_name": "Python 3 (ipykernel)",
   "language": "python",
   "name": "python3"
  },
  "language_info": {
   "codemirror_mode": {
    "name": "ipython",
    "version": 3
   },
   "file_extension": ".py",
   "mimetype": "text/x-python",
   "name": "python",
   "nbconvert_exporter": "python",
   "pygments_lexer": "ipython3",
   "version": "3.9.12"
  }
 },
 "nbformat": 4,
 "nbformat_minor": 1
}
