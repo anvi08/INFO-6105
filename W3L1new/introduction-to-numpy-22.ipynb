{
 "cells": [
  {
   "cell_type": "markdown",
   "metadata": {},
   "source": [
    "<div style=\"text-align: right\">INFO 6105 Data Sci Engineering Methods and Tools, Lecture 3 Day 1</div>\n",
    "<div style=\"text-align: right\">Dino Konstantopoulos, 19 September 2022, with material from Peter Norvig, Chris Fonnesbeck, and Ned Batchelder</div>\n",
    "\n",
    "## Introduction to the NumPy library"
   ]
  },
  {
   "cell_type": "markdown",
   "metadata": {},
   "source": [
    "`NumPy` is our performance and math library. It's a C-module, so it gets compiled to machine code and is blazing fast. It's the **engine** that makes the Python snail fast!\n",
    "\n",
    "<br />\n",
    "<center>\n",
    "    <img src=\"ipynb.images/RocketSnail.png\" width=400 />\n",
    "</center>\n",
    "\n",
    "Let's quickly review some Python data structures.\n",
    "\n",
    "### Review: Python Sets"
   ]
  },
  {
   "cell_type": "code",
   "execution_count": 1,
   "metadata": {},
   "outputs": [
    {
     "data": {
      "text/plain": [
       "{1, 2}"
      ]
     },
     "execution_count": 1,
     "metadata": {},
     "output_type": "execute_result"
    }
   ],
   "source": [
    "s = set()\n",
    "s.add(1)\n",
    "s.add(2)\n",
    "s.add(1)\n",
    "s"
   ]
  },
  {
   "cell_type": "code",
   "execution_count": 2,
   "metadata": {},
   "outputs": [
    {
     "name": "stdout",
     "output_type": "stream",
     "text": [
      "C:\\Users\\Dino\n"
     ]
    }
   ],
   "source": [
    "!pwd"
   ]
  },
  {
   "cell_type": "code",
   "execution_count": 3,
   "metadata": {},
   "outputs": [
    {
     "name": "stdout",
     "output_type": "stream",
     "text": [
      "{'116.71.47.122 ', '208.80.194.56 ', '91.121.134.62 ', '115.186.128.19 ', '127.0.0.1 ', '66.170.231.127 ', '74.62.155.43 ', '59.103.26.145 ', '72.245.200.114 ', '59.96.97.77 ', '91.121.107.137 ', '222.187.221.201 ', '68.109.227.198 ', '59.93.92.14 ', '198.64.129.244 ', '116.71.40.245 ', '206.145.28.20 ', '202.59.80.153 ', '129.83.31.1 ', '129.83.31.2 ', '192.168.2.13 ', '208.80.194.122 ', '69.30.67.191 ', '204.97.75.234 ', '98.246.45.87 ', '59.93.64.161 ', '66.249.67.117 ', '159.140.254.10 ', '94.76.204.194 ', '75.145.151.221 ', '198.169.188.225 ', '208.80.194.44 ', '195.242.98.161 ', '216.86.52.162 ', '208.80.194.48 ', '216.204.33.226 ', '58.52.202.7 ', '192.35.79.70 ', '66.249.67.174 ', '222.187.221.88 ', '59.93.51.231 ', '116.71.43.234 ', '203.129.204.49 ', '194.8.75.212 ', '208.80.194.37 ', '61.29.67.222 ', '24.61.156.42 ', '121.241.66.129 ', '65.97.0.67 ', '203.129.204.131 ', '222.187.220.162 ', '92.240.68.153 ', '66.170.227.42 ', '72.30.81.169 ', '59.93.82.110 ', '59.93.86.94 ', '71.233.70.47 ', '116.71.50.81 ', '203.129.231.99 ', '203.145.185.162 ', '65.112.145.106 ', '67.9.177.233 ', '68.191.152.26 ', '217.7.222.223 ', '64.185.117.181 ', '198.169.189.226 ', '71.192.48.105 ', '124.247.222.206 ', '59.103.11.163 ', '192.107.147.2 ', '192.168.2.12 ', '122.50.137.176 ', '59.96.97.76 ', '72.237.250.93 ', '158.73.247.16 ', '203.200.213.98 ', '207.77.135.68 ', '207.68.114.15 ', '209.19.15.94 ', '209.172.119.5 ', '91.194.42.52 ', '212.235.5.188 ', '125.16.5.109 ', '71.59.196.132 ', '98.206.247.229 ', '59.96.109.33 '}\n"
     ]
    }
   ],
   "source": [
    "file = open(\"data/http_log.txt\", \"r\")\n",
    "lines = file.readlines()\n",
    "file.close()\n",
    "\n",
    "ip_addresses = set(map(lambda x: x.split('-')[0], lines))\n",
    "print(ip_addresses)"
   ]
  },
  {
   "cell_type": "markdown",
   "metadata": {},
   "source": [
    "Most important list manipulation functions are *map*, *reduce*, and *filter*"
   ]
  },
  {
   "cell_type": "markdown",
   "metadata": {},
   "source": [
    "### Review: Python List Comprehensions\n",
    "\n",
    "List comprehensions are transformations of lists"
   ]
  },
  {
   "cell_type": "code",
   "execution_count": 3,
   "metadata": {},
   "outputs": [
    {
     "data": {
      "text/plain": [
       "<generator object <genexpr> at 0x0000027900D219E8>"
      ]
     },
     "execution_count": 3,
     "metadata": {},
     "output_type": "execute_result"
    }
   ],
   "source": [
    "even_numbers = (x for x in range(100) if x % 2 == 0)\n",
    "even_numbers"
   ]
  },
  {
   "cell_type": "code",
   "execution_count": 4,
   "metadata": {},
   "outputs": [
    {
     "name": "stdout",
     "output_type": "stream",
     "text": [
      "[(0, 0), (2, 0), (4, 0), (6, 0), (8, 0), (10, 0), (12, 0), (14, 0), (16, 0), (18, 0), (20, 0), (22, 0), (24, 0), (26, 0), (28, 0), (30, 0), (32, 0), (34, 0), (36, 0), (38, 0), (40, 0), (42, 0), (44, 0), (46, 0), (48, 0), (50, 0), (52, 0), (54, 0), (56, 0), (58, 0), (60, 0), (62, 0), (64, 0), (66, 0), (68, 0), (70, 0), (72, 0), (74, 0), (76, 0), (78, 0), (80, 0), (82, 0), (84, 0), (86, 0), (88, 0), (90, 0), (92, 0), (94, 0), (96, 0), (98, 0)]\n"
     ]
    }
   ],
   "source": [
    "even_numbers = (x for x in range(100) if x % 2 == 0)\n",
    "zeroes = [0 for _ in range(100)]\n",
    "#pairs = [(x,y) for x in range(100) for y in range(100)] #zip(even_numbers, zeroes)\n",
    "#print(pairs)\n",
    "print(list(zip(even_numbers, zeroes)))"
   ]
  },
  {
   "cell_type": "code",
   "execution_count": 52,
   "metadata": {},
   "outputs": [],
   "source": [
    "even_numbers = (x for x in range(100) if x % 2 == 0)"
   ]
  },
  {
   "cell_type": "code",
   "execution_count": 53,
   "metadata": {},
   "outputs": [
    {
     "name": "stdout",
     "output_type": "stream",
     "text": [
      "[0, 2, 4, 6, 8, 10, 12, 14, 16, 18, 20, 22, 24, 26, 28, 30, 32, 34, 36, 38, 40, 42, 44, 46, 48, 50, 52, 54, 56, 58, 60, 62, 64, 66, 68, 70, 72, 74, 76, 78, 80, 82, 84, 86, 88, 90, 92, 94, 96, 98]\n"
     ]
    }
   ],
   "source": [
    "print(list(even_numbers))"
   ]
  },
  {
   "cell_type": "code",
   "execution_count": 5,
   "metadata": {},
   "outputs": [
    {
     "data": {
      "text/plain": [
       "[2, 4, 6, 8]"
      ]
     },
     "execution_count": 5,
     "metadata": {},
     "output_type": "execute_result"
    }
   ],
   "source": [
    "values = [1,2,3,4,5,6,7,8,9]\n",
    "even = list(filter(lambda x: x % 2 ==0, values))\n",
    "even"
   ]
  },
  {
   "cell_type": "code",
   "execution_count": 6,
   "metadata": {},
   "outputs": [
    {
     "data": {
      "text/plain": [
       "45"
      ]
     },
     "execution_count": 6,
     "metadata": {},
     "output_type": "execute_result"
    }
   ],
   "source": [
    "from functools import reduce\n",
    "summed = reduce(lambda a,b: a + b, values)\n",
    "summed"
   ]
  },
  {
   "cell_type": "markdown",
   "metadata": {},
   "source": [
    "### Review: Enumerations and Generators"
   ]
  },
  {
   "cell_type": "code",
   "execution_count": 7,
   "metadata": {},
   "outputs": [
    {
     "name": "stdout",
     "output_type": "stream",
     "text": [
      "0\n",
      "1\n",
      "2\n",
      "3\n",
      "4\n",
      "5\n",
      "6\n",
      "7\n",
      "8\n",
      "9\n",
      "range(0, 10)\n"
     ]
    }
   ],
   "source": [
    "# generator\n",
    "def my_lazy_range(n):\n",
    "    i = 0\n",
    "    while i < n:\n",
    "        yield i\n",
    "        i += 1\n",
    "        \n",
    "for i in my_lazy_range(10):\n",
    "    print(i)\n",
    "    \n",
    "# enumeration\n",
    "a = range(10)\n",
    "print(a)"
   ]
  },
  {
   "cell_type": "code",
   "execution_count": 38,
   "metadata": {},
   "outputs": [
    {
     "data": {
      "text/plain": [
       "[1, 2, 'foo', 'bar']"
      ]
     },
     "execution_count": 38,
     "metadata": {},
     "output_type": "execute_result"
    }
   ],
   "source": [
    "l = [1, 2, \"foo\", \"bar\"]\n",
    "l"
   ]
  },
  {
   "cell_type": "markdown",
   "metadata": {},
   "source": [
    "# 1. Practical Introduction to NumPy\n",
    "\n",
    "Ok, let's officially introduce [NumPy](https://en.wikipedia.org/wiki/NumPy). We can hardly do data science without it.\n",
    "\n",
    "Numpy adds Python support for large multi-dimensional arrays and matrices, along with a library of high-level mathematical functions to operate on these arrays. Numpy is the first and lowest level data science extension for Python. It focuses on number calculations, reads in fixed datatypes, improves RAM efficiency, and teaches you to think in **Vectors**, **Matrices**, and **Tensors**."
   ]
  },
  {
   "cell_type": "markdown",
   "metadata": {},
   "source": [
    "## Array Attributes\n",
    "\n",
    "First let's discuss some useful array attributes.\n",
    "We'll start by defining three random arrays, a one-dimensional, two-dimensional, and three-dimensional array.\n",
    "We'll use NumPy's random number generator, which we will *seed* with a set value in order to ensure that the same random arrays are generated each time this code is run:"
   ]
  },
  {
   "cell_type": "code",
   "execution_count": 4,
   "metadata": {},
   "outputs": [],
   "source": [
    "import numpy as np\n",
    "np.random.seed(0)  # seed for reproducibility\n",
    "\n",
    "x1 = np.random.randint(10, size=6)  # One-dimensional array\n",
    "x2 = np.random.randint(10, size=(3, 4))  # Two-dimensional array\n",
    "x3 = np.random.randint(10, size=(3, 4, 5))  # Three-dimensional array"
   ]
  },
  {
   "cell_type": "code",
   "execution_count": 5,
   "metadata": {},
   "outputs": [
    {
     "data": {
      "text/plain": [
       "array([5, 0, 3, 3, 7, 9])"
      ]
     },
     "execution_count": 5,
     "metadata": {},
     "output_type": "execute_result"
    }
   ],
   "source": [
    "x1"
   ]
  },
  {
   "cell_type": "code",
   "execution_count": 10,
   "metadata": {},
   "outputs": [
    {
     "data": {
      "text/plain": [
       "array([[3, 5, 2, 4],\n",
       "       [7, 6, 8, 8],\n",
       "       [1, 6, 7, 7]])"
      ]
     },
     "execution_count": 10,
     "metadata": {},
     "output_type": "execute_result"
    }
   ],
   "source": [
    "x2"
   ]
  },
  {
   "cell_type": "code",
   "execution_count": 73,
   "metadata": {},
   "outputs": [
    {
     "data": {
      "text/plain": [
       "array([[[8, 1, 5, 9, 8],\n",
       "        [9, 4, 3, 0, 3],\n",
       "        [5, 0, 2, 3, 8],\n",
       "        [1, 3, 3, 3, 7]],\n",
       "\n",
       "       [[0, 1, 9, 9, 0],\n",
       "        [4, 7, 3, 2, 7],\n",
       "        [2, 0, 0, 4, 5],\n",
       "        [5, 6, 8, 4, 1]],\n",
       "\n",
       "       [[4, 9, 8, 1, 1],\n",
       "        [7, 9, 9, 3, 6],\n",
       "        [7, 2, 0, 3, 5],\n",
       "        [9, 4, 4, 6, 4]]])"
      ]
     },
     "execution_count": 73,
     "metadata": {},
     "output_type": "execute_result"
    }
   ],
   "source": [
    "x3"
   ]
  },
  {
   "cell_type": "markdown",
   "metadata": {},
   "source": [
    "Each array has attributes ``ndim`` (the number of dimensions), ``shape`` (the size of each dimension), and ``size`` (the total size of the array):"
   ]
  },
  {
   "cell_type": "code",
   "execution_count": 62,
   "metadata": {},
   "outputs": [
    {
     "name": "stdout",
     "output_type": "stream",
     "text": [
      "x3 ndim:  3\n",
      "x3 shape: (3, 4, 5)\n",
      "x3 size:  60\n"
     ]
    }
   ],
   "source": [
    "print(\"x3 ndim: \", x3.ndim)\n",
    "print(\"x3 shape:\", x3.shape)\n",
    "print(\"x3 size: \", x3.size)"
   ]
  },
  {
   "cell_type": "markdown",
   "metadata": {},
   "source": [
    "If you are comfortable with Python's standard list indexing with `[]`, indexing in NumPy is the same, plus more.\n",
    "In a one-dimensional array, the $i^{th}$ value (counting from zero) can be accessed by specifying the desired index in square brackets, just as with Python lists:"
   ]
  },
  {
   "cell_type": "code",
   "execution_count": 11,
   "metadata": {},
   "outputs": [
    {
     "data": {
      "text/plain": [
       "array([5, 0, 3, 3, 7, 9])"
      ]
     },
     "execution_count": 11,
     "metadata": {},
     "output_type": "execute_result"
    }
   ],
   "source": [
    "x1"
   ]
  },
  {
   "cell_type": "code",
   "execution_count": 12,
   "metadata": {},
   "outputs": [
    {
     "data": {
      "text/plain": [
       "5"
      ]
     },
     "execution_count": 12,
     "metadata": {},
     "output_type": "execute_result"
    }
   ],
   "source": [
    "x1[0]"
   ]
  },
  {
   "cell_type": "markdown",
   "metadata": {},
   "source": [
    "In multi-dimensional arrays, items can be accessed using either standard python indexing (`[][]`), or with a comma-separated tuple of indices: `[ , ]` like in R!"
   ]
  },
  {
   "cell_type": "code",
   "execution_count": 13,
   "metadata": {},
   "outputs": [
    {
     "data": {
      "text/plain": [
       "array([[3, 5, 2, 4],\n",
       "       [7, 6, 8, 8],\n",
       "       [1, 6, 7, 7]])"
      ]
     },
     "execution_count": 13,
     "metadata": {},
     "output_type": "execute_result"
    }
   ],
   "source": [
    "x2"
   ]
  },
  {
   "cell_type": "code",
   "execution_count": 14,
   "metadata": {},
   "outputs": [
    {
     "data": {
      "text/plain": [
       "3"
      ]
     },
     "execution_count": 14,
     "metadata": {},
     "output_type": "execute_result"
    }
   ],
   "source": [
    "x2[0][0]"
   ]
  },
  {
   "cell_type": "code",
   "execution_count": 15,
   "metadata": {},
   "outputs": [
    {
     "data": {
      "text/plain": [
       "3"
      ]
     },
     "execution_count": 15,
     "metadata": {},
     "output_type": "execute_result"
    }
   ],
   "source": [
    "x2[0, 0]"
   ]
  },
  {
   "cell_type": "code",
   "execution_count": 14,
   "metadata": {},
   "outputs": [
    {
     "data": {
      "text/plain": [
       "8"
      ]
     },
     "execution_count": 14,
     "metadata": {},
     "output_type": "execute_result"
    }
   ],
   "source": [
    "x3[0][0][0]"
   ]
  },
  {
   "cell_type": "code",
   "execution_count": 15,
   "metadata": {},
   "outputs": [
    {
     "data": {
      "text/plain": [
       "8"
      ]
     },
     "execution_count": 15,
     "metadata": {},
     "output_type": "execute_result"
    }
   ],
   "source": [
    "x3[0,0,0]"
   ]
  },
  {
   "cell_type": "markdown",
   "metadata": {},
   "source": [
    "Values can also be modified using any of the above index notation:"
   ]
  },
  {
   "cell_type": "code",
   "execution_count": 16,
   "metadata": {},
   "outputs": [
    {
     "data": {
      "text/plain": [
       "array([[12,  5,  2,  4],\n",
       "       [ 7,  6,  8,  8],\n",
       "       [ 1,  6,  7,  7]])"
      ]
     },
     "execution_count": 16,
     "metadata": {},
     "output_type": "execute_result"
    }
   ],
   "source": [
    "x2[0, 0] = 12\n",
    "x2"
   ]
  },
  {
   "cell_type": "markdown",
   "metadata": {},
   "source": [
    "## One-dimensional subarrays"
   ]
  },
  {
   "cell_type": "code",
   "execution_count": 78,
   "metadata": {},
   "outputs": [
    {
     "data": {
      "text/plain": [
       "array([0, 1, 2, 3, 4, 5, 6, 7, 8, 9])"
      ]
     },
     "execution_count": 78,
     "metadata": {},
     "output_type": "execute_result"
    }
   ],
   "source": [
    "x = np.arange(10)\n",
    "x"
   ]
  },
  {
   "cell_type": "code",
   "execution_count": 77,
   "metadata": {},
   "outputs": [
    {
     "data": {
      "text/plain": [
       "0.4"
      ]
     },
     "execution_count": 77,
     "metadata": {},
     "output_type": "execute_result"
    }
   ],
   "source": [
    ".4"
   ]
  },
  {
   "cell_type": "code",
   "execution_count": 76,
   "metadata": {},
   "outputs": [
    {
     "data": {
      "text/plain": [
       "array([0, 1, 2, 3, 4])"
      ]
     },
     "execution_count": 76,
     "metadata": {},
     "output_type": "execute_result"
    }
   ],
   "source": [
    "x[:5]  # first five elements"
   ]
  },
  {
   "cell_type": "code",
   "execution_count": 19,
   "metadata": {},
   "outputs": [
    {
     "data": {
      "text/plain": [
       "array([5, 6, 7, 8, 9])"
      ]
     },
     "execution_count": 19,
     "metadata": {},
     "output_type": "execute_result"
    }
   ],
   "source": [
    "x[5:]  # elements after index 5"
   ]
  },
  {
   "cell_type": "code",
   "execution_count": 80,
   "metadata": {},
   "outputs": [
    {
     "data": {
      "text/plain": [
       "array([4, 6])"
      ]
     },
     "execution_count": 80,
     "metadata": {},
     "output_type": "execute_result"
    }
   ],
   "source": [
    "x[4:7:2]  # middle sub-array"
   ]
  },
  {
   "cell_type": "code",
   "execution_count": 82,
   "metadata": {},
   "outputs": [
    {
     "data": {
      "text/plain": [
       "array([0, 2, 4, 6, 8])"
      ]
     },
     "execution_count": 82,
     "metadata": {},
     "output_type": "execute_result"
    }
   ],
   "source": [
    "x[::2]  # every other element"
   ]
  },
  {
   "cell_type": "markdown",
   "metadata": {},
   "source": [
    "### Multi-dimensional subarrays (matrices, tensors)\n",
    "\n",
    "Multi-dimensional slices work in the same way, with multiple slices separated by commas.\n",
    "For example:"
   ]
  },
  {
   "cell_type": "code",
   "execution_count": 24,
   "metadata": {},
   "outputs": [
    {
     "data": {
      "text/plain": [
       "array([[12,  5,  2,  4],\n",
       "       [ 7,  6,  8,  8],\n",
       "       [ 1,  6,  7,  7]])"
      ]
     },
     "execution_count": 24,
     "metadata": {},
     "output_type": "execute_result"
    }
   ],
   "source": [
    "x2"
   ]
  },
  {
   "cell_type": "code",
   "execution_count": 25,
   "metadata": {},
   "outputs": [
    {
     "data": {
      "text/plain": [
       "array([[12,  5,  2],\n",
       "       [ 7,  6,  8]])"
      ]
     },
     "execution_count": 25,
     "metadata": {},
     "output_type": "execute_result"
    }
   ],
   "source": [
    "x2[:2, :3]  # two rows, three columns"
   ]
  },
  {
   "cell_type": "code",
   "execution_count": 26,
   "metadata": {},
   "outputs": [
    {
     "data": {
      "text/plain": [
       "array([[12,  2],\n",
       "       [ 7,  8],\n",
       "       [ 1,  7]])"
      ]
     },
     "execution_count": 26,
     "metadata": {},
     "output_type": "execute_result"
    }
   ],
   "source": [
    "x2[:3, ::2]  # all rows, every other column"
   ]
  },
  {
   "cell_type": "markdown",
   "metadata": {},
   "source": [
    "## Reshaping of Arrays\n",
    "\n",
    "Another ***amazingly*** useful type of operation is **reshaping of arrays**.\n",
    "\n",
    "The most flexible way of doing this is with the ``reshape`` method.\n",
    "For example, if you want to put the numbers 1 through 9 in a $3 \\times 3$ grid, you can do the following:"
   ]
  },
  {
   "cell_type": "code",
   "execution_count": 65,
   "metadata": {},
   "outputs": [
    {
     "data": {
      "text/plain": [
       "array([[[ 1,  2,  3],\n",
       "        [ 4,  5,  6],\n",
       "        [ 7,  8,  9]],\n",
       "\n",
       "       [[10, 11, 12],\n",
       "        [13, 14, 15],\n",
       "        [16, 17, 18]],\n",
       "\n",
       "       [[19, 20, 21],\n",
       "        [22, 23, 24],\n",
       "        [25, 26, 27]]])"
      ]
     },
     "execution_count": 65,
     "metadata": {},
     "output_type": "execute_result"
    }
   ],
   "source": [
    "np.arange(1, 28).reshape((3, 3, 3))"
   ]
  },
  {
   "cell_type": "markdown",
   "metadata": {},
   "source": [
    "This is a 4-dimensional *beast*:"
   ]
  },
  {
   "cell_type": "code",
   "execution_count": 17,
   "metadata": {},
   "outputs": [
    {
     "name": "stdout",
     "output_type": "stream",
     "text": [
      "[[1 2 3]\n",
      " [4 5 6]\n",
      " [7 8 9]]\n"
     ]
    }
   ],
   "source": [
    "import numpy as np\n",
    "grid = np.arange(1, 10).reshape((3, 3))\n",
    "print(grid)"
   ]
  },
  {
   "cell_type": "code",
   "execution_count": 20,
   "metadata": {},
   "outputs": [
    {
     "name": "stdout",
     "output_type": "stream",
     "text": [
      "[[[[1]]\n",
      "\n",
      "  [[2]]\n",
      "\n",
      "  [[3]]]\n",
      "\n",
      "\n",
      " [[[4]]\n",
      "\n",
      "  [[5]]\n",
      "\n",
      "  [[6]]]\n",
      "\n",
      "\n",
      " [[[7]]\n",
      "\n",
      "  [[8]]\n",
      "\n",
      "  [[9]]]]\n"
     ]
    }
   ],
   "source": [
    "import numpy as np\n",
    "grid = np.arange(1, 10).reshape((3, 3, 1, 1))\n",
    "print(grid)"
   ]
  },
  {
   "cell_type": "markdown",
   "metadata": {},
   "source": [
    "It's really just a 2D structure though. *embedded* in a 4D space. You can *squeeze* that structure out of its 4D space with the `squeeze` operator:"
   ]
  },
  {
   "cell_type": "code",
   "execution_count": 21,
   "metadata": {},
   "outputs": [
    {
     "data": {
      "text/plain": [
       "array([[1, 2, 3],\n",
       "       [4, 5, 6],\n",
       "       [7, 8, 9]])"
      ]
     },
     "execution_count": 21,
     "metadata": {},
     "output_type": "execute_result"
    }
   ],
   "source": [
    "np.squeeze(grid)"
   ]
  },
  {
   "cell_type": "markdown",
   "metadata": {},
   "source": [
    "Where possible, the ``reshape`` method will use a no-copy view of the initial array, but with non-contiguous memory buffers this is not always the case.\n",
    "\n",
    "A common reshaping pattern is the conversion of a one-dimensional array into a two-dimensional row or column matrix. Let's do it *again*: This is a **vector** (single row) expressed as a **matrix**:"
   ]
  },
  {
   "cell_type": "code",
   "execution_count": null,
   "metadata": {},
   "outputs": [],
   "source": [
    "x = np.array([1, 2, 3])\n",
    "\n",
    "# row vector to a matrix via reshape\n",
    "m = x.reshape((1, 3))\n",
    "m"
   ]
  },
  {
   "cell_type": "markdown",
   "metadata": {},
   "source": [
    "Here we reshape to an even higher dimension. This is a **vector** (single row) expressed as a **tensor** (3D matrix) "
   ]
  },
  {
   "cell_type": "code",
   "execution_count": null,
   "metadata": {},
   "outputs": [],
   "source": [
    "# reshape to a tensor!\n",
    "t = x.reshape((3, 1, 1))\n",
    "t"
   ]
  },
  {
   "cell_type": "markdown",
   "metadata": {},
   "source": [
    "How do we undo this *unfolding*? With NumPy's `squeeze()` API:"
   ]
  },
  {
   "cell_type": "code",
   "execution_count": null,
   "metadata": {},
   "outputs": [],
   "source": [
    "np.squeeze(m, axis=0)"
   ]
  },
  {
   "cell_type": "code",
   "execution_count": null,
   "metadata": {},
   "outputs": [],
   "source": [
    "np.squeeze(m)"
   ]
  },
  {
   "cell_type": "code",
   "execution_count": null,
   "metadata": {},
   "outputs": [],
   "source": [
    "np.squeeze(t, axis=1)"
   ]
  },
  {
   "cell_type": "code",
   "execution_count": null,
   "metadata": {},
   "outputs": [],
   "source": [
    "np.squeeze(np.squeeze(t, axis=1), axis=1)"
   ]
  },
  {
   "cell_type": "code",
   "execution_count": null,
   "metadata": {},
   "outputs": [],
   "source": [
    "np.squeeze(np.squeeze(t))"
   ]
  },
  {
   "cell_type": "code",
   "execution_count": 92,
   "metadata": {},
   "outputs": [
    {
     "data": {
      "text/plain": [
       "array([[[[[  1,   2,   3,   4,   5],\n",
       "          [  6,   7,   8,   9,  10],\n",
       "          [ 11,  12,  13,  14,  15],\n",
       "          [ 16,  17,  18,  19,  20],\n",
       "          [ 21,  22,  23,  24,  25]],\n",
       "\n",
       "         [[ 26,  27,  28,  29,  30],\n",
       "          [ 31,  32,  33,  34,  35],\n",
       "          [ 36,  37,  38,  39,  40],\n",
       "          [ 41,  42,  43,  44,  45],\n",
       "          [ 46,  47,  48,  49,  50]],\n",
       "\n",
       "         [[ 51,  52,  53,  54,  55],\n",
       "          [ 56,  57,  58,  59,  60],\n",
       "          [ 61,  62,  63,  64,  65],\n",
       "          [ 66,  67,  68,  69,  70],\n",
       "          [ 71,  72,  73,  74,  75]],\n",
       "\n",
       "         [[ 76,  77,  78,  79,  80],\n",
       "          [ 81,  82,  83,  84,  85],\n",
       "          [ 86,  87,  88,  89,  90],\n",
       "          [ 91,  92,  93,  94,  95],\n",
       "          [ 96,  97,  98,  99, 100]],\n",
       "\n",
       "         [[101, 102, 103, 104, 105],\n",
       "          [106, 107, 108, 109, 110],\n",
       "          [111, 112, 113, 114, 115],\n",
       "          [116, 117, 118, 119, 120],\n",
       "          [121, 122, 123, 124, 125]]],\n",
       "\n",
       "\n",
       "        [[[126, 127, 128, 129, 130],\n",
       "          [131, 132, 133, 134, 135],\n",
       "          [136, 137, 138, 139, 140],\n",
       "          [141, 142, 143, 144, 145],\n",
       "          [146, 147, 148, 149, 150]],\n",
       "\n",
       "         [[151, 152, 153, 154, 155],\n",
       "          [156, 157, 158, 159, 160],\n",
       "          [161, 162, 163, 164, 165],\n",
       "          [166, 167, 168, 169, 170],\n",
       "          [171, 172, 173, 174, 175]],\n",
       "\n",
       "         [[176, 177, 178, 179, 180],\n",
       "          [181, 182, 183, 184, 185],\n",
       "          [186, 187, 188, 189, 190],\n",
       "          [191, 192, 193, 194, 195],\n",
       "          [196, 197, 198, 199, 200]],\n",
       "\n",
       "         [[201, 202, 203, 204, 205],\n",
       "          [206, 207, 208, 209, 210],\n",
       "          [211, 212, 213, 214, 215],\n",
       "          [216, 217, 218, 219, 220],\n",
       "          [221, 222, 223, 224, 225]],\n",
       "\n",
       "         [[226, 227, 228, 229, 230],\n",
       "          [231, 232, 233, 234, 235],\n",
       "          [236, 237, 238, 239, 240],\n",
       "          [241, 242, 243, 244, 245],\n",
       "          [246, 247, 248, 249, 250]]],\n",
       "\n",
       "\n",
       "        [[[251, 252, 253, 254, 255],\n",
       "          [256, 257, 258, 259, 260],\n",
       "          [261, 262, 263, 264, 265],\n",
       "          [266, 267, 268, 269, 270],\n",
       "          [271, 272, 273, 274, 275]],\n",
       "\n",
       "         [[276, 277, 278, 279, 280],\n",
       "          [281, 282, 283, 284, 285],\n",
       "          [286, 287, 288, 289, 290],\n",
       "          [291, 292, 293, 294, 295],\n",
       "          [296, 297, 298, 299, 300]],\n",
       "\n",
       "         [[301, 302, 303, 304, 305],\n",
       "          [306, 307, 308, 309, 310],\n",
       "          [311, 312, 313, 314, 315],\n",
       "          [316, 317, 318, 319, 320],\n",
       "          [321, 322, 323, 324, 325]],\n",
       "\n",
       "         [[326, 327, 328, 329, 330],\n",
       "          [331, 332, 333, 334, 335],\n",
       "          [336, 337, 338, 339, 340],\n",
       "          [341, 342, 343, 344, 345],\n",
       "          [346, 347, 348, 349, 350]],\n",
       "\n",
       "         [[351, 352, 353, 354, 355],\n",
       "          [356, 357, 358, 359, 360],\n",
       "          [361, 362, 363, 364, 365],\n",
       "          [366, 367, 368, 369, 370],\n",
       "          [371, 372, 373, 374, 375]]],\n",
       "\n",
       "\n",
       "        [[[376, 377, 378, 379, 380],\n",
       "          [381, 382, 383, 384, 385],\n",
       "          [386, 387, 388, 389, 390],\n",
       "          [391, 392, 393, 394, 395],\n",
       "          [396, 397, 398, 399, 400]],\n",
       "\n",
       "         [[401, 402, 403, 404, 405],\n",
       "          [406, 407, 408, 409, 410],\n",
       "          [411, 412, 413, 414, 415],\n",
       "          [416, 417, 418, 419, 420],\n",
       "          [421, 422, 423, 424, 425]],\n",
       "\n",
       "         [[426, 427, 428, 429, 430],\n",
       "          [431, 432, 433, 434, 435],\n",
       "          [436, 437, 438, 439, 440],\n",
       "          [441, 442, 443, 444, 445],\n",
       "          [446, 447, 448, 449, 450]],\n",
       "\n",
       "         [[451, 452, 453, 454, 455],\n",
       "          [456, 457, 458, 459, 460],\n",
       "          [461, 462, 463, 464, 465],\n",
       "          [466, 467, 468, 469, 470],\n",
       "          [471, 472, 473, 474, 475]],\n",
       "\n",
       "         [[476, 477, 478, 479, 480],\n",
       "          [481, 482, 483, 484, 485],\n",
       "          [486, 487, 488, 489, 490],\n",
       "          [491, 492, 493, 494, 495],\n",
       "          [496, 497, 498, 499, 500]]],\n",
       "\n",
       "\n",
       "        [[[501, 502, 503, 504, 505],\n",
       "          [506, 507, 508, 509, 510],\n",
       "          [511, 512, 513, 514, 515],\n",
       "          [516, 517, 518, 519, 520],\n",
       "          [521, 522, 523, 524, 525]],\n",
       "\n",
       "         [[526, 527, 528, 529, 530],\n",
       "          [531, 532, 533, 534, 535],\n",
       "          [536, 537, 538, 539, 540],\n",
       "          [541, 542, 543, 544, 545],\n",
       "          [546, 547, 548, 549, 550]],\n",
       "\n",
       "         [[551, 552, 553, 554, 555],\n",
       "          [556, 557, 558, 559, 560],\n",
       "          [561, 562, 563, 564, 565],\n",
       "          [566, 567, 568, 569, 570],\n",
       "          [571, 572, 573, 574, 575]],\n",
       "\n",
       "         [[576, 577, 578, 579, 580],\n",
       "          [581, 582, 583, 584, 585],\n",
       "          [586, 587, 588, 589, 590],\n",
       "          [591, 592, 593, 594, 595],\n",
       "          [596, 597, 598, 599, 600]],\n",
       "\n",
       "         [[601, 602, 603, 604, 605],\n",
       "          [606, 607, 608, 609, 610],\n",
       "          [611, 612, 613, 614, 615],\n",
       "          [616, 617, 618, 619, 620],\n",
       "          [621, 622, 623, 624, 625]]]]])"
      ]
     },
     "execution_count": 92,
     "metadata": {},
     "output_type": "execute_result"
    }
   ],
   "source": [
    "grid = np.arange(1, 626).reshape((1, 5, 5, 5, 5))\n",
    "grid"
   ]
  },
  {
   "cell_type": "markdown",
   "metadata": {},
   "source": [
    "Any time you see a `1` in the number of elements of one of the dimensions, it means that we are doing an embedding of a lower-dimensional object into a higher-dimensional space. Like, imagine taking a flat human and putting that flat human into 3D space. If you look at him on his side and look at the resulting shape, there will only be a single coordinate for any point describing that shape, and you can't really see a single point, so the flat human becomes invisible!\n",
    "\n",
    "## Array Concatenation and Splitting\n",
    "\n",
    "All of the preceding routines worked on single arrays. It's also possible to combine multiple arrays into one, and to conversely split a single array into multiple arrays."
   ]
  },
  {
   "cell_type": "markdown",
   "metadata": {},
   "source": [
    "### Concatenation of arrays\n",
    "\n",
    "**Concatenation**, or joining of two arrays in NumPy, is primarily accomplished using the routines ``np.concatenate``, ``np.vstack``, and ``np.hstack``.\n",
    "``np.concatenate`` takes a tuple or list of arrays as its first argument, as we can see here:"
   ]
  },
  {
   "cell_type": "code",
   "execution_count": 93,
   "metadata": {},
   "outputs": [
    {
     "data": {
      "text/plain": [
       "array([1, 2, 3, 3, 2, 1])"
      ]
     },
     "execution_count": 93,
     "metadata": {},
     "output_type": "execute_result"
    }
   ],
   "source": [
    "x = np.array([1, 2, 3])\n",
    "y = np.array([3, 2, 1])\n",
    "np.concatenate([x, y])"
   ]
  },
  {
   "cell_type": "markdown",
   "metadata": {},
   "source": [
    "It can also be used for two-dimensional arrays:"
   ]
  },
  {
   "cell_type": "code",
   "execution_count": 94,
   "metadata": {},
   "outputs": [],
   "source": [
    "grid = np.array([[1, 2, 3],\n",
    "                 [4, 5, 6]])"
   ]
  },
  {
   "cell_type": "code",
   "execution_count": 98,
   "metadata": {},
   "outputs": [
    {
     "data": {
      "text/plain": [
       "array([[1, 2, 3],\n",
       "       [4, 5, 6],\n",
       "       [1, 2, 3],\n",
       "       [4, 5, 6]])"
      ]
     },
     "execution_count": 98,
     "metadata": {},
     "output_type": "execute_result"
    }
   ],
   "source": [
    "# concatenate along the first axis\n",
    "np.concatenate([grid, grid])"
   ]
  },
  {
   "cell_type": "code",
   "execution_count": 97,
   "metadata": {},
   "outputs": [
    {
     "data": {
      "text/plain": [
       "array([[1, 2, 3, 1, 2, 3],\n",
       "       [4, 5, 6, 4, 5, 6]])"
      ]
     },
     "execution_count": 97,
     "metadata": {},
     "output_type": "execute_result"
    }
   ],
   "source": [
    "# concatenate along the second axis (zero-indexed)\n",
    "np.concatenate([grid, grid], axis=1)"
   ]
  },
  {
   "cell_type": "markdown",
   "metadata": {},
   "source": [
    "### Splitting of arrays\n",
    "\n",
    "The opposite of concatenation is **splitting**, which is implemented by the functions ``np.split``, ``np.hsplit``, and ``np.vsplit``.  For each of these, we can pass a list of indices giving the split points:"
   ]
  },
  {
   "cell_type": "code",
   "execution_count": 75,
   "metadata": {},
   "outputs": [
    {
     "name": "stdout",
     "output_type": "stream",
     "text": [
      "[1 2 3] [99 99] [3 2 1]\n"
     ]
    }
   ],
   "source": [
    "x = [1, 2, 3, 99, 99, 3, 2, 1]\n",
    "x1, x2, x3 = np.split(x, [3, 5])\n",
    "print(x1, x2, x3)"
   ]
  },
  {
   "cell_type": "markdown",
   "metadata": {},
   "source": [
    "## Finding maximum element\n",
    "\n",
    "The `numpy.argmax(a, axis=None, out=None)` function returns the indices of the\n",
    "maximum values along an axis.\n",
    "In a 2d array, we can easily obtain the index of the maximum value as follows:"
   ]
  },
  {
   "cell_type": "code",
   "execution_count": 100,
   "metadata": {},
   "outputs": [
    {
     "data": {
      "text/plain": [
       "array([[1, 2, 3],\n",
       "       [4, 5, 6]])"
      ]
     },
     "execution_count": 100,
     "metadata": {},
     "output_type": "execute_result"
    }
   ],
   "source": [
    "array = (\n",
    "        np.array([[1,2,3],\n",
    "                  [4,5,6]])\n",
    ")\n",
    "array"
   ]
  },
  {
   "cell_type": "code",
   "execution_count": 101,
   "metadata": {},
   "outputs": [
    {
     "data": {
      "text/plain": [
       "5"
      ]
     },
     "execution_count": 101,
     "metadata": {},
     "output_type": "execute_result"
    }
   ],
   "source": [
    "# numpy array\n",
    "array = np.array([[1,2,3], [4,5,6]])\n",
    "\n",
    "# index of maximum value\n",
    "max_pos = np.argmax(array)\n",
    "max_pos\n",
    "#5"
   ]
  },
  {
   "cell_type": "code",
   "execution_count": 43,
   "metadata": {},
   "outputs": [
    {
     "data": {
      "text/plain": [
       "6"
      ]
     },
     "execution_count": 43,
     "metadata": {},
     "output_type": "execute_result"
    }
   ],
   "source": [
    "array.reshape(6)[5]"
   ]
  },
  {
   "cell_type": "markdown",
   "metadata": {},
   "source": [
    "The `argmax` operator is used a lot in ML.\n",
    "\n",
    "We can obtain the indeces of maximum values along a specified axis, providing 0 or 1 to the axis attribute"
   ]
  },
  {
   "cell_type": "code",
   "execution_count": null,
   "metadata": {},
   "outputs": [],
   "source": [
    "# numpy array\n",
    "array = np.array([[1,2,3],[4,5,6]])\n",
    "\n",
    "# index of maximum value along axis 0\n",
    "max_pos_0 = np.argmax(array, axis=0)\n",
    "print(max_pos_0)\n",
    "# array([1, 1, 1], dtype=int64)\n",
    "\n",
    "# index of maximum value along axis 1\n",
    "max_pos_1 = np.argmax(array, axis=1)\n",
    "max_pos_1\n",
    "# array([2, 2], dtype=int64)"
   ]
  },
  {
   "cell_type": "markdown",
   "metadata": {},
   "source": [
    "## Plotting with matplotlib\n",
    "\n",
    "Cannot do data science without ***plotting***!"
   ]
  },
  {
   "cell_type": "code",
   "execution_count": 6,
   "metadata": {},
   "outputs": [
    {
     "data": {
      "image/png": "[encoded data removed]",
      "text/plain": [
       "<Figure size 432x288 with 1 Axes>"
      ]
     },
     "metadata": {
      "needs_background": "light"
     },
     "output_type": "display_data"
    }
   ],
   "source": [
    "import numpy as np\n",
    "import matplotlib.pyplot as plt\n",
    "%matplotlib inline\n",
    "\n",
    "x = np.linspace(0,10,300)\n",
    "y = np.cos(x)\n",
    "myplot = plt.plot(x,y)"
   ]
  },
  {
   "cell_type": "code",
   "execution_count": 23,
   "metadata": {},
   "outputs": [
    {
     "data": {
      "text/plain": [
       "<matplotlib.colorbar.Colorbar at 0x27962e22550>"
      ]
     },
     "execution_count": 23,
     "metadata": {},
     "output_type": "execute_result"
    },
    {
     "data": {
      "image/png": "[encoded data removed]",
      "text/plain": [
       "<Figure size 432x288 with 2 Axes>"
      ]
     },
     "metadata": {
      "needs_background": "light"
     },
     "output_type": "display_data"
    }
   ],
   "source": [
    "points = np.arange(-50,50,0.01)\n",
    "x, y = np.meshgrid(points, points)\n",
    "z = np.cos(x**2 + y**2)\n",
    "plt.imshow(z, cmap = plt.cm.gray); plt.colorbar()"
   ]
  },
  {
   "cell_type": "markdown",
   "metadata": {},
   "source": [
    "## Operation profiling"
   ]
  },
  {
   "cell_type": "code",
   "execution_count": 89,
   "metadata": {},
   "outputs": [
    {
     "data": {
      "text/plain": [
       "array([[1, 2],\n",
       "       [3, 4]])"
      ]
     },
     "execution_count": 89,
     "metadata": {},
     "output_type": "execute_result"
    }
   ],
   "source": [
    "np.array('1,2,3,4')\n",
    "np.array(np.mat('1,2; 3,4'))"
   ]
  },
  {
   "cell_type": "code",
   "execution_count": 79,
   "metadata": {},
   "outputs": [
    {
     "name": "stdout",
     "output_type": "stream",
     "text": [
      "Wall time: 78.3 ms\n"
     ]
    }
   ],
   "source": [
    "%time for _ in range(1000000): 2 + 2"
   ]
  },
  {
   "cell_type": "code",
   "execution_count": 58,
   "metadata": {},
   "outputs": [
    {
     "name": "stderr",
     "output_type": "stream",
     "text": [
      "UsageError: %%time is a cell magic, but the cell body is empty. Did you mean the line magic %time (single %)?\n"
     ]
    }
   ],
   "source": [
    "%time for _ in range(1000000): a = 2 + 2"
   ]
  },
  {
   "cell_type": "code",
   "execution_count": 24,
   "metadata": {},
   "outputs": [
    {
     "name": "stdout",
     "output_type": "stream",
     "text": [
      "Wall time: 33.2 ms\n",
      "Wall time: 2.39 s\n"
     ]
    }
   ],
   "source": [
    "myarr = np.arange(1000000)\n",
    "mylist = range(1000000)\n",
    "%time for _ in range(10): myarr = myarr * 2\n",
    "%time for _ in range(10): [x * 2 for x in mylist]"
   ]
  },
  {
   "cell_type": "markdown",
   "metadata": {},
   "source": [
    "## Random arrays\n",
    "\n",
    "*Sooooooo* useful!"
   ]
  },
  {
   "cell_type": "code",
   "execution_count": 25,
   "metadata": {},
   "outputs": [
    {
     "data": {
      "text/plain": [
       "array([[1, 2, 3],\n",
       "       [4, 5, 6],\n",
       "       [7, 8, 9]])"
      ]
     },
     "execution_count": 25,
     "metadata": {},
     "output_type": "execute_result"
    }
   ],
   "source": [
    "myarray = np.array([[1,2,3], [4,5,6], [7,8,9]])\n",
    "myarray"
   ]
  },
  {
   "cell_type": "code",
   "execution_count": 7,
   "metadata": {},
   "outputs": [
    {
     "data": {
      "text/plain": [
       "array([[[0.65279032, 0.63505887, 0.99529957, 0.58185033],\n",
       "        [0.41436859, 0.4746975 , 0.6235101 , 0.33800761],\n",
       "        [0.67475232, 0.31720174, 0.77834548, 0.94957105],\n",
       "        [0.66252687, 0.01357164, 0.6228461 , 0.67365963]],\n",
       "\n",
       "       [[0.971945  , 0.87819347, 0.50962438, 0.05571469],\n",
       "        [0.45115921, 0.01998767, 0.44171092, 0.97958673],\n",
       "        [0.35944446, 0.48089353, 0.68866118, 0.88047589],\n",
       "        [0.91823547, 0.21682214, 0.56518887, 0.86510256]],\n",
       "\n",
       "       [[0.50896896, 0.91672295, 0.92115761, 0.08311249],\n",
       "        [0.27771856, 0.0093567 , 0.84234208, 0.64717414],\n",
       "        [0.84138612, 0.26473016, 0.39782075, 0.55282148],\n",
       "        [0.16494046, 0.36980809, 0.14644176, 0.56961841]],\n",
       "\n",
       "       [[0.70373728, 0.28847644, 0.43328806, 0.75610669],\n",
       "        [0.39609828, 0.89603839, 0.63892108, 0.89155444],\n",
       "        [0.68005557, 0.44919774, 0.97857093, 0.11620191],\n",
       "        [0.7670237 , 0.41182014, 0.67543908, 0.24979628]]])"
      ]
     },
     "execution_count": 7,
     "metadata": {},
     "output_type": "execute_result"
    }
   ],
   "source": [
    "data = np.random.rand(4,4,4)\n",
    "data"
   ]
  },
  {
   "cell_type": "markdown",
   "metadata": {},
   "source": [
    "## Boolean indexing:"
   ]
  },
  {
   "cell_type": "code",
   "execution_count": null,
   "metadata": {},
   "outputs": [],
   "source": [
    "names = np.array([1, 'foo'])\n",
    "type(names[0])"
   ]
  },
  {
   "cell_type": "code",
   "execution_count": 2,
   "metadata": {},
   "outputs": [
    {
     "name": "stdout",
     "output_type": "stream",
     "text": [
      "[ True False False False False]\n"
     ]
    }
   ],
   "source": [
    "names = np.array(['Pratiksha', 'dino', 'Xinlin', \"Tianqi\", \"Pranshu\"])\n",
    "print(names == 'Pratiksha')"
   ]
  },
  {
   "cell_type": "code",
   "execution_count": 6,
   "metadata": {},
   "outputs": [
    {
     "data": {
      "text/plain": [
       "array([[0.971945  , 0.87819347, 0.50962438, 0.05571469, 0.45115921],\n",
       "       [0.01998767, 0.44171092, 0.97958673, 0.35944446, 0.48089353],\n",
       "       [0.68866118, 0.88047589, 0.91823547, 0.21682214, 0.56518887],\n",
       "       [0.86510256, 0.50896896, 0.91672295, 0.92115761, 0.08311249],\n",
       "       [0.27771856, 0.0093567 , 0.84234208, 0.64717414, 0.84138612]])"
      ]
     },
     "execution_count": 6,
     "metadata": {},
     "output_type": "execute_result"
    }
   ],
   "source": [
    "data = np.random.rand(5,5)\n",
    "data"
   ]
  },
  {
   "cell_type": "code",
   "execution_count": 7,
   "metadata": {},
   "outputs": [
    {
     "data": {
      "text/plain": [
       "array([[0.971945  , 0.87819347, 0.50962438, 0.05571469, 0.45115921]])"
      ]
     },
     "execution_count": 7,
     "metadata": {},
     "output_type": "execute_result"
    }
   ],
   "source": [
    "data[names == 'Pratiksha']"
   ]
  },
  {
   "cell_type": "code",
   "execution_count": null,
   "metadata": {},
   "outputs": [],
   "source": [
    "arr = np.arange(32).reshape(8,4)\n",
    "arr"
   ]
  },
  {
   "cell_type": "markdown",
   "metadata": {},
   "source": [
    "## Beginner Linear Algebra\n",
    "\n",
    "This is just a quick *appetizer*..."
   ]
  },
  {
   "cell_type": "code",
   "execution_count": 53,
   "metadata": {},
   "outputs": [
    {
     "data": {
      "text/plain": [
       "array([[-0.82346757, -1.27974266,  0.19533102, -0.78674108],\n",
       "       [-0.78160973,  0.48882429,  1.26346975, -0.87768783],\n",
       "       [ 0.90414627,  0.41658658, -0.42753484,  0.04922545],\n",
       "       [ 1.63421412,  0.10978166, -0.04608699, -0.49768921]])"
      ]
     },
     "execution_count": 53,
     "metadata": {},
     "output_type": "execute_result"
    }
   ],
   "source": [
    "from numpy.linalg import inv\n",
    "X = np.random.randn(4,4)\n",
    "X"
   ]
  },
  {
   "cell_type": "code",
   "execution_count": 54,
   "metadata": {},
   "outputs": [
    {
     "data": {
      "text/plain": [
       "array([[-0.33347784, -0.24371971, -0.96547368,  0.86147068],\n",
       "       [-0.07112602,  0.56321326,  1.7086672 , -0.71180518],\n",
       "       [-0.89290342, -0.04399452, -3.00542682,  1.19181561],\n",
       "       [-1.02801364, -0.67196982, -2.51502202,  0.55206581]])"
      ]
     },
     "execution_count": 54,
     "metadata": {},
     "output_type": "execute_result"
    }
   ],
   "source": [
    "Y = inv(X)\n",
    "Y"
   ]
  },
  {
   "cell_type": "code",
   "execution_count": 55,
   "metadata": {},
   "outputs": [
    {
     "data": {
      "text/plain": [
       "array([[ 1.00000000e+00, -5.55111512e-17, -8.32667268e-17,\n",
       "        -5.55111512e-17],\n",
       "       [-1.11022302e-16,  1.00000000e+00, -4.44089210e-16,\n",
       "         0.00000000e+00],\n",
       "       [ 1.38777878e-17,  5.55111512e-17,  1.00000000e+00,\n",
       "         0.00000000e+00],\n",
       "       [ 0.00000000e+00,  0.00000000e+00,  0.00000000e+00,\n",
       "         1.00000000e+00]])"
      ]
     },
     "execution_count": 55,
     "metadata": {},
     "output_type": "execute_result"
    }
   ],
   "source": [
    "X @ Y"
   ]
  },
  {
   "cell_type": "markdown",
   "metadata": {},
   "source": [
    "## Introduction to statistics with NumPy\n",
    "\n",
    "The `numpy.histogram(a, bins=10, range=None, normed=None, weights=None,\n",
    "density=None)` computes the [histogram](https://en.wikipedia.org/wiki/Histogram) of a set of data. \n",
    "\n",
    "The function returns 2 values:\n",
    "- the frequency count\n",
    "- the bin edges\n",
    "\n",
    ">Example\n",
    "The following data frame contains the height of 5000 men. We create a histogram plot,\n",
    "passing kind=’hist’ to the plot method.\n"
   ]
  },
  {
   "cell_type": "markdown",
   "metadata": {},
   "source": [
    "# Numpy *'Objects'*"
   ]
  },
  {
   "cell_type": "code",
   "execution_count": 117,
   "metadata": {},
   "outputs": [],
   "source": [
    "class Human(object):\n",
    "    # A class attribute. It is shared by all instances of this class\n",
    "    species = \"H. sapiens\"\n",
    "\n",
    "    def __init__(self, name):\n",
    "        # Assign the argument to the instance's name attribute\n",
    "        self.name = name\n",
    "\n",
    "        # Initialize property\n",
    "        self.age = 0\n",
    "        \n",
    "    def say(self, msg):\n",
    "        return \"{0}: {1}\".format(self.name, msg)"
   ]
  },
  {
   "cell_type": "code",
   "execution_count": 116,
   "metadata": {},
   "outputs": [
    {
     "data": {
      "text/plain": [
       "array([<__main__.Human object at 0x0000015A26A38EB8>,\n",
       "       <__main__.Human object at 0x0000015A26A38CC0>], dtype=object)"
      ]
     },
     "execution_count": 116,
     "metadata": {},
     "output_type": "execute_result"
    }
   ],
   "source": [
    "a = Human(\"Dino\")\n",
    "b = Human(\"Elon\")\n",
    "c = np.array([a, b])\n",
    "c"
   ]
  },
  {
   "cell_type": "markdown",
   "metadata": {},
   "source": [
    "# 2. Incredibly useful Numpy APIs\n",
    "The `numpy.linspace(start, stop, num=50, endpoint=True, retstep=False, dtype=None, axis=0)` function returns evenly spaced numbers over a specified interval defined by the first two arguments of the function (`start` and `stop` — required arguments). The number of samples generated is specified by the third argument `num`.\n",
    "\n",
    "If omitted, 50 samples are generated. One important thing to bear in mind while working with this function is that the stop element is provided in the returned array (by default` endpoint=True`), unlike in the built-in python function `range`."
   ]
  },
  {
   "cell_type": "code",
   "execution_count": 8,
   "metadata": {},
   "outputs": [
    {
     "data": {
      "text/plain": [
       "array([ 0.,  1.,  2.,  3.,  4.,  5.,  6.,  7.,  8.,  9., 10.])"
      ]
     },
     "execution_count": 8,
     "metadata": {},
     "output_type": "execute_result"
    }
   ],
   "source": [
    "# array with 11 elements, last element included\n",
    "np.linspace(0, 10, 11)\n",
    "# array([ 0., 1., 2., 3., 4., 5., 6., 7., 8., 9., 10.])"
   ]
  },
  {
   "cell_type": "code",
   "execution_count": 9,
   "metadata": {},
   "outputs": [
    {
     "data": {
      "text/plain": [
       "array([0.        , 0.90909091, 1.81818182, 2.72727273, 3.63636364,\n",
       "       4.54545455, 5.45454545, 6.36363636, 7.27272727, 8.18181818,\n",
       "       9.09090909])"
      ]
     },
     "execution_count": 9,
     "metadata": {},
     "output_type": "execute_result"
    }
   ],
   "source": [
    "# array with 11 elements, last element not included\n",
    "np.linspace(0, 10, 11,endpoint=False)\n",
    "# array([0., 0.90909091, 1.81818182, 2.72727273, 3.63636364,4.54545455, 5.45454545, 6.36363636, 7..."
   ]
  },
  {
   "cell_type": "markdown",
   "metadata": {},
   "source": [
    "`Linspace` can be used to generate evenly spaced samples for the x-axis:"
   ]
  },
  {
   "cell_type": "code",
   "execution_count": 81,
   "metadata": {},
   "outputs": [
    {
     "name": "stderr",
     "output_type": "stream",
     "text": [
      "d:\\Anaconda3.5.1\\lib\\site-packages\\ipykernel_launcher.py:4: RuntimeWarning: divide by zero encountered in log\n",
      "  after removing the cwd from sys.path.\n"
     ]
    },
    {
     "data": {
      "image/png": "[encoded data removed]",
      "text/plain": [
       "<Figure size 792x792 with 4 Axes>"
      ]
     },
     "metadata": {
      "needs_background": "light"
     },
     "output_type": "display_data"
    }
   ],
   "source": [
    "# X-axis linspace function 111 points from 0 to 100\n",
    "x = np.linspace(0, 100, 111)\n",
    "# Compute for mathematical functions - sine, cosine, exponential, and logarithmic functions\n",
    "functions = [np.sin(x), np.cos(x), np.exp(x), np.log(x)]\n",
    "titles = ['Sine function', 'Cosine function', 'Exponential function', 'Logarithmic function']\n",
    "\n",
    "# Plot the functions\n",
    "plt.figure(figsize=(11,11))\n",
    "for index,function in enumerate(functions):\n",
    "    plt.subplot(2, 2, index+1)\n",
    "    plt.plot(x,function)\n",
    "    plt.title(titles[index],fontsize=16)"
   ]
  },
  {
   "cell_type": "markdown",
   "metadata": {},
   "source": [
    "`numpy.digitize` can be really useful working with continuous spaces in reinforcement learning. The `numpy.digitize(x, bins, right=False)` function has two arguments: (1) an input array `x`, and (2) an array of `bins`, returning the indices of the bins to which each value in input array belongs:"
   ]
  },
  {
   "cell_type": "code",
   "execution_count": 12,
   "metadata": {},
   "outputs": [
    {
     "data": {
      "text/plain": [
       "array([1], dtype=int64)"
      ]
     },
     "execution_count": 12,
     "metadata": {},
     "output_type": "execute_result"
    }
   ],
   "source": [
    "# Input array\n",
    "x = np.array([0.5])\n",
    "\n",
    "# Bins - 5 bins in total\n",
    "bins = np.array([0,1,2,3])\n",
    "\n",
    "# Digitize function - 0.5 belong to the bin 0<= 0.5 <1 - therefore returned index 1\n",
    "np.digitize(x, bins)\n",
    "# array([1], dtype=int64)"
   ]
  },
  {
   "cell_type": "code",
   "execution_count": 13,
   "metadata": {},
   "outputs": [
    {
     "data": {
      "text/plain": [
       "array([0, 2, 4], dtype=int64)"
      ]
     },
     "execution_count": 13,
     "metadata": {},
     "output_type": "execute_result"
    }
   ],
   "source": [
    "# The input array can contain several inputs\n",
    "x = np.array([-0.5,1,3.5])\n",
    "\n",
    "# Digitize function\n",
    "np.digitize(x, bins)\n",
    "# array([0, 2, 4], dtype=int64)"
   ]
  },
  {
   "cell_type": "markdown",
   "metadata": {},
   "source": [
    "In the code above, we have 5 bins in total:\n",
    "- x < 0 → Index 0\n",
    "- 0≤ x < 1 → Index 1\n",
    "- 1≤ x < 2 → Index 2\n",
    "- 2≤ x < 3 → Index 3\n",
    "- 3≤ x → Index 4\n",
    "\n",
    "Therefore, if we provide as an input 0.5, the function returns 1, since that is the index of the bin to which 0.5 belongs.\n",
    "\n",
    "Discretization allows us to apply algorithms designed for discrete spaces such as `Sarsa`, to continuous spaces."
   ]
  },
  {
   "cell_type": "code",
   "execution_count": 15,
   "metadata": {},
   "outputs": [
    {
     "name": "stdout",
     "output_type": "stream",
     "text": [
      "(2, 1)\n",
      "(4, 0)\n"
     ]
    }
   ],
   "source": [
    "def discretize(location, grid):\n",
    "    return tuple(int(np.digitize(l, g)) for l, g in zip(location, grid))\n",
    "\n",
    "# grid - bins - we will consider any value lower than 1 bin 0 and any value larger than 4 bin 4\n",
    "grid = [np.array([1,2,3,4]),np.array([1,2,3,4])]\n",
    "\n",
    "location =[2.5,1.2]\n",
    "print(discretize(location,grid))\n",
    "# (2, 1)\n",
    "\n",
    "location =[4.5,0.2]\n",
    "print(discretize(location,grid))\n",
    "# (4, 0)"
   ]
  },
  {
   "cell_type": "markdown",
   "metadata": {},
   "source": [
    "We can simulate a wide variety of **statistical distributions** by using **numpy** such as `normal`, `beta`, `binomial`, `uniform`, `gamma`, or `poisson` distributions. We will study these distributions when we start our lectures on statistics.\n",
    "\n",
    "The `numpy.random.binomial(n, p, size=None)` draws samples from a **binomial distribution**. The binomial distribution is used when there are two mutually exclusive outcomes, providing the number of successes of n trials with a probability of success on a single trial p:"
   ]
  },
  {
   "cell_type": "code",
   "execution_count": 53,
   "metadata": {},
   "outputs": [
    {
     "data": {
      "text/plain": [
       "4"
      ]
     },
     "execution_count": 53,
     "metadata": {},
     "output_type": "execute_result"
    }
   ],
   "source": [
    "# number of successes (number of heads) in 10 coin flips\n",
    "np.random.binomial(10, 0.5)\n",
    "#3"
   ]
  },
  {
   "cell_type": "code",
   "execution_count": 18,
   "metadata": {},
   "outputs": [
    {
     "data": {
      "text/plain": [
       "9"
      ]
     },
     "execution_count": 18,
     "metadata": {},
     "output_type": "execute_result"
    }
   ],
   "source": [
    "# number of successes (number of heads) in 10 coin flips - biased coin with a 0.8 probability of\n",
    "np.random.binomial(10,0.8)\n",
    "#7"
   ]
  },
  {
   "cell_type": "code",
   "execution_count": 19,
   "metadata": {},
   "outputs": [
    {
     "data": {
      "text/plain": [
       "0.20469"
      ]
     },
     "execution_count": 19,
     "metadata": {},
     "output_type": "execute_result"
    }
   ],
   "source": [
    "# we can obtain approximated probabilities by simulating a huge number of flips\n",
    "# probability of obtaining 4 head in 10 flips\n",
    "flips = np.random.binomial(10,0.5,size=int(1e6))\n",
    "(flips==4).mean()\n",
    "#0.2045"
   ]
  },
  {
   "cell_type": "markdown",
   "metadata": {},
   "source": [
    "The `numpy.polyfit(x, y, deg, rcond=None, full=False, w=None, cov=False)` function outputs a polynomial of degree deg that fits the points `(x,y)`, minimizing the square error.\n",
    "\n",
    "This function can be very useful in linear regression problems. Linear regression models the relationship between a dependent variable and an independent variable, obtaining a line that best fits the data:\n",
    "\n",
    "$$y = a + bx$$\n",
    "\n",
    "where $x$ is the independent variable, $y$ is the dependent variable, $b$ is the **slope**, and $a$ is the **intercept**. To obtain both coefficients $a$ and $b$, we can use the `numpy.polyfit` function as follows:"
   ]
  },
  {
   "cell_type": "code",
   "execution_count": 9,
   "metadata": {},
   "outputs": [
    {
     "data": {
      "text/html": [
       "<div>\n",
       "<style scoped>\n",
       "    .dataframe tbody tr th:only-of-type {\n",
       "        vertical-align: middle;\n",
       "    }\n",
       "\n",
       "    .dataframe tbody tr th {\n",
       "        vertical-align: top;\n",
       "    }\n",
       "\n",
       "    .dataframe thead th {\n",
       "        text-align: right;\n",
       "    }\n",
       "</style>\n",
       "<table border=\"1\" class=\"dataframe\">\n",
       "  <thead>\n",
       "    <tr style=\"text-align: right;\">\n",
       "      <th></th>\n",
       "      <th>Gender</th>\n",
       "      <th>Height</th>\n",
       "      <th>Weight</th>\n",
       "    </tr>\n",
       "  </thead>\n",
       "  <tbody>\n",
       "    <tr>\n",
       "      <th>0</th>\n",
       "      <td>Male</td>\n",
       "      <td>73.847017</td>\n",
       "      <td>241.893563</td>\n",
       "    </tr>\n",
       "    <tr>\n",
       "      <th>1</th>\n",
       "      <td>Male</td>\n",
       "      <td>68.781904</td>\n",
       "      <td>162.310473</td>\n",
       "    </tr>\n",
       "    <tr>\n",
       "      <th>2</th>\n",
       "      <td>Male</td>\n",
       "      <td>74.110105</td>\n",
       "      <td>212.740856</td>\n",
       "    </tr>\n",
       "    <tr>\n",
       "      <th>3</th>\n",
       "      <td>Male</td>\n",
       "      <td>71.730978</td>\n",
       "      <td>220.042470</td>\n",
       "    </tr>\n",
       "    <tr>\n",
       "      <th>4</th>\n",
       "      <td>Male</td>\n",
       "      <td>69.881796</td>\n",
       "      <td>206.349801</td>\n",
       "    </tr>\n",
       "  </tbody>\n",
       "</table>\n",
       "</div>"
      ],
      "text/plain": [
       "  Gender     Height      Weight\n",
       "0   Male  73.847017  241.893563\n",
       "1   Male  68.781904  162.310473\n",
       "2   Male  74.110105  212.740856\n",
       "3   Male  71.730978  220.042470\n",
       "4   Male  69.881796  206.349801"
      ]
     },
     "execution_count": 9,
     "metadata": {},
     "output_type": "execute_result"
    }
   ],
   "source": [
    "import pandas as pd\n",
    "\n",
    "# read csv file containing heights and weights\n",
    "df = pd.read_csv('data/weight-height.csv')\n",
    "\n",
    "# first 5 rows\n",
    "df.head()"
   ]
  },
  {
   "cell_type": "markdown",
   "metadata": {},
   "source": [
    "As we can observe, both variables present a linear relation:"
   ]
  },
  {
   "cell_type": "code",
   "execution_count": 59,
   "metadata": {},
   "outputs": [
    {
     "data": {
      "image/png": "[encoded data removed]",
      "text/plain": [
       "<Figure size 648x432 with 1 Axes>"
      ]
     },
     "metadata": {
      "needs_background": "light"
     },
     "output_type": "display_data"
    }
   ],
   "source": [
    "# relation between height and weight\n",
    "df.plot(kind='scatter', x='Height', y='Weight', color='blue',alpha=0.1, figsize=(9,6))\n",
    "\n",
    "# title, xlabel, and ylabel\n",
    "plt.title('Relationship between Height and Weight', size=24)\n",
    "plt.xlabel('Height (inches)', size=18)\n",
    "plt.ylabel('Weight (pounds)', size=18);"
   ]
  },
  {
   "cell_type": "markdown",
   "metadata": {},
   "source": [
    "We obtain the best-fit linear equation with the numpy.polyfit function in the following manner:"
   ]
  },
  {
   "cell_type": "code",
   "execution_count": 60,
   "metadata": {},
   "outputs": [
    {
     "data": {
      "text/plain": [
       "array([   7.71728764, -350.73719181])"
      ]
     },
     "execution_count": 60,
     "metadata": {},
     "output_type": "execute_result"
    }
   ],
   "source": [
    "# Polynomial coefficients.\n",
    "fit = np.polyfit(df.Height, df.Weight, 1)\n",
    "fit"
   ]
  },
  {
   "cell_type": "markdown",
   "metadata": {},
   "source": [
    "The function returns the slope (7.72) and intercept (-350.74) of the linear model. Now, we can employ the obtained model (y=5.96x-224.50) to predict the weight of a man (unseen data). This prediction can be obtained by using the `numpy.polyval` function."
   ]
  },
  {
   "cell_type": "code",
   "execution_count": 61,
   "metadata": {},
   "outputs": [
    {
     "data": {
      "text/plain": [
       "189.47294304284037"
      ]
     },
     "execution_count": 61,
     "metadata": {},
     "output_type": "execute_result"
    }
   ],
   "source": [
    "# Predict the weight - using the model weight=7.72*height - 350.74\n",
    "np.polyval(fit, 70)"
   ]
  },
  {
   "cell_type": "code",
   "execution_count": 62,
   "metadata": {},
   "outputs": [
    {
     "name": "stderr",
     "output_type": "stream",
     "text": [
      "C:\\Users\\Dino\\AppData\\Roaming\\Python\\Python36\\site-packages\\matplotlib\\cbook\\__init__.py:1402: FutureWarning: Support for multi-dimensional indexing (e.g. `obj[:, None]`) is deprecated and will be removed in a future version.  Convert to a numpy array before indexing instead.\n",
      "  x[:, None]\n",
      "C:\\Users\\Dino\\AppData\\Roaming\\Python\\Python36\\site-packages\\matplotlib\\axes\\_base.py:276: FutureWarning: Support for multi-dimensional indexing (e.g. `obj[:, None]`) is deprecated and will be removed in a future version.  Convert to a numpy array before indexing instead.\n",
      "  x = x[:, np.newaxis]\n",
      "C:\\Users\\Dino\\AppData\\Roaming\\Python\\Python36\\site-packages\\matplotlib\\axes\\_base.py:278: FutureWarning: Support for multi-dimensional indexing (e.g. `obj[:, None]`) is deprecated and will be removed in a future version.  Convert to a numpy array before indexing instead.\n",
      "  y = y[:, np.newaxis]\n"
     ]
    },
    {
     "data": {
      "text/plain": [
       "[<matplotlib.lines.Line2D at 0x279038211d0>,\n",
       " <matplotlib.lines.Line2D at 0x27903821390>]"
      ]
     },
     "execution_count": 62,
     "metadata": {},
     "output_type": "execute_result"
    },
    {
     "data": {
      "image/png": "[encoded data removed]",
      "text/plain": [
       "<Figure size 432x288 with 1 Axes>"
      ]
     },
     "metadata": {
      "needs_background": "light"
     },
     "output_type": "display_data"
    }
   ],
   "source": [
    "poly = np.poly1d(fit)\n",
    "\n",
    "new_x = df.Height\n",
    "new_y = poly(new_x)\n",
    "\n",
    "x = df.Height\n",
    "y = df.Weight\n",
    "plt.plot(x, y, \"o\", new_x, new_y)"
   ]
  },
  {
   "cell_type": "markdown",
   "metadata": {},
   "source": [
    "And what if the relationship is non-linear? Remember our `College` dataset from our R lecture? How did I know that there was a square relationship between two specific columns?"
   ]
  },
  {
   "cell_type": "code",
   "execution_count": 63,
   "metadata": {},
   "outputs": [
    {
     "data": {
      "text/html": [
       "<div>\n",
       "<style scoped>\n",
       "    .dataframe tbody tr th:only-of-type {\n",
       "        vertical-align: middle;\n",
       "    }\n",
       "\n",
       "    .dataframe tbody tr th {\n",
       "        vertical-align: top;\n",
       "    }\n",
       "\n",
       "    .dataframe thead th {\n",
       "        text-align: right;\n",
       "    }\n",
       "</style>\n",
       "<table border=\"1\" class=\"dataframe\">\n",
       "  <thead>\n",
       "    <tr style=\"text-align: right;\">\n",
       "      <th></th>\n",
       "      <th>Unnamed: 0</th>\n",
       "      <th>Private</th>\n",
       "      <th>Apps</th>\n",
       "      <th>Accept</th>\n",
       "      <th>Enroll</th>\n",
       "      <th>Top10perc</th>\n",
       "      <th>Top25perc</th>\n",
       "      <th>F.Undergrad</th>\n",
       "      <th>P.Undergrad</th>\n",
       "      <th>Outstate</th>\n",
       "      <th>Room.Board</th>\n",
       "      <th>Books</th>\n",
       "      <th>Personal</th>\n",
       "      <th>PhD</th>\n",
       "      <th>Terminal</th>\n",
       "      <th>S.F.Ratio</th>\n",
       "      <th>perc.alumni</th>\n",
       "      <th>Expend</th>\n",
       "      <th>Grad.Rate</th>\n",
       "    </tr>\n",
       "  </thead>\n",
       "  <tbody>\n",
       "    <tr>\n",
       "      <th>0</th>\n",
       "      <td>Abilene Christian University</td>\n",
       "      <td>Yes</td>\n",
       "      <td>1660</td>\n",
       "      <td>1232</td>\n",
       "      <td>721</td>\n",
       "      <td>23</td>\n",
       "      <td>52</td>\n",
       "      <td>2885</td>\n",
       "      <td>537</td>\n",
       "      <td>7440</td>\n",
       "      <td>3300</td>\n",
       "      <td>450</td>\n",
       "      <td>2200</td>\n",
       "      <td>70</td>\n",
       "      <td>78</td>\n",
       "      <td>18.1</td>\n",
       "      <td>12</td>\n",
       "      <td>7041</td>\n",
       "      <td>60</td>\n",
       "    </tr>\n",
       "    <tr>\n",
       "      <th>1</th>\n",
       "      <td>Adelphi University</td>\n",
       "      <td>Yes</td>\n",
       "      <td>2186</td>\n",
       "      <td>1924</td>\n",
       "      <td>512</td>\n",
       "      <td>16</td>\n",
       "      <td>29</td>\n",
       "      <td>2683</td>\n",
       "      <td>1227</td>\n",
       "      <td>12280</td>\n",
       "      <td>6450</td>\n",
       "      <td>750</td>\n",
       "      <td>1500</td>\n",
       "      <td>29</td>\n",
       "      <td>30</td>\n",
       "      <td>12.2</td>\n",
       "      <td>16</td>\n",
       "      <td>10527</td>\n",
       "      <td>56</td>\n",
       "    </tr>\n",
       "    <tr>\n",
       "      <th>2</th>\n",
       "      <td>Adrian College</td>\n",
       "      <td>Yes</td>\n",
       "      <td>1428</td>\n",
       "      <td>1097</td>\n",
       "      <td>336</td>\n",
       "      <td>22</td>\n",
       "      <td>50</td>\n",
       "      <td>1036</td>\n",
       "      <td>99</td>\n",
       "      <td>11250</td>\n",
       "      <td>3750</td>\n",
       "      <td>400</td>\n",
       "      <td>1165</td>\n",
       "      <td>53</td>\n",
       "      <td>66</td>\n",
       "      <td>12.9</td>\n",
       "      <td>30</td>\n",
       "      <td>8735</td>\n",
       "      <td>54</td>\n",
       "    </tr>\n",
       "    <tr>\n",
       "      <th>3</th>\n",
       "      <td>Agnes Scott College</td>\n",
       "      <td>Yes</td>\n",
       "      <td>417</td>\n",
       "      <td>349</td>\n",
       "      <td>137</td>\n",
       "      <td>60</td>\n",
       "      <td>89</td>\n",
       "      <td>510</td>\n",
       "      <td>63</td>\n",
       "      <td>12960</td>\n",
       "      <td>5450</td>\n",
       "      <td>450</td>\n",
       "      <td>875</td>\n",
       "      <td>92</td>\n",
       "      <td>97</td>\n",
       "      <td>7.7</td>\n",
       "      <td>37</td>\n",
       "      <td>19016</td>\n",
       "      <td>59</td>\n",
       "    </tr>\n",
       "    <tr>\n",
       "      <th>4</th>\n",
       "      <td>Alaska Pacific University</td>\n",
       "      <td>Yes</td>\n",
       "      <td>193</td>\n",
       "      <td>146</td>\n",
       "      <td>55</td>\n",
       "      <td>16</td>\n",
       "      <td>44</td>\n",
       "      <td>249</td>\n",
       "      <td>869</td>\n",
       "      <td>7560</td>\n",
       "      <td>4120</td>\n",
       "      <td>800</td>\n",
       "      <td>1500</td>\n",
       "      <td>76</td>\n",
       "      <td>72</td>\n",
       "      <td>11.9</td>\n",
       "      <td>2</td>\n",
       "      <td>10922</td>\n",
       "      <td>15</td>\n",
       "    </tr>\n",
       "  </tbody>\n",
       "</table>\n",
       "</div>"
      ],
      "text/plain": [
       "                     Unnamed: 0 Private  Apps  Accept  Enroll  Top10perc  \\\n",
       "0  Abilene Christian University     Yes  1660    1232     721         23   \n",
       "1            Adelphi University     Yes  2186    1924     512         16   \n",
       "2                Adrian College     Yes  1428    1097     336         22   \n",
       "3           Agnes Scott College     Yes   417     349     137         60   \n",
       "4     Alaska Pacific University     Yes   193     146      55         16   \n",
       "\n",
       "   Top25perc  F.Undergrad  P.Undergrad  Outstate  Room.Board  Books  Personal  \\\n",
       "0         52         2885          537      7440        3300    450      2200   \n",
       "1         29         2683         1227     12280        6450    750      1500   \n",
       "2         50         1036           99     11250        3750    400      1165   \n",
       "3         89          510           63     12960        5450    450       875   \n",
       "4         44          249          869      7560        4120    800      1500   \n",
       "\n",
       "   PhD  Terminal  S.F.Ratio  perc.alumni  Expend  Grad.Rate  \n",
       "0   70        78       18.1           12    7041         60  \n",
       "1   29        30       12.2           16   10527         56  \n",
       "2   53        66       12.9           30    8735         54  \n",
       "3   92        97        7.7           37   19016         59  \n",
       "4   76        72       11.9            2   10922         15  "
      ]
     },
     "execution_count": 63,
     "metadata": {},
     "output_type": "execute_result"
    }
   ],
   "source": [
    "# read csv file containing heights and weights\n",
    "df = pd.read_csv('data/college.csv')\n",
    "\n",
    "# first 5 rows\n",
    "df.head()"
   ]
  },
  {
   "cell_type": "code",
   "execution_count": 64,
   "metadata": {},
   "outputs": [
    {
     "data": {
      "image/png": "[encoded data removed]",
      "text/plain": [
       "<Figure size 648x432 with 1 Axes>"
      ]
     },
     "metadata": {
      "needs_background": "light"
     },
     "output_type": "display_data"
    }
   ],
   "source": [
    "# relation between S.F.Ratio and Grad.Rate\n",
    "df.plot(kind='scatter', x='S.F.Ratio',y='Grad.Rate', color='blue', alpha=0.1, figsize=(9,6))\n",
    "\n",
    "# title, xlabel, and ylabel\n",
    "plt.title('Relationship between S.F.Ratio and Grad.Rate', size=24)\n",
    "plt.xlabel('Height (inches)', size=18)\n",
    "plt.ylabel('Weight (pounds)', size=18);"
   ]
  },
  {
   "cell_type": "code",
   "execution_count": 66,
   "metadata": {},
   "outputs": [
    {
     "data": {
      "text/plain": [
       "array([ 2.53469761e-02, -2.11206062e+00,  8.97931152e+01])"
      ]
     },
     "execution_count": 66,
     "metadata": {},
     "output_type": "execute_result"
    }
   ],
   "source": [
    "# Polynomial coefficients.\n",
    "fit = np.polyfit(df['S.F.Ratio'], df['Grad.Rate'], 2)\n",
    "fit"
   ]
  },
  {
   "cell_type": "code",
   "execution_count": 35,
   "metadata": {},
   "outputs": [
    {
     "data": {
      "text/plain": [
       "18.1"
      ]
     },
     "execution_count": 35,
     "metadata": {},
     "output_type": "execute_result"
    }
   ],
   "source": [
    "df['S.F.Ratio'].values[-1]"
   ]
  },
  {
   "cell_type": "code",
   "execution_count": 68,
   "metadata": {},
   "outputs": [
    {
     "data": {
      "text/plain": [
       "[<matplotlib.lines.Line2D at 0x279039dbe48>,\n",
       " <matplotlib.lines.Line2D at 0x279039dbf60>]"
      ]
     },
     "execution_count": 68,
     "metadata": {},
     "output_type": "execute_result"
    },
    {
     "data": {
      "image/png": "[encoded data removed]",
      "text/plain": [
       "<Figure size 432x288 with 1 Axes>"
      ]
     },
     "metadata": {
      "needs_background": "light"
     },
     "output_type": "display_data"
    }
   ],
   "source": [
    "poly = np.poly1d(fit)\n",
    "\n",
    "new_x = df['S.F.Ratio'].values\n",
    "new_y = poly(new_x)\n",
    "\n",
    "x = df['S.F.Ratio'].values\n",
    "y = df['Grad.Rate'].values\n",
    "plt.plot(x, y, \"o\", new_x, new_y)"
   ]
  },
  {
   "cell_type": "markdown",
   "metadata": {},
   "source": [
    "The `numpy.histogram(a, bins=10, range=None, normed=None, weights=None, density=None)` computes the histogram of a set of data. \n",
    "\n",
    "The function returns 2 values: (1) the frequency count, and (2) the bin edges."
   ]
  },
  {
   "cell_type": "code",
   "execution_count": 10,
   "metadata": {},
   "outputs": [
    {
     "data": {
      "image/png": "[encoded data removed]",
      "text/plain": [
       "<Figure size 720x504 with 1 Axes>"
      ]
     },
     "metadata": {
      "needs_background": "light"
     },
     "output_type": "display_data"
    }
   ],
   "source": [
    "# read csv file containing heights and weights\n",
    "df = pd.read_csv('data/weight-height.csv')\n",
    "\n",
    "# data frame containing the height of 5000 men\n",
    "df.Height.plot(kind='hist',color='blue',edgecolor='black',figsize=(10,7))\n",
    "\n",
    "# title, xlabel, and ylabel.\n",
    "plt.title('Distribution of Height', size=24)\n",
    "plt.xlabel('Height (inches)', size=18)\n",
    "plt.ylabel('Frequency', size=18);"
   ]
  },
  {
   "cell_type": "markdown",
   "metadata": {},
   "source": [
    "By default, the histogram method breaks up the data set into 10 bins. Notice that the xaxis labels do not match with the bin size. This can be fixed by passing in a `xticks` parameter, containing the list of the bin sizes, in the following manner:"
   ]
  },
  {
   "cell_type": "code",
   "execution_count": 12,
   "metadata": {},
   "outputs": [
    {
     "data": {
      "image/png": "[encoded data removed]",
      "text/plain": [
       "<Figure size 720x504 with 1 Axes>"
      ]
     },
     "metadata": {
      "needs_background": "light"
     },
     "output_type": "display_data"
    }
   ],
   "source": [
    "#'bin_edges' is a list of bin intervals\n",
    "count, bin_edges = np.histogram(df.Weight)\n",
    "\n",
    "#xticks keyword with bin edges\n",
    "df.Weight.plot(kind='hist',color='blue',edgecolor='black',xticks=bin_edges ,figsize=(10,7))\n",
    "\n",
    "#title, xlabel, and ylabel.\n",
    "plt.title('Distribution of Weight', size=24)\n",
    "plt.xlabel('Weight (lbs)', size=18)\n",
    "plt.ylabel('Frequency', size=18);"
   ]
  },
  {
   "cell_type": "markdown",
   "metadata": {},
   "source": [
    "The histogram is the single most important graph in data science. Wew'll talk a lot more about this."
   ]
  },
  {
   "cell_type": "markdown",
   "metadata": {},
   "source": [
    "# 3. The theory\n",
    "\n",
    "So why does NumPy make Python run so fast?\n",
    "\n",
    "## Origins\n",
    "Jupyter originates from **IPython**, an effort to make Python development more interactive. Since its inception, the scope of the project has expanded to include **Ju**lia, **Pyt**hon, and **R**, so the name was changed to **Jupyter** as a reference to these core languages. \n",
    "\n",
    "A common question: *Is Python interpreted or compiled*?\n",
    "\n",
    "In the simple model of the world, **compile** means to convert a program in a high-level language into a **binary executable** full of machine code (CPU instructions) fit for the CPU on your laptop. When you compile a C program, this is what happens. The result is a file that your operating system can run for you.\n",
    "\n",
    "In the simple definition of **interpreted**, the source code is *not* directly run by the target machine. There is another program called the ***interpreter*** that reads and executes the source code directly. The interpreter, which is specific to the target machine, translates each statement of the source code into machine code and runs it. \"*Interpreted*\" is the way most command shells operate: Try running `ls` in a command shell.\n",
    "\n",
    "But the real world is not so limited. Making real programming languages useful and powerful involves a wider range of possibilities about how they work. Compiling is a more general idea: take a program in one language (or form), and convert it into another, usually more lover-level, language or form. If you compile to the same level, as you would if you for example compiled javascript into java, then you usually use the word **transpiler**. \n",
    "\n",
    "In Python, the source code is indeed compiled into a much simpler form called **bytecode**, just like java and C#. Bytecode are instructions similar in spirit to CPU instructions, but instead of being executed by the CPU, they are executed by software called a **virtual machine** or a **runtime**. Note that these *are not* VM’s that emulate entire operating systems, just a simplified CPU execution environment.\n",
    "\n",
    ">**Note**: Thank god for bytecode because there are many different types of CPU architectures, and if we had to compile our code down to machine code every time, we would need different compilers for each CPU architecture on our laptop, and that would get very complicated very fast!\n",
    "\n",
    "In Python 2, the bytecode is stored in a .pyc file. In Python 3, the bytecode files are stored in a folder named __pycache__. This folder is automatically created when you try to import another file that you created.\n",
    "\n",
    ">**Note**: We can also use the `compile()` function to compile a string that contains the Python source code. The syntax of this function is: `compile(source, filename, mode, flag, dont_inherit, optimize)`\n",
    "\n",
    "> We only focus on the first three arguments which are required (the others are optional). `source` is the source code to compile which can be a String, a Bytes object, or an AST object. `filename` is the name of the file that the source code comes from. If the source code does not come from a file, you can write whatever you like or leave an empty string. `mode` can be:\n",
    "`exec`: accepts Python source code in any form (any number of statements or blocks). It compiles them into a bytecode that finally returns None\n",
    "`eval` : accepts a single expression and compiles it into a bytecode that finally returns the value of that expression\n",
    "`single`: only accepts a single statement (or multiple statements separated by ;). If the last statement is an expression, then the resulting bytecode prints the repr() of the value of that expression to the standard output.\n",
    "\n",
    "An important aspect of Python’s compilation to bytecode is that it’s entirely **implicit**. You never invoke a compiler, you simply run a .py file. The Python implementation compiles the files as needed. This is different than Java and C#, for example, where you have to run the Java (`javac`) or C# (`cc`) compiler to turn Java or C# source code into compiled class files. For this reason, Java and C# are often called **compiled languages**, while Python is called an **interpreted language**. ***But both compile to bytecode, and then both execute the bytecode with a software implementation of a virtual machine***!\n",
    "\n",
    "Another important Python feature is its interactive prompt. You can type Python statements and have them immediately executed. This interactivity is usually missing in \"*compiled*” languages, but even at the Python interactive prompt, your Python ***is compiled to bytecode***, and then ***the bytecode is executed***. This immediate execution, and Python’s lack of an explicit compile step, are why people call the Python executable “**the Python interpreter**”.\n",
    "\n",
    "And even this is a simplified description of how these languages can work! “*Compiled*” languages like Java and C# can have interactive prompts, but they are not at the center of those worlds in the same way that Python’s is. Java originally always compiles to bytecode, but then it pioneered **just-in-time** (JIT) (a.k.a. **ahead-of-time**) techniques for compiling directly to machine code at runtime, and now Java is sometimes compiled entirely to machine code, in the C style.\n",
    "\n",
    "This shows just how flimsy the words “**interpreted**” and “**compiled**” can be. Like most adjectives applied to programming languages, they are thrown around as if they were black-and-white distinctions, but the reality is much subtler and complex.\n",
    "\n",
    "Finally, how your program gets executed isn’t a characteristic of the language at all: it’s about the language ***implementation***. I’ve been talking here about Python, but this has really been a description of **CPython**, the usual implementation of Python, so-named because it is written in C. **PyPy** is another implementation, using a JIT compiler to run code even faster than CPython can.\n",
    "\n",
    "Python has multiple implementations. They are mostly based on bytecode interpretation and bytecode-to-machine-code JIT compilation. Python, by default, compiles the source code to bytecode in memory on first run and dumps the bytecode to \\*.pyc files. On second run, it loads the bytecode from disk. Then it interprets the bytecode in memory. So Python also, typically, has a compilation phase, it's just not as visible\n",
    "\n",
    "So: is Python compiled? *Yes*, typically to bytecode. Is Python interpreted? *Yes*, because it has a runtime. Sorry, the world is complicated.\n",
    "\n",
    "Jupyter Notebook python is a browser bases REPL (read eval print loop) built on **IPython** (and other open-source libraries). It allows us to run *interactive python code* on the browser.\n",
    "\n",
    "But Jupyter Notebook cells can also be used to compile and run code from different languages using IPython magic commands. Use IPython Magics with the name of your kernel at the start of each cell that you want to use that cell for:\n",
    "- %%bash\n",
    "- %%HTML\n",
    "- %%python2\n",
    "- %%python3\n",
    "- %%ruby\n",
    "- %%perl"
   ]
  },
  {
   "cell_type": "markdown",
   "metadata": {},
   "source": [
    "## Marshaling\n",
    "So, back to Numpy...\n",
    "\n",
    "NumPy makes code run faster because NumPy is compiled *straight* to machine code! And that is why we have some of the constraints we mentioned, such as not being able to mix types in containers.\n",
    "\n",
    "Moreover, because Python is a dynamically typed language, this slows down exectuion, and most of the bugs are discovered during run-time. So, slow Python interpreter and fast NumPy library make a marriage in heaven!\n",
    "\n",
    "So, what we do is write our performance-sensitive functions in another language (e.g., C or C++) and leverage specific bindings to call these functions from Python. This is something many numerical libraries (e.g., NumPy, SciPy, etc.) or deep learning frameworks (e.g., TensorFlow, PyTorch, etc.) do in Python. So, if you are a Data Scientist or a Machine Learning engineer wanting to call CUDA functions, this paragraph is for you!\n",
    "\n",
    "To move data from Python to C or C++, the Python bindings have to transform it into a form suitable for transmission.\n",
    "In Python, everything is an **object** (under the hood). How many bytes of memory an integer uses depends on the version of Python you have installed and your operating system, among other factors. On the other hand, a `uint8_t` integer in C always uses 8 bits of total memory. Thus, we have to reconcile these two types somehow.\n",
    "\n",
    "**Marshalling** is something that the Python bindings take care of for us, but we may need to intervene in some cases. \n",
    "\n",
    "C and Python manage memory differently. In Python, when you declare an object, Python automatically allocates memory for it. When you don’t need that object, Python has a garbage collector that can destroy unused or unreferenced objects, releasing the memory back to the system.\n",
    "\n",
    "In C, things are entirely different. It’s ***you***, the programmer, who must allocate the memory space to create an object, and then it’s ***you*** again the one who has to release that memory back to the system. We should take this into account and release any memory we don’t need anymore on the same side of the language barrier.\n",
    "\n",
    "And to put it simply, NumPy takes care of all this for us! How? Here's an example"
   ]
  },
  {
   "cell_type": "markdown",
   "metadata": {},
   "source": [
    "## A Simple Example\n",
    "\n",
    "What we’ll need:\n",
    "- Python 3.6 or greater\n",
    "- The Python development tools (e.g., the python3-dev package)\n",
    "- C source code\n",
    "\n",
    "To keep things simple, we will create and build a C library that adds two numbers together.\n",
    "\n",
    "```\n",
    "#include <stdio.h>\n",
    "\n",
    "\n",
    "float cadd(int x, float y) {\n",
    "    float res = x + y;\n",
    "    printf(\"In cadd: int %d float %.1f returning  %.1f\\n\", x, y, res);\n",
    "    return res;\n",
    "}\n",
    "```\n",
    "\n",
    "Next, we need to compile the source code and build a shared library. To this end, we execute on a Mac:\n",
    "```\n",
    "gcc -shared -Wl,-soname,libcadd -o libcadd.so -fPIC cadd.c\n",
    "```\n",
    "\n",
    "This command should produce a `libcadd.so` file in our working directory.\n",
    "\n",
    "`ctypes` is a tool in the Python standard library that creates **Python bindings**. \n",
    "\n",
    "Being part of the Python standard library makes it ideal as you we not need to install anything.\n",
    "\n",
    "To execute the C `cadd` function from a Python script, copy the source code below:\n",
    "```\n",
    "import ctypes\n",
    "import pathlib\n",
    "\n",
    "if __name__ == \"__main__\":\n",
    "    # load the lib\n",
    "    libname = pathlib.Path().absolute() + \"libcadd.so\"\n",
    "    c_lib = ctypes.CDLL(libname)\n",
    "    \n",
    "    x, y = 6, 2.3\n",
    "\n",
    "    # define the return type\n",
    "    c_lib.cadd.restype = ctypes.c_float\n",
    "    \n",
    "    # call the function with the correct argument types\n",
    "    res = c_lib.cadd(x, ctypes.c_float(y))\n",
    "    \n",
    "    print(f\"In Python: int: {x} float {y:.1f} return val {res:.1f}\")\n",
    "```\n",
    "\n",
    "In line 7 (`c_lib = ctypes.CDLL(libname)`), we create a handle to the C shared library we built before. In line 12 (`c_lib.cadd.restype = ctypes.c_float`), we declare the return type of the C `cadd` function. This is crucial; we need to let ctypes know how to **marshal** objects to pass them around and what types to expect to **unmarshal** them correctly.\n",
    "\n",
    "This is the case also for the y variable in line 15. We need to declare that this is of type `float`. \n",
    "\n",
    "Finally, we can leave x as it is because, by default, ctypes thinks that everything’s an integer.\n",
    "\n",
    "We can execute this script just like any other Python script:\n",
    "```\n",
    "python3 padd.py\n",
    "```\n",
    "\n",
    "The result:\n",
    "- In cadd: int 6 float 2.3 returning  8.3\n",
    "- In Python: int: 6 float 2.3 return val 8.3\n",
    "\n",
    "And that is how we call a C library function from Python. And that is what NumPy does!"
   ]
  }
 ],
 "metadata": {
  "kernelspec": {
   "display_name": "Python 3",
   "language": "python",
   "name": "python3"
  },
  "language_info": {
   "codemirror_mode": {
    "name": "ipython",
    "version": 3
   },
   "file_extension": ".py",
   "mimetype": "text/x-python",
   "name": "python",
   "nbconvert_exporter": "python",
   "pygments_lexer": "ipython3",
   "version": "3.6.13"
  }
 },
 "nbformat": 4,
 "nbformat_minor": 1
}
